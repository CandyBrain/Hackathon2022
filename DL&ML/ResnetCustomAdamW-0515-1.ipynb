{
 "cells": [
  {
   "cell_type": "markdown",
   "id": "8292760b",
   "metadata": {},
   "source": [
    "# 1. 기본설정\n",
    "## (1) 라이브러리"
   ]
  },
  {
   "cell_type": "code",
   "execution_count": 562,
   "id": "9adc6732",
   "metadata": {},
   "outputs": [],
   "source": [
    "########################### 1. 기본 설정 ##########################\n",
    "import time\n",
    "start_time = time.time()\n",
    "\n",
    "import os\n",
    "import pandas as pd\n",
    "import numpy as np\n",
    "import copy\n",
    "\n",
    "######################### 2. 데이터 전처리 ########################\n",
    "### (1) 데이터 증강 \n",
    "from PIL import Image\n",
    "from PIL import ImageFilter\n",
    "from matplotlib import pyplot as plt\n",
    "\n",
    "### (3) 데이터 분리 \n",
    "\n",
    "\n",
    "#################### 3. 모델 학습 및 결과 검증 ####################\n",
    "### (1) 모델 설계 및 대표 벡터 추출 \n",
    "\n",
    "import tensorflow as tf\n",
    "from tensorflow.keras.layers import Input, Dense, Flatten, Conv2D, MaxPool2D, concatenate\n",
    "from tensorflow.keras import Model\n",
    "from tensorflow.keras.utils import plot_model\n",
    "\n",
    "### (2) 분류 예측 \n",
    "\n",
    "from sklearn.datasets import load_breast_cancer\n",
    "from sklearn.model_selection import train_test_split\n",
    "from sklearn.metrics import classification_report\n",
    "from tensorflow import keras\n",
    "\n",
    "from sklearn.neighbors import KNeighborsClassifier\n",
    "from sklearn.tree import DecisionTreeClassifier\n",
    "from sklearn.ensemble import RandomForestClassifier\n",
    "from sklearn import svm\n",
    "from sklearn.linear_model import SGDClassifier\n",
    "from sklearn.linear_model import LogisticRegression\n",
    "from sklearn.naive_bayes import MultinomialNB\n",
    "from sklearn.metrics import confusion_matrix\n",
    "from sklearn.metrics import ConfusionMatrixDisplay\n",
    "\n",
    "from sklearn.cluster import KMeans\n",
    "\n",
    "import seaborn as sns"
   ]
  },
  {
   "cell_type": "markdown",
   "id": "8b4eecc0",
   "metadata": {},
   "source": [
    "## (2) 파라미터 설정"
   ]
  },
  {
   "cell_type": "code",
   "execution_count": 563,
   "id": "2e12ee7a",
   "metadata": {},
   "outputs": [],
   "source": [
    "########################### 1. 기본 설정 ##########################\n",
    "\n",
    "\n",
    "######################### 2. 데이터 전처리 ########################\n",
    "### (1) 데이터 증강 \n",
    "\n",
    "blur_filter = False\n",
    "contour_filter = False\n",
    "edge_enhance_filter = False\n",
    "\n",
    "filter_num = 0  # 위에서 설정한 필터의 사용 개수(True의 개수)에 따라 자동 변경. 건드리지 말 것.\n",
    "\n",
    "if blur_filter == True:\n",
    "    filter_num += 1\n",
    "if contour_filter == True:\n",
    "    filter_num += 1\n",
    "if edge_enhance_filter == True:\n",
    "    filter_num += 1\n",
    "    \n",
    "### (3) 데이터 분리 \n",
    "\n",
    "tts_test_size = 0.2\n",
    "test_size = 0.15   # 1미만. val_size와의 합이 0.5를 넘지 않게.\n",
    "val_size = 0.15   # 1미만. test_size와의 합이 0.5를 넘지 않게.\n",
    "\n",
    "train_test_split_randomstate = 5\n",
    "\n",
    "\n",
    "#################### 3. 모델 학습 및 결과 검증 ####################\n",
    "### (1) 모델 설계 및 대표 벡터 추출 \n",
    "image_size = 8\n",
    "class_num = 6    # 대상 개수\n",
    "\n",
    "is_global_feature = False  # Global feature 사용 여부 지정.\n",
    "classes_num = 6\n",
    "epoch_num = 20\n",
    "\n",
    "### (2) 분류 예측 \n",
    "classifier_random_state = 32\n",
    "\n"
   ]
  },
  {
   "cell_type": "markdown",
   "id": "4d45a3d9",
   "metadata": {},
   "source": [
    "## (3) 데이터 로드"
   ]
  },
  {
   "cell_type": "code",
   "execution_count": 564,
   "id": "2b34103e",
   "metadata": {},
   "outputs": [],
   "source": [
    "data_dir = '/Users/parksunghun/Downloads/'  # Github 경로\n",
    "#/Users/parksunghun/Downloads/GoogLeNetadamW0510-4 2.ipynb\n",
    "# data_dir = 'C:/Users/User/Google 드라이브/AIFFEL/+Final project/data/'  # Google drive 경로\n",
    "data_path0 = os.path.join(data_dir, 'subjectTest_0_20220507.csv')\n",
    "data0 = pd.read_csv(data_path0)\n",
    "data0['Label'] = 0 # Label 부여\n",
    "data_path1 = os.path.join(data_dir, 'subjectTest_1_20220507.csv')\n",
    "data1 = pd.read_csv(data_path1)\n",
    "data1['Label'] = 1 # Label 부여\n",
    "data_path2 = os.path.join(data_dir, 'subjectTest_2_20220507.csv')\n",
    "data2 = pd.read_csv(data_path2)\n",
    "data2['Label'] = 2 # Label 부여\n",
    "data_path3 = os.path.join(data_dir, 'subjectTest_3_20220507.csv')\n",
    "data3 = pd.read_csv(data_path3)\n",
    "data3['Label'] = 3 # Label 부여\n",
    "data_path4 = os.path.join(data_dir, 'subjectTest_4_20220507.csv')\n",
    "data4 = pd.read_csv(data_path4)\n",
    "data4['Label'] = 4 # Label 부여\n",
    "data_path5 = os.path.join(data_dir, 'subjectTest_5_20220507.csv')\n",
    "data5 = pd.read_csv(data_path5)\n",
    "data5['Label'] = 5 # Label 부여"
   ]
  },
  {
   "cell_type": "code",
   "execution_count": 565,
   "id": "4b08ffbe",
   "metadata": {},
   "outputs": [
    {
     "data": {
      "text/plain": [
       "(900, 65)"
      ]
     },
     "execution_count": 565,
     "metadata": {},
     "output_type": "execute_result"
    }
   ],
   "source": [
    "data = pd.concat([data0.iloc[5:155], data1.iloc[5:155], data2.iloc[5:155], data3.iloc[5:155], data4.iloc[5:155], data5.iloc[5:155]])  # 150개 행만 추려 합침.\n",
    "data.shape"
   ]
  },
  {
   "cell_type": "code",
   "execution_count": 566,
   "id": "04e3e58a",
   "metadata": {},
   "outputs": [
    {
     "data": {
      "text/html": [
       "<div>\n",
       "<style scoped>\n",
       "    .dataframe tbody tr th:only-of-type {\n",
       "        vertical-align: middle;\n",
       "    }\n",
       "\n",
       "    .dataframe tbody tr th {\n",
       "        vertical-align: top;\n",
       "    }\n",
       "\n",
       "    .dataframe thead th {\n",
       "        text-align: right;\n",
       "    }\n",
       "</style>\n",
       "<table border=\"1\" class=\"dataframe\">\n",
       "  <thead>\n",
       "    <tr style=\"text-align: right;\">\n",
       "      <th></th>\n",
       "      <th>FSR1</th>\n",
       "      <th>FSR2</th>\n",
       "      <th>FSR3</th>\n",
       "      <th>FSR4</th>\n",
       "      <th>FSR5</th>\n",
       "      <th>FSR6</th>\n",
       "      <th>FSR7</th>\n",
       "      <th>FSR8</th>\n",
       "      <th>FSR9</th>\n",
       "      <th>FSR10</th>\n",
       "      <th>...</th>\n",
       "      <th>FSR56</th>\n",
       "      <th>FSR57</th>\n",
       "      <th>FSR58</th>\n",
       "      <th>FSR59</th>\n",
       "      <th>FSR60</th>\n",
       "      <th>FSR61</th>\n",
       "      <th>FSR62</th>\n",
       "      <th>FSR63</th>\n",
       "      <th>FSR64</th>\n",
       "      <th>Label</th>\n",
       "    </tr>\n",
       "  </thead>\n",
       "  <tbody>\n",
       "    <tr>\n",
       "      <th>5</th>\n",
       "      <td>0.0</td>\n",
       "      <td>31.0</td>\n",
       "      <td>0.0</td>\n",
       "      <td>0.0</td>\n",
       "      <td>0.0</td>\n",
       "      <td>0.0</td>\n",
       "      <td>0.0</td>\n",
       "      <td>0.0</td>\n",
       "      <td>0.0</td>\n",
       "      <td>0.0</td>\n",
       "      <td>...</td>\n",
       "      <td>0.0</td>\n",
       "      <td>0.0</td>\n",
       "      <td>0.0</td>\n",
       "      <td>0.0</td>\n",
       "      <td>0.0</td>\n",
       "      <td>0.0</td>\n",
       "      <td>0.0</td>\n",
       "      <td>0.0</td>\n",
       "      <td>0.0</td>\n",
       "      <td>0</td>\n",
       "    </tr>\n",
       "    <tr>\n",
       "      <th>6</th>\n",
       "      <td>0.0</td>\n",
       "      <td>28.0</td>\n",
       "      <td>0.0</td>\n",
       "      <td>0.0</td>\n",
       "      <td>0.0</td>\n",
       "      <td>0.0</td>\n",
       "      <td>0.0</td>\n",
       "      <td>0.0</td>\n",
       "      <td>0.0</td>\n",
       "      <td>0.0</td>\n",
       "      <td>...</td>\n",
       "      <td>0.0</td>\n",
       "      <td>0.0</td>\n",
       "      <td>0.0</td>\n",
       "      <td>0.0</td>\n",
       "      <td>0.0</td>\n",
       "      <td>0.0</td>\n",
       "      <td>0.0</td>\n",
       "      <td>0.0</td>\n",
       "      <td>0.0</td>\n",
       "      <td>0</td>\n",
       "    </tr>\n",
       "    <tr>\n",
       "      <th>7</th>\n",
       "      <td>0.0</td>\n",
       "      <td>21.0</td>\n",
       "      <td>0.0</td>\n",
       "      <td>0.0</td>\n",
       "      <td>0.0</td>\n",
       "      <td>0.0</td>\n",
       "      <td>0.0</td>\n",
       "      <td>0.0</td>\n",
       "      <td>0.0</td>\n",
       "      <td>0.0</td>\n",
       "      <td>...</td>\n",
       "      <td>0.0</td>\n",
       "      <td>0.0</td>\n",
       "      <td>0.0</td>\n",
       "      <td>0.0</td>\n",
       "      <td>0.0</td>\n",
       "      <td>0.0</td>\n",
       "      <td>0.0</td>\n",
       "      <td>0.0</td>\n",
       "      <td>0.0</td>\n",
       "      <td>0</td>\n",
       "    </tr>\n",
       "    <tr>\n",
       "      <th>8</th>\n",
       "      <td>0.0</td>\n",
       "      <td>28.0</td>\n",
       "      <td>0.0</td>\n",
       "      <td>0.0</td>\n",
       "      <td>0.0</td>\n",
       "      <td>0.0</td>\n",
       "      <td>0.0</td>\n",
       "      <td>0.0</td>\n",
       "      <td>0.0</td>\n",
       "      <td>0.0</td>\n",
       "      <td>...</td>\n",
       "      <td>0.0</td>\n",
       "      <td>0.0</td>\n",
       "      <td>0.0</td>\n",
       "      <td>0.0</td>\n",
       "      <td>0.0</td>\n",
       "      <td>0.0</td>\n",
       "      <td>0.0</td>\n",
       "      <td>0.0</td>\n",
       "      <td>0.0</td>\n",
       "      <td>0</td>\n",
       "    </tr>\n",
       "    <tr>\n",
       "      <th>9</th>\n",
       "      <td>0.0</td>\n",
       "      <td>24.0</td>\n",
       "      <td>0.0</td>\n",
       "      <td>0.0</td>\n",
       "      <td>0.0</td>\n",
       "      <td>0.0</td>\n",
       "      <td>0.0</td>\n",
       "      <td>0.0</td>\n",
       "      <td>0.0</td>\n",
       "      <td>0.0</td>\n",
       "      <td>...</td>\n",
       "      <td>0.0</td>\n",
       "      <td>0.0</td>\n",
       "      <td>0.0</td>\n",
       "      <td>0.0</td>\n",
       "      <td>0.0</td>\n",
       "      <td>0.0</td>\n",
       "      <td>0.0</td>\n",
       "      <td>0.0</td>\n",
       "      <td>0.0</td>\n",
       "      <td>0</td>\n",
       "    </tr>\n",
       "    <tr>\n",
       "      <th>10</th>\n",
       "      <td>0.0</td>\n",
       "      <td>19.0</td>\n",
       "      <td>0.0</td>\n",
       "      <td>0.0</td>\n",
       "      <td>0.0</td>\n",
       "      <td>0.0</td>\n",
       "      <td>0.0</td>\n",
       "      <td>0.0</td>\n",
       "      <td>0.0</td>\n",
       "      <td>0.0</td>\n",
       "      <td>...</td>\n",
       "      <td>0.0</td>\n",
       "      <td>0.0</td>\n",
       "      <td>0.0</td>\n",
       "      <td>0.0</td>\n",
       "      <td>0.0</td>\n",
       "      <td>0.0</td>\n",
       "      <td>0.0</td>\n",
       "      <td>0.0</td>\n",
       "      <td>0.0</td>\n",
       "      <td>0</td>\n",
       "    </tr>\n",
       "    <tr>\n",
       "      <th>11</th>\n",
       "      <td>0.0</td>\n",
       "      <td>28.0</td>\n",
       "      <td>0.0</td>\n",
       "      <td>0.0</td>\n",
       "      <td>0.0</td>\n",
       "      <td>0.0</td>\n",
       "      <td>0.0</td>\n",
       "      <td>0.0</td>\n",
       "      <td>0.0</td>\n",
       "      <td>0.0</td>\n",
       "      <td>...</td>\n",
       "      <td>0.0</td>\n",
       "      <td>0.0</td>\n",
       "      <td>0.0</td>\n",
       "      <td>0.0</td>\n",
       "      <td>0.0</td>\n",
       "      <td>0.0</td>\n",
       "      <td>0.0</td>\n",
       "      <td>0.0</td>\n",
       "      <td>0.0</td>\n",
       "      <td>0</td>\n",
       "    </tr>\n",
       "    <tr>\n",
       "      <th>12</th>\n",
       "      <td>0.0</td>\n",
       "      <td>28.0</td>\n",
       "      <td>0.0</td>\n",
       "      <td>0.0</td>\n",
       "      <td>0.0</td>\n",
       "      <td>0.0</td>\n",
       "      <td>0.0</td>\n",
       "      <td>0.0</td>\n",
       "      <td>0.0</td>\n",
       "      <td>0.0</td>\n",
       "      <td>...</td>\n",
       "      <td>0.0</td>\n",
       "      <td>0.0</td>\n",
       "      <td>0.0</td>\n",
       "      <td>0.0</td>\n",
       "      <td>0.0</td>\n",
       "      <td>0.0</td>\n",
       "      <td>0.0</td>\n",
       "      <td>0.0</td>\n",
       "      <td>0.0</td>\n",
       "      <td>0</td>\n",
       "    </tr>\n",
       "    <tr>\n",
       "      <th>13</th>\n",
       "      <td>0.0</td>\n",
       "      <td>27.0</td>\n",
       "      <td>0.0</td>\n",
       "      <td>0.0</td>\n",
       "      <td>0.0</td>\n",
       "      <td>0.0</td>\n",
       "      <td>0.0</td>\n",
       "      <td>0.0</td>\n",
       "      <td>0.0</td>\n",
       "      <td>0.0</td>\n",
       "      <td>...</td>\n",
       "      <td>0.0</td>\n",
       "      <td>0.0</td>\n",
       "      <td>0.0</td>\n",
       "      <td>0.0</td>\n",
       "      <td>0.0</td>\n",
       "      <td>0.0</td>\n",
       "      <td>0.0</td>\n",
       "      <td>0.0</td>\n",
       "      <td>0.0</td>\n",
       "      <td>0</td>\n",
       "    </tr>\n",
       "    <tr>\n",
       "      <th>14</th>\n",
       "      <td>0.0</td>\n",
       "      <td>20.0</td>\n",
       "      <td>0.0</td>\n",
       "      <td>0.0</td>\n",
       "      <td>0.0</td>\n",
       "      <td>0.0</td>\n",
       "      <td>0.0</td>\n",
       "      <td>0.0</td>\n",
       "      <td>0.0</td>\n",
       "      <td>0.0</td>\n",
       "      <td>...</td>\n",
       "      <td>0.0</td>\n",
       "      <td>0.0</td>\n",
       "      <td>0.0</td>\n",
       "      <td>0.0</td>\n",
       "      <td>0.0</td>\n",
       "      <td>0.0</td>\n",
       "      <td>0.0</td>\n",
       "      <td>0.0</td>\n",
       "      <td>0.0</td>\n",
       "      <td>0</td>\n",
       "    </tr>\n",
       "  </tbody>\n",
       "</table>\n",
       "<p>10 rows × 65 columns</p>\n",
       "</div>"
      ],
      "text/plain": [
       "    FSR1  FSR2  FSR3  FSR4  FSR5  FSR6  FSR7  FSR8  FSR9  FSR10  ...  FSR56  \\\n",
       "5    0.0  31.0   0.0   0.0   0.0   0.0   0.0   0.0   0.0    0.0  ...    0.0   \n",
       "6    0.0  28.0   0.0   0.0   0.0   0.0   0.0   0.0   0.0    0.0  ...    0.0   \n",
       "7    0.0  21.0   0.0   0.0   0.0   0.0   0.0   0.0   0.0    0.0  ...    0.0   \n",
       "8    0.0  28.0   0.0   0.0   0.0   0.0   0.0   0.0   0.0    0.0  ...    0.0   \n",
       "9    0.0  24.0   0.0   0.0   0.0   0.0   0.0   0.0   0.0    0.0  ...    0.0   \n",
       "10   0.0  19.0   0.0   0.0   0.0   0.0   0.0   0.0   0.0    0.0  ...    0.0   \n",
       "11   0.0  28.0   0.0   0.0   0.0   0.0   0.0   0.0   0.0    0.0  ...    0.0   \n",
       "12   0.0  28.0   0.0   0.0   0.0   0.0   0.0   0.0   0.0    0.0  ...    0.0   \n",
       "13   0.0  27.0   0.0   0.0   0.0   0.0   0.0   0.0   0.0    0.0  ...    0.0   \n",
       "14   0.0  20.0   0.0   0.0   0.0   0.0   0.0   0.0   0.0    0.0  ...    0.0   \n",
       "\n",
       "    FSR57  FSR58  FSR59  FSR60  FSR61  FSR62  FSR63  FSR64  Label  \n",
       "5     0.0    0.0    0.0    0.0    0.0    0.0    0.0    0.0      0  \n",
       "6     0.0    0.0    0.0    0.0    0.0    0.0    0.0    0.0      0  \n",
       "7     0.0    0.0    0.0    0.0    0.0    0.0    0.0    0.0      0  \n",
       "8     0.0    0.0    0.0    0.0    0.0    0.0    0.0    0.0      0  \n",
       "9     0.0    0.0    0.0    0.0    0.0    0.0    0.0    0.0      0  \n",
       "10    0.0    0.0    0.0    0.0    0.0    0.0    0.0    0.0      0  \n",
       "11    0.0    0.0    0.0    0.0    0.0    0.0    0.0    0.0      0  \n",
       "12    0.0    0.0    0.0    0.0    0.0    0.0    0.0    0.0      0  \n",
       "13    0.0    0.0    0.0    0.0    0.0    0.0    0.0    0.0      0  \n",
       "14    0.0    0.0    0.0    0.0    0.0    0.0    0.0    0.0      0  \n",
       "\n",
       "[10 rows x 65 columns]"
      ]
     },
     "execution_count": 566,
     "metadata": {},
     "output_type": "execute_result"
    }
   ],
   "source": [
    "# data = data.drop(['Unnamed: 0'], axis = 1)\n",
    "data.head(10)"
   ]
  },
  {
   "cell_type": "code",
   "execution_count": 567,
   "id": "82a1a37a",
   "metadata": {},
   "outputs": [
    {
     "data": {
      "text/html": [
       "<div>\n",
       "<style scoped>\n",
       "    .dataframe tbody tr th:only-of-type {\n",
       "        vertical-align: middle;\n",
       "    }\n",
       "\n",
       "    .dataframe tbody tr th {\n",
       "        vertical-align: top;\n",
       "    }\n",
       "\n",
       "    .dataframe thead th {\n",
       "        text-align: right;\n",
       "    }\n",
       "</style>\n",
       "<table border=\"1\" class=\"dataframe\">\n",
       "  <thead>\n",
       "    <tr style=\"text-align: right;\">\n",
       "      <th></th>\n",
       "      <th>FSR1</th>\n",
       "      <th>FSR2</th>\n",
       "      <th>FSR3</th>\n",
       "      <th>FSR4</th>\n",
       "      <th>FSR5</th>\n",
       "      <th>FSR6</th>\n",
       "      <th>FSR7</th>\n",
       "      <th>FSR8</th>\n",
       "      <th>FSR9</th>\n",
       "      <th>FSR10</th>\n",
       "      <th>...</th>\n",
       "      <th>FSR56</th>\n",
       "      <th>FSR57</th>\n",
       "      <th>FSR58</th>\n",
       "      <th>FSR59</th>\n",
       "      <th>FSR60</th>\n",
       "      <th>FSR61</th>\n",
       "      <th>FSR62</th>\n",
       "      <th>FSR63</th>\n",
       "      <th>FSR64</th>\n",
       "      <th>Label</th>\n",
       "    </tr>\n",
       "  </thead>\n",
       "  <tbody>\n",
       "    <tr>\n",
       "      <th>110</th>\n",
       "      <td>0.0</td>\n",
       "      <td>34.0</td>\n",
       "      <td>0.0</td>\n",
       "      <td>0.0</td>\n",
       "      <td>0.0</td>\n",
       "      <td>0.0</td>\n",
       "      <td>0.0</td>\n",
       "      <td>0.0</td>\n",
       "      <td>0.0</td>\n",
       "      <td>0.0</td>\n",
       "      <td>...</td>\n",
       "      <td>0.0</td>\n",
       "      <td>0.0</td>\n",
       "      <td>0.0</td>\n",
       "      <td>0.0</td>\n",
       "      <td>0.0</td>\n",
       "      <td>0.0</td>\n",
       "      <td>0.0</td>\n",
       "      <td>0.0</td>\n",
       "      <td>0.0</td>\n",
       "      <td>5</td>\n",
       "    </tr>\n",
       "    <tr>\n",
       "      <th>106</th>\n",
       "      <td>0.0</td>\n",
       "      <td>32.0</td>\n",
       "      <td>0.0</td>\n",
       "      <td>0.0</td>\n",
       "      <td>18.0</td>\n",
       "      <td>0.0</td>\n",
       "      <td>0.0</td>\n",
       "      <td>0.0</td>\n",
       "      <td>0.0</td>\n",
       "      <td>0.0</td>\n",
       "      <td>...</td>\n",
       "      <td>0.0</td>\n",
       "      <td>0.0</td>\n",
       "      <td>0.0</td>\n",
       "      <td>0.0</td>\n",
       "      <td>0.0</td>\n",
       "      <td>0.0</td>\n",
       "      <td>0.0</td>\n",
       "      <td>0.0</td>\n",
       "      <td>0.0</td>\n",
       "      <td>5</td>\n",
       "    </tr>\n",
       "    <tr>\n",
       "      <th>122</th>\n",
       "      <td>0.0</td>\n",
       "      <td>37.0</td>\n",
       "      <td>0.0</td>\n",
       "      <td>0.0</td>\n",
       "      <td>0.0</td>\n",
       "      <td>0.0</td>\n",
       "      <td>0.0</td>\n",
       "      <td>0.0</td>\n",
       "      <td>19.0</td>\n",
       "      <td>0.0</td>\n",
       "      <td>...</td>\n",
       "      <td>0.0</td>\n",
       "      <td>0.0</td>\n",
       "      <td>0.0</td>\n",
       "      <td>0.0</td>\n",
       "      <td>0.0</td>\n",
       "      <td>0.0</td>\n",
       "      <td>0.0</td>\n",
       "      <td>0.0</td>\n",
       "      <td>0.0</td>\n",
       "      <td>1</td>\n",
       "    </tr>\n",
       "    <tr>\n",
       "      <th>99</th>\n",
       "      <td>22.0</td>\n",
       "      <td>34.0</td>\n",
       "      <td>0.0</td>\n",
       "      <td>0.0</td>\n",
       "      <td>0.0</td>\n",
       "      <td>22.0</td>\n",
       "      <td>0.0</td>\n",
       "      <td>0.0</td>\n",
       "      <td>33.0</td>\n",
       "      <td>0.0</td>\n",
       "      <td>...</td>\n",
       "      <td>0.0</td>\n",
       "      <td>0.0</td>\n",
       "      <td>0.0</td>\n",
       "      <td>0.0</td>\n",
       "      <td>0.0</td>\n",
       "      <td>0.0</td>\n",
       "      <td>0.0</td>\n",
       "      <td>0.0</td>\n",
       "      <td>0.0</td>\n",
       "      <td>4</td>\n",
       "    </tr>\n",
       "    <tr>\n",
       "      <th>26</th>\n",
       "      <td>0.0</td>\n",
       "      <td>28.0</td>\n",
       "      <td>0.0</td>\n",
       "      <td>0.0</td>\n",
       "      <td>0.0</td>\n",
       "      <td>0.0</td>\n",
       "      <td>0.0</td>\n",
       "      <td>0.0</td>\n",
       "      <td>0.0</td>\n",
       "      <td>0.0</td>\n",
       "      <td>...</td>\n",
       "      <td>0.0</td>\n",
       "      <td>0.0</td>\n",
       "      <td>0.0</td>\n",
       "      <td>0.0</td>\n",
       "      <td>0.0</td>\n",
       "      <td>0.0</td>\n",
       "      <td>0.0</td>\n",
       "      <td>0.0</td>\n",
       "      <td>0.0</td>\n",
       "      <td>3</td>\n",
       "    </tr>\n",
       "  </tbody>\n",
       "</table>\n",
       "<p>5 rows × 65 columns</p>\n",
       "</div>"
      ],
      "text/plain": [
       "     FSR1  FSR2  FSR3  FSR4  FSR5  FSR6  FSR7  FSR8  FSR9  FSR10  ...  FSR56  \\\n",
       "110   0.0  34.0   0.0   0.0   0.0   0.0   0.0   0.0   0.0    0.0  ...    0.0   \n",
       "106   0.0  32.0   0.0   0.0  18.0   0.0   0.0   0.0   0.0    0.0  ...    0.0   \n",
       "122   0.0  37.0   0.0   0.0   0.0   0.0   0.0   0.0  19.0    0.0  ...    0.0   \n",
       "99   22.0  34.0   0.0   0.0   0.0  22.0   0.0   0.0  33.0    0.0  ...    0.0   \n",
       "26    0.0  28.0   0.0   0.0   0.0   0.0   0.0   0.0   0.0    0.0  ...    0.0   \n",
       "\n",
       "     FSR57  FSR58  FSR59  FSR60  FSR61  FSR62  FSR63  FSR64  Label  \n",
       "110    0.0    0.0    0.0    0.0    0.0    0.0    0.0    0.0      5  \n",
       "106    0.0    0.0    0.0    0.0    0.0    0.0    0.0    0.0      5  \n",
       "122    0.0    0.0    0.0    0.0    0.0    0.0    0.0    0.0      1  \n",
       "99     0.0    0.0    0.0    0.0    0.0    0.0    0.0    0.0      4  \n",
       "26     0.0    0.0    0.0    0.0    0.0    0.0    0.0    0.0      3  \n",
       "\n",
       "[5 rows x 65 columns]"
      ]
     },
     "execution_count": 567,
     "metadata": {},
     "output_type": "execute_result"
    }
   ],
   "source": [
    "data = data.sample(frac = 1)\n",
    "# data = data.sample(frac = 1).reset_index(drop = True)\n",
    "data.head()"
   ]
  },
  {
   "cell_type": "code",
   "execution_count": 568,
   "id": "9be3e486",
   "metadata": {},
   "outputs": [
    {
     "name": "stdout",
     "output_type": "stream",
     "text": [
      "(900, 64)\n",
      "(900,)\n"
     ]
    }
   ],
   "source": [
    "feature = data.iloc[:,:-1]\n",
    "label = data.iloc[:, -1]\n",
    "print(feature.shape)\n",
    "print(label.shape)"
   ]
  },
  {
   "cell_type": "code",
   "execution_count": 569,
   "id": "b9139c8e",
   "metadata": {},
   "outputs": [
    {
     "name": "stdout",
     "output_type": "stream",
     "text": [
      "Requirement already satisfied: tensorflow_hub in /Users/parksunghun/opt/anaconda3/lib/python3.8/site-packages (0.12.0)\r\n",
      "Requirement already satisfied: protobuf>=3.8.0 in /Users/parksunghun/opt/anaconda3/lib/python3.8/site-packages (from tensorflow_hub) (3.19.1)\r\n",
      "Requirement already satisfied: numpy>=1.12.0 in /Users/parksunghun/opt/anaconda3/lib/python3.8/site-packages (from tensorflow_hub) (1.22.1)\r\n"
     ]
    }
   ],
   "source": [
    "!pip install tensorflow_hub "
   ]
  },
  {
   "cell_type": "code",
   "execution_count": 570,
   "id": "589cf1cd",
   "metadata": {},
   "outputs": [
    {
     "data": {
      "text/plain": [
       "(900, 8, 8)"
      ]
     },
     "execution_count": 570,
     "metadata": {},
     "output_type": "execute_result"
    }
   ],
   "source": [
    "temp_array_feature = feature.to_numpy()#데이터프레임을 넘파이 배열로\n",
    "\n",
    "list_feature = []\n",
    "for i in range(len(temp_array_feature)):\n",
    "    reshaped_array = temp_array_feature[i].reshape(image_size,image_size)\n",
    "    list_feature.append(reshaped_array)\n",
    "    \n",
    "array_feature = np.array(list_feature)\n",
    "array_feature = array_feature.astype('uint8')\n",
    "array_feature.shape"
   ]
  },
  {
   "cell_type": "code",
   "execution_count": 571,
   "id": "7feea61a",
   "metadata": {},
   "outputs": [],
   "source": [
    "import tensorflow_hub as hub\n",
    "\n",
    "upsize_factor = 1  # 0: 1배, 1: 4배, 2:16배... 1올라갈 때마다 4배씩 증가.\n",
    "\n",
    "upsized_image_size = 8 * (4 ** upsize_factor)"
   ]
  },
  {
   "cell_type": "code",
   "execution_count": 408,
   "id": "7746ab08",
   "metadata": {},
   "outputs": [
    {
     "name": "stdout",
     "output_type": "stream",
     "text": [
      "사이즈 변경 전 이미지 크기: (8, 8)\n",
      "사이즈 변경 후 이미지 크기: (32, 32)\n"
     ]
    }
   ],
   "source": [
    "print(\"사이즈 변경 전 이미지 크기: {}\".format(array_feature[1].shape))\n",
    "def image_upsize(array_feature, upsize_factor):\n",
    "    \n",
    "    SAVED_MODEL_PATH = \"https://tfhub.dev/captain-pool/esrgan-tf2/1\" \n",
    "    super_resolution_model = hub.load(SAVED_MODEL_PATH) # 3채널에서만 작동.\n",
    "    tf_array_feature = tf.convert_to_tensor(array_feature)\n",
    "    tf_array_feature = tf.cast(tf_array_feature, tf.float32) # uint8 -> float32\n",
    "    upsized_array_feature = []\n",
    "    for i, array in enumerate(tf_array_feature):\n",
    "        \n",
    "        # model은 3채널용이므로, 이미지를 1채널 -> 3채널로 확장\n",
    "        temp_array = copy.deepcopy(array)\n",
    "        temp_array = tf.expand_dims(temp_array, 2)\n",
    "        temp_array = tf.expand_dims(temp_array, 0)\n",
    "        temp_array_2 = copy.deepcopy(temp_array)\n",
    "        temp_array_3 = copy.deepcopy(temp_array)\n",
    "        temp_array = np.concatenate((temp_array, temp_array_2), axis = 3)\n",
    "        temp_array = np.concatenate((temp_array, temp_array_3), axis = 3)\n",
    "    \n",
    "        # 업사이즈 적용\n",
    "        if upsize_factor > 0:\n",
    "            for i in range(upsize_factor):\n",
    "                temp_array = super_resolution_model(temp_array) \n",
    "        \n",
    "        # 3채널 -> 1채널로 복구\n",
    "        upsized_temp_array = tf.squeeze(temp_array)\n",
    "        grayscale_upsized_temp_array = (upsized_temp_array[:,:,0] + \n",
    "                                        upsized_temp_array[:,:,1] + upsized_temp_array[:,:,2])/3\n",
    "        upsized_array_feature.append(grayscale_upsized_temp_array)\n",
    "        if i == 3:\n",
    "            break\n",
    "    return np.array(upsized_array_feature)\n",
    "\n",
    "array_feature = image_upsize(array_feature, upsize_factor)\n",
    "print(\"사이즈 변경 후 이미지 크기: {}\".format(array_feature[1].shape))"
   ]
  },
  {
   "cell_type": "code",
   "execution_count": 572,
   "id": "92786289",
   "metadata": {},
   "outputs": [
    {
     "name": "stdout",
     "output_type": "stream",
     "text": [
      "데이터 이미지화\n"
     ]
    },
    {
     "name": "stderr",
     "output_type": "stream",
     "text": [
      "/var/folders/wf/xz26t9r16jsbbpf61jgrg3r80000gn/T/ipykernel_77215/415030960.py:3: MatplotlibDeprecationWarning: Auto-removal of grids by pcolor() and pcolormesh() is deprecated since 3.5 and will be removed two minor releases later; please call grid(False) first.\n",
      "  plt.colorbar();\n"
     ]
    },
    {
     "data": {
      "image/png": "[encoded data removed]",
      "text/plain": [
       "<Figure size 432x288 with 2 Axes>"
      ]
     },
     "metadata": {
      "needs_background": "light"
     },
     "output_type": "display_data"
    }
   ],
   "source": [
    "print('데이터 이미지화')\n",
    "plt.imshow(array_feature[0] , cmap='gray')\n",
    "plt.colorbar();"
   ]
  },
  {
   "cell_type": "code",
   "execution_count": 573,
   "id": "5c7e21cb",
   "metadata": {},
   "outputs": [
    {
     "data": {
      "text/plain": [
       "array([[ 0, 34,  0,  0,  0,  0,  0,  0],\n",
       "       [ 0,  0, 19,  0,  0,  0,  0,  0],\n",
       "       [ 0, 17,  0,  0,  0,  0,  0,  0],\n",
       "       [ 0,  0, 16,  0,  0,  0,  0,  0],\n",
       "       [ 0, 31, 27,  0, 49,  0,  0,  0],\n",
       "       [ 0,  0,  0,  0,  0,  0,  0,  0],\n",
       "       [ 0,  0,  0,  0,  0,  0,  0,  0],\n",
       "       [ 0,  0,  0,  0,  0,  0,  0,  0]], dtype=uint8)"
      ]
     },
     "execution_count": 573,
     "metadata": {},
     "output_type": "execute_result"
    }
   ],
   "source": [
    "array_feature[0]"
   ]
  },
  {
   "cell_type": "markdown",
   "id": "2bc2f83d",
   "metadata": {},
   "source": [
    "# 2. 데이터 전처리\n",
    "## (1) 데이터 증강"
   ]
  },
  {
   "cell_type": "code",
   "execution_count": 411,
   "id": "10f32142",
   "metadata": {},
   "outputs": [],
   "source": [
    "# array_feature에 filter augmented data를 concatenate.\n",
    "def filter_concat(array_feature, blur_filter = False, contour_filter = False, \n",
    "                  edge_enhance_filter = False):\n",
    "    \n",
    "    filteradded_array_feature = []\n",
    "    \n",
    "    for i, j in enumerate(array_feature):\n",
    "        image = Image.fromarray(array_feature[i])\n",
    "        stack_array = np.expand_dims(array_feature[i], axis = 2)\n",
    "        \n",
    "        if blur_filter:\n",
    "            image_BLUR = image.filter(ImageFilter.BLUR)\n",
    "            blur_array_feature = np.array(image_BLUR)\n",
    "            blur_stack_array = np.expand_dims(blur_array_feature, axis = 2)\n",
    "            stack_array = np.concatenate((stack_array, blur_stack_array), axis = 2)\n",
    "            \n",
    "        if contour_filter:\n",
    "            image_CONTOUR = image.filter(ImageFilter.CONTOUR)\n",
    "            contour_array_feature = np.array(image_CONTOUR)\n",
    "            contour_stack_array = np.expand_dims(contour_array_feature, axis = 2)\n",
    "            stack_array = np.concatenate((stack_array, contour_stack_array), axis = 2)\n",
    "            \n",
    "        if edge_enhance_filter:\n",
    "            image_EDGE_ENHANCE = image.filter(ImageFilter.EDGE_ENHANCE)\n",
    "            edge_enhance_array_feature = np.array(image_EDGE_ENHANCE)\n",
    "            edge_enhance_stack_array = np.expand_dims(edge_enhance_array_feature, axis = 2)\n",
    "            stack_array = np.concatenate((stack_array, edge_enhance_stack_array), axis = 2)\n",
    "    \n",
    "        filteradded_array_feature.append(stack_array)\n",
    "    \n",
    "    filteradded_array_feature = np.array(filteradded_array_feature)\n",
    "    return filteradded_array_feature\n",
    "    \n"
   ]
  },
  {
   "cell_type": "code",
   "execution_count": 412,
   "id": "3bbae82d",
   "metadata": {},
   "outputs": [
    {
     "data": {
      "text/plain": [
       "(900, 32, 32, 1)"
      ]
     },
     "execution_count": 412,
     "metadata": {},
     "output_type": "execute_result"
    }
   ],
   "source": [
    "final_feature = filter_concat(array_feature, blur_filter = blur_filter, contour_filter = contour_filter, \n",
    "                  edge_enhance_filter = edge_enhance_filter)\n",
    "\n",
    "final_feature.shape"
   ]
  },
  {
   "cell_type": "markdown",
   "id": "290f34a9",
   "metadata": {},
   "source": [
    "## (3) 데이터 분리"
   ]
  },
  {
   "cell_type": "code",
   "execution_count": 574,
   "id": "d77ef4fb",
   "metadata": {},
   "outputs": [
    {
     "data": {
      "text/plain": [
       "(630, 32, 32, 1)"
      ]
     },
     "execution_count": 574,
     "metadata": {},
     "output_type": "execute_result"
    }
   ],
   "source": [
    "# Train data 초반 70%, Test data 다음 15%, Validation data 마지막 15%\n",
    "local_X_train = final_feature[:int(len(feature)*(1-test_size-val_size))]\n",
    "local_X_test = final_feature[int(len(feature)*(1-test_size-val_size)):int(len(feature)*(1-val_size))]\n",
    "local_X_val = final_feature[int(len(feature)*(1-val_size)):]\n",
    "\n",
    "y_train = label[:int(len(feature)*(1-test_size-val_size))]\n",
    "y_test =  label[int(len(feature)*(1-test_size-val_size)):int(len(feature)*(1-val_size))]\n",
    "y_val = label[int(len(feature)*(1-val_size)):]\n",
    "\n",
    "# local_X_train, local_X_test, y_train, y_test = train_test_split(final_feature, label, \n",
    "#                                                     test_size = tts_test_size, random_state= train_test_split_randomstate)    ## test_size를 변경하며 시험.\n",
    "# Normalization\n",
    "local_X_train = local_X_train / 255.0\n",
    "local_X_test = local_X_test / 255.0\n",
    "local_X_val = local_X_val / 255.0\n",
    "\n",
    "# BATCH_SIZE = 64\n",
    "# SHUFFLE_BUFFER_SIZE = 100\n",
    "\n",
    "# train_dataset = tf.data.Dataset.from_tensor_slices((local_X_train, y_train))\n",
    "# test_dataset = tf.data.Dataset.from_tensor_slices((local_X_test, y_test))\n",
    "local_X_train.shape"
   ]
  },
  {
   "cell_type": "code",
   "execution_count": 577,
   "id": "19dfb5e7",
   "metadata": {},
   "outputs": [
    {
     "data": {
      "text/plain": [
       "(630, 32, 32, 1)"
      ]
     },
     "execution_count": 577,
     "metadata": {},
     "output_type": "execute_result"
    }
   ],
   "source": [
    "\n",
    "# Train data 초반 70%, Test data 다음 15%, Validation data 마지막 15%\n",
    "local_X_train = final_feature[:int(len(feature)*(1-test_size-val_size))]\n",
    "local_X_test = final_feature[int(len(feature)*(1-test_size-val_size)):int(len(feature)*(1-val_size))]\n",
    "local_X_val = final_feature[int(len(feature)*(1-val_size)):]\n",
    "\n",
    "y_train = label[:int(len(feature)*(1-test_size-val_size))]\n",
    "y_test =  label[int(len(feature)*(1-test_size-val_size)):int(len(feature)*(1-val_size))]\n",
    "y_val = label[int(len(feature)*(1-val_size)):]\n",
    "\n",
    "# local_X_train, local_X_test, y_train, y_test = train_test_split(final_feature, label, \n",
    "#                                                     test_size = tts_test_size, random_state= train_test_split_randomstate)    ## test_size를 변경하며 시험.\n",
    "# Normalization\n",
    "local_X_train = local_X_train / 255.0\n",
    "local_X_test = local_X_test / 255.0\n",
    "local_X_val = local_X_val / 255.0\n",
    "\n",
    "# BATCH_SIZE = 64\n",
    "# SHUFFLE_BUFFER_SIZE = 100\n",
    "\n",
    "# train_dataset = tf.data.Dataset.from_tensor_slices((local_X_train, y_train))\n",
    "# test_dataset = tf.data.Dataset.from_tensor_slices((local_X_test, y_test))\n",
    "local_X_train.shape"
   ]
  },
  {
   "cell_type": "code",
   "execution_count": 576,
   "id": "f411dd9f",
   "metadata": {},
   "outputs": [
    {
     "data": {
      "text/plain": [
       "(630, 64)"
      ]
     },
     "execution_count": 576,
     "metadata": {},
     "output_type": "execute_result"
    }
   ],
   "source": [
    "global_X_train = feature[:int(len(feature)*(1-test_size-val_size))]\n",
    "global_X_test = feature[int(len(feature)*(1-test_size-val_size)):int(len(feature)*(1-val_size))]\n",
    "global_X_val = feature[int(len(feature)*(1-val_size)):]\n",
    "global_X_train.shape"
   ]
  },
  {
   "cell_type": "markdown",
   "id": "958412b9",
   "metadata": {},
   "source": [
    "# 3. 모델 학습"
   ]
  },
  {
   "cell_type": "markdown",
   "id": "30c7a805",
   "metadata": {},
   "source": [
    "## (1) 모델 설계 및 대표 벡터 추출"
   ]
  },
  {
   "cell_type": "code",
   "execution_count": 15,
   "id": "17c1d1e1",
   "metadata": {},
   "outputs": [],
   "source": [
    "# google net\n",
    "\n",
    "\n",
    "from keras.models import Model\n",
    "from keras.layers import Input, Conv2D, MaxPooling2D, AveragePooling2D, Flatten, GlobalAveragePooling2D, Dense, Dropout\n",
    "from keras.layers.merge import concatenate\n"
   ]
  },
  {
   "cell_type": "code",
   "execution_count": 16,
   "id": "83c28bbc",
   "metadata": {},
   "outputs": [],
   "source": [
    "# 아래 코드는 googLeNet 모델 부분\n"
   ]
  },
  {
   "cell_type": "code",
   "execution_count": 17,
   "id": "71ddf33a",
   "metadata": {},
   "outputs": [],
   "source": [
    "def Inception_block(input_layer, f1, f2_conv1, f2_conv3, f3_conv1, f3_conv5, f4): \n",
    "  # Input: \n",
    "  # - f1: number of filters of the 1x1 convolutional layer in the first path\n",
    "  # - f2_conv1, f2_conv3 are number of filters corresponding to the 1x1 and 3x3 convolutional layers in the second path\n",
    "  # - f3_conv1, f3_conv5 are the number of filters corresponding to the 1x1 and 5x5  convolutional layer in the third path\n",
    "  # - f4: number of filters of the 1x1 convolutional layer in the fourth path\n",
    "\n",
    "  # 1st path:\n",
    "  path1 = Conv2D(filters=f1, kernel_size = (1,1), padding = 'same', activation = 'relu')(input_layer)\n",
    "\n",
    "  # 2nd path\n",
    "  path2 = Conv2D(filters = f2_conv1, kernel_size = (1,1), padding = 'same', activation = 'relu')(input_layer)\n",
    "  path2 = Conv2D(filters = f2_conv3, kernel_size = (3,3), padding = 'same', activation = 'relu')(path2)\n",
    "\n",
    "  # 3rd path\n",
    "  path3 = Conv2D(filters = f3_conv1, kernel_size = (1,1), padding = 'same', activation = 'relu')(input_layer)\n",
    "  path3 = Conv2D(filters = f3_conv5, kernel_size = (5,5), padding = 'same', activation = 'relu')(path3)\n",
    "\n",
    "  # 4th path\n",
    "  path4 = MaxPooling2D((3,3), strides= (1,1), padding = 'same')(input_layer)\n",
    "  path4 = Conv2D(filters = f4, kernel_size = (1,1), padding = 'same', activation = 'relu')(path4)\n",
    "\n",
    "  output_layer = concatenate([path1, path2, path3, path4], axis = -1)\n",
    "\n",
    "  return output_layer"
   ]
  },
  {
   "cell_type": "code",
   "execution_count": 341,
   "id": "d833938f",
   "metadata": {},
   "outputs": [
    {
     "name": "stdout",
     "output_type": "stream",
     "text": [
      "Model: \"Simpler_google_model\"\n",
      "__________________________________________________________________________________________________\n",
      " Layer (type)                   Output Shape         Param #     Connected to                     \n",
      "==================================================================================================\n",
      " Local_feature_Input (InputLaye  [(None, 8, 8, 1)]   0           []                               \n",
      " r)                                                                                               \n",
      "                                                                                                  \n",
      " conv2d_468 (Conv2D)            (None, 1, 1, 64)     3200        ['Local_feature_Input[0][0]']    \n",
      "                                                                                                  \n",
      " max_pooling2d_126 (MaxPooling2  (None, 1, 1, 64)    0           ['conv2d_468[0][0]']             \n",
      " D)                                                                                               \n",
      "                                                                                                  \n",
      " conv2d_469 (Conv2D)            (None, 1, 1, 64)     4160        ['max_pooling2d_126[0][0]']      \n",
      "                                                                                                  \n",
      " conv2d_470 (Conv2D)            (None, 1, 1, 192)    110784      ['conv2d_469[0][0]']             \n",
      "                                                                                                  \n",
      " max_pooling2d_127 (MaxPooling2  (None, 1, 1, 192)   0           ['conv2d_470[0][0]']             \n",
      " D)                                                                                               \n",
      "                                                                                                  \n",
      " conv2d_472 (Conv2D)            (None, 1, 1, 96)     18528       ['max_pooling2d_127[0][0]']      \n",
      "                                                                                                  \n",
      " conv2d_474 (Conv2D)            (None, 1, 1, 16)     3088        ['max_pooling2d_127[0][0]']      \n",
      "                                                                                                  \n",
      " max_pooling2d_128 (MaxPooling2  (None, 1, 1, 192)   0           ['max_pooling2d_127[0][0]']      \n",
      " D)                                                                                               \n",
      "                                                                                                  \n",
      " conv2d_471 (Conv2D)            (None, 1, 1, 64)     12352       ['max_pooling2d_127[0][0]']      \n",
      "                                                                                                  \n",
      " conv2d_473 (Conv2D)            (None, 1, 1, 128)    110720      ['conv2d_472[0][0]']             \n",
      "                                                                                                  \n",
      " conv2d_475 (Conv2D)            (None, 1, 1, 32)     12832       ['conv2d_474[0][0]']             \n",
      "                                                                                                  \n",
      " conv2d_476 (Conv2D)            (None, 1, 1, 32)     6176        ['max_pooling2d_128[0][0]']      \n",
      "                                                                                                  \n",
      " concatenate_9 (Concatenate)    (None, 1, 1, 256)    0           ['conv2d_471[0][0]',             \n",
      "                                                                  'conv2d_473[0][0]',             \n",
      "                                                                  'conv2d_475[0][0]',             \n",
      "                                                                  'conv2d_476[0][0]']             \n",
      "                                                                                                  \n",
      " conv2d_478 (Conv2D)            (None, 1, 1, 128)    32896       ['concatenate_9[0][0]']          \n",
      "                                                                                                  \n",
      " conv2d_480 (Conv2D)            (None, 1, 1, 32)     8224        ['concatenate_9[0][0]']          \n",
      "                                                                                                  \n",
      " max_pooling2d_129 (MaxPooling2  (None, 1, 1, 256)   0           ['concatenate_9[0][0]']          \n",
      " D)                                                                                               \n",
      "                                                                                                  \n",
      " conv2d_477 (Conv2D)            (None, 1, 1, 128)    32896       ['concatenate_9[0][0]']          \n",
      "                                                                                                  \n",
      " conv2d_479 (Conv2D)            (None, 1, 1, 192)    221376      ['conv2d_478[0][0]']             \n",
      "                                                                                                  \n",
      " conv2d_481 (Conv2D)            (None, 1, 1, 96)     76896       ['conv2d_480[0][0]']             \n",
      "                                                                                                  \n",
      " conv2d_482 (Conv2D)            (None, 1, 1, 64)     16448       ['max_pooling2d_129[0][0]']      \n",
      "                                                                                                  \n",
      " concatenate_10 (Concatenate)   (None, 1, 1, 480)    0           ['conv2d_477[0][0]',             \n",
      "                                                                  'conv2d_479[0][0]',             \n",
      "                                                                  'conv2d_481[0][0]',             \n",
      "                                                                  'conv2d_482[0][0]']             \n",
      "                                                                                                  \n",
      " max_pooling2d_130 (MaxPooling2  (None, 1, 1, 480)   0           ['concatenate_10[0][0]']         \n",
      " D)                                                                                               \n",
      "                                                                                                  \n",
      " conv2d_484 (Conv2D)            (None, 1, 1, 96)     46176       ['max_pooling2d_130[0][0]']      \n",
      "                                                                                                  \n",
      " conv2d_486 (Conv2D)            (None, 1, 1, 16)     7696        ['max_pooling2d_130[0][0]']      \n",
      "                                                                                                  \n",
      " max_pooling2d_131 (MaxPooling2  (None, 1, 1, 480)   0           ['max_pooling2d_130[0][0]']      \n",
      " D)                                                                                               \n",
      "                                                                                                  \n",
      " conv2d_483 (Conv2D)            (None, 1, 1, 192)    92352       ['max_pooling2d_130[0][0]']      \n",
      "                                                                                                  \n",
      " conv2d_485 (Conv2D)            (None, 1, 1, 208)    179920      ['conv2d_484[0][0]']             \n",
      "                                                                                                  \n",
      " conv2d_487 (Conv2D)            (None, 1, 1, 48)     19248       ['conv2d_486[0][0]']             \n",
      "                                                                                                  \n",
      " conv2d_488 (Conv2D)            (None, 1, 1, 64)     30784       ['max_pooling2d_131[0][0]']      \n",
      "                                                                                                  \n",
      " concatenate_11 (Concatenate)   (None, 1, 1, 512)    0           ['conv2d_483[0][0]',             \n",
      "                                                                  'conv2d_485[0][0]',             \n",
      "                                                                  'conv2d_487[0][0]',             \n",
      "                                                                  'conv2d_488[0][0]']             \n",
      "                                                                                                  \n",
      " conv2d_491 (Conv2D)            (None, 1, 1, 112)    57456       ['concatenate_11[0][0]']         \n",
      "                                                                                                  \n",
      " conv2d_493 (Conv2D)            (None, 1, 1, 24)     12312       ['concatenate_11[0][0]']         \n",
      "                                                                                                  \n",
      " max_pooling2d_132 (MaxPooling2  (None, 1, 1, 512)   0           ['concatenate_11[0][0]']         \n",
      " D)                                                                                               \n",
      "                                                                                                  \n",
      " conv2d_490 (Conv2D)            (None, 1, 1, 160)    82080       ['concatenate_11[0][0]']         \n",
      "                                                                                                  \n",
      " conv2d_492 (Conv2D)            (None, 1, 1, 224)    226016      ['conv2d_491[0][0]']             \n",
      "                                                                                                  \n",
      " conv2d_494 (Conv2D)            (None, 1, 1, 64)     38464       ['conv2d_493[0][0]']             \n",
      "                                                                                                  \n",
      " conv2d_495 (Conv2D)            (None, 1, 1, 64)     32832       ['max_pooling2d_132[0][0]']      \n",
      "                                                                                                  \n",
      " concatenate_12 (Concatenate)   (None, 1, 1, 512)    0           ['conv2d_490[0][0]',             \n",
      "                                                                  'conv2d_492[0][0]',             \n",
      "                                                                  'conv2d_494[0][0]',             \n",
      "                                                                  'conv2d_495[0][0]']             \n",
      "                                                                                                  \n",
      " conv2d_497 (Conv2D)            (None, 1, 1, 128)    65664       ['concatenate_12[0][0]']         \n",
      "                                                                                                  \n",
      " conv2d_499 (Conv2D)            (None, 1, 1, 24)     12312       ['concatenate_12[0][0]']         \n",
      "                                                                                                  \n",
      " max_pooling2d_133 (MaxPooling2  (None, 1, 1, 512)   0           ['concatenate_12[0][0]']         \n",
      " D)                                                                                               \n",
      "                                                                                                  \n",
      " conv2d_496 (Conv2D)            (None, 1, 1, 128)    65664       ['concatenate_12[0][0]']         \n",
      "                                                                                                  \n",
      " conv2d_498 (Conv2D)            (None, 1, 1, 256)    295168      ['conv2d_497[0][0]']             \n",
      "                                                                                                  \n",
      " conv2d_500 (Conv2D)            (None, 1, 1, 64)     38464       ['conv2d_499[0][0]']             \n",
      "                                                                                                  \n",
      " conv2d_501 (Conv2D)            (None, 1, 1, 64)     32832       ['max_pooling2d_133[0][0]']      \n",
      "                                                                                                  \n",
      " concatenate_13 (Concatenate)   (None, 1, 1, 512)    0           ['conv2d_496[0][0]',             \n",
      "                                                                  'conv2d_498[0][0]',             \n",
      "                                                                  'conv2d_500[0][0]',             \n",
      "                                                                  'conv2d_501[0][0]']             \n",
      "                                                                                                  \n",
      " conv2d_503 (Conv2D)            (None, 1, 1, 144)    73872       ['concatenate_13[0][0]']         \n",
      "                                                                                                  \n",
      " conv2d_505 (Conv2D)            (None, 1, 1, 32)     16416       ['concatenate_13[0][0]']         \n",
      "                                                                                                  \n",
      " max_pooling2d_134 (MaxPooling2  (None, 1, 1, 512)   0           ['concatenate_13[0][0]']         \n",
      " D)                                                                                               \n",
      "                                                                                                  \n",
      " conv2d_502 (Conv2D)            (None, 1, 1, 112)    57456       ['concatenate_13[0][0]']         \n",
      "                                                                                                  \n",
      " conv2d_504 (Conv2D)            (None, 1, 1, 288)    373536      ['conv2d_503[0][0]']             \n",
      "                                                                                                  \n",
      " conv2d_506 (Conv2D)            (None, 1, 1, 64)     51264       ['conv2d_505[0][0]']             \n",
      "                                                                                                  \n",
      " conv2d_507 (Conv2D)            (None, 1, 1, 64)     32832       ['max_pooling2d_134[0][0]']      \n",
      "                                                                                                  \n",
      " concatenate_14 (Concatenate)   (None, 1, 1, 528)    0           ['conv2d_502[0][0]',             \n",
      "                                                                  'conv2d_504[0][0]',             \n",
      "                                                                  'conv2d_506[0][0]',             \n",
      "                                                                  'conv2d_507[0][0]']             \n",
      "                                                                                                  \n",
      " conv2d_510 (Conv2D)            (None, 1, 1, 160)    84640       ['concatenate_14[0][0]']         \n",
      "                                                                                                  \n",
      " conv2d_512 (Conv2D)            (None, 1, 1, 32)     16928       ['concatenate_14[0][0]']         \n",
      "                                                                                                  \n",
      " max_pooling2d_135 (MaxPooling2  (None, 1, 1, 528)   0           ['concatenate_14[0][0]']         \n",
      " D)                                                                                               \n",
      "                                                                                                  \n",
      " conv2d_509 (Conv2D)            (None, 1, 1, 256)    135424      ['concatenate_14[0][0]']         \n",
      "                                                                                                  \n",
      " conv2d_511 (Conv2D)            (None, 1, 1, 320)    461120      ['conv2d_510[0][0]']             \n",
      "                                                                                                  \n",
      " conv2d_513 (Conv2D)            (None, 1, 1, 128)    102528      ['conv2d_512[0][0]']             \n",
      "                                                                                                  \n",
      " conv2d_514 (Conv2D)            (None, 1, 1, 128)    67712       ['max_pooling2d_135[0][0]']      \n",
      "                                                                                                  \n",
      " concatenate_15 (Concatenate)   (None, 1, 1, 832)    0           ['conv2d_509[0][0]',             \n",
      "                                                                  'conv2d_511[0][0]',             \n",
      "                                                                  'conv2d_513[0][0]',             \n",
      "                                                                  'conv2d_514[0][0]']             \n",
      "                                                                                                  \n",
      " max_pooling2d_136 (MaxPooling2  (None, 1, 1, 832)   0           ['concatenate_15[0][0]']         \n",
      " D)                                                                                               \n",
      "                                                                                                  \n",
      " conv2d_516 (Conv2D)            (None, 1, 1, 160)    133280      ['max_pooling2d_136[0][0]']      \n",
      "                                                                                                  \n",
      " conv2d_518 (Conv2D)            (None, 1, 1, 32)     26656       ['max_pooling2d_136[0][0]']      \n",
      "                                                                                                  \n",
      " max_pooling2d_137 (MaxPooling2  (None, 1, 1, 832)   0           ['max_pooling2d_136[0][0]']      \n",
      " D)                                                                                               \n",
      "                                                                                                  \n",
      " conv2d_515 (Conv2D)            (None, 1, 1, 256)    213248      ['max_pooling2d_136[0][0]']      \n",
      "                                                                                                  \n",
      " conv2d_517 (Conv2D)            (None, 1, 1, 320)    461120      ['conv2d_516[0][0]']             \n",
      "                                                                                                  \n",
      " conv2d_519 (Conv2D)            (None, 1, 1, 128)    102528      ['conv2d_518[0][0]']             \n",
      "                                                                                                  \n",
      " conv2d_520 (Conv2D)            (None, 1, 1, 128)    106624      ['max_pooling2d_137[0][0]']      \n",
      "                                                                                                  \n",
      " concatenate_16 (Concatenate)   (None, 1, 1, 832)    0           ['conv2d_515[0][0]',             \n",
      "                                                                  'conv2d_517[0][0]',             \n",
      "                                                                  'conv2d_519[0][0]',             \n",
      "                                                                  'conv2d_520[0][0]']             \n",
      "                                                                                                  \n",
      " conv2d_522 (Conv2D)            (None, 1, 1, 192)    159936      ['concatenate_16[0][0]']         \n",
      "                                                                                                  \n",
      " conv2d_524 (Conv2D)            (None, 1, 1, 48)     39984       ['concatenate_16[0][0]']         \n",
      "                                                                                                  \n",
      " max_pooling2d_138 (MaxPooling2  (None, 1, 1, 832)   0           ['concatenate_16[0][0]']         \n",
      " D)                                                                                               \n",
      "                                                                                                  \n",
      " conv2d_521 (Conv2D)            (None, 1, 1, 384)    319872      ['concatenate_16[0][0]']         \n",
      "                                                                                                  \n",
      " conv2d_523 (Conv2D)            (None, 1, 1, 384)    663936      ['conv2d_522[0][0]']             \n",
      "                                                                                                  \n",
      " conv2d_525 (Conv2D)            (None, 1, 1, 128)    153728      ['conv2d_524[0][0]']             \n",
      "                                                                                                  \n",
      " conv2d_526 (Conv2D)            (None, 1, 1, 128)    106624      ['max_pooling2d_138[0][0]']      \n",
      "                                                                                                  \n",
      " concatenate_17 (Concatenate)   (None, 1, 1, 1024)   0           ['conv2d_521[0][0]',             \n",
      "                                                                  'conv2d_523[0][0]',             \n",
      "                                                                  'conv2d_525[0][0]',             \n",
      "                                                                  'conv2d_526[0][0]']             \n",
      "                                                                                                  \n",
      " GAPL (GlobalAveragePooling2D)  (None, 1024)         0           ['concatenate_17[0][0]']         \n",
      "                                                                                                  \n",
      " dropout_37 (Dropout)           (None, 1024)         0           ['GAPL[0][0]']                   \n",
      "                                                                                                  \n",
      " dense_32 (Dense)               (None, 1000)         1025000     ['dropout_37[0][0]']             \n",
      "                                                                                                  \n",
      " prediction (Dense)             (None, 6)            6006        ['dense_32[0][0]']               \n",
      "                                                                                                  \n",
      "==================================================================================================\n",
      "Total params: 6,998,286\n",
      "Trainable params: 6,998,286\n",
      "Non-trainable params: 0\n",
      "__________________________________________________________________________________________________\n"
     ]
    }
   ],
   "source": [
    "# custom googlenet\n",
    "\n",
    "# A2 MODEL\n",
    "\n",
    "\n",
    "\n",
    "# input layer \n",
    "local_input = Input(shape = (image_size, image_size, filter_num+1), name = 'Local_feature_Input')\n",
    "\n",
    "# convolutional layer: filters = 64, kernel_size = (7,7), strides = 2\n",
    "X = Conv2D(filters = 64, kernel_size = (7,7), strides = 2, padding = 'valid', activation = 'relu')(local_input)\n",
    "\n",
    "# max-pooling layer: pool_size = (3,3), strides = 2\n",
    "X = MaxPooling2D(pool_size = (3,3), padding='same', strides = 2)(X)\n",
    "\n",
    "# convolutional layer: filters = 64, strides = 1\n",
    "X = Conv2D(filters = 64, kernel_size = (1,1), strides = 1, padding = 'same', activation = 'relu')(X)\n",
    "\n",
    "# convolutional layer: filters = 192, kernel_size = (3,3)\n",
    "X = Conv2D(filters = 192, kernel_size = (3,3), padding = 'same', activation = 'relu')(X)\n",
    "\n",
    "# max-pooling layer: pool_size = (3,3), strides = 2\n",
    "X = MaxPooling2D(pool_size= (3,3), padding='same', strides = 2)(X)\n",
    "\n",
    "# 1st Inception block\n",
    "X = Inception_block(X, f1 = 64, f2_conv1 = 96, f2_conv3 = 128, f3_conv1 = 16, f3_conv5 = 32, f4 = 32)\n",
    "\n",
    "# 2nd Inception block\n",
    "X = Inception_block(X, f1 = 128, f2_conv1 = 128, f2_conv3 = 192, f3_conv1 = 32, f3_conv5 = 96, f4 = 64)\n",
    "\n",
    "# max-pooling layer: pool_size = (3,3), strides = 2\n",
    "X = MaxPooling2D(pool_size= (3,3), padding='same', strides = 2)(X)\n",
    "\n",
    "# 3rd Inception block\n",
    "X = Inception_block(X, f1 = 192, f2_conv1 = 96, f2_conv3 = 208, f3_conv1 = 16, f3_conv5 = 48, f4 = 64)\n",
    "\n",
    "# Extra network 1:\n",
    "X1 = AveragePooling2D(pool_size = (5,5), padding='same', strides = 3)(X)\n",
    "X1 = Conv2D(filters = 128, kernel_size = (1,1), padding = 'same', activation = 'relu')(X1)\n",
    "X1 = Flatten()(X1)\n",
    "X1 = Dense(1024, activation = 'relu')(X1)\n",
    "X1 = Dropout(0.7)(X1)\n",
    "X1 = Dense(5, activation = 'softmax')(X1)\n",
    "\n",
    "\n",
    "# 4th Inception block\n",
    "X = Inception_block(X, f1 = 160, f2_conv1 = 112, f2_conv3 = 224, f3_conv1 = 24, f3_conv5 = 64, f4 = 64)\n",
    "\n",
    "# 5th Inception block\n",
    "X = Inception_block(X, f1 = 128, f2_conv1 = 128, f2_conv3 = 256, f3_conv1 = 24, f3_conv5 = 64, f4 = 64)\n",
    "\n",
    "# 6th Inception block\n",
    "X = Inception_block(X, f1 = 112, f2_conv1 = 144, f2_conv3 = 288, f3_conv1 = 32, f3_conv5 = 64, f4 = 64)\n",
    "\n",
    "# Extra network 2:\n",
    "X2 = AveragePooling2D(pool_size = (5,5), padding='same', strides = 3)(X)\n",
    "X2 = Conv2D(filters = 128, kernel_size = (1,1), padding = 'same', activation = 'relu')(X2)\n",
    "X2 = Flatten()(X2)\n",
    "X2 = Dense(1024, activation = 'relu')(X2)\n",
    "X2 = Dropout(0.7)(X2)\n",
    "X2 = Dense(1000, activation = 'softmax')(X2)\n",
    "\n",
    "\n",
    "# 7th Inception block\n",
    "X = Inception_block(X, f1 = 256, f2_conv1 = 160, f2_conv3 = 320, f3_conv1 = 32, \n",
    "                  f3_conv5 = 128, f4 = 128)\n",
    "\n",
    "# max-pooling layer: pool_size = (3,3), strides = 2\n",
    "X = MaxPooling2D(pool_size = (3,3), padding='same', strides = 2)(X)\n",
    "\n",
    "# 8th Inception block\n",
    "X = Inception_block(X, f1 = 256, f2_conv1 = 160, f2_conv3 = 320, f3_conv1 = 32, f3_conv5 = 128, f4 = 128)\n",
    "\n",
    "# 9th Inception block\n",
    "X = Inception_block(X, f1 = 384, f2_conv1 = 192, f2_conv3 = 384, f3_conv1 = 48, f3_conv5 = 128, f4 = 128)\n",
    "\n",
    "# Global Average pooling layer \n",
    "X = GlobalAveragePooling2D(name = 'GAPL')(X)\n",
    "\n",
    "# Dropoutlayer \n",
    "X = Dropout(0.4)(X)\n",
    "\n",
    "# output layer \n",
    "X = Dense(1000, activation = 'softmax')(X)\n",
    "  # Local feature + Global feature 사용\n",
    "if is_global_feature: \n",
    "    # Concatenation block\n",
    "    global_input = Input(shape = (len(global_X_train.columns)), name = 'Global feature Input')\n",
    "    concat = concatenate([X, global_input], name = 'Feature_concatenation')\n",
    "    \n",
    "    # Final block\n",
    "    prediction = Dense(classes_num, activation = 'softmax', name = 'prediction')(X)\n",
    "    concatgoogle_NET = Model(inputs = [local_input, global_input], outputs = prediction, name = 'Concat_GOOGLEnet_model')\n",
    "\n",
    "\n",
    "# Local feature만 사용.\n",
    "else:\n",
    "    # Simpple flatten block\n",
    "    # Final block\n",
    "    prediction = Dense(classes_num, activation = 'softmax', name = 'prediction')(X)    \n",
    "    simplegoogle_NET = Model(inputs = local_input, outputs = prediction, name = 'Simpler_google_model')\n",
    "\n",
    "\n",
    "simplegoogle_NET.summary()\n",
    "  # model\n",
    " "
   ]
  },
  {
   "cell_type": "code",
   "execution_count": 349,
   "id": "fd3f861c",
   "metadata": {},
   "outputs": [
    {
     "name": "stdout",
     "output_type": "stream",
     "text": [
      "Model: \"Simpler_VGG16_model\"\n",
      "_________________________________________________________________\n",
      " Layer (type)                Output Shape              Param #   \n",
      "=================================================================\n",
      " Local_feature_Input (InputL  [(None, 8, 8, 1)]        0         \n",
      " ayer)                                                           \n",
      "                                                                 \n",
      " block1_conv1 (Conv2D)       (None, 8, 8, 64)          640       \n",
      "                                                                 \n",
      " block1_conv2 (Conv2D)       (None, 8, 8, 64)          36928     \n",
      "                                                                 \n",
      " block1_pool (MaxPooling2D)  (None, 4, 4, 64)          0         \n",
      "                                                                 \n",
      " block2_conv1 (Conv2D)       (None, 4, 4, 128)         73856     \n",
      "                                                                 \n",
      " block2_conv2 (Conv2D)       (None, 4, 4, 128)         147584    \n",
      "                                                                 \n",
      " block2_pool (MaxPooling2D)  (None, 2, 2, 128)         0         \n",
      "                                                                 \n",
      " block3_conv1 (Conv2D)       (None, 2, 2, 256)         295168    \n",
      "                                                                 \n",
      " block3_conv2 (Conv2D)       (None, 2, 2, 256)         590080    \n",
      "                                                                 \n",
      " block3_conv3 (Conv2D)       (None, 2, 2, 256)         590080    \n",
      "                                                                 \n",
      " block3_pool (MaxPooling2D)  (None, 1, 1, 256)         0         \n",
      "                                                                 \n",
      " flatten (Flatten)           (None, 256)               0         \n",
      "                                                                 \n",
      " fc1 (Dense)                 (None, 1024)              263168    \n",
      "                                                                 \n",
      " fc2 (Dense)                 (None, 1024)              1049600   \n",
      "                                                                 \n",
      " prediction (Dense)          (None, 6)                 6150      \n",
      "                                                                 \n",
      "=================================================================\n",
      "Total params: 3,053,254\n",
      "Trainable params: 3,053,254\n",
      "Non-trainable params: 0\n",
      "_________________________________________________________________\n"
     ]
    }
   ],
   "source": [
    "# concat_VGG16\n",
    "# 최참님 모델\n",
    "\n",
    "#a1 으로 변수설정\n",
    "\n",
    "\n",
    "# 1st block\n",
    "local_input = Input(shape = (image_size, image_size, filter_num+1), name = 'Local_feature_Input')\n",
    "x = Conv2D(64, (3,3), activation = 'relu', padding = 'same', name = 'block1_conv1')(local_input)\n",
    "x = Conv2D(64, (3,3), activation = 'relu', padding = 'same', name = 'block1_conv2')(x)\n",
    "x = MaxPool2D((2,2), strides = (2,2), name = 'block1_pool')(x)\n",
    "\n",
    "# 2nd block\n",
    "x = Conv2D(128, (3,3), activation = 'relu', padding = 'same', name = 'block2_conv1')(x)\n",
    "x = Conv2D(128, (3,3), activation = 'relu', padding = 'same', name = 'block2_conv2')(x)\n",
    "x = MaxPool2D((2,2), strides = (2,2), name = 'block2_pool')(x)\n",
    "\n",
    "# 3rd block\n",
    "x = Conv2D(256, (3,3), activation = 'relu', padding = 'same', name = 'block3_conv1')(x)\n",
    "x = Conv2D(256, (3,3), activation = 'relu', padding = 'same', name = 'block3_conv2')(x)\n",
    "x = Conv2D(256, (3,3), activation = 'relu', padding = 'same', name = 'block3_conv3')(x)\n",
    "x = MaxPool2D((2,2), strides = (2,2), name = 'block3_pool')(x)\n",
    "\n",
    "# 4th block\n",
    "# x = Conv2D(512, (3,3), activation = 'relu', padding = 'same', name = 'block4_conv1')(x)\n",
    "# x = Conv2D(512, (3,3), activation = 'relu', padding = 'same', name = 'block4_conv2')(x)\n",
    "# x = Conv2D(512, (3,3), activation = 'relu', padding = 'same', name = 'block4_conv3')(x)\n",
    "# x = MaxPool2D((2,2), strides = (2,2), name = 'block4_pool')(x)\n",
    "\n",
    "# 5th block\n",
    "# x = Conv2D(512, (3,3), activation = 'relu', padding = 'same', name = 'block5_conv1')(x)\n",
    "# x = Conv2D(512, (3,3), activation = 'relu', padding = 'same', name = 'block5_conv2')(x)\n",
    "# x = Conv2D(512, (3,3), activation = 'relu', padding = 'same', name = 'block5_conv3')(x)\n",
    "# x = MaxPool2D((2,2), strides = (2,2), name = 'block5_pool')(x)\n",
    "\n",
    "# Local feature + Global feature 사용\n",
    "if is_global_feature: \n",
    "    # Concatenation block\n",
    "    x = Flatten(name = 'flatten')(x)\n",
    "    global_input = Input(shape = (len(global_X_train.columns)), name = 'Global feature Input')\n",
    "    concat = concatenate([x, global_input], name = 'Feature_concatenation')\n",
    "    \n",
    "    # Final block\n",
    "    x = Dense(1024, activation = 'relu', name = 'fc1')(concat)  # 초기값 4096\n",
    "    output = Dense(1024, activation = 'relu', name = 'fc2')(x)  # 초기값 4096\n",
    "    \n",
    "    prediction = Dense(classes_num, activation = 'softmax', name = 'prediction')(output)\n",
    "    modified_VGG16_model = Model(inputs = [local_input, global_input], outputs = prediction, name = 'Concat_VGG16_model')\n",
    "\n",
    "\n",
    "# Local feature만 사용.\n",
    "else:\n",
    "    # Simpple flatten block\n",
    "    x = Flatten(name = 'flatten')(x)\n",
    "    \n",
    "    # Final block\n",
    "    x = Dense(1024, activation = 'relu', name = 'fc1')(x)       # 초기값 4096\n",
    "    output = Dense(1024, activation = 'relu', name = 'fc2')(x)  # 초기값 4096\n",
    "    \n",
    "    prediction = Dense(classes_num, activation = 'softmax', name = 'prediction')(output)    \n",
    "    modified_VGG16_model = Model(inputs = local_input, outputs = prediction, name = 'Simpler_VGG16_model')\n",
    "\n",
    "\n",
    "modified_VGG16_model.summary()"
   ]
  },
  {
   "cell_type": "code",
   "execution_count": 37,
   "id": "1cb57919",
   "metadata": {},
   "outputs": [],
   "source": [
    "from keras.preprocessing.image import ImageDataGenerator\n",
    "from keras.callbacks import ModelCheckpoint\n",
    "\n",
    "from keras.models import Sequential\n",
    "from keras.layers import Conv2D, MaxPooling2D, Dense, Flatten, Dropout\n",
    "# import metric\n",
    "from keras.metrics import categorical_crossentropy\n",
    "# optimization method \n",
    "import numpy as np\n",
    "import pandas as pd"
   ]
  },
  {
   "cell_type": "code",
   "execution_count": 20,
   "id": "520cf03d",
   "metadata": {},
   "outputs": [
    {
     "name": "stdout",
     "output_type": "stream",
     "text": [
      "('You must install pydot (`pip install pydot`) and install graphviz (see instructions at https://graphviz.gitlab.io/download/) ', 'for plot_model/model_to_dot to work.')\n"
     ]
    }
   ],
   "source": [
    "plot_model(simplegoogle_NET, 'simplegoogle_NET.png', show_shapes = True)"
   ]
  },
  {
   "cell_type": "code",
   "execution_count": 21,
   "id": "4e4aa561",
   "metadata": {},
   "outputs": [
    {
     "name": "stdout",
     "output_type": "stream",
     "text": [
      "('You must install pydot (`pip install pydot`) and install graphviz (see instructions at https://graphviz.gitlab.io/download/) ', 'for plot_model/model_to_dot to work.')\n"
     ]
    }
   ],
   "source": [
    "plot_model(modified_VGG16_model, 'modified_VGG16_model.png', show_shapes = True)"
   ]
  },
  {
   "cell_type": "code",
   "execution_count": 22,
   "id": "b44ca10f",
   "metadata": {},
   "outputs": [],
   "source": [
    "import os; os.environ[\"TF_KERAS\"]='1'"
   ]
  },
  {
   "cell_type": "code",
   "execution_count": 23,
   "id": "79ee188c",
   "metadata": {},
   "outputs": [],
   "source": [
    "# 모델 변수에 넣기 "
   ]
  },
  {
   "cell_type": "code",
   "execution_count": 350,
   "id": "94a3905e",
   "metadata": {},
   "outputs": [],
   "source": [
    "a1 = modified_VGG16_model # 참님 모델"
   ]
  },
  {
   "cell_type": "code",
   "execution_count": 342,
   "id": "02ebe64c",
   "metadata": {},
   "outputs": [],
   "source": [
    "a2 = simplegoogle_NET # 성훈님 모델"
   ]
  },
  {
   "cell_type": "code",
   "execution_count": 50,
   "id": "7fa9216a",
   "metadata": {},
   "outputs": [],
   "source": [
    "# 모델 변수에 넣기 "
   ]
  },
  {
   "cell_type": "code",
   "execution_count": 26,
   "id": "5a0e854a",
   "metadata": {},
   "outputs": [
    {
     "name": "stdout",
     "output_type": "stream",
     "text": [
      "Collecting tensorflow-addons==0.16.1\n",
      "  Downloading tensorflow_addons-0.16.1-cp39-cp39-manylinux_2_12_x86_64.manylinux2010_x86_64.whl (1.1 MB)\n",
      "\u001b[2K     \u001b[90m━━━━━━━━━━━━━━━━━━━━━━━━━━━━━━━━━━━━━━━━\u001b[0m \u001b[32m1.1/1.1 MB\u001b[0m \u001b[31m18.5 MB/s\u001b[0m eta \u001b[36m0:00:00\u001b[0m00:01\u001b[0m\n",
      "\u001b[?25hRequirement already satisfied: typeguard>=2.7 in /opt/conda/lib/python3.9/site-packages (from tensorflow-addons==0.16.1) (2.13.3)\n",
      "Installing collected packages: tensorflow-addons\n",
      "Successfully installed tensorflow-addons-0.16.1\n",
      "\u001b[33mWARNING: Running pip as the 'root' user can result in broken permissions and conflicting behaviour with the system package manager. It is recommended to use a virtual environment instead: https://pip.pypa.io/warnings/venv\u001b[0m\u001b[33m\n",
      "\u001b[0m"
     ]
    }
   ],
   "source": [
    "!pip install --user tensorflow-addons==0.16.1"
   ]
  },
  {
   "cell_type": "code",
   "execution_count": 31,
   "id": "e56cc73f",
   "metadata": {},
   "outputs": [],
   "source": [
    "import numpy as np\n",
    "from keras.layers import Input, Dense, LSTM\n",
    "from keras.models import Model\n",
    "from keras.regularizers import l1, l2, l1_l2\n",
    "#from keras_adamw import AdamW"
   ]
  },
  {
   "cell_type": "code",
   "execution_count": null,
   "id": "05f350d5",
   "metadata": {},
   "outputs": [],
   "source": [
    "#글로벌 에버리지 풀링\n",
    "# y = tf.keras.layers.GlobalAveragePooling2D()(x)\n"
   ]
  },
  {
   "cell_type": "code",
   "execution_count": 352,
   "id": "e146066d",
   "metadata": {},
   "outputs": [
    {
     "name": "stdout",
     "output_type": "stream",
     "text": [
      "Epoch 1/30\n",
      "20/20 [==============================] - 1s 38ms/step - loss: 1.8949 - accuracy: 0.1571\n",
      "Epoch 2/30\n",
      "20/20 [==============================] - 1s 38ms/step - loss: 1.7946 - accuracy: 0.1762\n",
      "Epoch 3/30\n",
      "20/20 [==============================] - 1s 36ms/step - loss: 1.7921 - accuracy: 0.1873\n",
      "Epoch 4/30\n",
      "20/20 [==============================] - 1s 36ms/step - loss: 1.7924 - accuracy: 0.1651\n",
      "Epoch 5/30\n",
      "20/20 [==============================] - 1s 36ms/step - loss: 1.7926 - accuracy: 0.1651\n",
      "Epoch 6/30\n",
      "20/20 [==============================] - 1s 36ms/step - loss: 1.7903 - accuracy: 0.1873\n",
      "Epoch 7/30\n",
      "20/20 [==============================] - 1s 36ms/step - loss: 1.7899 - accuracy: 0.1873\n",
      "Epoch 8/30\n",
      "20/20 [==============================] - 1s 37ms/step - loss: 1.7904 - accuracy: 0.1873\n",
      "Epoch 9/30\n",
      "20/20 [==============================] - 1s 37ms/step - loss: 1.7898 - accuracy: 0.1873\n",
      "Epoch 10/30\n",
      "20/20 [==============================] - 1s 36ms/step - loss: 1.7901 - accuracy: 0.1873\n",
      "Epoch 11/30\n",
      "20/20 [==============================] - 1s 38ms/step - loss: 1.7897 - accuracy: 0.1873\n",
      "Epoch 12/30\n",
      "20/20 [==============================] - 1s 36ms/step - loss: 1.7911 - accuracy: 0.1873\n",
      "Epoch 13/30\n",
      "20/20 [==============================] - 1s 37ms/step - loss: 1.7896 - accuracy: 0.1873\n",
      "Epoch 14/30\n",
      "20/20 [==============================] - 1s 36ms/step - loss: 1.7899 - accuracy: 0.1873\n",
      "Epoch 15/30\n",
      "20/20 [==============================] - 1s 36ms/step - loss: 1.7894 - accuracy: 0.1873\n",
      "Epoch 16/30\n",
      "20/20 [==============================] - 1s 38ms/step - loss: 1.7897 - accuracy: 0.1873\n",
      "Epoch 17/30\n",
      "20/20 [==============================] - 1s 37ms/step - loss: 1.7904 - accuracy: 0.1873\n",
      "Epoch 18/30\n",
      "20/20 [==============================] - 1s 37ms/step - loss: 1.7904 - accuracy: 0.1873\n",
      "Epoch 19/30\n",
      "20/20 [==============================] - 1s 36ms/step - loss: 1.7903 - accuracy: 0.1873\n",
      "Epoch 20/30\n",
      "20/20 [==============================] - 1s 36ms/step - loss: 1.7894 - accuracy: 0.1873\n",
      "Epoch 21/30\n",
      "20/20 [==============================] - 1s 36ms/step - loss: 1.7897 - accuracy: 0.1873\n",
      "Epoch 22/30\n",
      "20/20 [==============================] - 1s 37ms/step - loss: 1.7897 - accuracy: 0.1873\n",
      "Epoch 23/30\n",
      "20/20 [==============================] - 1s 36ms/step - loss: 1.7895 - accuracy: 0.1873\n",
      "Epoch 24/30\n",
      "20/20 [==============================] - 1s 36ms/step - loss: 1.7894 - accuracy: 0.1873\n",
      "Epoch 25/30\n",
      "20/20 [==============================] - 1s 35ms/step - loss: 1.7895 - accuracy: 0.1873\n",
      "Epoch 26/30\n",
      "20/20 [==============================] - 1s 36ms/step - loss: 1.7891 - accuracy: 0.1873\n",
      "Epoch 27/30\n",
      "20/20 [==============================] - 1s 38ms/step - loss: 1.7896 - accuracy: 0.1873\n",
      "Epoch 28/30\n",
      "20/20 [==============================] - 1s 36ms/step - loss: 1.7894 - accuracy: 0.1873\n",
      "Epoch 29/30\n",
      "20/20 [==============================] - 1s 36ms/step - loss: 1.7895 - accuracy: 0.1873\n",
      "Epoch 30/30\n",
      "20/20 [==============================] - 1s 37ms/step - loss: 1.7897 - accuracy: 0.1698\n",
      "5/5 [==============================] - 0s 6ms/step - loss: 1.8062 - accuracy: 0.0963\n"
     ]
    },
    {
     "data": {
      "image/png": "[encoded data removed]",
      "text/plain": [
       "<Figure size 432x288 with 2 Axes>"
      ]
     },
     "metadata": {
      "needs_background": "light"
     },
     "output_type": "display_data"
    }
   ],
   "source": [
    "# 이건 googLenet 을 위한 코드 \n",
    "\n",
    "a01 = AdamW(learning_rate =0.01, beta_1=0.9, beta_2 = 0.999,amsgrad = True,\\\n",
    "                   #model = None,\n",
    "                   #use_cosine_annealing = True,\n",
    "                   #zero_penalties = 1,\n",
    "                   #lr_multipliers = None,\n",
    "                   #autorestart = 1,\n",
    "                   #eta_min = 0.2,\n",
    "                   #eta_max = 0.9,\n",
    "                   #t_cur = 2,\n",
    "                   weight_decay = 1e-4,\n",
    "                   #weight_decays=0.1,\n",
    "                   #total_iterations = 3,\n",
    "                   #init_verbose = 1,\n",
    "                   epsilon = 1e-07,\n",
    "                   \n",
    "                 )\n",
    "\n",
    "\n",
    "\n",
    "a1.compile(optimizer = a01,\n",
    "             #loss = tf.keras.losses.SparseCategoricalCrossentropy(),\n",
    "             loss = 'sparse_categorical_crossentropy',\n",
    "             metrics = ['accuracy'])\n",
    "\n",
    "epoch_num= 30\n",
    "\n",
    "if is_global_feature:\n",
    "    hist = a1.fit([local_X_train, global_X_train], y_train, epochs = epoch_num)\n",
    "    a1.evaluate([local_X_train, global_X_train], y_test, verbose = 1)\n",
    "else:\n",
    "    hist = a1.fit(local_X_train, y_train, epochs = epoch_num)\n",
    "    a1.evaluate(local_X_test, y_test, verbose = 1)\n",
    "\n",
    "%matplotlib inline\n",
    "import matplotlib.pyplot as plt\n",
    "\n",
    "fig, loss_ax = plt.subplots()\n",
    "\n",
    "acc_ax = loss_ax.twinx()\n",
    "\n",
    "loss_ax.plot(hist.history['loss'], 'y', label='train loss')\n",
    "\n",
    "# loss_ax.plot(hist.history['val_loss'], 'y', label='val loss')\n",
    "\n",
    "acc_ax.plot(hist.history['accuracy'], 'b', label='train acc')\n",
    "\n",
    "# loss_ax.plot(hist.history['val_accuracy'], 'y', label='val acc')\n",
    "\n",
    "loss_ax.set_xlabel('epoch')\n",
    "loss_ax.set_ylabel('loss')\n",
    "acc_ax.set_ylabel('accuracy')\n",
    "\n",
    "loss_ax.legend(loc='upper left')\n",
    "acc_ax.legend(loc='lower left')\n",
    "\n",
    "plt.show()"
   ]
  },
  {
   "cell_type": "code",
   "execution_count": 381,
   "id": "77cf72f7",
   "metadata": {},
   "outputs": [
    {
     "name": "stdout",
     "output_type": "stream",
     "text": [
      "Epoch 1/30\n",
      "20/20 [==============================] - 4s 54ms/step - loss: 1.7938 - accuracy: 0.1873\n",
      "Epoch 2/30\n",
      "20/20 [==============================] - 1s 56ms/step - loss: 1.7904 - accuracy: 0.1873\n",
      "Epoch 3/30\n",
      "20/20 [==============================] - 1s 56ms/step - loss: 1.7896 - accuracy: 0.1873\n",
      "Epoch 4/30\n",
      "20/20 [==============================] - 1s 58ms/step - loss: 1.7897 - accuracy: 0.1873\n",
      "Epoch 5/30\n",
      "20/20 [==============================] - 1s 56ms/step - loss: 1.7905 - accuracy: 0.1873\n",
      "Epoch 6/30\n",
      "20/20 [==============================] - 1s 55ms/step - loss: 1.7905 - accuracy: 0.1873\n",
      "Epoch 7/30\n",
      "20/20 [==============================] - 1s 56ms/step - loss: 1.7901 - accuracy: 0.1873\n",
      "Epoch 8/30\n",
      "20/20 [==============================] - 1s 55ms/step - loss: 1.7908 - accuracy: 0.1873\n",
      "Epoch 9/30\n",
      "20/20 [==============================] - 1s 54ms/step - loss: 1.7912 - accuracy: 0.1873\n",
      "Epoch 10/30\n",
      "20/20 [==============================] - 1s 55ms/step - loss: 1.7899 - accuracy: 0.1873\n",
      "Epoch 11/30\n",
      "20/20 [==============================] - 1s 56ms/step - loss: 1.7904 - accuracy: 0.1873\n",
      "Epoch 12/30\n",
      "20/20 [==============================] - 1s 56ms/step - loss: 1.7897 - accuracy: 0.1873\n",
      "Epoch 13/30\n",
      "20/20 [==============================] - 1s 56ms/step - loss: 1.7906 - accuracy: 0.1873\n",
      "Epoch 14/30\n",
      "20/20 [==============================] - 1s 56ms/step - loss: 1.7911 - accuracy: 0.1762\n",
      "Epoch 15/30\n",
      "20/20 [==============================] - 1s 55ms/step - loss: 1.7914 - accuracy: 0.1873\n",
      "Epoch 16/30\n",
      "20/20 [==============================] - 1s 55ms/step - loss: 1.7895 - accuracy: 0.1873\n",
      "Epoch 17/30\n",
      "20/20 [==============================] - 1s 59ms/step - loss: 1.7905 - accuracy: 0.1873\n",
      "Epoch 18/30\n",
      "20/20 [==============================] - 1s 58ms/step - loss: 1.7906 - accuracy: 0.1873\n",
      "Epoch 19/30\n",
      "20/20 [==============================] - 1s 56ms/step - loss: 1.7899 - accuracy: 0.1873\n",
      "Epoch 20/30\n",
      "20/20 [==============================] - 1s 56ms/step - loss: 1.7906 - accuracy: 0.1873\n",
      "Epoch 21/30\n",
      "20/20 [==============================] - 1s 56ms/step - loss: 1.7918 - accuracy: 0.1873\n",
      "Epoch 22/30\n",
      "20/20 [==============================] - 1s 57ms/step - loss: 1.7896 - accuracy: 0.1873\n",
      "Epoch 23/30\n",
      "20/20 [==============================] - 1s 56ms/step - loss: 1.7912 - accuracy: 0.1873\n",
      "Epoch 24/30\n",
      "20/20 [==============================] - 1s 55ms/step - loss: 1.7906 - accuracy: 0.1873\n",
      "Epoch 25/30\n",
      "20/20 [==============================] - 1s 57ms/step - loss: 1.7907 - accuracy: 0.1873\n",
      "Epoch 26/30\n",
      "20/20 [==============================] - 1s 57ms/step - loss: 1.7910 - accuracy: 0.1873\n",
      "Epoch 27/30\n",
      "20/20 [==============================] - 1s 55ms/step - loss: 1.7900 - accuracy: 0.1873\n",
      "Epoch 28/30\n",
      "20/20 [==============================] - 1s 55ms/step - loss: 1.7900 - accuracy: 0.1873\n",
      "Epoch 29/30\n",
      "20/20 [==============================] - 1s 53ms/step - loss: 1.7901 - accuracy: 0.1873\n",
      "Epoch 30/30\n",
      "20/20 [==============================] - 1s 55ms/step - loss: 1.7898 - accuracy: 0.1873\n",
      "5/5 [==============================] - 0s 6ms/step - loss: 1.8085 - accuracy: 0.0963\n"
     ]
    },
    {
     "data": {
      "image/png": "[encoded data removed]",
      "text/plain": [
       "<Figure size 432x288 with 2 Axes>"
      ]
     },
     "metadata": {
      "needs_background": "light"
     },
     "output_type": "display_data"
    }
   ],
   "source": [
    "\n",
    "# 이건 googLenet 을 위한 코드 \n",
    "\n",
    "a01 = AdamW(learning_rate =0.01, beta_1=0.9, beta_2 = 0.999,amsgrad = True,\\\n",
    "                   #model = None,\n",
    "                   #use_cosine_annealing = True,\n",
    "                   #zero_penalties = 1,\n",
    "                   #lr_multipliers = None,\n",
    "                   #autorestart = 1,\n",
    "                   #eta_min = 0.2,\n",
    "                   #eta_max = 0.9,\n",
    "                   #t_cur = 2,\n",
    "                   weight_decay = 1e-4,\n",
    "                   #weight_decays=0.1,\n",
    "                   #total_iterations = 3,\n",
    "                   #init_verbose = 1,\n",
    "                   epsilon = 1e-07,\n",
    "                   \n",
    "                 )\n",
    "\n",
    "\n",
    "\n",
    "a2.compile(optimizer = a01,\n",
    "             #loss = tf.keras.losses.SparseCategoricalCrossentropy(),\n",
    "             loss = 'sparse_categorical_crossentropy',\n",
    "             metrics = ['accuracy'])\n",
    "\n",
    "epoch_num= 30\n",
    "\n",
    "if is_global_feature:\n",
    "    hist = a2.fit([local_X_train, global_X_train], y_train, epochs = epoch_num)\n",
    "    a2.evaluate([local_X_train, global_X_train], y_test, verbose = 1)\n",
    "else:\n",
    "    hist = a2.fit(local_X_train, y_train, epochs = epoch_num)\n",
    "    a2.evaluate(local_X_test, y_test, verbose = 1)\n",
    "\n",
    "%matplotlib inline\n",
    "import matplotlib.pyplot as plt\n",
    "\n",
    "fig, loss_ax = plt.subplots()\n",
    "\n",
    "acc_ax = loss_ax.twinx()\n",
    "\n",
    "loss_ax.plot(hist.history['loss'], 'y', label='train loss')\n",
    "\n",
    "# loss_ax.plot(hist.history['val_loss'], 'y', label='val loss')\n",
    "\n",
    "acc_ax.plot(hist.history['accuracy'], 'b', label='train acc')\n",
    "\n",
    "# loss_ax.plot(hist.history['val_accuracy'], 'y', label='val acc')\n",
    "\n",
    "loss_ax.set_xlabel('epoch')\n",
    "loss_ax.set_ylabel('loss')\n",
    "acc_ax.set_ylabel('accuracy')\n",
    "\n",
    "loss_ax.legend(loc='upper left')\n",
    "acc_ax.legend(loc='lower left')\n",
    "\n",
    "plt.show()"
   ]
  },
  {
   "cell_type": "code",
   "execution_count": 55,
   "id": "98f98314",
   "metadata": {},
   "outputs": [],
   "source": [
    "\n",
    "os.environ['TF_KERAS'] = '1'\n"
   ]
  },
  {
   "cell_type": "code",
   "execution_count": 30,
   "id": "154c1c7c",
   "metadata": {},
   "outputs": [
    {
     "name": "stdout",
     "output_type": "stream",
     "text": [
      "--sys.version--\n",
      "3.8.12 (default, Oct 12 2021, 06:23:56) \n",
      "[Clang 10.0.0 ]\n"
     ]
    }
   ],
   "source": [
    "import sys\n",
    "\n",
    "print(\"--sys.version--\")\n",
    "print(sys.version)"
   ]
  },
  {
   "cell_type": "code",
   "execution_count": 31,
   "id": "053e518c",
   "metadata": {},
   "outputs": [
    {
     "name": "stdout",
     "output_type": "stream",
     "text": [
      "2.7.0\n"
     ]
    }
   ],
   "source": [
    "import tensorflow as tf\n",
    "\n",
    "print(tf.__version__)\n",
    "# 2.5.0"
   ]
  },
  {
   "cell_type": "code",
   "execution_count": 28,
   "id": "d7adbc53",
   "metadata": {},
   "outputs": [
    {
     "name": "stdout",
     "output_type": "stream",
     "text": [
      "Collecting tensorflow==2.7.0\n",
      "  Downloading tensorflow-2.7.0-cp39-cp39-manylinux2010_x86_64.whl (489.7 MB)\n",
      "\u001b[2K     \u001b[90m━━━━━━━━━━━━━━━━━━━━━━━━━━━━━━━━━━━━━━━\u001b[0m \u001b[32m489.7/489.7 MB\u001b[0m \u001b[31m1.3 MB/s\u001b[0m eta \u001b[36m0:00:00\u001b[0m00:01\u001b[0m00:01\u001b[0m\n",
      "\u001b[?25hRequirement already satisfied: six>=1.12.0 in /opt/conda/lib/python3.9/site-packages (from tensorflow==2.7.0) (1.16.0)\n",
      "Requirement already satisfied: opt-einsum>=2.3.2 in /opt/conda/lib/python3.9/site-packages (from tensorflow==2.7.0) (3.3.0)\n",
      "Requirement already satisfied: keras-preprocessing>=1.1.1 in /opt/conda/lib/python3.9/site-packages (from tensorflow==2.7.0) (1.1.2)\n",
      "Collecting tensorflow-estimator<2.8,~=2.7.0rc0\n",
      "  Downloading tensorflow_estimator-2.7.0-py2.py3-none-any.whl (463 kB)\n",
      "\u001b[2K     \u001b[90m━━━━━━━━━━━━━━━━━━━━━━━━━━━━━━━━━━━━━━\u001b[0m \u001b[32m463.1/463.1 KB\u001b[0m \u001b[31m39.0 MB/s\u001b[0m eta \u001b[36m0:00:00\u001b[0m\n",
      "\u001b[?25hRequirement already satisfied: grpcio<2.0,>=1.24.3 in /opt/conda/lib/python3.9/site-packages (from tensorflow==2.7.0) (1.44.0)\n",
      "Requirement already satisfied: protobuf>=3.9.2 in /opt/conda/lib/python3.9/site-packages (from tensorflow==2.7.0) (3.19.4)\n",
      "Requirement already satisfied: numpy>=1.14.5 in /opt/conda/lib/python3.9/site-packages (from tensorflow==2.7.0) (1.22.2)\n",
      "Requirement already satisfied: wrapt>=1.11.0 in /opt/conda/lib/python3.9/site-packages (from tensorflow==2.7.0) (1.12.1)\n",
      "Requirement already satisfied: tensorboard~=2.6 in /opt/conda/lib/python3.9/site-packages (from tensorflow==2.7.0) (2.8.0)\n",
      "Collecting tensorflow-io-gcs-filesystem>=0.21.0\n",
      "  Downloading tensorflow_io_gcs_filesystem-0.25.0-cp39-cp39-manylinux_2_12_x86_64.manylinux2010_x86_64.whl (2.1 MB)\n",
      "\u001b[2K     \u001b[90m━━━━━━━━━━━━━━━━━━━━━━━━━━━━━━━━━━━━━━━━\u001b[0m \u001b[32m2.1/2.1 MB\u001b[0m \u001b[31m58.0 MB/s\u001b[0m eta \u001b[36m0:00:00\u001b[0m:00:01\u001b[0m\n",
      "\u001b[?25hRequirement already satisfied: flatbuffers<3.0,>=1.12 in /opt/conda/lib/python3.9/site-packages (from tensorflow==2.7.0) (1.12)\n",
      "Requirement already satisfied: gast<0.5.0,>=0.2.1 in /opt/conda/lib/python3.9/site-packages (from tensorflow==2.7.0) (0.4.0)\n",
      "Requirement already satisfied: astunparse>=1.6.0 in /opt/conda/lib/python3.9/site-packages (from tensorflow==2.7.0) (1.6.3)\n",
      "Requirement already satisfied: google-pasta>=0.1.1 in /opt/conda/lib/python3.9/site-packages (from tensorflow==2.7.0) (0.2.0)\n",
      "Requirement already satisfied: wheel<1.0,>=0.32.0 in /opt/conda/lib/python3.9/site-packages (from tensorflow==2.7.0) (0.37.1)\n",
      "Collecting libclang>=9.0.1\n",
      "  Downloading libclang-14.0.1-py2.py3-none-manylinux1_x86_64.whl (14.5 MB)\n",
      "\u001b[2K     \u001b[90m━━━━━━━━━━━━━━━━━━━━━━━━━━━━━━━━━━━━━━━━\u001b[0m \u001b[32m14.5/14.5 MB\u001b[0m \u001b[31m66.0 MB/s\u001b[0m eta \u001b[36m0:00:00\u001b[0m00:01\u001b[0m00:01\u001b[0m\n",
      "\u001b[?25hRequirement already satisfied: termcolor>=1.1.0 in /opt/conda/lib/python3.9/site-packages (from tensorflow==2.7.0) (1.1.0)\n",
      "Requirement already satisfied: h5py>=2.9.0 in /opt/conda/lib/python3.9/site-packages (from tensorflow==2.7.0) (3.1.0)\n",
      "Collecting keras<2.8,>=2.7.0rc0\n",
      "  Downloading keras-2.7.0-py2.py3-none-any.whl (1.3 MB)\n",
      "\u001b[2K     \u001b[90m━━━━━━━━━━━━━━━━━━━━━━━━━━━━━━━━━━━━━━━━\u001b[0m \u001b[32m1.3/1.3 MB\u001b[0m \u001b[31m55.5 MB/s\u001b[0m eta \u001b[36m0:00:00\u001b[0m\n",
      "\u001b[?25hRequirement already satisfied: typing-extensions>=3.6.6 in /opt/conda/lib/python3.9/site-packages (from tensorflow==2.7.0) (4.1.1)\n",
      "Requirement already satisfied: absl-py>=0.4.0 in /opt/conda/lib/python3.9/site-packages (from tensorflow==2.7.0) (0.15.0)\n",
      "Requirement already satisfied: setuptools>=41.0.0 in /opt/conda/lib/python3.9/site-packages (from tensorboard~=2.6->tensorflow==2.7.0) (60.9.3)\n",
      "Requirement already satisfied: markdown>=2.6.8 in /opt/conda/lib/python3.9/site-packages (from tensorboard~=2.6->tensorflow==2.7.0) (3.3.6)\n",
      "Requirement already satisfied: tensorboard-plugin-wit>=1.6.0 in /opt/conda/lib/python3.9/site-packages (from tensorboard~=2.6->tensorflow==2.7.0) (1.8.1)\n",
      "Requirement already satisfied: requests<3,>=2.21.0 in /opt/conda/lib/python3.9/site-packages (from tensorboard~=2.6->tensorflow==2.7.0) (2.26.0)\n",
      "Requirement already satisfied: werkzeug>=0.11.15 in /opt/conda/lib/python3.9/site-packages (from tensorboard~=2.6->tensorflow==2.7.0) (2.0.3)\n",
      "Requirement already satisfied: google-auth-oauthlib<0.5,>=0.4.1 in /opt/conda/lib/python3.9/site-packages (from tensorboard~=2.6->tensorflow==2.7.0) (0.4.6)\n",
      "Requirement already satisfied: tensorboard-data-server<0.7.0,>=0.6.0 in /opt/conda/lib/python3.9/site-packages (from tensorboard~=2.6->tensorflow==2.7.0) (0.6.1)\n",
      "Requirement already satisfied: google-auth<3,>=1.6.3 in /opt/conda/lib/python3.9/site-packages (from tensorboard~=2.6->tensorflow==2.7.0) (2.6.0)\n",
      "Requirement already satisfied: rsa<5,>=3.1.4 in /opt/conda/lib/python3.9/site-packages (from google-auth<3,>=1.6.3->tensorboard~=2.6->tensorflow==2.7.0) (4.8)\n",
      "Requirement already satisfied: cachetools<6.0,>=2.0.0 in /opt/conda/lib/python3.9/site-packages (from google-auth<3,>=1.6.3->tensorboard~=2.6->tensorflow==2.7.0) (5.0.0)\n",
      "Requirement already satisfied: pyasn1-modules>=0.2.1 in /opt/conda/lib/python3.9/site-packages (from google-auth<3,>=1.6.3->tensorboard~=2.6->tensorflow==2.7.0) (0.2.8)\n",
      "Requirement already satisfied: requests-oauthlib>=0.7.0 in /opt/conda/lib/python3.9/site-packages (from google-auth-oauthlib<0.5,>=0.4.1->tensorboard~=2.6->tensorflow==2.7.0) (1.3.1)\n",
      "Requirement already satisfied: importlib-metadata>=4.4 in /opt/conda/lib/python3.9/site-packages (from markdown>=2.6.8->tensorboard~=2.6->tensorflow==2.7.0) (4.11.2)\n",
      "Requirement already satisfied: charset-normalizer~=2.0.0 in /opt/conda/lib/python3.9/site-packages (from requests<3,>=2.21.0->tensorboard~=2.6->tensorflow==2.7.0) (2.0.12)\n",
      "Requirement already satisfied: urllib3<1.27,>=1.21.1 in /opt/conda/lib/python3.9/site-packages (from requests<3,>=2.21.0->tensorboard~=2.6->tensorflow==2.7.0) (1.26.7)\n",
      "Requirement already satisfied: idna<4,>=2.5 in /opt/conda/lib/python3.9/site-packages (from requests<3,>=2.21.0->tensorboard~=2.6->tensorflow==2.7.0) (2.10)\n",
      "Requirement already satisfied: certifi>=2017.4.17 in /opt/conda/lib/python3.9/site-packages (from requests<3,>=2.21.0->tensorboard~=2.6->tensorflow==2.7.0) (2021.10.8)\n",
      "Requirement already satisfied: zipp>=0.5 in /opt/conda/lib/python3.9/site-packages (from importlib-metadata>=4.4->markdown>=2.6.8->tensorboard~=2.6->tensorflow==2.7.0) (3.7.0)\n",
      "Requirement already satisfied: pyasn1<0.5.0,>=0.4.6 in /opt/conda/lib/python3.9/site-packages (from pyasn1-modules>=0.2.1->google-auth<3,>=1.6.3->tensorboard~=2.6->tensorflow==2.7.0) (0.4.8)\n",
      "Requirement already satisfied: oauthlib>=3.0.0 in /opt/conda/lib/python3.9/site-packages (from requests-oauthlib>=0.7.0->google-auth-oauthlib<0.5,>=0.4.1->tensorboard~=2.6->tensorflow==2.7.0) (3.2.0)\n",
      "Installing collected packages: tensorflow-estimator, libclang, keras, tensorflow-io-gcs-filesystem, tensorflow\n",
      "  Attempting uninstall: tensorflow-estimator\n",
      "    Found existing installation: tensorflow-estimator 2.8.0\n",
      "    Uninstalling tensorflow-estimator-2.8.0:\n",
      "      Successfully uninstalled tensorflow-estimator-2.8.0\n",
      "  Attempting uninstall: keras\n",
      "    Found existing installation: keras 2.6.0\n",
      "    Uninstalling keras-2.6.0:\n",
      "      Successfully uninstalled keras-2.6.0\n",
      "  Attempting uninstall: tensorflow\n",
      "    Found existing installation: tensorflow 2.6.0\n",
      "    Uninstalling tensorflow-2.6.0:\n",
      "      Successfully uninstalled tensorflow-2.6.0\n",
      "Successfully installed keras-2.7.0 libclang-14.0.1 tensorflow-2.7.0 tensorflow-estimator-2.7.0 tensorflow-io-gcs-filesystem-0.25.0\n",
      "\u001b[33mWARNING: Running pip as the 'root' user can result in broken permissions and conflicting behaviour with the system package manager. It is recommended to use a virtual environment instead: https://pip.pypa.io/warnings/venv\u001b[0m\u001b[33m\n",
      "\u001b[0mNote: you may need to restart the kernel to use updated packages.\n"
     ]
    }
   ],
   "source": [
    "pip install --upgrade tensorflow==2.7.0"
   ]
  },
  {
   "cell_type": "code",
   "execution_count": 29,
   "id": "cbb0aea8",
   "metadata": {},
   "outputs": [
    {
     "name": "stdout",
     "output_type": "stream",
     "text": [
      "\u001b[31mERROR: Could not find a version that satisfies the requirement tensorflow-gpu== (from versions: 2.5.0, 2.5.1, 2.5.2, 2.5.3, 2.6.0, 2.6.1, 2.6.2, 2.6.3, 2.7.0rc0, 2.7.0rc1, 2.7.0, 2.7.1, 2.8.0rc0, 2.8.0rc1, 2.8.0, 2.9.0rc0, 2.9.0rc1, 2.9.0rc2)\u001b[0m\u001b[31m\n",
      "\u001b[0m\u001b[31mERROR: No matching distribution found for tensorflow-gpu==\u001b[0m\u001b[31m\n",
      "\u001b[0m"
     ]
    }
   ],
   "source": [
    "!pip install tensorflow-gpu== 2.7.0"
   ]
  },
  {
   "cell_type": "code",
   "execution_count": 29,
   "id": "61211dbd",
   "metadata": {},
   "outputs": [],
   "source": [
    "#https://stackoverflow.com/questions/50056356/could-not-interpret-optimizer-identifier-error-in-kerasimport tensorflow as tf\n",
    "from keras.models import Sequential\n",
    "from keras.layers import Dense, Dropout, LSTM, BatchNormalization\n",
    "from keras.callbacks import TensorBoard\n",
    "from keras.callbacks import ModelCheckpoint\n",
    "#from keras.optimizers import adam\n",
    "import sys\n",
    "import os \n",
    "# from keras_adamw import AdamW\n",
    "from keras import backend as K\n",
    "# sys.path.append(os.pardir)\n",
    "# from keras_optimizers import AdamW\n",
    "#from keras_adamw import AdamW\n",
    "#from keras_adamw.optimizers import AdamW\n",
    "#from tensorflow.python.keras.optimizers import Adam\n",
    "#from keras_radam import RAdam\n",
    "#from keras.optimizers import adam\n",
    "from tensorflow_addons.optimizers import AdamW#weight_decay 씀\n",
    "from tensorflow.python.keras.metrics import Metric\n",
    "from tensorflow.python.ops import math_ops\n",
    "\n"
   ]
  },
  {
   "cell_type": "code",
   "execution_count": 48,
   "id": "0be19729",
   "metadata": {},
   "outputs": [],
   "source": [
    "# Custom vgg16 함수 \n",
    "# MAXpool2D 씀\n",
    "\n",
    "\n",
    "def VGG16():\n",
    "  # Initialize the model\n",
    "  model = Sequential()\n",
    "\n",
    "  # layer 1-2: 2 convolutional layers + 1 max-pooling layer \n",
    "  model.add(Conv2D(filters = 64, kernel_size = (3,3), padding = 'same', activation = 'relu', input_shape = (8,8,1)))\n",
    "  model.add(Conv2D(filters = 64, kernel_size = (3,3), padding = 'same', activation = 'relu'))\n",
    "  model.add(MaxPool2D(pool_size = (2,2), strides = (1,1), padding='valid')\n",
    "\n",
    "  # number of filters and convolutions in each layer:\n",
    "  filters_convs = [(128, 2), (256, 3), (512, 3), (512,3)]\n",
    "  \n",
    "  for n_filters, n_convs in filters_convs:\n",
    "    for _ in np.arange(n_convs):\n",
    "      model.add(Conv2D(filters = n_filters, kernel_size = (3,3), padding = 'same', activation = 'relu'))\n",
    "    # max-pooling layer \n",
    "    model.add(MaxPool2D(pool_size = (2,2), strides = (1,1), padding='valid')\n",
    "#tf.keras.layers.GlobalAveragePooling2D()\n",
    "  model.add(Flatten())\n",
    "  model.add(Dense(4096, activation = 'relu'))\n",
    "  model.add(Dropout(0.5))\n",
    "  model.add(Dense(4096, activation = 'relu'))\n",
    "  model.add(Dropout(0.5))\n",
    "  model.add(Dense(1000,activation = 'softmax'))\n",
    "\n",
    "  # compile the model with a loss function, a metric and an optimization method\n",
    "  opt = a01 # stochastic gradient descent method with learning rate lr = 0.01\n",
    "  model.compile(loss = categorical_crossentropy, \n",
    "                optimizer = opt, \n",
    "                metrics = ['accuracy'])\n",
    "  return model\n",
    "              \n",
    "              \n",
    "              "
   ]
  },
  {
   "cell_type": "code",
   "execution_count": 49,
   "id": "05f4cb02",
   "metadata": {},
   "outputs": [],
   "source": [
    "VGG16global = VGG16()"
   ]
  },
  {
   "cell_type": "code",
   "execution_count": 355,
   "id": "c548bc9c",
   "metadata": {},
   "outputs": [
    {
     "name": "stdout",
     "output_type": "stream",
     "text": [
      "Epoch 1/30\n",
      "20/20 [==============================] - 19s 884ms/step - loss: 1.8009 - accuracy: 0.1492\n",
      "Epoch 2/30\n",
      "20/20 [==============================] - 18s 882ms/step - loss: 1.7942 - accuracy: 0.1794\n",
      "Epoch 3/30\n",
      "20/20 [==============================] - 17s 874ms/step - loss: 1.7934 - accuracy: 0.1683\n",
      "Epoch 4/30\n",
      "20/20 [==============================] - 17s 863ms/step - loss: 1.7933 - accuracy: 0.1730\n",
      "Epoch 5/30\n",
      "20/20 [==============================] - 17s 846ms/step - loss: 1.7949 - accuracy: 0.1905\n",
      "Epoch 6/30\n",
      "20/20 [==============================] - 17s 846ms/step - loss: 1.7931 - accuracy: 0.1746\n",
      "Epoch 7/30\n",
      "20/20 [==============================] - 17s 859ms/step - loss: 1.7942 - accuracy: 0.2016\n",
      "Epoch 8/30\n",
      "20/20 [==============================] - 17s 847ms/step - loss: 1.7929 - accuracy: 0.1873\n",
      "Epoch 9/30\n",
      "20/20 [==============================] - 18s 878ms/step - loss: 1.7972 - accuracy: 0.1603\n",
      "Epoch 10/30\n",
      "20/20 [==============================] - 17s 874ms/step - loss: 1.7981 - accuracy: 0.1635\n",
      "Epoch 11/30\n",
      "20/20 [==============================] - 17s 857ms/step - loss: 1.7954 - accuracy: 0.1698\n",
      "Epoch 12/30\n",
      "20/20 [==============================] - 17s 844ms/step - loss: 1.7965 - accuracy: 0.1825\n",
      "Epoch 13/30\n",
      "20/20 [==============================] - 17s 851ms/step - loss: 1.7930 - accuracy: 0.1698\n",
      "Epoch 14/30\n",
      "20/20 [==============================] - 17s 869ms/step - loss: 1.7951 - accuracy: 0.1698\n",
      "Epoch 15/30\n",
      "20/20 [==============================] - 18s 891ms/step - loss: 1.7986 - accuracy: 0.1635\n",
      "Epoch 16/30\n",
      "20/20 [==============================] - 18s 897ms/step - loss: 1.7935 - accuracy: 0.1714\n",
      "Epoch 17/30\n",
      "20/20 [==============================] - 17s 845ms/step - loss: 1.7976 - accuracy: 0.1587\n",
      "Epoch 18/30\n",
      "20/20 [==============================] - 17s 846ms/step - loss: 1.7936 - accuracy: 0.1683\n",
      "Epoch 19/30\n",
      "20/20 [==============================] - 17s 866ms/step - loss: 1.7930 - accuracy: 0.1889\n",
      "Epoch 20/30\n",
      "20/20 [==============================] - 18s 895ms/step - loss: 1.7945 - accuracy: 0.1762\n",
      "Epoch 21/30\n",
      "20/20 [==============================] - 17s 842ms/step - loss: 1.7925 - accuracy: 0.1683\n",
      "Epoch 22/30\n",
      "20/20 [==============================] - 17s 857ms/step - loss: 1.7962 - accuracy: 0.1635\n",
      "Epoch 23/30\n",
      "20/20 [==============================] - 17s 841ms/step - loss: 1.7935 - accuracy: 0.1619\n",
      "Epoch 24/30\n",
      "20/20 [==============================] - 17s 839ms/step - loss: 1.7943 - accuracy: 0.1841\n",
      "Epoch 25/30\n",
      "20/20 [==============================] - 17s 846ms/step - loss: 1.7936 - accuracy: 0.1667\n",
      "Epoch 26/30\n",
      "20/20 [==============================] - 17s 838ms/step - loss: 1.7932 - accuracy: 0.1905\n",
      "Epoch 27/30\n",
      "20/20 [==============================] - 17s 835ms/step - loss: 1.7974 - accuracy: 0.1746\n",
      "Epoch 28/30\n",
      "20/20 [==============================] - 17s 842ms/step - loss: 1.7982 - accuracy: 0.1508\n",
      "Epoch 29/30\n",
      "20/20 [==============================] - 17s 844ms/step - loss: 1.7919 - accuracy: 0.1857\n",
      "Epoch 30/30\n",
      "20/20 [==============================] - 17s 848ms/step - loss: 1.7923 - accuracy: 0.1683\n",
      "5/5 - 0s - loss: 1.8134 - accuracy: 0.0963 - 401ms/epoch - 80ms/step\n"
     ]
    },
    {
     "data": {
      "image/png": "[encoded data removed]",
      "text/plain": [
       "<Figure size 432x288 with 2 Axes>"
      ]
     },
     "metadata": {
      "needs_background": "light"
     },
     "output_type": "display_data"
    }
   ],
   "source": [
    "#https://stackoverflow.com/questions/50056356/could-not-interpret-optimizer-identifier-error-in-kerasimport tensorflow as tf\n",
    "from keras.models import Sequential\n",
    "from keras.layers import Dense, Dropout, LSTM, BatchNormalization\n",
    "from keras.callbacks import TensorBoard\n",
    "from keras.callbacks import ModelCheckpoint\n",
    "#from keras.optimizers import adam\n",
    "import sys\n",
    "import os \n",
    "# from keras_adamw import AdamW\n",
    "from keras import backend as K\n",
    "# sys.path.append(os.pardir)\n",
    "# from keras_optimizers import AdamW\n",
    "#from keras_adamw import AdamW\n",
    "#from keras_adamw.optimizers import AdamW\n",
    "#from tensorflow.python.keras.optimizers import Adam\n",
    "#from keras_radam import RAdam\n",
    "#from keras.optimizers import adam\n",
    "from tensorflow_addons.optimizers import AdamW#weight_decay 씀\n",
    "from tensorflow.python.keras.metrics import Metric\n",
    "from tensorflow.python.ops import math_ops\n",
    "\n",
    "a01 = AdamW(learning_rate =0.001, beta_1=0.9, beta_2 = 0.999,amsgrad = True,\\\n",
    "                   #model = None,\n",
    "                   #use_cosine_annealing = True,\n",
    "                   #zero_penalties = 1,\n",
    "                   #lr_multipliers = None,\n",
    "                   #autorestart = 1,\n",
    "                   #eta_min = 0.2,\n",
    "                   #eta_max = 0.9,\n",
    "                   #t_cur = 2,\n",
    "                   weight_decay = 5e-4,\n",
    "                   #weight_decays=0.1,\n",
    "                   #total_iterations = 3,\n",
    "                   #init_verbose = 1,\n",
    "                   epsilon = 1e-07,\n",
    "                   \n",
    "                 )\n",
    "\n",
    "\n",
    "\n",
    "VGG16global.compile(optimizer = a01,\n",
    "             #loss = tf.keras.losses.SparseCategoricalCrossentropy(),\n",
    "             loss = 'sparse_categorical_crossentropy',\n",
    "             metrics = ['accuracy'])\n",
    "\n",
    "epoch_num= 30\n",
    "if is_global_feature:\n",
    "    hist = VGG16global.fit([local_X_train, global_X_train], y_train, epochs = epoch_num)\n",
    "    VGG16global.evaluate([local_X_train, global_X_train], y_test, verbose = 2)\n",
    "else:\n",
    "    hist = VGG16global.fit(local_X_train, y_train, epochs = epoch_num)\n",
    "    VGG16global.evaluate(local_X_test, y_test, verbose = 2)\n",
    "\n",
    "%matplotlib inline\n",
    "import matplotlib.pyplot as plt\n",
    "\n",
    "fig, loss_ax = plt.subplots()\n",
    "\n",
    "acc_ax = loss_ax.twinx()\n",
    "\n",
    "loss_ax.plot(hist.history['loss'], 'y', label='train loss')\n",
    "\n",
    "acc_ax.plot(hist.history['accuracy'], 'b', label='train acc')\n",
    "\n",
    "loss_ax.set_xlabel('epoch')\n",
    "loss_ax.set_ylabel('loss')\n",
    "acc_ax.set_ylabel('accuracy')\n",
    "\n",
    "loss_ax.legend(loc='upper left')\n",
    "acc_ax.legend(loc='lower left')\n",
    "\n",
    "plt.show()\n"
   ]
  },
  {
   "cell_type": "code",
   "execution_count": 115,
   "id": "223d776f",
   "metadata": {},
   "outputs": [],
   "source": [
    "def prelu(x, alpha): \n",
    "    return tf.maximum(tf.zeros(tf.shape(x)), x) + alpha * tf.minimum(tf.zeros(tf.shape(x)), x)"
   ]
  },
  {
   "cell_type": "code",
   "execution_count": 468,
   "id": "05557201",
   "metadata": {},
   "outputs": [],
   "source": [
    "\n",
    "def NiN():\n",
    "  # Initialize the model\n",
    "  model = Sequential()\n",
    "#keras.layers.advanced_activations.PReLU(init='zero', weights=None)\n",
    "  # block 1: \n",
    "    #activation code 수정, prelu 로 바꿈\n",
    "    \n",
    "  model.add(Conv2D(filters = 96, kernel_size = (11,11), strides = 3, activation = 'relu', input_shape = (32, 32, 1)))\n",
    "  model.add(Conv2D(filters = 96, kernel_size = (1,1), activation = 'relu' ))\n",
    "  model.add(Conv2D(filters = 96, kernel_size = (1,1),  activation = 'relu'))\n",
    "  #model.add(MaxPooling2D(pool_size = (3,3), strides = 2))\n",
    "  model.add(MaxPool2D(pool_size = (5,5), strides = (2,2), padding='same'))\n",
    "\n",
    "  # blocks 2-3: \n",
    "  # paras includes a sequence of parmaters (filters, kernel_size) \n",
    "  paras = [(256, (5,5)), (512, (3,3))]\n",
    "  for n_filters, kernel_size in paras: \n",
    "    model.add(Conv2D(filters = n_filters, kernel_size = kernel_size, padding = 'same', activation = keras.layers.ReLU( weights=None)))\n",
    "    model.add(Conv2D(filters = n_filters, kernel_size = (1,1),activation = 'relu'))\n",
    "    model.add(Conv2D(filters = n_filters, kernel_size = (1,1),activation = 'relu'))\n",
    "    model.add(MaxPooling2D(pool_size = (5,5), strides = (2,2), padding='same'))\n",
    "#     model.add(Conv2D(filters = n_filters, kernel_size = kernel_size, padding = 'same', activation = keras.layers.ReLU( weights=None)))\n",
    "#     model.add(Conv2D(filters = n_filters, kernel_size = (1,1),activation = 'relu'))\n",
    "#     model.add(Conv2D(filters = n_filters, kernel_size = (1,1),activation = 'relu'))\n",
    "#     model.add(MaxPooling2D(pool_size = (3,3), strides = (1,1), padding='same'))\n",
    "  \n",
    "  model.add(Dropout(0.5))\n",
    "\n",
    "  # block 4:\n",
    "  model.add(Conv2D(filters = 10, kernel_size = (3,3), padding = 'same', activation = 'relu'))\n",
    "  model.add(Conv2D(filters = 10, kernel_size = (1,1), activation = keras.layers.PReLU( weights=None),))\n",
    "  model.add(Conv2D(filters = 10, kernel_size = (1,1), activation = keras.layers.PReLU( weights=None),))\n",
    "\n",
    "\n",
    "  # Global Average pooling layer \n",
    "  model.add(GlobalAveragePooling2D())\n",
    "  model.add(Dense(1000, activation = 'softmax'))\n",
    "\n",
    "  # compile the model\n",
    "  opt = a01\n",
    "  model.compile(loss = categorical_crossentropy,\n",
    "                optimizer = opt, \n",
    "                metrics = ['accuracy'])\n",
    "  \n",
    "  return model"
   ]
  },
  {
   "cell_type": "code",
   "execution_count": 469,
   "id": "eec591c0",
   "metadata": {},
   "outputs": [],
   "source": [
    "nin = NiN()"
   ]
  },
  {
   "cell_type": "code",
   "execution_count": 548,
   "id": "9f980e48",
   "metadata": {},
   "outputs": [
    {
     "name": "stdout",
     "output_type": "stream",
     "text": [
      "Epoch 1/20\n",
      "20/20 [==============================] - 2s 69ms/step - loss: 1.7918 - accuracy: 0.1825\n",
      "Epoch 2/20\n",
      "20/20 [==============================] - 1s 61ms/step - loss: 1.7927 - accuracy: 0.1778\n",
      "Epoch 3/20\n",
      "20/20 [==============================] - 1s 60ms/step - loss: 1.7913 - accuracy: 0.1810\n",
      "Epoch 4/20\n",
      "20/20 [==============================] - 1s 61ms/step - loss: 1.7911 - accuracy: 0.1825\n",
      "Epoch 5/20\n",
      "20/20 [==============================] - 1s 63ms/step - loss: 1.7922 - accuracy: 0.1873\n",
      "Epoch 6/20\n",
      "20/20 [==============================] - 1s 62ms/step - loss: 1.7943 - accuracy: 0.1508\n",
      "Epoch 7/20\n",
      "20/20 [==============================] - 1s 59ms/step - loss: 1.7926 - accuracy: 0.1873\n",
      "Epoch 8/20\n",
      "20/20 [==============================] - 1s 62ms/step - loss: 1.7957 - accuracy: 0.1714\n",
      "Epoch 9/20\n",
      "20/20 [==============================] - 1s 61ms/step - loss: 1.7937 - accuracy: 0.1873\n",
      "Epoch 10/20\n",
      "20/20 [==============================] - 1s 62ms/step - loss: 1.7908 - accuracy: 0.1635\n",
      "Epoch 11/20\n",
      "20/20 [==============================] - 1s 60ms/step - loss: 1.7910 - accuracy: 0.1825\n",
      "Epoch 12/20\n",
      "20/20 [==============================] - 1s 61ms/step - loss: 1.7915 - accuracy: 0.1873\n",
      "Epoch 13/20\n",
      "20/20 [==============================] - 1s 66ms/step - loss: 1.7924 - accuracy: 0.1873\n",
      "Epoch 14/20\n",
      "20/20 [==============================] - 1s 60ms/step - loss: 1.7922 - accuracy: 0.1778\n",
      "Epoch 15/20\n",
      "20/20 [==============================] - 1s 67ms/step - loss: 1.7937 - accuracy: 0.1714\n",
      "Epoch 16/20\n",
      "20/20 [==============================] - 1s 61ms/step - loss: 1.7912 - accuracy: 0.1873\n",
      "Epoch 17/20\n",
      "20/20 [==============================] - 1s 61ms/step - loss: 1.7938 - accuracy: 0.1825\n",
      "Epoch 18/20\n",
      "20/20 [==============================] - 1s 73ms/step - loss: 1.7905 - accuracy: 0.1873\n",
      "Epoch 19/20\n",
      "20/20 [==============================] - 1s 71ms/step - loss: 1.7917 - accuracy: 0.1524\n",
      "Epoch 20/20\n",
      "20/20 [==============================] - 1s 66ms/step - loss: 1.7911 - accuracy: 0.1873\n",
      "5/5 - 0s - loss: 1.8065 - accuracy: 0.0963 - 207ms/epoch - 41ms/step\n"
     ]
    },
    {
     "data": {
      "image/png": "[encoded data removed]",
      "text/plain": [
       "<Figure size 432x288 with 2 Axes>"
      ]
     },
     "metadata": {
      "needs_background": "light"
     },
     "output_type": "display_data"
    }
   ],
   "source": [
    "nin.compile(optimizer = a01,\n",
    "             #loss = tf.keras.losses.SparseCategoricalCrossentropy(),\n",
    "             loss = 'sparse_categorical_crossentropy',\n",
    "             metrics = ['accuracy'])\n",
    "\n",
    "epoch_num= 20\n",
    "if is_global_feature:\n",
    "    hist = nin.fit([local_X_train, global_X_train], y_train, epochs = epoch_num)\n",
    "    nin.evaluate([local_X_train, global_X_train], y_test, verbose = 2)\n",
    "else:\n",
    "    hist = nin.fit(local_X_train, y_train, epochs = epoch_num)\n",
    "    nin.evaluate(local_X_test, y_test, verbose = 2)\n",
    "\n",
    "%matplotlib inline\n",
    "import matplotlib.pyplot as plt\n",
    "\n",
    "fig, loss_ax = plt.subplots()\n",
    "\n",
    "acc_ax = loss_ax.twinx()\n",
    "\n",
    "loss_ax.plot(hist.history['loss'], 'y', label='train loss')\n",
    "\n",
    "acc_ax.plot(hist.history['accuracy'], 'b', label='train acc')\n",
    "\n",
    "loss_ax.set_xlabel('epoch')\n",
    "loss_ax.set_ylabel('loss')\n",
    "acc_ax.set_ylabel('accuracy')\n",
    "\n",
    "loss_ax.legend(loc='upper left')\n",
    "acc_ax.legend(loc='lower left')\n",
    "\n",
    "plt.show()"
   ]
  },
  {
   "cell_type": "markdown",
   "id": "025763ca",
   "metadata": {},
   "source": [
    "# resnet 은 Loss 를 어떻게 설정해야 할까???"
   ]
  },
  {
   "cell_type": "code",
   "execution_count": 678,
   "id": "55b63b92",
   "metadata": {},
   "outputs": [
    {
     "name": "stdout",
     "output_type": "stream",
     "text": [
      "Collecting jupyterthemes\n",
      "  Downloading jupyterthemes-0.20.0-py2.py3-none-any.whl (7.0 MB)\n",
      "\u001b[2K     \u001b[90m━━━━━━━━━━━━━━━━━━━━━━━━━━━━━━━━━━━━━━━━\u001b[0m \u001b[32m7.0/7.0 MB\u001b[0m \u001b[31m3.6 MB/s\u001b[0m eta \u001b[36m0:00:00\u001b[0m00:01\u001b[0m00:01\u001b[0m\n",
      "\u001b[?25hRequirement already satisfied: notebook>=5.6.0 in /Users/parksunghun/opt/anaconda3/lib/python3.8/site-packages (from jupyterthemes) (6.4.6)\n",
      "Requirement already satisfied: jupyter-core in /Users/parksunghun/opt/anaconda3/lib/python3.8/site-packages (from jupyterthemes) (4.9.1)\n",
      "Collecting lesscpy>=0.11.2\n",
      "  Downloading lesscpy-0.15.0-py2.py3-none-any.whl (46 kB)\n",
      "\u001b[2K     \u001b[90m━━━━━━━━━━━━━━━━━━━━━━━━━━━━━━━━━━━━━━━━\u001b[0m \u001b[32m46.7/46.7 kB\u001b[0m \u001b[31m1.2 MB/s\u001b[0m eta \u001b[36m0:00:00\u001b[0m\n",
      "\u001b[?25hRequirement already satisfied: matplotlib>=1.4.3 in /Users/parksunghun/opt/anaconda3/lib/python3.8/site-packages (from jupyterthemes) (3.5.0)\n",
      "Requirement already satisfied: ipython>=5.4.1 in /Users/parksunghun/opt/anaconda3/lib/python3.8/site-packages (from jupyterthemes) (7.29.0)\n",
      "Requirement already satisfied: pickleshare in /Users/parksunghun/opt/anaconda3/lib/python3.8/site-packages (from ipython>=5.4.1->jupyterthemes) (0.7.5)\n",
      "Requirement already satisfied: setuptools>=18.5 in /Users/parksunghun/opt/anaconda3/lib/python3.8/site-packages (from ipython>=5.4.1->jupyterthemes) (60.5.0)\n",
      "Requirement already satisfied: pygments in /Users/parksunghun/opt/anaconda3/lib/python3.8/site-packages (from ipython>=5.4.1->jupyterthemes) (2.10.0)\n",
      "Requirement already satisfied: backcall in /Users/parksunghun/opt/anaconda3/lib/python3.8/site-packages (from ipython>=5.4.1->jupyterthemes) (0.2.0)\n",
      "Requirement already satisfied: traitlets>=4.2 in /Users/parksunghun/opt/anaconda3/lib/python3.8/site-packages (from ipython>=5.4.1->jupyterthemes) (5.1.1)\n",
      "Requirement already satisfied: decorator in /Users/parksunghun/opt/anaconda3/lib/python3.8/site-packages (from ipython>=5.4.1->jupyterthemes) (5.1.1)\n",
      "Requirement already satisfied: appnope in /Users/parksunghun/opt/anaconda3/lib/python3.8/site-packages (from ipython>=5.4.1->jupyterthemes) (0.1.2)\n",
      "Requirement already satisfied: pexpect>4.3 in /Users/parksunghun/opt/anaconda3/lib/python3.8/site-packages (from ipython>=5.4.1->jupyterthemes) (4.8.0)\n",
      "Requirement already satisfied: matplotlib-inline in /Users/parksunghun/opt/anaconda3/lib/python3.8/site-packages (from ipython>=5.4.1->jupyterthemes) (0.1.2)\n",
      "Requirement already satisfied: jedi>=0.16 in /Users/parksunghun/opt/anaconda3/lib/python3.8/site-packages (from ipython>=5.4.1->jupyterthemes) (0.18.1)\n",
      "Requirement already satisfied: prompt-toolkit!=3.0.0,!=3.0.1,<3.1.0,>=2.0.0 in /Users/parksunghun/opt/anaconda3/lib/python3.8/site-packages (from ipython>=5.4.1->jupyterthemes) (3.0.20)\n",
      "Requirement already satisfied: six in /Users/parksunghun/opt/anaconda3/lib/python3.8/site-packages (from lesscpy>=0.11.2->jupyterthemes) (1.16.0)\n",
      "Requirement already satisfied: ply in /Users/parksunghun/opt/anaconda3/lib/python3.8/site-packages (from lesscpy>=0.11.2->jupyterthemes) (3.11)\n",
      "Requirement already satisfied: pillow>=6.2.0 in /Users/parksunghun/opt/anaconda3/lib/python3.8/site-packages (from matplotlib>=1.4.3->jupyterthemes) (8.4.0)\n",
      "Requirement already satisfied: fonttools>=4.22.0 in /Users/parksunghun/opt/anaconda3/lib/python3.8/site-packages (from matplotlib>=1.4.3->jupyterthemes) (4.25.0)\n",
      "Requirement already satisfied: kiwisolver>=1.0.1 in /Users/parksunghun/opt/anaconda3/lib/python3.8/site-packages (from matplotlib>=1.4.3->jupyterthemes) (1.3.1)\n",
      "Requirement already satisfied: numpy>=1.17 in /Users/parksunghun/opt/anaconda3/lib/python3.8/site-packages (from matplotlib>=1.4.3->jupyterthemes) (1.22.1)\n",
      "Requirement already satisfied: python-dateutil>=2.7 in /Users/parksunghun/opt/anaconda3/lib/python3.8/site-packages (from matplotlib>=1.4.3->jupyterthemes) (2.8.2)\n",
      "Requirement already satisfied: pyparsing>=2.2.1 in /Users/parksunghun/opt/anaconda3/lib/python3.8/site-packages (from matplotlib>=1.4.3->jupyterthemes) (3.0.4)\n",
      "Requirement already satisfied: cycler>=0.10 in /Users/parksunghun/opt/anaconda3/lib/python3.8/site-packages (from matplotlib>=1.4.3->jupyterthemes) (0.11.0)\n",
      "Requirement already satisfied: packaging>=20.0 in /Users/parksunghun/opt/anaconda3/lib/python3.8/site-packages (from matplotlib>=1.4.3->jupyterthemes) (21.3)\n",
      "Requirement already satisfied: argon2-cffi in /Users/parksunghun/opt/anaconda3/lib/python3.8/site-packages (from notebook>=5.6.0->jupyterthemes) (20.1.0)\n",
      "Requirement already satisfied: jupyter-client>=5.3.4 in /Users/parksunghun/opt/anaconda3/lib/python3.8/site-packages (from notebook>=5.6.0->jupyterthemes) (6.1.12)\n",
      "Requirement already satisfied: nbformat in /Users/parksunghun/opt/anaconda3/lib/python3.8/site-packages (from notebook>=5.6.0->jupyterthemes) (5.1.3)\n",
      "Requirement already satisfied: nbconvert in /Users/parksunghun/opt/anaconda3/lib/python3.8/site-packages (from notebook>=5.6.0->jupyterthemes) (6.3.0)\n",
      "Requirement already satisfied: prometheus-client in /Users/parksunghun/opt/anaconda3/lib/python3.8/site-packages (from notebook>=5.6.0->jupyterthemes) (0.12.0)\n",
      "Requirement already satisfied: terminado>=0.8.3 in /Users/parksunghun/opt/anaconda3/lib/python3.8/site-packages (from notebook>=5.6.0->jupyterthemes) (0.9.4)\n",
      "Requirement already satisfied: ipykernel in /Users/parksunghun/opt/anaconda3/lib/python3.8/site-packages (from notebook>=5.6.0->jupyterthemes) (6.4.1)\n",
      "Requirement already satisfied: pyzmq>=17 in /Users/parksunghun/opt/anaconda3/lib/python3.8/site-packages (from notebook>=5.6.0->jupyterthemes) (22.3.0)\n",
      "Requirement already satisfied: nest-asyncio>=1.5 in /Users/parksunghun/opt/anaconda3/lib/python3.8/site-packages (from notebook>=5.6.0->jupyterthemes) (1.5.1)\n",
      "Requirement already satisfied: tornado>=6.1 in /Users/parksunghun/opt/anaconda3/lib/python3.8/site-packages (from notebook>=5.6.0->jupyterthemes) (6.1)\n",
      "Requirement already satisfied: jinja2 in /Users/parksunghun/opt/anaconda3/lib/python3.8/site-packages (from notebook>=5.6.0->jupyterthemes) (2.11.3)\n",
      "Requirement already satisfied: Send2Trash>=1.8.0 in /Users/parksunghun/opt/anaconda3/lib/python3.8/site-packages (from notebook>=5.6.0->jupyterthemes) (1.8.0)\n",
      "Requirement already satisfied: ipython-genutils in /Users/parksunghun/opt/anaconda3/lib/python3.8/site-packages (from notebook>=5.6.0->jupyterthemes) (0.2.0)\n",
      "Requirement already satisfied: parso<0.9.0,>=0.8.0 in /Users/parksunghun/opt/anaconda3/lib/python3.8/site-packages (from jedi>=0.16->ipython>=5.4.1->jupyterthemes) (0.8.3)\n",
      "Requirement already satisfied: ptyprocess>=0.5 in /Users/parksunghun/opt/anaconda3/lib/python3.8/site-packages (from pexpect>4.3->ipython>=5.4.1->jupyterthemes) (0.7.0)\n",
      "Requirement already satisfied: wcwidth in /Users/parksunghun/opt/anaconda3/lib/python3.8/site-packages (from prompt-toolkit!=3.0.0,!=3.0.1,<3.1.0,>=2.0.0->ipython>=5.4.1->jupyterthemes) (0.2.5)\n",
      "Requirement already satisfied: cffi>=1.0.0 in /Users/parksunghun/opt/anaconda3/lib/python3.8/site-packages (from argon2-cffi->notebook>=5.6.0->jupyterthemes) (1.15.0)\n",
      "Requirement already satisfied: debugpy<2.0,>=1.0.0 in /Users/parksunghun/opt/anaconda3/lib/python3.8/site-packages (from ipykernel->notebook>=5.6.0->jupyterthemes) (1.5.1)\n",
      "Requirement already satisfied: MarkupSafe>=0.23 in /Users/parksunghun/opt/anaconda3/lib/python3.8/site-packages (from jinja2->notebook>=5.6.0->jupyterthemes) (1.1.1)\n",
      "Requirement already satisfied: mistune<2,>=0.8.1 in /Users/parksunghun/opt/anaconda3/lib/python3.8/site-packages (from nbconvert->notebook>=5.6.0->jupyterthemes) (0.8.4)\n",
      "Requirement already satisfied: nbclient<0.6.0,>=0.5.0 in /Users/parksunghun/opt/anaconda3/lib/python3.8/site-packages (from nbconvert->notebook>=5.6.0->jupyterthemes) (0.5.3)\n",
      "Requirement already satisfied: jupyterlab-pygments in /Users/parksunghun/opt/anaconda3/lib/python3.8/site-packages (from nbconvert->notebook>=5.6.0->jupyterthemes) (0.1.2)\n",
      "Requirement already satisfied: bleach in /Users/parksunghun/opt/anaconda3/lib/python3.8/site-packages (from nbconvert->notebook>=5.6.0->jupyterthemes) (4.1.0)\n",
      "Requirement already satisfied: entrypoints>=0.2.2 in /Users/parksunghun/opt/anaconda3/lib/python3.8/site-packages (from nbconvert->notebook>=5.6.0->jupyterthemes) (0.3)\n",
      "Requirement already satisfied: pandocfilters>=1.4.1 in /Users/parksunghun/opt/anaconda3/lib/python3.8/site-packages (from nbconvert->notebook>=5.6.0->jupyterthemes) (1.5.0)\n",
      "Requirement already satisfied: defusedxml in /Users/parksunghun/opt/anaconda3/lib/python3.8/site-packages (from nbconvert->notebook>=5.6.0->jupyterthemes) (0.7.1)\n",
      "Requirement already satisfied: testpath in /Users/parksunghun/opt/anaconda3/lib/python3.8/site-packages (from nbconvert->notebook>=5.6.0->jupyterthemes) (0.5.0)\n",
      "Requirement already satisfied: jsonschema!=2.5.0,>=2.4 in /Users/parksunghun/opt/anaconda3/lib/python3.8/site-packages (from nbformat->notebook>=5.6.0->jupyterthemes) (3.2.0)\n",
      "Requirement already satisfied: pycparser in /Users/parksunghun/opt/anaconda3/lib/python3.8/site-packages (from cffi>=1.0.0->argon2-cffi->notebook>=5.6.0->jupyterthemes) (2.21)\n",
      "Requirement already satisfied: pyrsistent>=0.14.0 in /Users/parksunghun/opt/anaconda3/lib/python3.8/site-packages (from jsonschema!=2.5.0,>=2.4->nbformat->notebook>=5.6.0->jupyterthemes) (0.18.0)\n",
      "Requirement already satisfied: attrs>=17.4.0 in /Users/parksunghun/opt/anaconda3/lib/python3.8/site-packages (from jsonschema!=2.5.0,>=2.4->nbformat->notebook>=5.6.0->jupyterthemes) (21.4.0)\n",
      "Requirement already satisfied: async-generator in /Users/parksunghun/opt/anaconda3/lib/python3.8/site-packages (from nbclient<0.6.0,>=0.5.0->nbconvert->notebook>=5.6.0->jupyterthemes) (1.10)\n",
      "Requirement already satisfied: webencodings in /Users/parksunghun/opt/anaconda3/lib/python3.8/site-packages (from bleach->nbconvert->notebook>=5.6.0->jupyterthemes) (0.5.1)\n",
      "Installing collected packages: lesscpy, jupyterthemes\n",
      "Successfully installed jupyterthemes-0.20.0 lesscpy-0.15.0\n"
     ]
    }
   ],
   "source": [
    "!pip install jupyterthemes\n"
   ]
  },
  {
   "cell_type": "code",
   "execution_count": 679,
   "id": "fd555221",
   "metadata": {},
   "outputs": [],
   "source": [
    "!jt -t gruvboxl -TN"
   ]
  },
  {
   "cell_type": "code",
   "execution_count": 726,
   "id": "2bc3e06c",
   "metadata": {},
   "outputs": [],
   "source": [
    "# resnet07\n",
    "image_size = 32\n",
    "\n",
    "\n",
    "local_input = Input(shape = (image_size, image_size, filter_num+1), name = 'Local_feature_Input')\n",
    "\n",
    "x = Conv2D(64, (7,7), activation = 'relu', padding = 'same', name = 'block1_conv1')(local_input)\n",
    "x = MaxPool2D((3,3), strides = (2,2), name = 'block1_pool')(x)\n",
    "x = IdentityBlock(64, 1, name = 'id1')(x)\n",
    "x = IdentityBlock(64, 3, name = 'id2')(x)\n",
    "x = IdentityBlock(64, 1, name = 'id3')(x)\n",
    "x = IdentityBlock(64, 3, name = 'id4')(x)\n",
    "\n",
    "# # Local feature + Global feature 사용\n",
    "if is_global_feature: \n",
    "#     # Concatenation block\n",
    "#     x = Flatten(name = 'flatten')(x)\n",
    "#     global_input = Input(shape = (len(global_X_train.columns)), name = 'Global feature Input')\n",
    "#     concat = concatenate([x, global_input], name = 'Feature_concatenation')\n",
    "    \n",
    "#     # Final block\n",
    "# #     x = Dense(1024, activation = 'relu', name = 'fc1')(concat)  # 초기값 4096\n",
    "    output = GlobalAveragePooling2D()(x)  # 초기값 4096\n",
    "    prediction = Dense(classes_num, activation = 'softmax', name = 'prediction')(output)\n",
    "    resnet_model = Model(inputs = [local_input, global_input], outputs = prediction, name = 'resnet_model')\n",
    "\n",
    "\n",
    "# Local feature만 사용.\n",
    "else:\n",
    "    output = GlobalAveragePooling2D()(x)  # 초기값 4096\n",
    "    prediction = Dense(classes_num, activation = 'softmax', name = 'prediction')(output)  \n",
    "    resnet_model = Model(inputs = local_input, outputs = prediction, name = 'resnet_model')\n",
    "\n",
    "\n",
    "\n",
    "# self.id1a = IdentityBlock(64, 3)\n",
    "# self.id1b = IdentityBlock(64, 3)\n",
    "# self.global_pool = tf.keras.layers.GlobalAveragePooling2D()\n",
    "# self.classifier = tf.keras.layers.Dense(num_classes, activation='softmax')\n",
    "\n",
    "# #output = Dense(1024, activation = 'relu', name = 'fc2')(x)  # 초기값 4096"
   ]
  },
  {
   "cell_type": "code",
   "execution_count": 727,
   "id": "81d9965d",
   "metadata": {},
   "outputs": [],
   "source": [
    "from tensorflow.keras import layers\n",
    "\n",
    "# resnet152 = ResNet(6)\n",
    "resnet_model.compile(optimizer= a01, loss= 'sparse_categorical_crossentropy',\n",
    "metrics=['acc'])\n",
    "\n",
    "\n",
    "\n"
   ]
  },
  {
   "cell_type": "code",
   "execution_count": 770,
   "id": "22c41098",
   "metadata": {},
   "outputs": [
    {
     "name": "stdout",
     "output_type": "stream",
     "text": [
      "Epoch 1/100\n",
      "20/20 [==============================] - 6s 113ms/step - loss: 0.4563 - accuracy: 0.8175\n",
      "Epoch 2/100\n",
      "20/20 [==============================] - 2s 119ms/step - loss: 0.3860 - accuracy: 0.8508\n",
      "Epoch 3/100\n",
      "20/20 [==============================] - 2s 114ms/step - loss: 0.2982 - accuracy: 0.8952\n",
      "Epoch 4/100\n",
      "20/20 [==============================] - 2s 111ms/step - loss: 0.3100 - accuracy: 0.8889\n",
      "Epoch 5/100\n",
      "20/20 [==============================] - 2s 109ms/step - loss: 0.2763 - accuracy: 0.8984\n",
      "Epoch 6/100\n",
      "20/20 [==============================] - 2s 111ms/step - loss: 0.2552 - accuracy: 0.8984\n",
      "Epoch 7/100\n",
      "20/20 [==============================] - 2s 114ms/step - loss: 0.2947 - accuracy: 0.8952\n",
      "Epoch 8/100\n",
      "20/20 [==============================] - 2s 117ms/step - loss: 0.2491 - accuracy: 0.9000\n",
      "Epoch 9/100\n",
      "20/20 [==============================] - 2s 118ms/step - loss: 0.2513 - accuracy: 0.8968\n",
      "Epoch 10/100\n",
      "20/20 [==============================] - 2s 112ms/step - loss: 0.2429 - accuracy: 0.9032\n",
      "Epoch 11/100\n",
      "20/20 [==============================] - 2s 122ms/step - loss: 0.2166 - accuracy: 0.9143\n",
      "Epoch 12/100\n",
      "20/20 [==============================] - 2s 117ms/step - loss: 0.2133 - accuracy: 0.9111\n",
      "Epoch 13/100\n",
      "20/20 [==============================] - 2s 118ms/step - loss: 0.2478 - accuracy: 0.9095\n",
      "Epoch 14/100\n",
      "20/20 [==============================] - 2s 124ms/step - loss: 0.2450 - accuracy: 0.9127\n",
      "Epoch 15/100\n",
      "20/20 [==============================] - 2s 115ms/step - loss: 0.2305 - accuracy: 0.9127\n",
      "Epoch 16/100\n",
      "20/20 [==============================] - 2s 116ms/step - loss: 0.2288 - accuracy: 0.9095\n",
      "Epoch 17/100\n",
      "20/20 [==============================] - 2s 113ms/step - loss: 0.2059 - accuracy: 0.9143\n",
      "Epoch 18/100\n",
      "20/20 [==============================] - 2s 115ms/step - loss: 0.2122 - accuracy: 0.9159\n",
      "Epoch 19/100\n",
      "20/20 [==============================] - 2s 117ms/step - loss: 0.2163 - accuracy: 0.9063\n",
      "Epoch 20/100\n",
      "20/20 [==============================] - 2s 118ms/step - loss: 0.2005 - accuracy: 0.9206\n",
      "Epoch 21/100\n",
      "20/20 [==============================] - 2s 118ms/step - loss: 0.2303 - accuracy: 0.9063\n",
      "Epoch 22/100\n",
      "20/20 [==============================] - 2s 121ms/step - loss: 0.2468 - accuracy: 0.9063\n",
      "Epoch 23/100\n",
      "20/20 [==============================] - 2s 116ms/step - loss: 0.2960 - accuracy: 0.8794\n",
      "Epoch 24/100\n",
      "20/20 [==============================] - 2s 116ms/step - loss: 0.3875 - accuracy: 0.8571\n",
      "Epoch 25/100\n",
      "20/20 [==============================] - 2s 117ms/step - loss: 0.3716 - accuracy: 0.8492\n",
      "Epoch 26/100\n",
      "20/20 [==============================] - 2s 118ms/step - loss: 0.3854 - accuracy: 0.8476\n",
      "Epoch 27/100\n",
      "20/20 [==============================] - 2s 117ms/step - loss: 0.3940 - accuracy: 0.8587\n",
      "Epoch 28/100\n",
      "20/20 [==============================] - 2s 118ms/step - loss: 0.5223 - accuracy: 0.7921\n",
      "Epoch 29/100\n",
      "20/20 [==============================] - 2s 113ms/step - loss: 0.5993 - accuracy: 0.7937\n",
      "Epoch 30/100\n",
      "20/20 [==============================] - 2s 112ms/step - loss: 0.5861 - accuracy: 0.7778\n",
      "Epoch 31/100\n",
      "20/20 [==============================] - 2s 114ms/step - loss: 0.4943 - accuracy: 0.8175\n",
      "Epoch 32/100\n",
      "20/20 [==============================] - 2s 118ms/step - loss: 0.4125 - accuracy: 0.8302\n",
      "Epoch 33/100\n",
      "20/20 [==============================] - 2s 118ms/step - loss: 0.3463 - accuracy: 0.8746\n",
      "Epoch 34/100\n",
      "20/20 [==============================] - 2s 115ms/step - loss: 0.2863 - accuracy: 0.8857\n",
      "Epoch 35/100\n",
      "20/20 [==============================] - 2s 116ms/step - loss: 0.2623 - accuracy: 0.9016\n",
      "Epoch 36/100\n",
      "20/20 [==============================] - 2s 112ms/step - loss: 0.2428 - accuracy: 0.9159\n",
      "Epoch 37/100\n",
      "20/20 [==============================] - 2s 113ms/step - loss: 0.2197 - accuracy: 0.9143\n",
      "Epoch 38/100\n",
      "20/20 [==============================] - 2s 111ms/step - loss: 0.2222 - accuracy: 0.9127\n",
      "Epoch 39/100\n",
      "20/20 [==============================] - 2s 112ms/step - loss: 0.2131 - accuracy: 0.9175\n",
      "Epoch 40/100\n",
      "20/20 [==============================] - 2s 115ms/step - loss: 0.1953 - accuracy: 0.9286\n",
      "Epoch 41/100\n",
      "20/20 [==============================] - 2s 112ms/step - loss: 0.1932 - accuracy: 0.9206\n",
      "Epoch 42/100\n",
      "20/20 [==============================] - 2s 111ms/step - loss: 0.2066 - accuracy: 0.9143\n",
      "Epoch 43/100\n",
      "20/20 [==============================] - 2s 110ms/step - loss: 0.1937 - accuracy: 0.9254\n",
      "Epoch 44/100\n",
      "20/20 [==============================] - 2s 114ms/step - loss: 0.1984 - accuracy: 0.9111\n",
      "Epoch 45/100\n",
      "20/20 [==============================] - 2s 118ms/step - loss: 0.1923 - accuracy: 0.9190\n",
      "Epoch 46/100\n",
      "20/20 [==============================] - 2s 117ms/step - loss: 0.1817 - accuracy: 0.9286\n",
      "Epoch 47/100\n",
      "20/20 [==============================] - 2s 117ms/step - loss: 0.1834 - accuracy: 0.9238\n",
      "Epoch 48/100\n",
      "20/20 [==============================] - 2s 115ms/step - loss: 0.2018 - accuracy: 0.9238\n",
      "Epoch 49/100\n",
      "20/20 [==============================] - 2s 115ms/step - loss: 0.2121 - accuracy: 0.9175\n",
      "Epoch 50/100\n",
      "20/20 [==============================] - 2s 115ms/step - loss: 0.1850 - accuracy: 0.9254\n",
      "Epoch 51/100\n",
      "20/20 [==============================] - 2s 112ms/step - loss: 0.1817 - accuracy: 0.9365\n",
      "Epoch 52/100\n",
      "20/20 [==============================] - 2s 119ms/step - loss: 0.1876 - accuracy: 0.9333\n",
      "Epoch 53/100\n",
      "20/20 [==============================] - 2s 113ms/step - loss: 0.1783 - accuracy: 0.9254\n",
      "Epoch 54/100\n",
      "20/20 [==============================] - 2s 113ms/step - loss: 0.2240 - accuracy: 0.9111\n",
      "Epoch 55/100\n",
      "20/20 [==============================] - 2s 115ms/step - loss: 0.2135 - accuracy: 0.9159\n",
      "Epoch 56/100\n",
      "20/20 [==============================] - 2s 113ms/step - loss: 0.2002 - accuracy: 0.9317\n",
      "Epoch 57/100\n",
      "20/20 [==============================] - 2s 112ms/step - loss: 0.1949 - accuracy: 0.9238\n",
      "Epoch 58/100\n",
      "20/20 [==============================] - 2s 113ms/step - loss: 0.1838 - accuracy: 0.9317\n",
      "Epoch 59/100\n",
      "20/20 [==============================] - 2s 116ms/step - loss: 0.2042 - accuracy: 0.9238\n",
      "Epoch 60/100\n",
      "20/20 [==============================] - 3s 133ms/step - loss: 0.2061 - accuracy: 0.9286\n",
      "Epoch 61/100\n",
      "20/20 [==============================] - 2s 118ms/step - loss: 0.1776 - accuracy: 0.9413\n",
      "Epoch 62/100\n",
      "20/20 [==============================] - 2s 120ms/step - loss: 0.1961 - accuracy: 0.9190\n",
      "Epoch 63/100\n",
      "20/20 [==============================] - 2s 124ms/step - loss: 0.1946 - accuracy: 0.9238\n",
      "Epoch 64/100\n",
      "20/20 [==============================] - 2s 111ms/step - loss: 0.1915 - accuracy: 0.9254\n",
      "Epoch 65/100\n",
      "20/20 [==============================] - 2s 112ms/step - loss: 0.2073 - accuracy: 0.9222\n",
      "Epoch 66/100\n",
      "20/20 [==============================] - 2s 111ms/step - loss: 0.2135 - accuracy: 0.9095\n",
      "Epoch 67/100\n",
      "20/20 [==============================] - 2s 110ms/step - loss: 0.2342 - accuracy: 0.9111\n",
      "Epoch 68/100\n",
      "20/20 [==============================] - 2s 111ms/step - loss: 0.2485 - accuracy: 0.9000\n",
      "Epoch 69/100\n",
      "20/20 [==============================] - 2s 111ms/step - loss: 0.3200 - accuracy: 0.8778\n",
      "Epoch 70/100\n",
      "20/20 [==============================] - 2s 111ms/step - loss: 0.5100 - accuracy: 0.8143\n",
      "Epoch 71/100\n",
      "20/20 [==============================] - 2s 111ms/step - loss: 0.5941 - accuracy: 0.7921\n",
      "Epoch 72/100\n",
      "20/20 [==============================] - 2s 110ms/step - loss: 0.7419 - accuracy: 0.7063\n",
      "Epoch 73/100\n",
      "20/20 [==============================] - 2s 112ms/step - loss: 0.7778 - accuracy: 0.7111\n",
      "Epoch 74/100\n",
      "20/20 [==============================] - 2s 111ms/step - loss: 0.7237 - accuracy: 0.7381\n",
      "Epoch 75/100\n",
      "20/20 [==============================] - 2s 110ms/step - loss: 0.5235 - accuracy: 0.8143\n",
      "Epoch 76/100\n",
      "20/20 [==============================] - 2s 113ms/step - loss: 0.3895 - accuracy: 0.8508\n",
      "Epoch 77/100\n",
      "20/20 [==============================] - 2s 111ms/step - loss: 0.3366 - accuracy: 0.8810\n",
      "Epoch 78/100\n",
      "20/20 [==============================] - 2s 113ms/step - loss: 0.3232 - accuracy: 0.8730\n",
      "Epoch 79/100\n",
      "20/20 [==============================] - 2s 113ms/step - loss: 0.2967 - accuracy: 0.8841\n",
      "Epoch 80/100\n",
      "20/20 [==============================] - 2s 112ms/step - loss: 0.2526 - accuracy: 0.9143\n",
      "Epoch 81/100\n",
      "20/20 [==============================] - 2s 112ms/step - loss: 0.2202 - accuracy: 0.9175\n",
      "Epoch 82/100\n",
      "20/20 [==============================] - 2s 111ms/step - loss: 0.2253 - accuracy: 0.9063\n",
      "Epoch 83/100\n",
      "20/20 [==============================] - 2s 113ms/step - loss: 0.2311 - accuracy: 0.9111\n",
      "Epoch 84/100\n",
      "20/20 [==============================] - 2s 109ms/step - loss: 0.2084 - accuracy: 0.9365\n",
      "Epoch 85/100\n",
      "20/20 [==============================] - 2s 111ms/step - loss: 0.2044 - accuracy: 0.9270\n",
      "Epoch 86/100\n",
      "20/20 [==============================] - 2s 115ms/step - loss: 0.2411 - accuracy: 0.9079\n",
      "Epoch 87/100\n",
      "20/20 [==============================] - 2s 117ms/step - loss: 0.2077 - accuracy: 0.9159\n",
      "Epoch 88/100\n",
      "20/20 [==============================] - 2s 114ms/step - loss: 0.2071 - accuracy: 0.9159\n",
      "Epoch 89/100\n",
      "20/20 [==============================] - 2s 113ms/step - loss: 0.1950 - accuracy: 0.9254\n",
      "Epoch 90/100\n",
      "20/20 [==============================] - 2s 111ms/step - loss: 0.1894 - accuracy: 0.9206\n",
      "Epoch 91/100\n",
      "20/20 [==============================] - 2s 109ms/step - loss: 0.1877 - accuracy: 0.9270\n",
      "Epoch 92/100\n",
      "20/20 [==============================] - 3s 127ms/step - loss: 0.1832 - accuracy: 0.9302\n",
      "Epoch 93/100\n",
      "20/20 [==============================] - 2s 110ms/step - loss: 0.1788 - accuracy: 0.9206\n",
      "Epoch 94/100\n",
      "20/20 [==============================] - 2s 112ms/step - loss: 0.1696 - accuracy: 0.9270\n",
      "Epoch 95/100\n",
      "20/20 [==============================] - 2s 122ms/step - loss: 0.1530 - accuracy: 0.9460\n",
      "Epoch 96/100\n",
      "20/20 [==============================] - 3s 137ms/step - loss: 0.1606 - accuracy: 0.9254\n",
      "Epoch 97/100\n",
      "20/20 [==============================] - 2s 122ms/step - loss: 0.1643 - accuracy: 0.9365\n",
      "Epoch 98/100\n",
      "20/20 [==============================] - 2s 118ms/step - loss: 0.1628 - accuracy: 0.9349\n",
      "Epoch 99/100\n",
      "20/20 [==============================] - 2s 113ms/step - loss: 0.1511 - accuracy: 0.9524\n",
      "Epoch 100/100\n",
      "20/20 [==============================] - 2s 115ms/step - loss: 0.1609 - accuracy: 0.9349\n",
      "5/5 - 0s - loss: 4.6267 - accuracy: 0.1630 - 462ms/epoch - 92ms/step\n"
     ]
    },
    {
     "data": {
      "image/png": "[encoded data removed]",
      "text/plain": [
       "<Figure size 432x288 with 2 Axes>"
      ]
     },
     "metadata": {
      "needs_background": "light"
     },
     "output_type": "display_data"
    }
   ],
   "source": [
    "resnet_model.compile(optimizer = a01,\n",
    "             #loss = tf.keras.losses.SparseCategoricalCrossentropy(),\n",
    "             loss = 'sparse_categorical_crossentropy',\n",
    "             metrics = ['accuracy'])\n",
    "\n",
    "epoch_num= 100\n",
    "if is_global_feature:\n",
    "    hist = resnet_model.fit([local_X_train, global_X_train], y_train, epochs = epoch_num)\n",
    "    resnet_model.evaluate([local_X_train, global_X_train], y_test, verbose = 2)\n",
    "else:\n",
    "    hist = resnet_model.fit(local_X_train, y_train, epochs = epoch_num)\n",
    "    resnet_model.evaluate(local_X_test, y_test, verbose = 2)\n",
    "\n",
    "%matplotlib inline\n",
    "import matplotlib.pyplot as plt\n",
    "\n",
    "fig, loss_ax = plt.subplots()\n",
    "\n",
    "acc_ax = loss_ax.twinx()\n",
    "\n",
    "loss_ax.plot(hist.history['loss'], 'y', label='train loss')\n",
    "\n",
    "acc_ax.plot(hist.history['accuracy'], 'b', label='train acc')\n",
    "\n",
    "loss_ax.set_xlabel('epoch')\n",
    "loss_ax.set_ylabel('loss')\n",
    "acc_ax.set_ylabel('accuracy')\n",
    "\n",
    "loss_ax.legend(loc='upper left')\n",
    "acc_ax.legend(loc='lower left')\n",
    "\n",
    "plt.show()"
   ]
  },
  {
   "cell_type": "code",
   "execution_count": 722,
   "id": "76f89211",
   "metadata": {},
   "outputs": [],
   "source": [
    "# Identity Block\n",
    "class IdentityBlock(tf.keras.Model):\n",
    "    def __init__(self, filters, kernel_size, name):\n",
    "        super(IdentityBlock, self).__init__(name= name)\n",
    "        self.conv1 = tf.keras.layers.Conv2D(filters, kernel_size, padding='same')\n",
    "        self.bn1 = tf.keras.layers.BatchNormalization()\n",
    "        self.conv2 = tf.keras.layers.Conv2D(filters, kernel_size, padding='same')\n",
    "        self.bn2 = tf.keras.layers.BatchNormalization()\n",
    "        self.relu = tf.keras.layers.Activation('relu')\n",
    "        self.add = tf.keras.layers.Add()\n",
    "    def call(self, inputs):\n",
    "        x = self.conv1(inputs)\n",
    "        x = self.bn1(x)\n",
    "        x = self.relu(x)\n",
    "        x = self.conv2(x)\n",
    "        x = self.bn2(x)\n",
    "        x = self.add([x, inputs])\n",
    "        x = self.relu(x)\n",
    "        return x\n",
    " # call 함수를 통해서 computation을 구현합니다. \n",
    " # 계산 마지막 즈음에 inputs이 더해져서 출력이 되고 있는 것을 확인할 수 있습니다.\n"
   ]
  },
  {
   "cell_type": "code",
   "execution_count": 693,
   "id": "b63cdad5",
   "metadata": {},
   "outputs": [],
   "source": [
    "# Identity Block\n",
    "class IdentityBlock2(tf.keras.Model):\n",
    "    def __init__(self, filters, kernel_size):\n",
    "        super(IdentityBlock, self).__init__(name='')\n",
    "        self.conv1 = tf.keras.layers.Conv2D(filters, kernel_size, padding='same')\n",
    "        self.bn1 = tf.keras.layers.BatchNormalization()\n",
    "        self.conv2 = tf.keras.layers.Conv2D(filters, kernel_size, padding='same')\n",
    "        self.bn2 = tf.keras.layers.BatchNormalization()\n",
    "        self.relu = tf.keras.layers.Activation('relu')\n",
    "        self.add = tf.keras.layers.Add()\n",
    "    def call(self, inputs):\n",
    "        x = self.conv1(inputs)\n",
    "        x = self.bn1(x)\n",
    "        x = self.relu(x)\n",
    "        x = self.conv2(x)\n",
    "        x = self.bn2(x)\n",
    "        x = self.add([x, inputs])\n",
    "        x = self.relu(x)\n",
    "        return x\n",
    " # call 함수를 통해서 computation을 구현합니다. \n",
    " # 계산 마지막 즈음에 inputs이 더해져서 출력이 되고 있는 것을 확인할 수 있습니다.\n"
   ]
  },
  {
   "cell_type": "code",
   "execution_count": 698,
   "id": "bc6a9796",
   "metadata": {},
   "outputs": [],
   "source": [
    "from keras.layers.core import Activation\n",
    "def NiN():\n",
    "  # Initialize the model\n",
    "  model = Sequential()\n",
    "#keras.layers.advanced_activations.PReLU(init='zero', weights=None)\n",
    "  # block 1: \n",
    "    #activation code 수정, prelu 로 바꿈\n",
    "    \n",
    "  model.add(Conv2D(filters = 96, kernel_size = (11,11), strides = 3, activation = 'relu', input_shape = (32, 32, 1)))\n",
    "  model.add(Conv2D(filters = 96, kernel_size = (1,1), activation = 'relu' ))\n",
    "  model.add(Conv2D(filters = 96, kernel_size = (1,1),  activation = 'relu'))\n",
    "  #model.add(MaxPooling2D(pool_size = (3,3), strides = 2))\n",
    "  model.add(MaxPool2D(pool_size = (5,5), strides = (2,2), padding='same'))\n",
    "\n",
    "  # blocks 2-3: \n",
    "  # paras includes a sequence of parmaters (filters, kernel_size) \n",
    "  paras = [(256, (5,5)), (512, (3,3))]\n",
    "  for n_filters, kernel_size in paras: \n",
    "    model.add(Conv2D(filters = n_filters, kernel_size = kernel_size, padding = 'same', activation = keras.layers.ReLU( weights=None)))\n",
    "    model.add(Conv2D(filters = n_filters, kernel_size = (1,1),activation = 'relu'))\n",
    "    model.add(Conv2D(filters = n_filters, kernel_size = (1,1),activation = 'relu'))\n",
    "    model.add(MaxPooling2D(pool_size = (5,5), strides = (2,2), padding='same'))\n",
    "#     model.add(Conv2D(filters = n_filters, kernel_size = kernel_size, padding = 'same', activation = keras.layers.ReLU( weights=None)))\n",
    "#     model.add(Conv2D(filters = n_filters, kernel_size = (1,1),activation = 'relu'))\n",
    "#     model.add(Conv2D(filters = n_filters, kernel_size = (1,1),activation = 'relu'))\n",
    "#     model.add(MaxPooling2D(pool_size = (3,3), strides = (1,1), padding='same'))\n",
    "  \n",
    "  model.add(Dropout(0.5))\n",
    "\n",
    "  # block 4:\n",
    "  model.add(Conv2D(filters = 10, kernel_size = (3,3), padding = 'same', activation = 'relu'))\n",
    "  model.add(Conv2D(filters = 10, kernel_size = (1,1), activation = keras.layers.PReLU( weights=None),))\n",
    "  model.add(Conv2D(filters = 10, kernel_size = (1,1), activation = keras.layers.PReLU( weights=None),))\n",
    "\n",
    "\n",
    "  # Global Average pooling layer \n",
    "  model.add(GlobalAveragePooling2D())\n",
    "  model.add(Dense(1000, activation = 'softmax'))\n",
    "\n",
    "  # compile the model\n",
    "  opt = a01\n",
    "  model.compile(loss = categorical_crossentropy,\n",
    "                optimizer = opt, \n",
    "                metrics = ['accuracy'])\n",
    "  \n",
    "  return model\n",
    "\n",
    "\n",
    "def ResNet(num_classes):\n",
    "    \n",
    "    # local_input = Input(shape = (image_size, image_size, filter_num+1), name = 'Local_feature_Input')\n",
    "    model = Sequential()\n",
    "    model.add(Conv2D(64, 7, padding='same',input_shape = (32, 32, 1)))\n",
    "    model.add(BatchNormalization())\n",
    "    model.add(tf.keras.layers.Activation('relu'))\n",
    "    model.add(MaxPool2D((2,2)))\n",
    "    model.add(IdentityBlock(64, 1))\n",
    "    model.add(IdentityBlock(64, 1))\n",
    "    #self.global_pool = tf.keras.layers.GlobalAveragePooling2D()\n",
    "    model.add(IdentityBlock(64, 1))\n",
    "    model.add(IdentityBlock(64, 3))\n",
    "    model.add(GlobalAveragePooling2D())\n",
    "    Dense(num_classes, activation='softmax')\n",
    "    return model"
   ]
  },
  {
   "cell_type": "code",
   "execution_count": 665,
   "id": "6d3a300a",
   "metadata": {},
   "outputs": [],
   "source": [
    "class ResNet1(tf.keras.Model):\n",
    "    def __init__(self, num_classes):\n",
    "        super(ResNet, self).__init__()\n",
    "        self.conv = tf.keras.layers.Conv2D(64, 7, padding='same')\n",
    "        self.bn = tf.keras.layers.BatchNormalization()\n",
    "        self.relu = tf.keras.layers.Activation('relu')\n",
    "        self.max_pool = tf.keras.layers.MaxPool2D((3, 3))\n",
    "        self.id1a = IdentityBlock(64, 3)\n",
    "        self.id1b = IdentityBlock(64, 3)\n",
    "        self.global_pool = tf.keras.layers.GlobalAveragePooling2D()\n",
    "        self.classifier = tf.keras.layers.Dense(num_classes, activation='softmax')\n",
    "    def call(self, inputs):\n",
    "        x = self.conv(inputs)\n",
    "        x = self.bn(x)\n",
    "        x = self.relu(x)\n",
    "        x = self.max_pool(x)\n",
    "        x = self.id1a(x)\n",
    "        x = self.id1b(x)\n",
    "        x = self.global_pool(x)\n",
    "        return self.classifier(x)"
   ]
  },
  {
   "cell_type": "code",
   "execution_count": 641,
   "id": "d787c857",
   "metadata": {},
   "outputs": [],
   "source": [
    "from tensorflow.keras import layers\n",
    "from tensorflow.keras import activations"
   ]
  },
  {
   "cell_type": "code",
   "execution_count": 771,
   "id": "5b125f7c",
   "metadata": {},
   "outputs": [
    {
     "data": {
      "text/plain": [
       "[<KerasTensor: shape=(None, 32, 32, 1) dtype=float32 (created by layer 'Local_feature_Input')>,\n",
       " <KerasTensor: shape=(None, 32, 32, 64) dtype=float32 (created by layer 'block1_conv1')>,\n",
       " <KerasTensor: shape=(None, 15, 15, 64) dtype=float32 (created by layer 'block1_pool')>,\n",
       " <KerasTensor: shape=(None, 15, 15, 64) dtype=float32 (created by layer 'id1')>,\n",
       " <KerasTensor: shape=(None, 15, 15, 64) dtype=float32 (created by layer 'id2')>,\n",
       " <KerasTensor: shape=(None, 15, 15, 64) dtype=float32 (created by layer 'id3')>,\n",
       " <KerasTensor: shape=(None, 15, 15, 64) dtype=float32 (created by layer 'id4')>,\n",
       " <KerasTensor: shape=(None, 64) dtype=float32 (created by layer 'global_average_pooling2d_58')>,\n",
       " <KerasTensor: shape=(None, 6) dtype=float32 (created by layer 'prediction')>]"
      ]
     },
     "execution_count": 771,
     "metadata": {},
     "output_type": "execute_result"
    }
   ],
   "source": [
    "resN_features_list = [layer.output for layer in resnet_model.layers]\n",
    "resN_features_list"
   ]
  },
  {
   "cell_type": "code",
   "execution_count": 772,
   "id": "65965690",
   "metadata": {},
   "outputs": [
    {
     "data": {
      "text/plain": [
       "[<KerasTensor: shape=(None, 8, 8, 96) dtype=float32 (created by layer 'conv2d_677')>,\n",
       " <KerasTensor: shape=(None, 8, 8, 96) dtype=float32 (created by layer 'conv2d_678')>,\n",
       " <KerasTensor: shape=(None, 8, 8, 96) dtype=float32 (created by layer 'conv2d_679')>,\n",
       " <KerasTensor: shape=(None, 4, 4, 96) dtype=float32 (created by layer 'max_pooling2d_177')>,\n",
       " <KerasTensor: shape=(None, 4, 4, 256) dtype=float32 (created by layer 'conv2d_680')>,\n",
       " <KerasTensor: shape=(None, 4, 4, 256) dtype=float32 (created by layer 'conv2d_681')>,\n",
       " <KerasTensor: shape=(None, 4, 4, 256) dtype=float32 (created by layer 'conv2d_682')>,\n",
       " <KerasTensor: shape=(None, 2, 2, 256) dtype=float32 (created by layer 'max_pooling2d_178')>,\n",
       " <KerasTensor: shape=(None, 2, 2, 512) dtype=float32 (created by layer 'conv2d_683')>,\n",
       " <KerasTensor: shape=(None, 2, 2, 512) dtype=float32 (created by layer 'conv2d_684')>,\n",
       " <KerasTensor: shape=(None, 2, 2, 512) dtype=float32 (created by layer 'conv2d_685')>,\n",
       " <KerasTensor: shape=(None, 1, 1, 512) dtype=float32 (created by layer 'max_pooling2d_179')>,\n",
       " <KerasTensor: shape=(None, 1, 1, 512) dtype=float32 (created by layer 'dropout_50')>,\n",
       " <KerasTensor: shape=(None, 1, 1, 10) dtype=float32 (created by layer 'conv2d_686')>,\n",
       " <KerasTensor: shape=(None, 1, 1, 10) dtype=float32 (created by layer 'conv2d_687')>,\n",
       " <KerasTensor: shape=(None, 1, 1, 10) dtype=float32 (created by layer 'conv2d_688')>,\n",
       " <KerasTensor: shape=(None, 10) dtype=float32 (created by layer 'global_average_pooling2d_29')>,\n",
       " <KerasTensor: shape=(None, 1000) dtype=float32 (created by layer 'dense_45')>]"
      ]
     },
     "execution_count": 772,
     "metadata": {},
     "output_type": "execute_result"
    }
   ],
   "source": [
    "NiN_features_list = [layer.output for layer in nin.layers]\n",
    "NiN_features_list"
   ]
  },
  {
   "cell_type": "code",
   "execution_count": 773,
   "id": "3b94c6fb",
   "metadata": {},
   "outputs": [],
   "source": [
    "resN_feat_extraction_model = Model(inputs = resnet_model.input, outputs = resN_features_list)\n",
    "\n",
    "if is_global_feature == True:\n",
    "    res__features = resN_feat_extraction_model([local_X_train, global_X_train])\n",
    "    test_modified_VGG16_extracted_features = resN_feat_extraction_model([local_X_test, global_X_test])\n",
    "    val_modified_VGG16_extracted_features = resN_feat_extraction_model([local_X_val, global_X_val])\n",
    "else: \n",
    "    res__features = resN_feat_extraction_model(local_X_train)\n",
    "    test_modified_VGG16_extracted_features = resN_feat_extraction_model(local_X_test)\n",
    "    val_modified_VGG16_extracted_features = resN_feat_extraction_model(local_X_val)"
   ]
  },
  {
   "cell_type": "code",
   "execution_count": 774,
   "id": "60717253",
   "metadata": {},
   "outputs": [
    {
     "data": {
      "text/plain": [
       "9"
      ]
     },
     "execution_count": 774,
     "metadata": {},
     "output_type": "execute_result"
    }
   ],
   "source": [
    "len(res__features)"
   ]
  },
  {
   "cell_type": "code",
   "execution_count": 732,
   "id": "b246a6b1",
   "metadata": {},
   "outputs": [],
   "source": [
    "# adam 이용 코드 \n",
    "from keras.layers.advanced_activations import PReLU"
   ]
  },
  {
   "cell_type": "code",
   "execution_count": 380,
   "id": "2f21ab3d",
   "metadata": {},
   "outputs": [
    {
     "name": "stdout",
     "output_type": "stream",
     "text": [
      "Epoch 1/30\n",
      "20/20 [==============================] - 1s 30ms/step - loss: 1.7889 - accuracy: 0.1873\n",
      "Epoch 2/30\n",
      "20/20 [==============================] - 1s 29ms/step - loss: 1.7889 - accuracy: 0.1873\n",
      "Epoch 3/30\n",
      "20/20 [==============================] - 1s 29ms/step - loss: 1.7889 - accuracy: 0.1873\n",
      "Epoch 4/30\n",
      "20/20 [==============================] - 1s 30ms/step - loss: 1.7888 - accuracy: 0.1873\n",
      "Epoch 5/30\n",
      "20/20 [==============================] - 1s 30ms/step - loss: 1.7889 - accuracy: 0.1873\n",
      "Epoch 6/30\n",
      "20/20 [==============================] - 1s 29ms/step - loss: 1.7888 - accuracy: 0.1873\n",
      "Epoch 7/30\n",
      "20/20 [==============================] - 1s 29ms/step - loss: 1.7889 - accuracy: 0.1873\n",
      "Epoch 8/30\n",
      "20/20 [==============================] - 1s 29ms/step - loss: 1.7888 - accuracy: 0.1873\n",
      "Epoch 9/30\n",
      "20/20 [==============================] - 1s 30ms/step - loss: 1.7888 - accuracy: 0.1873\n",
      "Epoch 10/30\n",
      "20/20 [==============================] - 1s 29ms/step - loss: 1.7888 - accuracy: 0.1873\n",
      "Epoch 11/30\n",
      "20/20 [==============================] - 1s 28ms/step - loss: 1.7888 - accuracy: 0.1873\n",
      "Epoch 12/30\n",
      "20/20 [==============================] - 1s 28ms/step - loss: 1.7889 - accuracy: 0.1873\n",
      "Epoch 13/30\n",
      "20/20 [==============================] - 1s 30ms/step - loss: 1.7888 - accuracy: 0.1873\n",
      "Epoch 14/30\n",
      "20/20 [==============================] - 1s 29ms/step - loss: 1.7889 - accuracy: 0.1873\n",
      "Epoch 15/30\n",
      "20/20 [==============================] - 1s 29ms/step - loss: 1.7889 - accuracy: 0.1873\n",
      "Epoch 16/30\n",
      "20/20 [==============================] - 1s 29ms/step - loss: 1.7888 - accuracy: 0.1873\n",
      "Epoch 17/30\n",
      "20/20 [==============================] - 1s 28ms/step - loss: 1.7888 - accuracy: 0.1873\n",
      "Epoch 18/30\n",
      "20/20 [==============================] - 1s 29ms/step - loss: 1.7888 - accuracy: 0.1873\n",
      "Epoch 19/30\n",
      "20/20 [==============================] - 1s 30ms/step - loss: 1.7888 - accuracy: 0.1873\n",
      "Epoch 20/30\n",
      "20/20 [==============================] - 1s 28ms/step - loss: 1.7888 - accuracy: 0.1873\n",
      "Epoch 21/30\n",
      "20/20 [==============================] - 1s 29ms/step - loss: 1.7888 - accuracy: 0.1873\n",
      "Epoch 22/30\n",
      "20/20 [==============================] - 1s 29ms/step - loss: 1.7888 - accuracy: 0.1873\n",
      "Epoch 23/30\n",
      "20/20 [==============================] - 1s 30ms/step - loss: 1.7888 - accuracy: 0.1873\n",
      "Epoch 24/30\n",
      "20/20 [==============================] - 1s 30ms/step - loss: 1.7888 - accuracy: 0.1873\n",
      "Epoch 25/30\n",
      "20/20 [==============================] - 1s 29ms/step - loss: 1.7888 - accuracy: 0.1873\n",
      "Epoch 26/30\n",
      "20/20 [==============================] - 1s 29ms/step - loss: 1.7888 - accuracy: 0.1873\n",
      "Epoch 27/30\n",
      "20/20 [==============================] - 1s 29ms/step - loss: 1.7888 - accuracy: 0.1873\n",
      "Epoch 28/30\n",
      "20/20 [==============================] - 1s 29ms/step - loss: 1.7888 - accuracy: 0.1873\n",
      "Epoch 29/30\n",
      "20/20 [==============================] - 1s 27ms/step - loss: 1.7888 - accuracy: 0.1873\n",
      "Epoch 30/30\n",
      "20/20 [==============================] - 1s 29ms/step - loss: 1.7889 - accuracy: 0.1873\n",
      "5/5 - 0s - loss: 1.8077 - accuracy: 0.0963 - 160ms/epoch - 32ms/step\n"
     ]
    },
    {
     "data": {
      "image/png": "[encoded data removed]",
      "text/plain": [
       "<Figure size 432x288 with 2 Axes>"
      ]
     },
     "metadata": {
      "needs_background": "light"
     },
     "output_type": "display_data"
    }
   ],
   "source": [
    "#https://stackoverflow.com/questions/50056356/could-not-interpret-optimizer-identifier-error-in-kerasimport tensorflow as tf\n",
    "from keras.models import Sequential\n",
    "from keras.layers import Dense, Dropout, LSTM, BatchNormalization\n",
    "from keras.callbacks import TensorBoard\n",
    "from keras.callbacks import ModelCheckpoint\n",
    "#from keras.optimizers import adam\n",
    "import sys\n",
    "import os \n",
    "# from keras_adamw import AdamW\n",
    "from keras import backend as K\n",
    "# sys.path.append(os.pardir)\n",
    "# from keras_optimizers import AdamW\n",
    "#from keras_adamw import AdamW\n",
    "#from keras_adamw.optimizers import AdamW\n",
    "#from tensorflow.python.keras.optimizers import Adam\n",
    "#from keras_radam import RAdam\n",
    "#from keras.optimizers import adam\n",
    "from tensorflow_addons.optimizers import AdamW#weight_decay 씀\n",
    "from tensorflow.python.keras.metrics import Metric\n",
    "from tensorflow.python.ops import math_ops\n",
    "\n",
    "# optimizer = AdamW(lr=1e-4,\n",
    "#                   model=model,\n",
    "#                   lr_multipliers=lr_multipliers,\n",
    "#                   use_cosine_annealing=True,\n",
    "#                   total_iterations=24)\n",
    "\n",
    "\n",
    "a01 = AdamW(learning_rate =0.001, beta_1=0.9, beta_2 = 0.999,amsgrad = True,\\\n",
    "                   #model = None,\n",
    "                   #use_cosine_annealing = True,\n",
    "                   #zero_penalties = 1,\n",
    "                   #lr_multipliers = None,\n",
    "                   #autorestart = 1,\n",
    "                   #eta_min = 0.2,\n",
    "                   #eta_max = 0.9,\n",
    "                   #t_cur = 2,\n",
    "                   weight_decay = 2.5e-4,\n",
    "                   #weight_decays=0.1,\n",
    "                   #total_iterations = 3,\n",
    "                   #init_verbose = 1,\n",
    "                   epsilon = 1e-07,\n",
    "                   \n",
    "                 )\n",
    "\n",
    "\n",
    "\n",
    "a1.compile(optimizer = 'adam',\n",
    "             #loss = tf.keras.losses.SparseCategoricalCrossentropy(),\n",
    "             loss = 'sparse_categorical_crossentropy',\n",
    "             metrics = ['accuracy'])\n",
    "\n",
    "epoch_num= 30\n",
    "\n",
    "if is_global_feature:\n",
    "    hist = a1.fit([local_X_train, global_X_train], y_train, epochs = epoch_num)\n",
    "    a1.evaluate([local_X_train, global_X_train], y_test, verbose = 2)\n",
    "else:\n",
    "    hist = a1.fit(local_X_train, y_train, epochs = epoch_num)\n",
    "    a1.evaluate(local_X_test, y_test, verbose = 2)\n",
    "\n",
    "%matplotlib inline\n",
    "import matplotlib.pyplot as plt\n",
    "\n",
    "fig, loss_ax = plt.subplots()\n",
    "\n",
    "acc_ax = loss_ax.twinx()\n",
    "\n",
    "loss_ax.plot(hist.history['loss'], 'y', label='train loss')\n",
    "\n",
    "acc_ax.plot(hist.history['accuracy'], 'b', label='train acc')\n",
    "\n",
    "loss_ax.set_xlabel('epoch')\n",
    "loss_ax.set_ylabel('loss')\n",
    "acc_ax.set_ylabel('accuracy')\n",
    "\n",
    "loss_ax.legend(loc='upper left')\n",
    "acc_ax.legend(loc='lower left')\n",
    "\n",
    "plt.show()\n"
   ]
  },
  {
   "cell_type": "code",
   "execution_count": null,
   "id": "9a7e594d",
   "metadata": {},
   "outputs": [],
   "source": []
  },
  {
   "cell_type": "code",
   "execution_count": 34,
   "id": "11a7cbd1",
   "metadata": {},
   "outputs": [
    {
     "name": "stdout",
     "output_type": "stream",
     "text": [
      "Epoch 1/30\n",
      "20/20 [==============================] - 1s 34ms/step - loss: 0.0881 - accuracy: 0.9857\n",
      "Epoch 2/30\n",
      "20/20 [==============================] - 1s 34ms/step - loss: 0.0395 - accuracy: 0.9841\n",
      "Epoch 3/30\n",
      "20/20 [==============================] - 1s 34ms/step - loss: 0.0357 - accuracy: 0.9905\n",
      "Epoch 4/30\n",
      "20/20 [==============================] - 1s 35ms/step - loss: 0.0270 - accuracy: 0.9889\n",
      "Epoch 5/30\n",
      "20/20 [==============================] - 1s 35ms/step - loss: 0.0285 - accuracy: 0.9857\n",
      "Epoch 6/30\n",
      "20/20 [==============================] - 1s 34ms/step - loss: 0.3479 - accuracy: 0.9365\n",
      "Epoch 7/30\n",
      "20/20 [==============================] - 1s 35ms/step - loss: 0.2008 - accuracy: 0.9635\n",
      "Epoch 8/30\n",
      "20/20 [==============================] - 1s 35ms/step - loss: 0.0182 - accuracy: 0.9921\n",
      "Epoch 9/30\n",
      "20/20 [==============================] - 1s 34ms/step - loss: 0.0102 - accuracy: 0.9952\n",
      "Epoch 10/30\n",
      "20/20 [==============================] - 1s 35ms/step - loss: 0.0099 - accuracy: 0.9968\n",
      "Epoch 11/30\n",
      "20/20 [==============================] - 1s 34ms/step - loss: 0.0058 - accuracy: 0.9984\n",
      "Epoch 12/30\n",
      "20/20 [==============================] - 1s 35ms/step - loss: 0.0306 - accuracy: 0.9873\n",
      "Epoch 13/30\n",
      "20/20 [==============================] - 1s 34ms/step - loss: 0.0303 - accuracy: 0.9873\n",
      "Epoch 14/30\n",
      "20/20 [==============================] - 1s 34ms/step - loss: 0.0101 - accuracy: 0.9952\n",
      "Epoch 15/30\n",
      "20/20 [==============================] - 1s 34ms/step - loss: 0.0076 - accuracy: 0.9968\n",
      "Epoch 16/30\n",
      "20/20 [==============================] - 1s 34ms/step - loss: 0.0031 - accuracy: 1.0000\n",
      "Epoch 17/30\n",
      "20/20 [==============================] - 1s 34ms/step - loss: 4.6111e-04 - accuracy: 1.0000\n",
      "Epoch 18/30\n",
      "20/20 [==============================] - 1s 34ms/step - loss: 2.3784e-04 - accuracy: 1.0000\n",
      "Epoch 19/30\n",
      "20/20 [==============================] - 1s 35ms/step - loss: 5.0903e-05 - accuracy: 1.0000\n",
      "Epoch 20/30\n",
      "20/20 [==============================] - 1s 35ms/step - loss: 3.8511e-05 - accuracy: 1.0000\n",
      "Epoch 21/30\n",
      "20/20 [==============================] - 1s 36ms/step - loss: 2.9301e-05 - accuracy: 1.0000\n",
      "Epoch 22/30\n",
      "20/20 [==============================] - 1s 34ms/step - loss: 2.0809e-05 - accuracy: 1.0000\n",
      "Epoch 23/30\n",
      "20/20 [==============================] - 1s 35ms/step - loss: 1.5562e-05 - accuracy: 1.0000\n",
      "Epoch 24/30\n",
      "20/20 [==============================] - 1s 36ms/step - loss: 1.1652e-05 - accuracy: 1.0000\n",
      "Epoch 25/30\n",
      "20/20 [==============================] - 1s 36ms/step - loss: 9.4429e-06 - accuracy: 1.0000\n",
      "Epoch 26/30\n",
      "20/20 [==============================] - 1s 35ms/step - loss: 8.4533e-06 - accuracy: 1.0000\n",
      "Epoch 27/30\n",
      "20/20 [==============================] - 1s 36ms/step - loss: 7.2505e-06 - accuracy: 1.0000\n",
      "Epoch 28/30\n",
      "20/20 [==============================] - 1s 35ms/step - loss: 6.4881e-06 - accuracy: 1.0000\n",
      "Epoch 29/30\n",
      "20/20 [==============================] - 1s 34ms/step - loss: 5.8803e-06 - accuracy: 1.0000\n",
      "Epoch 30/30\n",
      "20/20 [==============================] - 1s 36ms/step - loss: 5.3247e-06 - accuracy: 1.0000\n",
      "5/5 - 0s - loss: 0.0052 - accuracy: 1.0000 - 156ms/epoch - 31ms/step\n"
     ]
    },
    {
     "data": {
      "image/png": "[encoded data removed]",
      "text/plain": [
       "<Figure size 432x288 with 2 Axes>"
      ]
     },
     "metadata": {
      "needs_background": "light"
     },
     "output_type": "display_data"
    }
   ],
   "source": [
    "# 모델 학습\n",
    "a1.compile(optimizer = a01,\n",
    "             loss = 'sparse_categorical_crossentropy',\n",
    "             metrics = ['accuracy'])\n",
    "\n",
    "if is_global_feature:\n",
    "    hist = a1.fit([local_X_train, global_X_train], y_train, epochs = epoch_num)\n",
    "    a1.evaluate([local_X_test, global_X_test], y_test, verbose = 2)\n",
    "else:\n",
    "    hist = a1.fit(local_X_train, y_train, epochs = epoch_num)\n",
    "    a1.evaluate(local_X_test, y_test, verbose = 2)\n",
    "    \n",
    "%matplotlib inline\n",
    "import matplotlib.pyplot as plt\n",
    "\n",
    "fig, loss_ax = plt.subplots()\n",
    "\n",
    "acc_ax = loss_ax.twinx()\n",
    "\n",
    "loss_ax.plot(hist.history['loss'], 'y', label='train loss')\n",
    "\n",
    "acc_ax.plot(hist.history['accuracy'], 'b', label='train acc')\n",
    "\n",
    "loss_ax.set_xlabel('epoch')\n",
    "loss_ax.set_ylabel('loss')\n",
    "acc_ax.set_ylabel('accuracy')\n",
    "\n",
    "loss_ax.legend(loc='upper left')\n",
    "acc_ax.legend(loc='lower left')\n",
    "\n",
    "plt.show()"
   ]
  },
  {
   "cell_type": "code",
   "execution_count": 128,
   "id": "24920400",
   "metadata": {},
   "outputs": [
    {
     "name": "stdout",
     "output_type": "stream",
     "text": [
      "[1.8644089698791504, 0.5720900893211365, 0.28263357281684875, 0.27712294459342957, 0.28729578852653503, 0.12870503962039948, 0.09294475615024567, 0.10992292314767838, 0.0951547846198082, 0.058203402906656265, 0.06750206649303436, 0.04563308507204056, 0.046740539371967316, 0.03688580170273781, 0.03620496392250061, 0.03710255026817322, 0.03534084931015968, 0.05635380372405052, 0.06826937943696976, 0.04473312944173813, 0.03963251784443855, 0.054389409720897675, 0.03773058205842972, 0.033620934933423996, 0.033596739172935486, 0.03219160810112953, 0.022091057151556015, 0.03867962583899498, 0.029897021129727364, 0.055118028074502945]\n",
      "------------------------------------------------------------------------------------------\n",
      "[0.5523809790611267, 0.8047618865966797, 0.8333333134651184, 0.8761904835700989, 0.9047619104385376, 0.9555555582046509, 0.958730161190033, 0.9666666388511658, 0.9523809552192688, 0.976190447807312, 0.9777777791023254, 0.9841269850730896, 0.9793650507926941, 0.9857142567634583, 0.9888888597488403, 0.9857142567634583, 0.9873015880584717, 0.9730158448219299, 0.9730158448219299, 0.9825396537780762, 0.9841269850730896, 0.9857142567634583, 0.9841269850730896, 0.9888888597488403, 0.9904761910438538, 0.9873015880584717, 0.9920634627342224, 0.9873015880584717, 0.9888888597488403, 0.9825396537780762]\n"
     ]
    }
   ],
   "source": [
    "print(hist.history['loss'])\n",
    "print('-'*90)\n",
    "print(hist.history['accuracy'])"
   ]
  },
  {
   "cell_type": "code",
   "execution_count": 42,
   "id": "9b5c17a9",
   "metadata": {},
   "outputs": [
    {
     "name": "stdout",
     "output_type": "stream",
     "text": [
      "2.6.0\n"
     ]
    }
   ],
   "source": [
    "\n",
    "print(tf.__version__)"
   ]
  },
  {
   "cell_type": "markdown",
   "id": "98a47417",
   "metadata": {},
   "source": [
    "# vgg representation vector"
   ]
  },
  {
   "cell_type": "code",
   "execution_count": 305,
   "id": "3998b4a6",
   "metadata": {},
   "outputs": [
    {
     "data": {
      "text/plain": [
       "[<KerasTensor: shape=(None, 8, 8, 1) dtype=float32 (created by layer 'Local_feature_Input')>,\n",
       " <KerasTensor: shape=(None, 8, 8, 64) dtype=float32 (created by layer 'block1_conv1')>,\n",
       " <KerasTensor: shape=(None, 8, 8, 64) dtype=float32 (created by layer 'block1_conv2')>,\n",
       " <KerasTensor: shape=(None, 4, 4, 64) dtype=float32 (created by layer 'block1_pool')>,\n",
       " <KerasTensor: shape=(None, 4, 4, 128) dtype=float32 (created by layer 'block2_conv1')>,\n",
       " <KerasTensor: shape=(None, 4, 4, 128) dtype=float32 (created by layer 'block2_conv2')>,\n",
       " <KerasTensor: shape=(None, 2, 2, 128) dtype=float32 (created by layer 'block2_pool')>,\n",
       " <KerasTensor: shape=(None, 2, 2, 256) dtype=float32 (created by layer 'block3_conv1')>,\n",
       " <KerasTensor: shape=(None, 2, 2, 256) dtype=float32 (created by layer 'block3_conv2')>,\n",
       " <KerasTensor: shape=(None, 2, 2, 256) dtype=float32 (created by layer 'block3_conv3')>,\n",
       " <KerasTensor: shape=(None, 1, 1, 256) dtype=float32 (created by layer 'block3_pool')>,\n",
       " <KerasTensor: shape=(None, 256) dtype=float32 (created by layer 'flatten')>,\n",
       " <KerasTensor: shape=(None, 1024) dtype=float32 (created by layer 'fc1')>,\n",
       " <KerasTensor: shape=(None, 1024) dtype=float32 (created by layer 'fc2')>,\n",
       " <KerasTensor: shape=(None, 6) dtype=float32 (created by layer 'prediction')>]"
      ]
     },
     "execution_count": 305,
     "metadata": {},
     "output_type": "execute_result"
    }
   ],
   "source": [
    "modified_VGG16_features_list = [layer.output for layer in a1.layers]\n",
    "modified_VGG16_features_list"
   ]
  },
  {
   "cell_type": "code",
   "execution_count": 308,
   "id": "35732a40",
   "metadata": {},
   "outputs": [],
   "source": [
    "modified_VGG16_feat_extraction_model = Model(inputs = a1.input, outputs = modified_VGG16_features_list)\n",
    "\n",
    "if is_global_feature == True:\n",
    "    p_modified_VGG16_extracted_features = modified_VGG16_feat_extraction_model([local_X_train, global_X_train])\n",
    "    test_modified_VGG16_extracted_features = modified_VGG16_feat_extraction_model([local_X_test, global_X_test])\n",
    "    val_modified_VGG16_extracted_features = modified_VGG16_feat_extraction_model([local_X_val, global_X_val])\n",
    "else: \n",
    "    p_modified_VGG16_extracted_features = modified_VGG16_feat_extraction_model(local_X_train)\n",
    "    test_modified_VGG16_extracted_features = modified_VGG16_feat_extraction_model(local_X_test)\n",
    "    val_modified_VGG16_extracted_features = modified_VGG16_feat_extraction_model(local_X_val)"
   ]
  },
  {
   "cell_type": "code",
   "execution_count": 764,
   "id": "bf523b35",
   "metadata": {},
   "outputs": [],
   "source": [
    "res_representations = np.array(res__features[-2], dtype = object)\n",
    "test_modified_VGG16_representations = np.array(test_modified_VGG16_extracted_features[-2], dtype = object)\n",
    "val_modified_VGG16_representations = np.array(val_modified_VGG16_extracted_features[-2], dtype = object)"
   ]
  },
  {
   "cell_type": "code",
   "execution_count": 765,
   "id": "ef56f39f",
   "metadata": {},
   "outputs": [
    {
     "data": {
      "text/plain": [
       "array([[0.0014380993088707328, 0.010898329317569733,\n",
       "        0.0027143193874508142, ..., 0.06790870428085327,\n",
       "        0.005200657527893782, 0.0035564464051276445],\n",
       "       [0.7850064039230347, 0.5752819180488586, 0.07115798443555832, ...,\n",
       "        1.4417752027511597, 0.0, 0.06388307362794876],\n",
       "       [0.09122080355882645, 0.0014781416393816471,\n",
       "        0.0007746146875433624, ..., 0.07526405900716782, 0.0, 0.0],\n",
       "       ...,\n",
       "       [0.12173216044902802, 0.03401099145412445, 0.004176856484264135,\n",
       "        ..., 0.28843072056770325, 0.0, 0.10959015041589737],\n",
       "       [0.00039763067616149783, 0.017366444692015648,\n",
       "        0.0023483503609895706, ..., 0.09204375743865967,\n",
       "        0.004931779112666845, 0.009784341789782047],\n",
       "       [0.295657217502594, 0.1886722445487976, 0.006384317297488451, ...,\n",
       "        0.5131354928016663, 0.0, 0.12045896798372269]], dtype=object)"
      ]
     },
     "execution_count": 765,
     "metadata": {},
     "output_type": "execute_result"
    }
   ],
   "source": [
    "res_representations"
   ]
  },
  {
   "cell_type": "markdown",
   "id": "7175accb",
   "metadata": {},
   "source": [
    "# nin model"
   ]
  },
  {
   "cell_type": "code",
   "execution_count": 363,
   "id": "b1fbf3d0",
   "metadata": {},
   "outputs": [
    {
     "data": {
      "text/plain": [
       "[<KerasTensor: shape=(None, 2, 2, 96) dtype=float32 (created by layer 'conv2d_527')>,\n",
       " <KerasTensor: shape=(None, 2, 2, 96) dtype=float32 (created by layer 'conv2d_528')>,\n",
       " <KerasTensor: shape=(None, 2, 2, 96) dtype=float32 (created by layer 'conv2d_529')>,\n",
       " <KerasTensor: shape=(None, 2, 2, 96) dtype=float32 (created by layer 'max_pooling2d_139')>,\n",
       " <KerasTensor: shape=(None, 2, 2, 256) dtype=float32 (created by layer 'conv2d_530')>,\n",
       " <KerasTensor: shape=(None, 2, 2, 256) dtype=float32 (created by layer 'conv2d_531')>,\n",
       " <KerasTensor: shape=(None, 2, 2, 256) dtype=float32 (created by layer 'conv2d_532')>,\n",
       " <KerasTensor: shape=(None, 2, 2, 256) dtype=float32 (created by layer 'max_pooling2d_140')>,\n",
       " <KerasTensor: shape=(None, 2, 2, 512) dtype=float32 (created by layer 'conv2d_533')>,\n",
       " <KerasTensor: shape=(None, 2, 2, 512) dtype=float32 (created by layer 'conv2d_534')>,\n",
       " <KerasTensor: shape=(None, 2, 2, 512) dtype=float32 (created by layer 'conv2d_535')>,\n",
       " <KerasTensor: shape=(None, 2, 2, 512) dtype=float32 (created by layer 'max_pooling2d_141')>,\n",
       " <KerasTensor: shape=(None, 2, 2, 512) dtype=float32 (created by layer 'dropout_38')>,\n",
       " <KerasTensor: shape=(None, 2, 2, 10) dtype=float32 (created by layer 'conv2d_536')>,\n",
       " <KerasTensor: shape=(None, 2, 2, 10) dtype=float32 (created by layer 'conv2d_537')>,\n",
       " <KerasTensor: shape=(None, 2, 2, 10) dtype=float32 (created by layer 'conv2d_538')>,\n",
       " <KerasTensor: shape=(None, 10) dtype=float32 (created by layer 'global_average_pooling2d_17')>,\n",
       " <KerasTensor: shape=(None, 1000) dtype=float32 (created by layer 'dense_33')>]"
      ]
     },
     "execution_count": 363,
     "metadata": {},
     "output_type": "execute_result"
    }
   ],
   "source": [
    "modified_VGG16_features_list = [layer.output for layer in nin.layers]\n",
    "modified_VGG16_features_list"
   ]
  },
  {
   "cell_type": "code",
   "execution_count": 370,
   "id": "56da6a5b",
   "metadata": {},
   "outputs": [],
   "source": [
    "modified_VGG16_feat_extraction_model = Model(inputs = nin.input, outputs = modified_VGG16_features_list)\n",
    "\n",
    "if is_global_feature == True:\n",
    "    nin_modified_VGG16_extracted_features = modified_VGG16_feat_extraction_model([local_X_train, global_X_train])\n",
    "    test_modified_VGG16_extracted_features = modified_VGG16_feat_extraction_model([local_X_test, global_X_test])\n",
    "    val_modified_VGG16_extracted_features = modified_VGG16_feat_extraction_model([local_X_val, global_X_val])\n",
    "else: \n",
    "    nin_modified_VGG16_extracted_features = modified_VGG16_feat_extraction_model(local_X_train)\n",
    "    test_modified_VGG16_extracted_features = modified_VGG16_feat_extraction_model(local_X_test)\n",
    "    val_modified_VGG16_extracted_features = modified_VGG16_feat_extraction_model(local_X_val)"
   ]
  },
  {
   "cell_type": "code",
   "execution_count": 371,
   "id": "72ab5fe2",
   "metadata": {},
   "outputs": [],
   "source": [
    "nin_modified_VGG16_representations = np.array(train_modified_VGG16_extracted_features[-2], dtype = object)\n",
    "test_modified_VGG16_representations = np.array(test_modified_VGG16_extracted_features[-2], dtype = object)\n",
    "val_modified_VGG16_representations = np.array(val_modified_VGG16_extracted_features[-2], dtype = object)"
   ]
  },
  {
   "cell_type": "code",
   "execution_count": 372,
   "id": "cc018142",
   "metadata": {},
   "outputs": [
    {
     "data": {
      "text/plain": [
       "array([[114.32557678222656, -1.0992257595062256, 102.15438842773438, ...,\n",
       "        62.65021896362305, 85.74555206298828, -0.0073963128961622715],\n",
       "       [27.592327117919922, -9.870079040527344, 0.2801055908203125, ...,\n",
       "        6.005732536315918, -3.777646541595459, -0.03752240166068077],\n",
       "       [87.29491424560547, 0.3509497046470642, -10.125423431396484, ...,\n",
       "        35.15193176269531, 80.53703308105469, -0.006322440691292286],\n",
       "       ...,\n",
       "       [151.75009155273438, -7.099537372589111, 203.43606567382812, ...,\n",
       "        84.34747314453125, -0.6234443187713623, -0.029171857982873917],\n",
       "       [112.42972564697266, -1.066962718963623, 99.75389099121094, ...,\n",
       "        61.801124572753906, 85.13066101074219, -0.007289777975529432],\n",
       "       [152.70387268066406, -7.040335178375244, 204.1925048828125, ...,\n",
       "        84.63070678710938, -0.5966439843177795, -0.02891920879483223]],\n",
       "      dtype=object)"
      ]
     },
     "execution_count": 372,
     "metadata": {},
     "output_type": "execute_result"
    }
   ],
   "source": [
    "nin_modified_VGG16_representations"
   ]
  },
  {
   "cell_type": "code",
   "execution_count": 367,
   "id": "c35c25ed",
   "metadata": {},
   "outputs": [
    {
     "data": {
      "text/plain": [
       "(630, 10)"
      ]
     },
     "execution_count": 367,
     "metadata": {},
     "output_type": "execute_result"
    }
   ],
   "source": [
    "train_modified_VGG16_representations.shape"
   ]
  },
  {
   "cell_type": "markdown",
   "id": "8940409d",
   "metadata": {},
   "source": [
    "## (2) 분류 예측"
   ]
  },
  {
   "cell_type": "markdown",
   "id": "9cc029d3",
   "metadata": {},
   "source": [
    "# 여기서 부터 시각화(kmeans)"
   ]
  },
  {
   "cell_type": "code",
   "execution_count": 257,
   "id": "1e68db35",
   "metadata": {},
   "outputs": [
    {
     "data": {
      "text/plain": [
       "2868.134765625"
      ]
     },
     "execution_count": 257,
     "metadata": {},
     "output_type": "execute_result"
    }
   ],
   "source": [
    "max_train_modified_VGG16_representations = np.max(train_modified_VGG16_representations)\n",
    "max_train_modified_VGG16_representations"
   ]
  },
  {
   "cell_type": "code",
   "execution_count": 258,
   "id": "bccf2a32",
   "metadata": {},
   "outputs": [
    {
     "data": {
      "text/plain": [
       "-3.0951688289642334"
      ]
     },
     "execution_count": 258,
     "metadata": {},
     "output_type": "execute_result"
    }
   ],
   "source": [
    "min_train_modified_VGG16_representations = np.min(train_modified_VGG16_representations)\n",
    "min_train_modified_VGG16_representations"
   ]
  },
  {
   "cell_type": "code",
   "execution_count": 259,
   "id": "ee253173",
   "metadata": {},
   "outputs": [
    {
     "data": {
      "text/plain": [
       "(630, 10)"
      ]
     },
     "execution_count": 259,
     "metadata": {},
     "output_type": "execute_result"
    }
   ],
   "source": [
    "train_modified_VGG16_representations.shape"
   ]
  },
  {
   "cell_type": "markdown",
   "id": "34f5b937",
   "metadata": {},
   "source": [
    "# 이거하고있음\n"
   ]
  },
  {
   "cell_type": "markdown",
   "id": "275213ba",
   "metadata": {},
   "source": [
    "# nin representation vector"
   ]
  },
  {
   "cell_type": "code",
   "execution_count": 777,
   "id": "c49d2945",
   "metadata": {},
   "outputs": [
    {
     "name": "stdout",
     "output_type": "stream",
     "text": [
      "<class 'numpy.ndarray'>\n",
      "(630,)\n",
      "[0 1 2 3 4]\n"
     ]
    }
   ],
   "source": [
    "#resnet kmeans\n",
    "\n",
    "kmeans_res = KMeans(n_clusters = 5)\n",
    "\n",
    "kmeans_res.fit(res_representations)#representation vector 를 클러스터링\n",
    "\n",
    "print(type(kmeans_cluster.labels_))\n",
    "print(np.shape(kmeans_cluster.labels_))\n",
    "print(np.unique(kmeans_cluster.labels_))"
   ]
  },
  {
   "cell_type": "code",
   "execution_count": 776,
   "id": "27374512",
   "metadata": {},
   "outputs": [
    {
     "name": "stdout",
     "output_type": "stream",
     "text": [
      "<class 'numpy.ndarray'>\n",
      "(630,)\n",
      "[0 1 2 3 4]\n"
     ]
    }
   ],
   "source": [
    "kmeans_cluster1 = KMeans(n_clusters = 5)\n",
    "\n",
    "kmeans_cluster1.fit(p_modified_VGG16_representations)#representation vector 를 클러스터링\n",
    "\n",
    "print(type(kmeans_cluster1.labels_))\n",
    "print(np.shape(kmeans_cluster1.labels_))\n",
    "print(np.unique(kmeans_cluster1.labels_))"
   ]
  },
  {
   "cell_type": "code",
   "execution_count": 778,
   "id": "48f55297",
   "metadata": {
    "scrolled": true
   },
   "outputs": [
    {
     "name": "stderr",
     "output_type": "stream",
     "text": [
      "/Users/parksunghun/opt/anaconda3/lib/python3.8/site-packages/sklearn/manifold/_t_sne.py:780: FutureWarning: The default initialization in TSNE will change from 'random' to 'pca' in 1.2.\n",
      "  warnings.warn(\n",
      "/Users/parksunghun/opt/anaconda3/lib/python3.8/site-packages/sklearn/manifold/_t_sne.py:790: FutureWarning: The default learning rate in TSNE will change from 200.0 to 'auto' in 1.2.\n",
      "  warnings.warn(\n"
     ]
    },
    {
     "data": {
      "image/png": "[encoded data removed]",
      "text/plain": [
       "<Figure size 504x504 with 1 Axes>"
      ]
     },
     "metadata": {
      "needs_background": "light"
     },
     "output_type": "display_data"
    }
   ],
   "source": [
    "from sklearn.manifold import TSNE\n",
    "\n",
    "# T-SNE로 차원축소해서 이미지들 사이의 representation에 차이가 있는지 확인해본다\n",
    "x_embedded_final_1 = TSNE(n_components=2).fit_transform(res_representations)\n",
    "\n",
    "target_ids = range(0,5)\n",
    "\n",
    "plt.figure(figsize=(7, 7))\n",
    "colors = 'r', 'g', 'b', 'c', 'm'\n",
    "for i, c, label in zip(target_ids, colors, target_ids):\n",
    "    plt.scatter(x_embedded_final_1[kmeans_cluster.labels_ == i, 0], x_embedded_final_1[kmeans_cluster.labels_== i, 1], c=c, label=label)\n",
    "plt.legend()\n",
    "plt.show()"
   ]
  },
  {
   "cell_type": "code",
   "execution_count": 779,
   "id": "11694ad9",
   "metadata": {},
   "outputs": [
    {
     "name": "stderr",
     "output_type": "stream",
     "text": [
      "/Users/parksunghun/opt/anaconda3/lib/python3.8/site-packages/sklearn/manifold/_t_sne.py:780: FutureWarning: The default initialization in TSNE will change from 'random' to 'pca' in 1.2.\n",
      "  warnings.warn(\n",
      "/Users/parksunghun/opt/anaconda3/lib/python3.8/site-packages/sklearn/manifold/_t_sne.py:790: FutureWarning: The default learning rate in TSNE will change from 200.0 to 'auto' in 1.2.\n",
      "  warnings.warn(\n"
     ]
    }
   ],
   "source": [
    "# representation 벡터 형태 변환\n",
    "train_df = pd.DataFrame(res_representations)\n",
    "\n",
    "# 2차원 t-SNE 임베딩\n",
    "tsne_np = TSNE(n_components = 2).fit_transform(train_df)\n",
    "\n",
    "# numpy array -> DataFrame 변환\n",
    "tsne_df = pd.DataFrame(tsne_np, columns = ['component 0', 'component 1'])\n",
    "\n",
    "df_y = np.array(y_train)\n",
    "df_y = pd.DataFrame(df_y)\n",
    "tsne_df['target'] = pd.DataFrame(df_y)\n",
    "\n",
    "# target 별 분리\n",
    "tsne_df_0 = tsne_df[tsne_df['target'] == 0]\n",
    "tsne_df_1 = tsne_df[tsne_df['target'] == 1]\n",
    "tsne_df_2 = tsne_df[tsne_df['target'] == 2]\n",
    "tsne_df_3 = tsne_df[tsne_df['target'] == 3]\n",
    "tsne_df_4 = tsne_df[tsne_df['target'] == 4]\n",
    "tsne_df_5 = tsne_df[tsne_df['target'] == 5]"
   ]
  },
  {
   "cell_type": "code",
   "execution_count": 780,
   "id": "b8fc29f5",
   "metadata": {},
   "outputs": [
    {
     "data": {
      "image/png": "[encoded data removed]",
      "text/plain": [
       "<Figure size 432x288 with 1 Axes>"
      ]
     },
     "metadata": {
      "needs_background": "light"
     },
     "output_type": "display_data"
    },
    {
     "data": {
      "text/plain": [
       "<Figure size 432x288 with 0 Axes>"
      ]
     },
     "metadata": {},
     "output_type": "display_data"
    }
   ],
   "source": [
    "plt.scatter(tsne_df_0['component 0'], tsne_df_0['component 1'], color = 'pink', label = 'SDW')\n",
    "plt.scatter(tsne_df_1['component 0'], tsne_df_1['component 1'], color = 'purple', label = 'PSH')\n",
    "plt.scatter(tsne_df_2['component 0'], tsne_df_2['component 1'], color = 'yellow', label = 'LTS')\n",
    "plt.scatter(tsne_df_3['component 0'], tsne_df_3['component 1'], color = 'red', label = 'CJH')\n",
    "plt.scatter(tsne_df_4['component 0'], tsne_df_4['component 1'], color = 'blue', label = 'LCY')\n",
    "plt.scatter(tsne_df_5['component 0'], tsne_df_5['component 1'], color = 'green', label = 'HHY')\n",
    "\n",
    "plt.xlabel('component 0')\n",
    "plt.ylabel('component 1')\n",
    "plt.legend()\n",
    "plt.show()\n",
    "plt.savefig('tsne_sample.png')\n"
   ]
  },
  {
   "cell_type": "code",
   "execution_count": 383,
   "id": "3b51587f",
   "metadata": {},
   "outputs": [
    {
     "name": "stderr",
     "output_type": "stream",
     "text": [
      "/Users/parksunghun/opt/anaconda3/lib/python3.8/site-packages/sklearn/manifold/_t_sne.py:780: FutureWarning: The default initialization in TSNE will change from 'random' to 'pca' in 1.2.\n",
      "  warnings.warn(\n",
      "/Users/parksunghun/opt/anaconda3/lib/python3.8/site-packages/sklearn/manifold/_t_sne.py:790: FutureWarning: The default learning rate in TSNE will change from 200.0 to 'auto' in 1.2.\n",
      "  warnings.warn(\n"
     ]
    },
    {
     "data": {
      "image/png": "[encoded data removed]",
      "text/plain": [
       "<Figure size 504x504 with 1 Axes>"
      ]
     },
     "metadata": {
      "needs_background": "light"
     },
     "output_type": "display_data"
    }
   ],
   "source": [
    "from sklearn.manifold import TSNE\n",
    "\n",
    "# T-SNE로 차원축소해서 이미지들 사이의 representation에 차이가 있는지 확인해본다\n",
    "x_embedded_final_1 = TSNE(n_components=2).fit_transform(p_modified_VGG16_representations)\n",
    "\n",
    "target_ids = range(0,5)\n",
    "\n",
    "plt.figure(figsize=(7, 7))\n",
    "colors = 'r', 'g', 'b', 'c', 'm'\n",
    "for i, c, label in zip(target_ids, colors, target_ids):\n",
    "    plt.scatter(x_embedded_final_1[kmeans_cluster.labels_ == i, 0], x_embedded_final_1[kmeans_cluster.labels_== i, 1], c=c, label=label)\n",
    "plt.legend()\n",
    "plt.show()"
   ]
  },
  {
   "cell_type": "code",
   "execution_count": 289,
   "id": "1f6e2b98",
   "metadata": {},
   "outputs": [
    {
     "name": "stdout",
     "output_type": "stream",
     "text": [
      "Collecting yellowbrick\n",
      "  Downloading yellowbrick-1.4-py3-none-any.whl (274 kB)\n",
      "\u001b[2K     \u001b[90m━━━━━━━━━━━━━━━━━━━━━━━━━━━━━━━━━━━━━━━\u001b[0m \u001b[32m274.2/274.2 kB\u001b[0m \u001b[31m5.1 MB/s\u001b[0m eta \u001b[36m0:00:00\u001b[0ma \u001b[36m0:00:01\u001b[0m\n",
      "\u001b[?25hRequirement already satisfied: scikit-learn>=1.0.0 in /Users/parksunghun/opt/anaconda3/lib/python3.8/site-packages (from yellowbrick) (1.0.2)\n",
      "Requirement already satisfied: matplotlib!=3.0.0,>=2.0.2 in /Users/parksunghun/opt/anaconda3/lib/python3.8/site-packages (from yellowbrick) (3.5.0)\n",
      "Requirement already satisfied: numpy>=1.16.0 in /Users/parksunghun/opt/anaconda3/lib/python3.8/site-packages (from yellowbrick) (1.22.1)\n",
      "Requirement already satisfied: scipy>=1.0.0 in /Users/parksunghun/opt/anaconda3/lib/python3.8/site-packages (from yellowbrick) (1.4.1)\n",
      "Requirement already satisfied: cycler>=0.10.0 in /Users/parksunghun/opt/anaconda3/lib/python3.8/site-packages (from yellowbrick) (0.11.0)\n",
      "Requirement already satisfied: kiwisolver>=1.0.1 in /Users/parksunghun/opt/anaconda3/lib/python3.8/site-packages (from matplotlib!=3.0.0,>=2.0.2->yellowbrick) (1.3.1)\n",
      "Requirement already satisfied: packaging>=20.0 in /Users/parksunghun/opt/anaconda3/lib/python3.8/site-packages (from matplotlib!=3.0.0,>=2.0.2->yellowbrick) (21.3)\n",
      "Requirement already satisfied: fonttools>=4.22.0 in /Users/parksunghun/opt/anaconda3/lib/python3.8/site-packages (from matplotlib!=3.0.0,>=2.0.2->yellowbrick) (4.25.0)\n",
      "Requirement already satisfied: python-dateutil>=2.7 in /Users/parksunghun/opt/anaconda3/lib/python3.8/site-packages (from matplotlib!=3.0.0,>=2.0.2->yellowbrick) (2.8.2)\n",
      "Requirement already satisfied: pyparsing>=2.2.1 in /Users/parksunghun/opt/anaconda3/lib/python3.8/site-packages (from matplotlib!=3.0.0,>=2.0.2->yellowbrick) (3.0.4)\n",
      "Requirement already satisfied: pillow>=6.2.0 in /Users/parksunghun/opt/anaconda3/lib/python3.8/site-packages (from matplotlib!=3.0.0,>=2.0.2->yellowbrick) (8.4.0)\n",
      "Requirement already satisfied: joblib>=0.11 in /Users/parksunghun/opt/anaconda3/lib/python3.8/site-packages (from scikit-learn>=1.0.0->yellowbrick) (1.1.0)\n",
      "Requirement already satisfied: threadpoolctl>=2.0.0 in /Users/parksunghun/opt/anaconda3/lib/python3.8/site-packages (from scikit-learn>=1.0.0->yellowbrick) (2.2.0)\n",
      "Requirement already satisfied: six>=1.5 in /Users/parksunghun/opt/anaconda3/lib/python3.8/site-packages (from python-dateutil>=2.7->matplotlib!=3.0.0,>=2.0.2->yellowbrick) (1.16.0)\n",
      "Installing collected packages: yellowbrick\n",
      "Successfully installed yellowbrick-1.4\n"
     ]
    }
   ],
   "source": [
    "!pip install yellowbrick"
   ]
  },
  {
   "cell_type": "code",
   "execution_count": 446,
   "id": "69818dd4",
   "metadata": {},
   "outputs": [
    {
     "data": {
      "image/png": "[encoded data removed]",
      "text/plain": [
       "<Figure size 432x288 with 1 Axes>"
      ]
     },
     "metadata": {
      "needs_background": "light"
     },
     "output_type": "display_data"
    },
    {
     "data": {
      "text/plain": [
       "<AxesSubplot:title={'center':'Silhouette Plot of KMeans Clustering for 630 Samples in 5 Centers'}, xlabel='silhouette coefficient values', ylabel='cluster label'>"
      ]
     },
     "execution_count": 446,
     "metadata": {},
     "output_type": "execute_result"
    }
   ],
   "source": [
    "\n",
    "from yellowbrick.cluster import SilhouetteVisualizer\n",
    "\n",
    "#visualizer 생성\n",
    "visualizer_2 = SilhouetteVisualizer(kmeans_nin, colors='PiYG')\n",
    "\n",
    "#생성된 visualizer에 데이터 입력 \n",
    "visualizer_2.fit(nin_modified_VGG16_representations)      \n",
    "visualizer_2.show()"
   ]
  },
  {
   "cell_type": "code",
   "execution_count": 458,
   "id": "c455d0e1",
   "metadata": {},
   "outputs": [
    {
     "data": {
      "image/png": "[encoded data removed]",
      "text/plain": [
       "<Figure size 432x288 with 1 Axes>"
      ]
     },
     "metadata": {
      "needs_background": "light"
     },
     "output_type": "display_data"
    },
    {
     "data": {
      "text/plain": [
       "<AxesSubplot:title={'center':'Silhouette Plot of KMeans Clustering for 630 Samples in 5 Centers'}, xlabel='silhouette coefficient values', ylabel='cluster label'>"
      ]
     },
     "execution_count": 458,
     "metadata": {},
     "output_type": "execute_result"
    }
   ],
   "source": [
    "\n",
    "from yellowbrick.cluster import SilhouetteVisualizer\n",
    "\n",
    "#visualizer 생성\n",
    "visualizer_2 = SilhouetteVisualizer(kmeans_cluster, colors='PiYG')\n",
    "\n",
    "#생성된 visualizer에 데이터 입력 \n",
    "visualizer_2.fit(train_modified_VGG16_representations)      \n",
    "visualizer_2.show()"
   ]
  },
  {
   "cell_type": "code",
   "execution_count": 263,
   "id": "ee620532",
   "metadata": {},
   "outputs": [],
   "source": [
    "cluster_sub_points1 = train_modified_VGG16_representations[kmeans_cluster.labels_ == 1]"
   ]
  },
  {
   "cell_type": "code",
   "execution_count": 264,
   "id": "b8c5228f",
   "metadata": {},
   "outputs": [
    {
     "data": {
      "text/plain": [
       "(23, 10)"
      ]
     },
     "execution_count": 264,
     "metadata": {},
     "output_type": "execute_result"
    }
   ],
   "source": [
    "cluster_sub_points1.shape"
   ]
  },
  {
   "cell_type": "code",
   "execution_count": 265,
   "id": "0be86e1a",
   "metadata": {},
   "outputs": [],
   "source": [
    "cluster_sub_points2 = train_modified_VGG16_representations[kmeans_cluster.labels_ == 2]"
   ]
  },
  {
   "cell_type": "code",
   "execution_count": 266,
   "id": "7ab09dab",
   "metadata": {},
   "outputs": [
    {
     "data": {
      "text/plain": [
       "(38, 10)"
      ]
     },
     "execution_count": 266,
     "metadata": {},
     "output_type": "execute_result"
    }
   ],
   "source": [
    "cluster_sub_points2.shape"
   ]
  },
  {
   "cell_type": "code",
   "execution_count": 267,
   "id": "1261cd11",
   "metadata": {},
   "outputs": [],
   "source": [
    "cluster_sub_points3 = train_modified_VGG16_representations[kmeans_cluster.labels_ == 3]"
   ]
  },
  {
   "cell_type": "code",
   "execution_count": 268,
   "id": "6f7796d1",
   "metadata": {},
   "outputs": [
    {
     "data": {
      "text/plain": [
       "(194, 10)"
      ]
     },
     "execution_count": 268,
     "metadata": {},
     "output_type": "execute_result"
    }
   ],
   "source": [
    "cluster_sub_points3.shape"
   ]
  },
  {
   "cell_type": "code",
   "execution_count": 270,
   "id": "4a749c1e",
   "metadata": {},
   "outputs": [],
   "source": [
    "cluster_sub_points4 = train_modified_VGG16_representations[kmeans_cluster.labels_ == 4]"
   ]
  },
  {
   "cell_type": "code",
   "execution_count": 271,
   "id": "6c47a181",
   "metadata": {},
   "outputs": [
    {
     "data": {
      "text/plain": [
       "(56, 10)"
      ]
     },
     "execution_count": 271,
     "metadata": {},
     "output_type": "execute_result"
    }
   ],
   "source": [
    "cluster_sub_points4.shape"
   ]
  },
  {
   "cell_type": "code",
   "execution_count": 272,
   "id": "3ca681f2",
   "metadata": {},
   "outputs": [
    {
     "name": "stdout",
     "output_type": "stream",
     "text": [
      "(319, 10)\n",
      "(23, 10)\n",
      "(38, 10)\n",
      "(194, 10)\n",
      "(56, 10)\n",
      "(0, 10)\n",
      "(0, 10)\n",
      "(0, 10)\n",
      "(0, 10)\n",
      "(0, 10)\n",
      "(0, 10)\n"
     ]
    }
   ],
   "source": [
    "for cluster in range(11):\n",
    "    cluster_points = train_modified_VGG16_representations[kmeans_cluster.labels_ == cluster]\n",
    "    print(cluster_points.shape)"
   ]
  },
  {
   "cell_type": "code",
   "execution_count": 339,
   "id": "fddbd18c",
   "metadata": {},
   "outputs": [
    {
     "data": {
      "image/png": "[encoded data removed]",
      "text/plain": [
       "<Figure size 432x288 with 1 Axes>"
      ]
     },
     "metadata": {
      "needs_background": "light"
     },
     "output_type": "display_data"
    }
   ],
   "source": [
    "# 결과 시각화\n",
    "# n 번째 클러스터 데이터를 어떤 색으로 도식할 지 결정하는 color dictionary\n",
    "color_dict = {0: 'red', 1: 'blue', 2:'green', 3:'brown', 4:'indigo', 5: 'k'}\n",
    "\n",
    "# 점 데이터를 X-Y grid에 시각화합니다.\n",
    "fig = plt.figure()\n",
    "ax = fig.add_subplot(1,1,1)\n",
    "\n",
    "# K-means clustering의 결과대로 색깔별로 구분하여 점에 색칠한 후 도식\n",
    "for cluster in range(5):\n",
    "    # 전체 무작위 점 데이터에서 K-means 알고리즘에 의해 군집화된 sub data를 분리합니다. \n",
    "    cluster_sub_points = train_modified_VGG16_representations[kmeans_cluster.labels_ == cluster]\n",
    "    \n",
    "    # 해당 sub data를 plot합니다.\n",
    "    ax.scatter(cluster_sub_points[:,0], cluster_sub_points[:,1],    # X축 좌표, Y축 좌표\n",
    "              c=color_dict[cluster], label = 'cluster_{}'.format(cluster))\n",
    "    \n",
    "    # 축 이름을 라벨에 달고, 점 데이터 그리기\n",
    "    ax.set_xlabel('X')\n",
    "    ax.set_ylabel('Y')\n",
    "    ax.legend()\n",
    "    ax.grid()"
   ]
  },
  {
   "cell_type": "code",
   "execution_count": 340,
   "id": "9a848391",
   "metadata": {},
   "outputs": [
    {
     "data": {
      "image/png": "[encoded data removed]",
      "text/plain": [
       "<Figure size 432x288 with 1 Axes>"
      ]
     },
     "metadata": {
      "needs_background": "light"
     },
     "output_type": "display_data"
    }
   ],
   "source": [
    "# 결과 시각화\n",
    "# n 번째 클러스터 데이터를 어떤 색으로 도식할 지 결정하는 color dictionary\n",
    "color_dict = {0: 'red', 1: 'blue', 2:'green', 3:'brown', 4:'indigo', 5: 'k'}\n",
    "\n",
    "# 점 데이터를 X-Y grid에 시각화합니다.\n",
    "fig = plt.figure()\n",
    "ax = fig.add_subplot(1,1,1)\n",
    "\n",
    "# K-means clustering의 결과대로 색깔별로 구분하여 점에 색칠한 후 도식\n",
    "for cluster in range(5):\n",
    "    # 전체 무작위 점 데이터에서 K-means 알고리즘에 의해 군집화된 sub data를 분리합니다. \n",
    "    cluster_sub_points = p_modified_VGG16_representations[kmeans_cluster.labels_ == cluster]\n",
    "    \n",
    "    # 해당 sub data를 plot합니다.\n",
    "    ax.scatter(cluster_sub_points[:,0], cluster_sub_points[:,1],    # X축 좌표, Y축 좌표\n",
    "              c=color_dict[cluster], label = 'cluster_{}'.format(cluster))\n",
    "    \n",
    "    # 축 이름을 라벨에 달고, 점 데이터 그리기\n",
    "    ax.set_xlabel('X')\n",
    "    ax.set_ylabel('Y')\n",
    "    ax.legend()\n",
    "    ax.grid()"
   ]
  },
  {
   "cell_type": "code",
   "execution_count": 242,
   "id": "39894d57",
   "metadata": {},
   "outputs": [
    {
     "data": {
      "text/plain": [
       "array([1, 4, 0, 3, 3, 0, 0, 2, 2, 3, 2, 1, 2, 2, 1, 3, 0, 0, 1, 4, 2, 0,\n",
       "       0, 2, 2, 1, 1, 4, 1, 4, 2, 3, 0, 3, 3, 1, 4, 0, 2, 3, 4, 0, 3, 1,\n",
       "       0, 0, 0, 1, 4, 0, 2, 1, 2, 2, 1, 4, 3, 3, 1, 4, 2, 1, 4, 1, 0, 1,\n",
       "       3, 2, 1, 0, 1, 2, 4, 3, 3, 1, 1, 1, 1, 1, 1, 1, 2, 4, 2, 0, 1, 4,\n",
       "       3, 1, 4, 1, 1, 2, 0, 1, 4, 0, 4, 3, 3, 0, 4, 2, 3, 3, 4, 3, 0, 4,\n",
       "       0, 1, 3, 1, 0, 1, 2, 3, 4, 1, 4, 2, 0, 3, 4, 0, 3, 2, 0, 4, 1, 1,\n",
       "       4, 1, 4, 3, 0, 1, 1, 1, 2, 1, 2, 1, 2, 0, 3, 2, 1, 1, 2, 2, 1, 1,\n",
       "       4, 3, 4, 2, 3, 0, 3, 4, 4, 3, 3, 2, 4, 1, 4, 3, 0, 1, 1, 4, 0, 1,\n",
       "       2, 2, 1, 4, 1, 2, 4, 2, 1, 0, 4, 4, 1, 1, 1, 1, 1, 0, 1, 1, 3, 0,\n",
       "       3, 0, 0, 4, 3, 1, 1, 1, 3, 4, 2, 3, 1, 3, 2, 3, 4, 3, 1, 4, 2, 1,\n",
       "       0, 1, 1, 4, 0, 0, 0, 3, 3, 0, 0, 0, 1, 4, 1, 3, 2, 4, 0, 3, 1, 0,\n",
       "       0, 4, 1, 2, 1, 3, 4, 2, 3, 0, 0, 2, 1, 1, 4, 4, 1, 0, 0, 3, 1, 3,\n",
       "       1, 0, 2, 0, 1, 4, 0, 0, 2, 2, 1, 3, 1, 4, 1, 3, 3, 4, 2, 1, 3, 4,\n",
       "       2, 4, 1, 3, 2, 4, 0, 4, 1, 1, 3, 4, 3, 3, 2, 1, 0, 2, 1, 2, 0, 4,\n",
       "       4, 2, 0, 4, 1, 1, 1, 1, 0, 4, 0, 3, 2, 3, 3, 2, 4, 2, 4, 1, 1, 3,\n",
       "       1, 1, 2, 0, 4, 0, 4, 1, 1, 1, 3, 1, 1, 0, 0, 3, 2, 2, 0, 1, 0, 4,\n",
       "       0, 2, 1, 3, 2, 1, 0, 1, 1, 1, 3, 0, 4, 1, 1, 3, 4, 1, 1, 4, 1, 2,\n",
       "       0, 2, 1, 4, 3, 4, 0, 0, 3, 4, 0, 1, 1, 3, 2, 1, 0, 2, 0, 0, 2, 1,\n",
       "       1, 4, 1, 2, 1, 4, 0, 4, 4, 4, 4, 1, 1, 1, 3, 3, 4, 3, 3, 4, 2, 0,\n",
       "       3, 1, 1, 1, 3, 1, 3, 2, 3, 1, 2, 1, 2, 1, 3, 0, 0, 1, 1, 3, 4, 4,\n",
       "       4, 1, 4, 1, 0, 4, 3, 1, 4, 4, 0, 3, 0, 0, 2, 0, 0, 1, 1, 4, 2, 1,\n",
       "       1, 3, 0, 3, 2, 4, 0, 0, 2, 3, 4, 1, 3, 0, 2, 0, 0, 2, 4, 2, 1, 1,\n",
       "       4, 1, 1, 0, 1, 1, 1, 2, 1, 1, 2, 4, 3, 3, 1, 2, 2, 1, 1, 1, 2, 4,\n",
       "       4, 3, 4, 1, 1, 0, 0, 1, 2, 4, 0, 2, 3, 1, 1, 3, 2, 4, 4, 3, 0, 4,\n",
       "       2, 1, 2, 1, 1, 1, 1, 2, 0, 2, 4, 2, 1, 1, 3, 3, 2, 4, 0, 3, 1, 0,\n",
       "       2, 4, 1, 3, 3, 0, 3, 3, 2, 2, 1, 2, 2, 4, 0, 4, 1, 3, 4, 3, 1, 3,\n",
       "       0, 3, 3, 0, 2, 0, 1, 1, 4, 2, 1, 1, 1, 1, 4, 3, 3, 3, 0, 1, 2, 4,\n",
       "       1, 2, 4, 4, 1, 4, 1, 3, 2, 3, 3, 2, 0, 2, 4, 2, 4, 3, 2, 4, 1, 1,\n",
       "       1, 1, 0, 4, 0, 1, 1, 1, 0, 1, 0, 1, 1, 1], dtype=int32)"
      ]
     },
     "execution_count": 242,
     "metadata": {},
     "output_type": "execute_result"
    }
   ],
   "source": [
    "kmeans_cluster.labels_"
   ]
  },
  {
   "cell_type": "code",
   "execution_count": 33,
   "id": "5963f134",
   "metadata": {},
   "outputs": [
    {
     "data": {
      "text/plain": [
       "array([0.0, 0.0, 0.0, 0.0, 0.0, 0.0, 0.0, 0.0, 0.0, 0.0, 0.0, 0.0, 0.0,\n",
       "       0.0, 0.0, 0.0, 0.0, 0.0, 0.0, 0.0, 0.0, 0.0, 0.0, 0.0, 0.0, 0.0],\n",
       "      dtype=object)"
      ]
     },
     "execution_count": 33,
     "metadata": {},
     "output_type": "execute_result"
    }
   ],
   "source": [
    "cluster_sub_points[:,1]"
   ]
  },
  {
   "cell_type": "code",
   "execution_count": 34,
   "id": "a25aed24",
   "metadata": {},
   "outputs": [
    {
     "data": {
      "image/png": "[encoded data removed]",
      "text/plain": [
       "<Figure size 432x288 with 1 Axes>"
      ]
     },
     "metadata": {
      "needs_background": "light"
     },
     "output_type": "display_data"
    }
   ],
   "source": [
    "from sklearn.datasets import make_circles\n",
    "\n",
    "# 원형 분포데이터\n",
    "# 원형 분포를 가지는 점 데이터 100개를 생성합니다.\n",
    "circle_points, circle_labels = make_circles(n_samples = 100,\n",
    "                                           factor = 0.5, noise = 0.01)\n",
    "\n",
    "# 캔버스 생성\n",
    "fig = plt.figure()\n",
    "ax = fig.add_subplot(1,1,1)\n",
    "\n",
    "# 원형 분포에 대해 K-menas 수행\n",
    "circle_kmeans = KMeans(n_clusters = 2)\n",
    "circle_kmeans.fit(circle_points)\n",
    "color_dict = {0:'red', 1:'blue'}\n",
    "for cluster in range(2):\n",
    "    cluster_sub_points = circle_points[circle_kmeans.labels_ == cluster]\n",
    "    ax.scatter(cluster_sub_points[:, 0], cluster_sub_points[:, 1],\n",
    "              c = color_dict[cluster], label = 'cluster_{}'.format(cluster))\n",
    "ax.set_title('K-means on circle data, K=2')\n",
    "ax.set_xlabel('X')\n",
    "ax.set_ylabel('Y')\n",
    "ax.legend()\n",
    "ax.grid()"
   ]
  },
  {
   "cell_type": "code",
   "execution_count": 35,
   "id": "f43dd0d2",
   "metadata": {},
   "outputs": [
    {
     "name": "stderr",
     "output_type": "stream",
     "text": [
      "No handles with labels found to put in legend.\n"
     ]
    },
    {
     "name": "stdout",
     "output_type": "stream",
     "text": [
      "# of cluster: 30\n",
      "DBSCAN Y-hat: [22  0  1  2  0 -1 20 -1 -1 -1 -1  2 18 -1 -1 -1  2 -1 -1 -1 -1 -1 -1  2\n",
      " -1 -1 -1  3  2 -1 -1 -1  4  5 -1  6 -1 -1 -1 -1 19  2 -1 -1 -1  7 -1  8\n",
      " -1  2  2  9 -1 -1 -1  2  2 -1 10 -1 -1  2 24 -1 -1 -1 -1 11 -1 -1 -1 -1\n",
      " -1 -1 -1  2 -1 -1 20 -1  9  9 -1  5 -1 -1 12 -1  2 -1 -1 -1 -1 -1 -1 29\n",
      " -1 -1 11 -1 -1 12 -1 -1  2 -1 -1 -1 -1 -1  0 -1 -1 -1  9 -1 -1 -1  7  2\n",
      "  2 10 -1  2 10 -1  2 -1 -1 -1  2 13 -1 -1  2 -1 -1 -1  5 14 -1 -1 15 -1\n",
      " -1 -1  5  2 13  5 13 -1 -1  3 16 -1  6 14 -1  2  2  6 -1  5 -1  8 -1 -1\n",
      "  1  5 -1  8  5  2 -1 -1 -1  2 -1 -1 -1 17 -1 -1  2  7 -1 -1 -1 -1 28 13\n",
      " -1 -1 -1  5 -1 -1 -1 -1 27 -1 -1 -1 -1 -1 25  2 -1 -1 -1 -1 -1  2 -1 -1\n",
      " -1 18  2 -1 19 -1 -1 -1  3 -1 -1 -1 -1 13  2 -1 -1  0  0 -1  5 -1  0 -1\n",
      " -1 -1 -1 20  2 13 -1 -1 -1 -1 19 -1 -1 -1 -1  9 -1 -1 -1 -1 11 -1 -1 -1\n",
      " 13  2 20 -1 -1  5 -1 -1 -1 -1 13  2 -1 -1 -1 -1  4 18 -1  2 -1  5 21 29\n",
      " 18 -1 22  2  5 17  5 -1 23 21 -1 -1 -1 -1  0 -1 -1  9  2 21  2 -1  2  3\n",
      " -1 -1 -1 -1 -1 -1  9 20 -1 -1 -1  8  1 12 -1 -1 -1 28 26 -1 -1 19 -1  2\n",
      "  2 -1 13 -1  0  5 -1 -1 14 -1 -1  5 -1 -1 -1 -1  9 -1 -1 -1 -1  2  2  4\n",
      " 14 -1 -1 -1  2 -1 16  2 -1  2 -1 24 20 -1 -1 -1  0 -1  5 -1 -1 25 25  2\n",
      " -1  2 -1 -1 -1 -1  2 -1  6 -1 -1 15 -1 -1 25 -1  0 -1 -1 -1 -1 -1 -1 -1\n",
      "  2 -1 -1  5 -1  2 20 -1 26 -1 18  5  7 -1  9 -1 -1 -1  6 13 -1 -1 -1  2\n",
      " -1 -1 -1  2  5 -1 -1 -1 -1 -1 -1  2 -1 -1 15 -1 13 -1 -1 -1 -1 -1 -1 -1\n",
      " -1 -1 24 -1 -1 -1 -1 -1 -1 -1 27 15 -1 -1 -1 -1 -1 -1 -1 -1 17 -1 -1 -1\n",
      "  7  2 -1  5 -1 -1 -1 -1 -1 26  4 -1 -1 -1 -1 13 -1 23  5 16 -1  3 -1 -1\n",
      " -1  2  2 -1  2  2 -1  5 -1 -1 19 -1  5  4 -1 -1 -1 -1 -1 -1 20 -1 -1 -1\n",
      "  5 23  2  5 -1 -1 -1  9 -1 27 -1 -1 -1 -1  2 28 -1 -1 -1 -1 -1 15 -1 -1\n",
      " -1  2 -1  2 26 -1 -1  2  5 -1 -1 -1 -1 -1 -1 12 18 -1 15 -1 -1 -1 -1 -1\n",
      " 18 -1 -1 -1 -1 -1 -1 -1 22 -1  5 -1 -1 19 -1 18 -1 -1  2  2 -1 -1 -1 13\n",
      " -1 -1  7 -1 -1 -1  5 -1 13  5 29 -1 -1 -1  2 -1  2 -1  2 18 -1 -1 27  0\n",
      "  7 -1  5 -1 -1 -1]\n"
     ]
    },
    {
     "data": {
      "image/png": "[encoded data removed]",
      "text/plain": [
       "<Figure size 432x288 with 1 Axes>"
      ]
     },
     "metadata": {
      "needs_background": "light"
     },
     "output_type": "display_data"
    }
   ],
   "source": [
    "# DBSCAN으로 circle, moon, diagonal shaped data를 군집화한 결과\n",
    "from sklearn.cluster import DBSCAN\n",
    "\n",
    "fig = plt.figure()\n",
    "ax = fig.add_subplot(1,1,1)\n",
    "# n 번째 클러스터 데이터를 어떤 색으로 도식할 지 결정하는 color dictionary\n",
    "color_dict = {0: 'red', 1: 'blue', 2: 'green', 3:'brown',4:'purple', 5:'k'} \n",
    "\n",
    "# 원형 분포 데이터 plot\n",
    "epsilon, minPts = 0.2, 3   # 2)와 3) 과정에서 사용할 epsilon, minPts 값을 설정\n",
    "circle_dbscan = DBSCAN(eps = epsilon, min_samples = minPts)   # 위에서 생성한 원형 분포 데이터에 DBSCAN setting\n",
    "# circle_dbscan.fit(circle_points)    # 3) ~ 5) 과정을 반복\n",
    "circle_dbscan.fit(train_modified_VGG16_representations) \n",
    "n_cluster = max(circle_dbscan.labels_)+1       # 3) ~5) 과정의 반복으로 클러스터의 수 도출\n",
    "# n_cluster = max(circle_dbscan.labels_)+1       # 3) ~5) 과정의 반복으로 클러스터의 수 도출\n",
    "\n",
    "print(f'# of cluster: {n_cluster}')\n",
    "print(f'DBSCAN Y-hat: {circle_dbscan.labels_}')\n",
    "\n",
    "# DBSCAN 알고리즘의 수행결과로 도출된 클러스터의 수를 기반으로 색깔별로 구분하여 점에 색칠한 후 도식\n",
    "for cluster in range(6):\n",
    "# for cluster in range(n_cluster):\n",
    "    cluster_sub_points = train_modified_VGG16_representations[circle_dbscan.labels_ == cluster]\n",
    "    ax.scatter(cluster_sub_points[:, 0], cluster_sub_points[:, 1], \n",
    "               c= color_dict[cluster], \n",
    "#                label = 'cluster_{}'.format(cluster)\n",
    "              )\n",
    "\n",
    "ax.set_title('DBSCAN on circle data')\n",
    "ax.set_xlabel('X')\n",
    "ax.set_ylabel('Y')\n",
    "ax.legend()\n",
    "ax.grid()"
   ]
  },
  {
   "cell_type": "code",
   "execution_count": 36,
   "id": "0b56b4af",
   "metadata": {},
   "outputs": [
    {
     "data": {
      "text/plain": [
       "array([22,  0,  1,  2,  0, -1, 20, -1, -1, -1, -1,  2, 18, -1, -1, -1,  2,\n",
       "       -1, -1, -1, -1, -1, -1,  2, -1, -1, -1,  3,  2, -1, -1, -1,  4,  5,\n",
       "       -1,  6, -1, -1, -1, -1, 19,  2, -1, -1, -1,  7, -1,  8, -1,  2,  2,\n",
       "        9, -1, -1, -1,  2,  2, -1, 10, -1, -1,  2, 24, -1, -1, -1, -1, 11,\n",
       "       -1, -1, -1, -1, -1, -1, -1,  2, -1, -1, 20, -1,  9,  9, -1,  5, -1,\n",
       "       -1, 12, -1,  2, -1, -1, -1, -1, -1, -1, 29, -1, -1, 11, -1, -1, 12,\n",
       "       -1, -1,  2, -1, -1, -1, -1, -1,  0, -1, -1, -1,  9, -1, -1, -1,  7,\n",
       "        2,  2, 10, -1,  2, 10, -1,  2, -1, -1, -1,  2, 13, -1, -1,  2, -1,\n",
       "       -1, -1,  5, 14, -1, -1, 15, -1, -1, -1,  5,  2, 13,  5, 13, -1, -1,\n",
       "        3, 16, -1,  6, 14, -1,  2,  2,  6, -1,  5, -1,  8, -1, -1,  1,  5,\n",
       "       -1,  8,  5,  2, -1, -1, -1,  2, -1, -1, -1, 17, -1, -1,  2,  7, -1,\n",
       "       -1, -1, -1, 28, 13, -1, -1, -1,  5, -1, -1, -1, -1, 27, -1, -1, -1,\n",
       "       -1, -1, 25,  2, -1, -1, -1, -1, -1,  2, -1, -1, -1, 18,  2, -1, 19,\n",
       "       -1, -1, -1,  3, -1, -1, -1, -1, 13,  2, -1, -1,  0,  0, -1,  5, -1,\n",
       "        0, -1, -1, -1, -1, 20,  2, 13, -1, -1, -1, -1, 19, -1, -1, -1, -1,\n",
       "        9, -1, -1, -1, -1, 11, -1, -1, -1, 13,  2, 20, -1, -1,  5, -1, -1,\n",
       "       -1, -1, 13,  2, -1, -1, -1, -1,  4, 18, -1,  2, -1,  5, 21, 29, 18,\n",
       "       -1, 22,  2,  5, 17,  5, -1, 23, 21, -1, -1, -1, -1,  0, -1, -1,  9,\n",
       "        2, 21,  2, -1,  2,  3, -1, -1, -1, -1, -1, -1,  9, 20, -1, -1, -1,\n",
       "        8,  1, 12, -1, -1, -1, 28, 26, -1, -1, 19, -1,  2,  2, -1, 13, -1,\n",
       "        0,  5, -1, -1, 14, -1, -1,  5, -1, -1, -1, -1,  9, -1, -1, -1, -1,\n",
       "        2,  2,  4, 14, -1, -1, -1,  2, -1, 16,  2, -1,  2, -1, 24, 20, -1,\n",
       "       -1, -1,  0, -1,  5, -1, -1, 25, 25,  2, -1,  2, -1, -1, -1, -1,  2,\n",
       "       -1,  6, -1, -1, 15, -1, -1, 25, -1,  0, -1, -1, -1, -1, -1, -1, -1,\n",
       "        2, -1, -1,  5, -1,  2, 20, -1, 26, -1, 18,  5,  7, -1,  9, -1, -1,\n",
       "       -1,  6, 13, -1, -1, -1,  2, -1, -1, -1,  2,  5, -1, -1, -1, -1, -1,\n",
       "       -1,  2, -1, -1, 15, -1, 13, -1, -1, -1, -1, -1, -1, -1, -1, -1, 24,\n",
       "       -1, -1, -1, -1, -1, -1, -1, 27, 15, -1, -1, -1, -1, -1, -1, -1, -1,\n",
       "       17, -1, -1, -1,  7,  2, -1,  5, -1, -1, -1, -1, -1, 26,  4, -1, -1,\n",
       "       -1, -1, 13, -1, 23,  5, 16, -1,  3, -1, -1, -1,  2,  2, -1,  2,  2,\n",
       "       -1,  5, -1, -1, 19, -1,  5,  4, -1, -1, -1, -1, -1, -1, 20, -1, -1,\n",
       "       -1,  5, 23,  2,  5, -1, -1, -1,  9, -1, 27, -1, -1, -1, -1,  2, 28,\n",
       "       -1, -1, -1, -1, -1, 15, -1, -1, -1,  2, -1,  2, 26, -1, -1,  2,  5,\n",
       "       -1, -1, -1, -1, -1, -1, 12, 18, -1, 15, -1, -1, -1, -1, -1, 18, -1,\n",
       "       -1, -1, -1, -1, -1, -1, 22, -1,  5, -1, -1, 19, -1, 18, -1, -1,  2,\n",
       "        2, -1, -1, -1, 13, -1, -1,  7, -1, -1, -1,  5, -1, 13,  5, 29, -1,\n",
       "       -1, -1,  2, -1,  2, -1,  2, 18, -1, -1, 27,  0,  7, -1,  5, -1, -1,\n",
       "       -1], dtype=int64)"
      ]
     },
     "execution_count": 36,
     "metadata": {},
     "output_type": "execute_result"
    }
   ],
   "source": [
    "circle_dbscan.labels_"
   ]
  },
  {
   "cell_type": "code",
   "execution_count": 37,
   "id": "990a9547",
   "metadata": {},
   "outputs": [
    {
     "data": {
      "text/plain": [
       "DBSCAN(eps=0.2, min_samples=3)"
      ]
     },
     "execution_count": 37,
     "metadata": {},
     "output_type": "execute_result"
    }
   ],
   "source": [
    "circle_dbscan"
   ]
  },
  {
   "cell_type": "code",
   "execution_count": 38,
   "id": "f9f9fd6b",
   "metadata": {},
   "outputs": [
    {
     "data": {
      "image/png": "[encoded data removed]",
      "text/plain": [
       "<Figure size 432x288 with 1 Axes>"
      ]
     },
     "metadata": {
      "needs_background": "light"
     },
     "output_type": "display_data"
    }
   ],
   "source": [
    "# K-means algorithm이 잘 동작하지 않는 예시 (2) 달 모양 분포\n",
    "from sklearn.datasets import make_moons\n",
    "\n",
    "# 달 모양 분포의 데이터 생성\n",
    "# 달 모양 분포를 가지는 점 데이터 100개를 생성합니다.\n",
    "moon_points, moon_labels = make_moons(n_samples = 100, noise = 0.01)\n",
    "\n",
    "# 캔버스 생성\n",
    "fig = plt.figure()\n",
    "ax = fig.add_subplot(1,1,1)\n",
    "\n",
    "# 달 모양 데이터 plot\n",
    "moon_kmeans = KMeans(n_clusters = 2)\n",
    "moon_kmeans.fit(moon_points)\n",
    "color_dict = {0:'red', 1:'blue'}\n",
    "for cluster in range(2):\n",
    "    cluster_sub_points = moon_points[moon_kmeans.labels_ == cluster]\n",
    "    ax.scatter(cluster_sub_points[:,0], cluster_sub_points[:,1],\n",
    "              c = color_dict[cluster], label = 'cluster_{}'.format(cluster))\n",
    "ax.set_title('K-means on moon-shaped data, K=2')\n",
    "ax.set_xlabel('X')\n",
    "ax.set_ylabel('Y')\n",
    "ax.legend()\n",
    "ax.grid()"
   ]
  },
  {
   "cell_type": "code",
   "execution_count": 39,
   "id": "d4f5c6ea",
   "metadata": {},
   "outputs": [
    {
     "data": {
      "image/png": "[encoded data removed]",
      "text/plain": [
       "<Figure size 432x288 with 1 Axes>"
      ]
     },
     "metadata": {
      "needs_background": "light"
     },
     "output_type": "display_data"
    }
   ],
   "source": [
    "# K-means algorithm이 잘 동작하지 않는 예시 (3) 대각선 모양 분포\n",
    "from sklearn.datasets import make_circles, make_moons, make_blobs\n",
    "\n",
    "# 대각선 모양 분포의 데이터 생성\n",
    "#대각선 분포를 가지는 점 데이터 100개를 생성합니다.(현재는 무작위 분포)\n",
    "diag_points, _ = make_blobs(n_samples = 100, random_state = 170)\n",
    "transformation = [[0.6, -0.6], [-0.4, 0.8]] # 대각선 변환을 위한 대각행렬\n",
    "\n",
    "#본 과정을 통해 무작위 분포의 점 데이터를 대각선 분포로 변환합니다.\n",
    "diag_points = np.dot(diag_points, transformation) \n",
    "\n",
    "# 캔버스 생성\n",
    "fig = plt.figure()\n",
    "ax = fig.add_subplot(1,1,1)\n",
    "\n",
    "# 대각선 모양 분포 데이터 plot\n",
    "diag_kmeans = KMeans(n_clusters = 3)\n",
    "diag_kmeans.fit(diag_points)\n",
    "color_dict = {0: 'red', 1: 'blue', 2: 'green'}\n",
    "for cluster in range(3):\n",
    "    cluster_sub_points = diag_points[diag_kmeans.labels_ == cluster]\n",
    "    ax.scatter(cluster_sub_points[:, 0], cluster_sub_points[:, 1],\n",
    "              c = color_dict[cluster], label = 'cluster_{}'.format(cluster))\n",
    "ax.set_title('K-means on diagonal-shaped data, K=2')\n",
    "ax.set_xlabel('X')\n",
    "ax.set_ylabel('Y')\n",
    "ax.legend()\n",
    "ax.grid()"
   ]
  },
  {
   "cell_type": "code",
   "execution_count": 40,
   "id": "6d5aec1b",
   "metadata": {},
   "outputs": [
    {
     "name": "stdout",
     "output_type": "stream",
     "text": [
      "# of cluster: 4\n",
      "DBSCAN Y-hat: [-1  0  0  0 -1  1  1  1  3  0  1  2 -1  2  2  1  1  2  0 -1  0  2  2  2\n",
      "  2  0  3  2  1  0  3  1  2 -1 -1  0  1  1  0  1  0  2  0  1 -1  2  2  1\n",
      "  0  2 -1  0  2  0 -1 -1 -1  0 -1 -1 -1  2  0  1  0  2  0 -1  0  2  1  1\n",
      "  1 -1  1  2  0  1  2  2  1  1  1  2  0  1  2  2 -1  2  0  2  2  1  0  2\n",
      "  1  0  0  1]\n"
     ]
    },
    {
     "data": {
      "image/png": "[encoded data removed]",
      "text/plain": [
       "<Figure size 432x288 with 1 Axes>"
      ]
     },
     "metadata": {
      "needs_background": "light"
     },
     "output_type": "display_data"
    }
   ],
   "source": [
    "# 대각선 모양 분포 데이터 plot - 위와 같은 과정 반복\n",
    "from sklearn.datasets import make_circles, make_moons, make_blobs\n",
    "diag_points, _ = make_blobs(n_samples = 100, random_state = 200)\n",
    "fig = plt.figure()\n",
    "ax = fig.add_subplot(1,1,1)\n",
    "color_dict = {0: 'red', 1: 'blue', 2: 'green', 3:'brown',4:'purple'} # n 번째 클러스터 데이터를 어떤 색으로 도식할 지 결정하는 color dictionary\n",
    "\n",
    "epsilon, minPts = 0.7, 3\n",
    "diag_dbscan = DBSCAN(eps = epsilon, min_samples = minPts)\n",
    "diag_dbscan.fit(diag_points)\n",
    "n_cluster = max(diag_dbscan.labels_)+1\n",
    "\n",
    "print(f'# of cluster: {n_cluster}')\n",
    "print(f'DBSCAN Y-hat: {diag_dbscan.labels_}')\n",
    "\n",
    "for cluster in range(n_cluster):\n",
    "    cluster_sub_points = diag_points[diag_dbscan.labels_ == cluster]\n",
    "    ax.scatter(cluster_sub_points[:, 0], cluster_sub_points[:, 1],\n",
    "               c= color_dict[cluster], label = 'cluster_{}'.format(cluster))\n",
    "ax.set_title('DBSCAN on diagonal shaped data')\n",
    "ax.set_xlabel('X')\n",
    "ax.set_ylabel('Y')\n",
    "ax.legend()\n",
    "ax.grid()\n"
   ]
  },
  {
   "cell_type": "code",
   "execution_count": 41,
   "id": "c08c7d0e",
   "metadata": {},
   "outputs": [
    {
     "data": {
      "text/plain": [
       "(100, 2)"
      ]
     },
     "execution_count": 41,
     "metadata": {},
     "output_type": "execute_result"
    }
   ],
   "source": [
    "diag_points.shape"
   ]
  },
  {
   "cell_type": "code",
   "execution_count": 42,
   "id": "6a7ad4b5",
   "metadata": {},
   "outputs": [],
   "source": [
    "from sklearn.decomposition import PCA\n",
    "color_dict = {0: 'red', 1: 'blue', 2: 'green', 3:'brown',4:'purple', 5:'k'} \n",
    "target_dict = {0: 'malignat_train', 1: 'benign_train', 2: 'malignant_test', 3: 'benign_test',  4: '2ndmalignant_test', 5: '2ndbenign_test'}\n",
    "\n",
    "pca = PCA(n_components =2)\n",
    "pc = pca.fit_transform(train_modified_VGG16_representations)"
   ]
  },
  {
   "cell_type": "code",
   "execution_count": 43,
   "id": "bdc84f43",
   "metadata": {},
   "outputs": [],
   "source": [
    "# pc_test = pca_test.fit_transform(val_modified_VGG16_representations)"
   ]
  },
  {
   "cell_type": "code",
   "execution_count": 44,
   "id": "efc8cd6e",
   "metadata": {},
   "outputs": [
    {
     "data": {
      "text/plain": [
       "SVC(C=0.8, gamma=0.5)"
      ]
     },
     "execution_count": 44,
     "metadata": {},
     "output_type": "execute_result"
    }
   ],
   "source": [
    "# PCA를 적용한 train data의 classifier 훈련: classfier로 SVM\n",
    "# 여기서는 classifier로 SVM을 사용한다는 정도만 알아둡시다!\n",
    "clf = svm.SVC(kernel = 'rbf', gamma = 0.5, C = 0.8)\n",
    "clf.fit(pc, y_train) # train data로 classifier 훈련\n",
    "\n",
    "# PCA를 적용하지 않은 original data의 SVM 훈련\n",
    "clf_orig = svm.SVC(kernel='rbf', gamma = 0.5, C = 0.8)  # 여기서는 classifier로 SVM을 사용한다는 정도만 알아둡시다!\n",
    "clf_orig.fit(train_modified_VGG16_representations, y_train)"
   ]
  },
  {
   "cell_type": "code",
   "execution_count": 45,
   "id": "ca9ad958",
   "metadata": {},
   "outputs": [],
   "source": [
    "# # 훈련한 classifier의 decision boundary를 그리는 함수\n",
    "# def plot_decision_boundary(X, clf, ax):\n",
    "#     h = .02 # step size in the mesh\n",
    "    \n",
    "#     #create a mesh to plot in\n",
    "#     x_min, x_max = X[:, 0].min() - 1, X[:, 0].max() + 1\n",
    "#     y_min, y_max = X[:, 1].min() - 1, X[:, 1].max() + 1\n",
    "#     xx, yy = np.meshgrid(np.arange(x_min, x_max, h), np.arange(y_min, y_max, h))\n",
    "#     Z = clf.predict(np.c_[xx.ravel(), yy.ravel()])\n",
    "#     Z = Z.reshape(xx.shape)\n",
    "#     ax.contour(xx, yy, Z, cmap = 'Blues')\n",
    "# # 캔버스 도식\n",
    "# fig = plt.figure()\n",
    "# ax = fig.add_subplot(1,1,1)\n",
    "\n",
    "# # malignant와 benign의 SVM decision boundary 그리기\n",
    "# plot_decision_boundary(pc, clf, ax)"
   ]
  },
  {
   "cell_type": "code",
   "execution_count": 46,
   "id": "7a2c4014",
   "metadata": {},
   "outputs": [],
   "source": [
    "# # Train data 도식\n",
    "# for cluster in range(2):\n",
    "#     sub_cancer_points = pc[y_train ==cluster]\n",
    "#     ax.scatter(sub_cancer_points[:,0], sub_cancer_points[:,1],\n",
    "#               edgecolor = color_dict[cluster], c = 'none',\n",
    "#               label = target_dict[cluster])\n",
    "# # Test data 도식\n",
    "# for cluster in range(2):\n",
    "#     sub_cancer_points = pc_test[y_test ==cluster]\n",
    "#     ax.scatter(sub_cancer_points[:,0], sub_cancer_points[:,1],\n",
    "#               marker = 'x', c = color_dict[cluster+2],\n",
    "#               label = target_dict[cluster+2])\n",
    "\n",
    "# ax.set_xlabel('PC1')\n",
    "# ax.set_ylabel('PC2')\n",
    "# ax.set_title('PCA-Breast cancer dataset')\n",
    "# ax.legend()\n",
    "# ax.grid()"
   ]
  },
  {
   "cell_type": "markdown",
   "id": "a9590b14",
   "metadata": {},
   "source": [
    "### PCA"
   ]
  },
  {
   "cell_type": "code",
   "execution_count": 48,
   "id": "c660840a",
   "metadata": {},
   "outputs": [
    {
     "data": {
      "text/plain": [
       "1024"
      ]
     },
     "execution_count": 48,
     "metadata": {},
     "output_type": "execute_result"
    }
   ],
   "source": [
    "n_image = train_modified_VGG16_representations.shape[0]\n",
    "n_image_pixel = train_modified_VGG16_representations.shape[1]\n",
    "\n",
    "#  픽셀정보가 있는 칼럼의 이름을 담은 목록\n",
    "pixel_columns = [ f\"pixel{i}\" for i in range(1, n_image_pixel +1)]\n",
    "len(pixel_columns)"
   ]
  },
  {
   "cell_type": "code",
   "execution_count": 49,
   "id": "659337bf",
   "metadata": {},
   "outputs": [
    {
     "name": "stdout",
     "output_type": "stream",
     "text": [
      "df_subset의 shape: (630, 1024)\n"
     ]
    },
    {
     "ename": "IndexError",
     "evalue": "only integers, slices (`:`), ellipsis (`...`), numpy.newaxis (`None`) and integer or boolean arrays are valid indices",
     "output_type": "error",
     "traceback": [
      "\u001b[1;31m---------------------------------------------------------------------------\u001b[0m",
      "\u001b[1;31mIndexError\u001b[0m                                Traceback (most recent call last)",
      "\u001b[1;32m~\\AppData\\Local\\Temp/ipykernel_9780/1906309617.py\u001b[0m in \u001b[0;36m<module>\u001b[1;34m\u001b[0m\n\u001b[0;32m      6\u001b[0m \u001b[0mpca\u001b[0m \u001b[1;33m=\u001b[0m \u001b[0mPCA\u001b[0m\u001b[1;33m(\u001b[0m\u001b[0mn_components\u001b[0m \u001b[1;33m=\u001b[0m \u001b[0mn_dimension\u001b[0m\u001b[1;33m)\u001b[0m\u001b[1;33m\u001b[0m\u001b[1;33m\u001b[0m\u001b[0m\n\u001b[0;32m      7\u001b[0m \u001b[1;33m\u001b[0m\u001b[0m\n\u001b[1;32m----> 8\u001b[1;33m \u001b[0mpca_result\u001b[0m \u001b[1;33m=\u001b[0m \u001b[0mpca\u001b[0m\u001b[1;33m.\u001b[0m\u001b[0mfit_transform\u001b[0m\u001b[1;33m(\u001b[0m\u001b[0mtrain_modified_VGG16_representations\u001b[0m\u001b[1;33m[\u001b[0m\u001b[0mpixel_columns\u001b[0m\u001b[1;33m]\u001b[0m\u001b[1;33m.\u001b[0m\u001b[0mvalues\u001b[0m\u001b[1;33m)\u001b[0m\u001b[1;31m# 차원을 축소한 결과\u001b[0m\u001b[1;33m\u001b[0m\u001b[1;33m\u001b[0m\u001b[0m\n\u001b[0m\u001b[0;32m      9\u001b[0m \u001b[0mtrain_modified_VGG16_representations\u001b[0m\u001b[1;33m[\u001b[0m\u001b[1;34m'pca-one'\u001b[0m\u001b[1;33m]\u001b[0m \u001b[1;33m=\u001b[0m \u001b[0mpca_result\u001b[0m\u001b[1;33m[\u001b[0m\u001b[1;33m:\u001b[0m\u001b[1;33m,\u001b[0m\u001b[1;36m0\u001b[0m\u001b[1;33m]\u001b[0m   \u001b[1;31m# 축소한 결과의 첫 번째 차원 값\u001b[0m\u001b[1;33m\u001b[0m\u001b[1;33m\u001b[0m\u001b[0m\n\u001b[0;32m     10\u001b[0m \u001b[0mtrain_modified_VGG16_representations\u001b[0m\u001b[1;33m[\u001b[0m\u001b[1;34m'pca-two'\u001b[0m\u001b[1;33m]\u001b[0m \u001b[1;33m=\u001b[0m \u001b[0mpca_result\u001b[0m\u001b[1;33m[\u001b[0m\u001b[1;33m:\u001b[0m\u001b[1;33m,\u001b[0m\u001b[1;36m1\u001b[0m\u001b[1;33m]\u001b[0m   \u001b[1;31m# 축소한 결과의 두 번째 차원 값\u001b[0m\u001b[1;33m\u001b[0m\u001b[1;33m\u001b[0m\u001b[0m\n",
      "\u001b[1;31mIndexError\u001b[0m: only integers, slices (`:`), ellipsis (`...`), numpy.newaxis (`None`) and integer or boolean arrays are valid indices"
     ]
    }
   ],
   "source": [
    "from sklearn.decomposition import PCA\n",
    "\n",
    "print('df_subset의 shape: {}'.format(train_modified_VGG16_representations.shape))\n",
    "\n",
    "n_dimension = 2 # 축소시킬 목표 차원의 수\n",
    "pca = PCA(n_components = n_dimension)\n",
    "\n",
    "pca_result = pca.fit_transform(train_modified_VGG16_representations[pixel_columns].values)# 차원을 축소한 결과\n",
    "train_modified_VGG16_representations['pca-one'] = pca_result[:,0]   # 축소한 결과의 첫 번째 차원 값\n",
    "train_modified_VGG16_representations['pca-two'] = pca_result[:,1]   # 축소한 결과의 두 번째 차원 값\n",
    "\n",
    "print('pca_result의 shape: {}'.format(pca_result.shape))"
   ]
  },
  {
   "cell_type": "code",
   "execution_count": null,
   "id": "93b4a8fc",
   "metadata": {},
   "outputs": [],
   "source": [
    "# 784차원을 2차원으로 차원축소 하였을 때, 정보량이 전체의 16.9%가 남게 됩니다.\n",
    "print(f\"pca-1: {round(pca.explained_variance_ratio_[0], 3)* 100}%\")\n",
    "print(f\"pca-2: {round(pca.explained_variance_ratio_[1], 3)* 100}%\")"
   ]
  },
  {
   "cell_type": "code",
   "execution_count": null,
   "id": "ab8414e1",
   "metadata": {},
   "outputs": [],
   "source": [
    "plt.figure(figsize=(10,6))\n",
    "# 2개의 PC축만 남은 데이터프레임 df_subset 을 시각화해 보자.\n",
    "sns.scatterplot(x=\"pca-one\", y = \"pca-two\", hue = \"y\",\n",
    "               palette = sns.color_palette(\"hls\", 10), data=train_modified_VGG16_representations,\n",
    "                legend = \"full\", alpha = 0.4)"
   ]
  },
  {
   "cell_type": "markdown",
   "id": "388c2aa4",
   "metadata": {},
   "source": [
    "### TSNE"
   ]
  },
  {
   "cell_type": "code",
   "execution_count": 50,
   "id": "1a4c93b0",
   "metadata": {},
   "outputs": [
    {
     "data": {
      "text/plain": [
       "1024"
      ]
     },
     "execution_count": 50,
     "metadata": {},
     "output_type": "execute_result"
    }
   ],
   "source": [
    "n_image = train_modified_VGG16_representations.shape[0]\n",
    "n_image_pixel = train_modified_VGG16_representations.shape[1]\n",
    "\n",
    "#  픽셀정보가 있는 칼럼의 이름을 담은 목록\n",
    "pixel_columns = [ f\"pixel{i}\" for i in range(1, n_image_pixel +1)]\n",
    "len(pixel_columns)"
   ]
  },
  {
   "cell_type": "code",
   "execution_count": 53,
   "id": "00f0e607",
   "metadata": {},
   "outputs": [
    {
     "ename": "ValueError",
     "evalue": "cannot reindex from a duplicate axis",
     "output_type": "error",
     "traceback": [
      "\u001b[1;31m---------------------------------------------------------------------------\u001b[0m",
      "\u001b[1;31mValueError\u001b[0m                                Traceback (most recent call last)",
      "\u001b[1;32m~\\AppData\\Local\\Temp/ipykernel_9780/2982821784.py\u001b[0m in \u001b[0;36m<module>\u001b[1;34m\u001b[0m\n\u001b[0;32m      1\u001b[0m \u001b[0mdf\u001b[0m \u001b[1;33m=\u001b[0m \u001b[0mpd\u001b[0m\u001b[1;33m.\u001b[0m\u001b[0mDataFrame\u001b[0m\u001b[1;33m(\u001b[0m\u001b[0mtrain_modified_VGG16_representations\u001b[0m\u001b[1;33m,\u001b[0m \u001b[0mcolumns\u001b[0m \u001b[1;33m=\u001b[0m \u001b[0mpixel_columns\u001b[0m\u001b[1;33m)\u001b[0m\u001b[1;33m\u001b[0m\u001b[1;33m\u001b[0m\u001b[0m\n\u001b[1;32m----> 2\u001b[1;33m \u001b[0mdf\u001b[0m\u001b[1;33m[\u001b[0m\u001b[1;34m'y'\u001b[0m\u001b[1;33m]\u001b[0m \u001b[1;33m=\u001b[0m \u001b[0my_train\u001b[0m\u001b[1;33m\u001b[0m\u001b[1;33m\u001b[0m\u001b[0m\n\u001b[0m\u001b[0;32m      3\u001b[0m \u001b[1;31m# 숫자 라벨을 스트링으로 만드는 함수를 파이썬 람다 문법으로 전체 데이터에 적용합니다.\u001b[0m\u001b[1;33m\u001b[0m\u001b[1;33m\u001b[0m\u001b[0m\n\u001b[0;32m      4\u001b[0m \u001b[0mdf\u001b[0m\u001b[1;33m[\u001b[0m\u001b[1;34m'y'\u001b[0m\u001b[1;33m]\u001b[0m \u001b[1;33m=\u001b[0m \u001b[0mdf\u001b[0m\u001b[1;33m[\u001b[0m\u001b[1;34m'y'\u001b[0m\u001b[1;33m]\u001b[0m\u001b[1;33m.\u001b[0m\u001b[0mapply\u001b[0m\u001b[1;33m(\u001b[0m\u001b[1;32mlambda\u001b[0m \u001b[0mi\u001b[0m\u001b[1;33m:\u001b[0m \u001b[0mstr\u001b[0m\u001b[1;33m(\u001b[0m\u001b[0mi\u001b[0m\u001b[1;33m)\u001b[0m\u001b[1;33m)\u001b[0m\u001b[1;33m\u001b[0m\u001b[1;33m\u001b[0m\u001b[0m\n",
      "\u001b[1;32mC:\\ProgramData\\Anaconda3\\lib\\site-packages\\pandas\\core\\frame.py\u001b[0m in \u001b[0;36m__setitem__\u001b[1;34m(self, key, value)\u001b[0m\n\u001b[0;32m   3610\u001b[0m         \u001b[1;32melse\u001b[0m\u001b[1;33m:\u001b[0m\u001b[1;33m\u001b[0m\u001b[1;33m\u001b[0m\u001b[0m\n\u001b[0;32m   3611\u001b[0m             \u001b[1;31m# set column\u001b[0m\u001b[1;33m\u001b[0m\u001b[1;33m\u001b[0m\u001b[0m\n\u001b[1;32m-> 3612\u001b[1;33m             \u001b[0mself\u001b[0m\u001b[1;33m.\u001b[0m\u001b[0m_set_item\u001b[0m\u001b[1;33m(\u001b[0m\u001b[0mkey\u001b[0m\u001b[1;33m,\u001b[0m \u001b[0mvalue\u001b[0m\u001b[1;33m)\u001b[0m\u001b[1;33m\u001b[0m\u001b[1;33m\u001b[0m\u001b[0m\n\u001b[0m\u001b[0;32m   3613\u001b[0m \u001b[1;33m\u001b[0m\u001b[0m\n\u001b[0;32m   3614\u001b[0m     \u001b[1;32mdef\u001b[0m \u001b[0m_setitem_slice\u001b[0m\u001b[1;33m(\u001b[0m\u001b[0mself\u001b[0m\u001b[1;33m,\u001b[0m \u001b[0mkey\u001b[0m\u001b[1;33m:\u001b[0m \u001b[0mslice\u001b[0m\u001b[1;33m,\u001b[0m \u001b[0mvalue\u001b[0m\u001b[1;33m)\u001b[0m\u001b[1;33m:\u001b[0m\u001b[1;33m\u001b[0m\u001b[1;33m\u001b[0m\u001b[0m\n",
      "\u001b[1;32mC:\\ProgramData\\Anaconda3\\lib\\site-packages\\pandas\\core\\frame.py\u001b[0m in \u001b[0;36m_set_item\u001b[1;34m(self, key, value)\u001b[0m\n\u001b[0;32m   3782\u001b[0m         \u001b[0mensure\u001b[0m \u001b[0mhomogeneity\u001b[0m\u001b[1;33m.\u001b[0m\u001b[1;33m\u001b[0m\u001b[1;33m\u001b[0m\u001b[0m\n\u001b[0;32m   3783\u001b[0m         \"\"\"\n\u001b[1;32m-> 3784\u001b[1;33m         \u001b[0mvalue\u001b[0m \u001b[1;33m=\u001b[0m \u001b[0mself\u001b[0m\u001b[1;33m.\u001b[0m\u001b[0m_sanitize_column\u001b[0m\u001b[1;33m(\u001b[0m\u001b[0mvalue\u001b[0m\u001b[1;33m)\u001b[0m\u001b[1;33m\u001b[0m\u001b[1;33m\u001b[0m\u001b[0m\n\u001b[0m\u001b[0;32m   3785\u001b[0m \u001b[1;33m\u001b[0m\u001b[0m\n\u001b[0;32m   3786\u001b[0m         if (\n",
      "\u001b[1;32mC:\\ProgramData\\Anaconda3\\lib\\site-packages\\pandas\\core\\frame.py\u001b[0m in \u001b[0;36m_sanitize_column\u001b[1;34m(self, value)\u001b[0m\n\u001b[0;32m   4504\u001b[0m         \u001b[1;31m# We should never get here with DataFrame value\u001b[0m\u001b[1;33m\u001b[0m\u001b[1;33m\u001b[0m\u001b[0m\n\u001b[0;32m   4505\u001b[0m         \u001b[1;32mif\u001b[0m \u001b[0misinstance\u001b[0m\u001b[1;33m(\u001b[0m\u001b[0mvalue\u001b[0m\u001b[1;33m,\u001b[0m \u001b[0mSeries\u001b[0m\u001b[1;33m)\u001b[0m\u001b[1;33m:\u001b[0m\u001b[1;33m\u001b[0m\u001b[1;33m\u001b[0m\u001b[0m\n\u001b[1;32m-> 4506\u001b[1;33m             \u001b[1;32mreturn\u001b[0m \u001b[0m_reindex_for_setitem\u001b[0m\u001b[1;33m(\u001b[0m\u001b[0mvalue\u001b[0m\u001b[1;33m,\u001b[0m \u001b[0mself\u001b[0m\u001b[1;33m.\u001b[0m\u001b[0mindex\u001b[0m\u001b[1;33m)\u001b[0m\u001b[1;33m\u001b[0m\u001b[1;33m\u001b[0m\u001b[0m\n\u001b[0m\u001b[0;32m   4507\u001b[0m \u001b[1;33m\u001b[0m\u001b[0m\n\u001b[0;32m   4508\u001b[0m         \u001b[1;32mif\u001b[0m \u001b[0mis_list_like\u001b[0m\u001b[1;33m(\u001b[0m\u001b[0mvalue\u001b[0m\u001b[1;33m)\u001b[0m\u001b[1;33m:\u001b[0m\u001b[1;33m\u001b[0m\u001b[1;33m\u001b[0m\u001b[0m\n",
      "\u001b[1;32mC:\\ProgramData\\Anaconda3\\lib\\site-packages\\pandas\\core\\frame.py\u001b[0m in \u001b[0;36m_reindex_for_setitem\u001b[1;34m(value, index)\u001b[0m\n\u001b[0;32m  10779\u001b[0m         \u001b[1;32mif\u001b[0m \u001b[1;32mnot\u001b[0m \u001b[0mvalue\u001b[0m\u001b[1;33m.\u001b[0m\u001b[0mindex\u001b[0m\u001b[1;33m.\u001b[0m\u001b[0mis_unique\u001b[0m\u001b[1;33m:\u001b[0m\u001b[1;33m\u001b[0m\u001b[1;33m\u001b[0m\u001b[0m\n\u001b[0;32m  10780\u001b[0m             \u001b[1;31m# duplicate axis\u001b[0m\u001b[1;33m\u001b[0m\u001b[1;33m\u001b[0m\u001b[0m\n\u001b[1;32m> 10781\u001b[1;33m             \u001b[1;32mraise\u001b[0m \u001b[0merr\u001b[0m\u001b[1;33m\u001b[0m\u001b[1;33m\u001b[0m\u001b[0m\n\u001b[0m\u001b[0;32m  10782\u001b[0m \u001b[1;33m\u001b[0m\u001b[0m\n\u001b[0;32m  10783\u001b[0m         raise TypeError(\n",
      "\u001b[1;32mC:\\ProgramData\\Anaconda3\\lib\\site-packages\\pandas\\core\\frame.py\u001b[0m in \u001b[0;36m_reindex_for_setitem\u001b[1;34m(value, index)\u001b[0m\n\u001b[0;32m  10774\u001b[0m     \u001b[1;31m# GH#4107\u001b[0m\u001b[1;33m\u001b[0m\u001b[1;33m\u001b[0m\u001b[0m\n\u001b[0;32m  10775\u001b[0m     \u001b[1;32mtry\u001b[0m\u001b[1;33m:\u001b[0m\u001b[1;33m\u001b[0m\u001b[1;33m\u001b[0m\u001b[0m\n\u001b[1;32m> 10776\u001b[1;33m         \u001b[0mreindexed_value\u001b[0m \u001b[1;33m=\u001b[0m \u001b[0mvalue\u001b[0m\u001b[1;33m.\u001b[0m\u001b[0mreindex\u001b[0m\u001b[1;33m(\u001b[0m\u001b[0mindex\u001b[0m\u001b[1;33m)\u001b[0m\u001b[1;33m.\u001b[0m\u001b[0m_values\u001b[0m\u001b[1;33m\u001b[0m\u001b[1;33m\u001b[0m\u001b[0m\n\u001b[0m\u001b[0;32m  10777\u001b[0m     \u001b[1;32mexcept\u001b[0m \u001b[0mValueError\u001b[0m \u001b[1;32mas\u001b[0m \u001b[0merr\u001b[0m\u001b[1;33m:\u001b[0m\u001b[1;33m\u001b[0m\u001b[1;33m\u001b[0m\u001b[0m\n\u001b[0;32m  10778\u001b[0m         \u001b[1;31m# raised in MultiIndex.from_tuples, see test_insert_error_msmgs\u001b[0m\u001b[1;33m\u001b[0m\u001b[1;33m\u001b[0m\u001b[0m\n",
      "\u001b[1;32mC:\\ProgramData\\Anaconda3\\lib\\site-packages\\pandas\\core\\series.py\u001b[0m in \u001b[0;36mreindex\u001b[1;34m(self, index, **kwargs)\u001b[0m\n\u001b[0;32m   4578\u001b[0m     )\n\u001b[0;32m   4579\u001b[0m     \u001b[1;32mdef\u001b[0m \u001b[0mreindex\u001b[0m\u001b[1;33m(\u001b[0m\u001b[0mself\u001b[0m\u001b[1;33m,\u001b[0m \u001b[0mindex\u001b[0m\u001b[1;33m=\u001b[0m\u001b[1;32mNone\u001b[0m\u001b[1;33m,\u001b[0m \u001b[1;33m**\u001b[0m\u001b[0mkwargs\u001b[0m\u001b[1;33m)\u001b[0m\u001b[1;33m:\u001b[0m\u001b[1;33m\u001b[0m\u001b[1;33m\u001b[0m\u001b[0m\n\u001b[1;32m-> 4580\u001b[1;33m         \u001b[1;32mreturn\u001b[0m \u001b[0msuper\u001b[0m\u001b[1;33m(\u001b[0m\u001b[1;33m)\u001b[0m\u001b[1;33m.\u001b[0m\u001b[0mreindex\u001b[0m\u001b[1;33m(\u001b[0m\u001b[0mindex\u001b[0m\u001b[1;33m=\u001b[0m\u001b[0mindex\u001b[0m\u001b[1;33m,\u001b[0m \u001b[1;33m**\u001b[0m\u001b[0mkwargs\u001b[0m\u001b[1;33m)\u001b[0m\u001b[1;33m\u001b[0m\u001b[1;33m\u001b[0m\u001b[0m\n\u001b[0m\u001b[0;32m   4581\u001b[0m \u001b[1;33m\u001b[0m\u001b[0m\n\u001b[0;32m   4582\u001b[0m     \u001b[1;33m@\u001b[0m\u001b[0mdeprecate_nonkeyword_arguments\u001b[0m\u001b[1;33m(\u001b[0m\u001b[0mversion\u001b[0m\u001b[1;33m=\u001b[0m\u001b[1;32mNone\u001b[0m\u001b[1;33m,\u001b[0m \u001b[0mallowed_args\u001b[0m\u001b[1;33m=\u001b[0m\u001b[1;33m[\u001b[0m\u001b[1;34m\"self\"\u001b[0m\u001b[1;33m,\u001b[0m \u001b[1;34m\"labels\"\u001b[0m\u001b[1;33m]\u001b[0m\u001b[1;33m)\u001b[0m\u001b[1;33m\u001b[0m\u001b[1;33m\u001b[0m\u001b[0m\n",
      "\u001b[1;32mC:\\ProgramData\\Anaconda3\\lib\\site-packages\\pandas\\core\\generic.py\u001b[0m in \u001b[0;36mreindex\u001b[1;34m(self, *args, **kwargs)\u001b[0m\n\u001b[0;32m   4816\u001b[0m \u001b[1;33m\u001b[0m\u001b[0m\n\u001b[0;32m   4817\u001b[0m         \u001b[1;31m# perform the reindex on the axes\u001b[0m\u001b[1;33m\u001b[0m\u001b[1;33m\u001b[0m\u001b[0m\n\u001b[1;32m-> 4818\u001b[1;33m         return self._reindex_axes(\n\u001b[0m\u001b[0;32m   4819\u001b[0m             \u001b[0maxes\u001b[0m\u001b[1;33m,\u001b[0m \u001b[0mlevel\u001b[0m\u001b[1;33m,\u001b[0m \u001b[0mlimit\u001b[0m\u001b[1;33m,\u001b[0m \u001b[0mtolerance\u001b[0m\u001b[1;33m,\u001b[0m \u001b[0mmethod\u001b[0m\u001b[1;33m,\u001b[0m \u001b[0mfill_value\u001b[0m\u001b[1;33m,\u001b[0m \u001b[0mcopy\u001b[0m\u001b[1;33m\u001b[0m\u001b[1;33m\u001b[0m\u001b[0m\n\u001b[0;32m   4820\u001b[0m         ).__finalize__(self, method=\"reindex\")\n",
      "\u001b[1;32mC:\\ProgramData\\Anaconda3\\lib\\site-packages\\pandas\\core\\generic.py\u001b[0m in \u001b[0;36m_reindex_axes\u001b[1;34m(self, axes, level, limit, tolerance, method, fill_value, copy)\u001b[0m\n\u001b[0;32m   4837\u001b[0m \u001b[1;33m\u001b[0m\u001b[0m\n\u001b[0;32m   4838\u001b[0m             \u001b[0maxis\u001b[0m \u001b[1;33m=\u001b[0m \u001b[0mself\u001b[0m\u001b[1;33m.\u001b[0m\u001b[0m_get_axis_number\u001b[0m\u001b[1;33m(\u001b[0m\u001b[0ma\u001b[0m\u001b[1;33m)\u001b[0m\u001b[1;33m\u001b[0m\u001b[1;33m\u001b[0m\u001b[0m\n\u001b[1;32m-> 4839\u001b[1;33m             obj = obj._reindex_with_indexers(\n\u001b[0m\u001b[0;32m   4840\u001b[0m                 \u001b[1;33m{\u001b[0m\u001b[0maxis\u001b[0m\u001b[1;33m:\u001b[0m \u001b[1;33m[\u001b[0m\u001b[0mnew_index\u001b[0m\u001b[1;33m,\u001b[0m \u001b[0mindexer\u001b[0m\u001b[1;33m]\u001b[0m\u001b[1;33m}\u001b[0m\u001b[1;33m,\u001b[0m\u001b[1;33m\u001b[0m\u001b[1;33m\u001b[0m\u001b[0m\n\u001b[0;32m   4841\u001b[0m                 \u001b[0mfill_value\u001b[0m\u001b[1;33m=\u001b[0m\u001b[0mfill_value\u001b[0m\u001b[1;33m,\u001b[0m\u001b[1;33m\u001b[0m\u001b[1;33m\u001b[0m\u001b[0m\n",
      "\u001b[1;32mC:\\ProgramData\\Anaconda3\\lib\\site-packages\\pandas\\core\\generic.py\u001b[0m in \u001b[0;36m_reindex_with_indexers\u001b[1;34m(self, reindexers, fill_value, copy, allow_dups)\u001b[0m\n\u001b[0;32m   4881\u001b[0m \u001b[1;33m\u001b[0m\u001b[0m\n\u001b[0;32m   4882\u001b[0m             \u001b[1;31m# TODO: speed up on homogeneous DataFrame objects\u001b[0m\u001b[1;33m\u001b[0m\u001b[1;33m\u001b[0m\u001b[0m\n\u001b[1;32m-> 4883\u001b[1;33m             new_data = new_data.reindex_indexer(\n\u001b[0m\u001b[0;32m   4884\u001b[0m                 \u001b[0mindex\u001b[0m\u001b[1;33m,\u001b[0m\u001b[1;33m\u001b[0m\u001b[1;33m\u001b[0m\u001b[0m\n\u001b[0;32m   4885\u001b[0m                 \u001b[0mindexer\u001b[0m\u001b[1;33m,\u001b[0m\u001b[1;33m\u001b[0m\u001b[1;33m\u001b[0m\u001b[0m\n",
      "\u001b[1;32mC:\\ProgramData\\Anaconda3\\lib\\site-packages\\pandas\\core\\internals\\managers.py\u001b[0m in \u001b[0;36mreindex_indexer\u001b[1;34m(self, new_axis, indexer, axis, fill_value, allow_dups, copy, consolidate, only_slice)\u001b[0m\n\u001b[0;32m    668\u001b[0m         \u001b[1;31m# some axes don't allow reindexing with dups\u001b[0m\u001b[1;33m\u001b[0m\u001b[1;33m\u001b[0m\u001b[0m\n\u001b[0;32m    669\u001b[0m         \u001b[1;32mif\u001b[0m \u001b[1;32mnot\u001b[0m \u001b[0mallow_dups\u001b[0m\u001b[1;33m:\u001b[0m\u001b[1;33m\u001b[0m\u001b[1;33m\u001b[0m\u001b[0m\n\u001b[1;32m--> 670\u001b[1;33m             \u001b[0mself\u001b[0m\u001b[1;33m.\u001b[0m\u001b[0maxes\u001b[0m\u001b[1;33m[\u001b[0m\u001b[0maxis\u001b[0m\u001b[1;33m]\u001b[0m\u001b[1;33m.\u001b[0m\u001b[0m_validate_can_reindex\u001b[0m\u001b[1;33m(\u001b[0m\u001b[0mindexer\u001b[0m\u001b[1;33m)\u001b[0m\u001b[1;33m\u001b[0m\u001b[1;33m\u001b[0m\u001b[0m\n\u001b[0m\u001b[0;32m    671\u001b[0m \u001b[1;33m\u001b[0m\u001b[0m\n\u001b[0;32m    672\u001b[0m         \u001b[1;32mif\u001b[0m \u001b[0maxis\u001b[0m \u001b[1;33m>=\u001b[0m \u001b[0mself\u001b[0m\u001b[1;33m.\u001b[0m\u001b[0mndim\u001b[0m\u001b[1;33m:\u001b[0m\u001b[1;33m\u001b[0m\u001b[1;33m\u001b[0m\u001b[0m\n",
      "\u001b[1;32mC:\\ProgramData\\Anaconda3\\lib\\site-packages\\pandas\\core\\indexes\\base.py\u001b[0m in \u001b[0;36m_validate_can_reindex\u001b[1;34m(self, indexer)\u001b[0m\n\u001b[0;32m   3783\u001b[0m         \u001b[1;31m# trying to reindex on an axis with duplicates\u001b[0m\u001b[1;33m\u001b[0m\u001b[1;33m\u001b[0m\u001b[0m\n\u001b[0;32m   3784\u001b[0m         \u001b[1;32mif\u001b[0m \u001b[1;32mnot\u001b[0m \u001b[0mself\u001b[0m\u001b[1;33m.\u001b[0m\u001b[0m_index_as_unique\u001b[0m \u001b[1;32mand\u001b[0m \u001b[0mlen\u001b[0m\u001b[1;33m(\u001b[0m\u001b[0mindexer\u001b[0m\u001b[1;33m)\u001b[0m\u001b[1;33m:\u001b[0m\u001b[1;33m\u001b[0m\u001b[1;33m\u001b[0m\u001b[0m\n\u001b[1;32m-> 3785\u001b[1;33m             \u001b[1;32mraise\u001b[0m \u001b[0mValueError\u001b[0m\u001b[1;33m(\u001b[0m\u001b[1;34m\"cannot reindex from a duplicate axis\"\u001b[0m\u001b[1;33m)\u001b[0m\u001b[1;33m\u001b[0m\u001b[1;33m\u001b[0m\u001b[0m\n\u001b[0m\u001b[0;32m   3786\u001b[0m \u001b[1;33m\u001b[0m\u001b[0m\n\u001b[0;32m   3787\u001b[0m     def reindex(\n",
      "\u001b[1;31mValueError\u001b[0m: cannot reindex from a duplicate axis"
     ]
    }
   ],
   "source": [
    "df = pd.DataFrame(train_modified_VGG16_representations, columns = pixel_columns)\n",
    "df['y'] = y_train\n",
    "# 숫자 라벨을 스트링으로 만드는 함수를 파이썬 람다 문법으로 전체 데이터에 적용합니다.\n",
    "df['y'] = df['y'].apply(lambda i: str(i))"
   ]
  },
  {
   "cell_type": "code",
   "execution_count": null,
   "id": "c50dffe1",
   "metadata": {},
   "outputs": [],
   "source": [
    "pixel_columns"
   ]
  },
  {
   "cell_type": "code",
   "execution_count": null,
   "id": "0543f0c8",
   "metadata": {},
   "outputs": [],
   "source": [
    "\n",
    "print(df.shape)\n",
    "df.head()"
   ]
  },
  {
   "cell_type": "code",
   "execution_count": null,
   "id": "4f5916d9",
   "metadata": {},
   "outputs": [],
   "source": [
    "df_y = pd.DataFrame(y_train)\n",
    "df_y.head()"
   ]
  },
  {
   "cell_type": "code",
   "execution_count": null,
   "id": "a0d2ca9e",
   "metadata": {},
   "outputs": [],
   "source": [
    "df.head()"
   ]
  },
  {
   "cell_type": "code",
   "execution_count": null,
   "id": "44942629",
   "metadata": {},
   "outputs": [],
   "source": [
    "# df_y.reset_index()\n",
    "# index_\n",
    "# for i in range(len(df_y)):\n",
    "# #     df_y.iloc[i].set_index(i)\n",
    "# df_y.iloc[0].reset_index().set_index(0)\n",
    "# df_y.head()"
   ]
  },
  {
   "cell_type": "code",
   "execution_count": null,
   "id": "b658a88f",
   "metadata": {},
   "outputs": [],
   "source": [
    "import copy\n",
    "df['y'] = df_y"
   ]
  },
  {
   "cell_type": "code",
   "execution_count": null,
   "id": "0e6dc4f1",
   "metadata": {},
   "outputs": [],
   "source": [
    "# 숫자 라벨을 스트링으로 만드는 함수를 파이썬 람다 문법으로 전체 데이터에 적용합니다.\n",
    "df['y'] = df['y'].apply(lambda i: str(i))\n",
    "# X, y = None, None"
   ]
  },
  {
   "cell_type": "code",
   "execution_count": 54,
   "id": "12e4b29c",
   "metadata": {},
   "outputs": [
    {
     "name": "stdout",
     "output_type": "stream",
     "text": [
      "df_subset의 shape: (630, 1024)\n"
     ]
    },
    {
     "ename": "IndexError",
     "evalue": "only integers, slices (`:`), ellipsis (`...`), numpy.newaxis (`None`) and integer or boolean arrays are valid indices",
     "output_type": "error",
     "traceback": [
      "\u001b[1;31m---------------------------------------------------------------------------\u001b[0m",
      "\u001b[1;31mIndexError\u001b[0m                                Traceback (most recent call last)",
      "\u001b[1;32m~\\AppData\\Local\\Temp/ipykernel_9780/3901698264.py\u001b[0m in \u001b[0;36m<module>\u001b[1;34m\u001b[0m\n\u001b[0;32m      3\u001b[0m \u001b[0mprint\u001b[0m\u001b[1;33m(\u001b[0m\u001b[1;34m'df_subset의 shape: {}'\u001b[0m\u001b[1;33m.\u001b[0m\u001b[0mformat\u001b[0m\u001b[1;33m(\u001b[0m\u001b[0mtrain_modified_VGG16_representations\u001b[0m\u001b[1;33m.\u001b[0m\u001b[0mshape\u001b[0m\u001b[1;33m)\u001b[0m\u001b[1;33m)\u001b[0m\u001b[1;33m\u001b[0m\u001b[1;33m\u001b[0m\u001b[0m\n\u001b[0;32m      4\u001b[0m \u001b[1;33m\u001b[0m\u001b[0m\n\u001b[1;32m----> 5\u001b[1;33m \u001b[0mdata_subset\u001b[0m \u001b[1;33m=\u001b[0m \u001b[0mtrain_modified_VGG16_representations\u001b[0m\u001b[1;33m[\u001b[0m\u001b[0mpixel_columns\u001b[0m\u001b[1;33m]\u001b[0m\u001b[1;33m.\u001b[0m\u001b[0mvalues\u001b[0m\u001b[1;33m\u001b[0m\u001b[1;33m\u001b[0m\u001b[0m\n\u001b[0m\u001b[0;32m      6\u001b[0m \u001b[0mn_dimension\u001b[0m \u001b[1;33m=\u001b[0m\u001b[1;36m2\u001b[0m\u001b[1;33m\u001b[0m\u001b[1;33m\u001b[0m\u001b[0m\n\u001b[0;32m      7\u001b[0m \u001b[0mtsne\u001b[0m \u001b[1;33m=\u001b[0m \u001b[0mTSNE\u001b[0m\u001b[1;33m(\u001b[0m\u001b[0mn_components\u001b[0m \u001b[1;33m=\u001b[0m \u001b[0mn_dimension\u001b[0m\u001b[1;33m)\u001b[0m\u001b[1;33m\u001b[0m\u001b[1;33m\u001b[0m\u001b[0m\n",
      "\u001b[1;31mIndexError\u001b[0m: only integers, slices (`:`), ellipsis (`...`), numpy.newaxis (`None`) and integer or boolean arrays are valid indices"
     ]
    }
   ],
   "source": [
    "from sklearn.manifold import TSNE\n",
    "\n",
    "print('df_subset의 shape: {}'.format(train_modified_VGG16_representations.shape))\n",
    "\n",
    "data_subset = train_modified_VGG16_representations[pixel_columns].values\n",
    "n_dimension =2\n",
    "tsne = TSNE(n_components = n_dimension)\n",
    "tsne_results = tsne.fit_transform(data_subset)\n",
    "\n",
    "print('tsne_results의 shape: {}'.format(tsne_results.shape))"
   ]
  },
  {
   "cell_type": "code",
   "execution_count": null,
   "id": "7fae72d2",
   "metadata": {},
   "outputs": [],
   "source": [
    "# tsne 결과를 차원별로 추가합니다.\n",
    "train_modified_VGG16_representations['tsne-2d-one'] = tsne_results[:,0]\n",
    "train_modified_VGG16_representations['tsne-2d-two'] = tsne_results[:,1]\n",
    "\n",
    "# 시각화\n",
    "plt.figure(figsize =(10,6))\n",
    "sns.scatterplot(x = 'tsne-2d-one', y = 'tsne-2d-two', hue = 'y',\n",
    "               palette = sns.color_palette('hls', 10), data = train_modified_VGG16_representations,\n",
    "               legend = 'full', alpha = 0.3)"
   ]
  },
  {
   "cell_type": "code",
   "execution_count": 67,
   "id": "c6d8373a",
   "metadata": {},
   "outputs": [
    {
     "name": "stderr",
     "output_type": "stream",
     "text": [
      "C:\\ProgramData\\Anaconda3\\lib\\site-packages\\sklearn\\manifold\\_t_sne.py:780: FutureWarning: The default initialization in TSNE will change from 'random' to 'pca' in 1.2.\n",
      "  warnings.warn(\n",
      "C:\\ProgramData\\Anaconda3\\lib\\site-packages\\sklearn\\manifold\\_t_sne.py:790: FutureWarning: The default learning rate in TSNE will change from 200.0 to 'auto' in 1.2.\n",
      "  warnings.warn(\n"
     ]
    }
   ],
   "source": [
    "# class target 정보 제외\n",
    "train_df = pd.DataFrame(train_modified_VGG16_representations)\n",
    "\n",
    "# 2차원 t-SNE 임베딩\n",
    "tsne_np = TSNE(n_components = 2).fit_transform(train_df)\n",
    "\n",
    "# numpy array -> DataFrame 변환\n",
    "tsne_df = pd.DataFrame(tsne_np, columns = ['component 0', 'component 1'])"
   ]
  },
  {
   "cell_type": "code",
   "execution_count": 69,
   "id": "0c244179",
   "metadata": {},
   "outputs": [
    {
     "data": {
      "text/plain": [
       "pandas.core.frame.DataFrame"
      ]
     },
     "execution_count": 69,
     "metadata": {},
     "output_type": "execute_result"
    }
   ],
   "source": [
    "type(train_df)"
   ]
  },
  {
   "cell_type": "code",
   "execution_count": 66,
   "id": "475bd99f",
   "metadata": {},
   "outputs": [
    {
     "name": "stdout",
     "output_type": "stream",
     "text": [
      "<class 'pandas.core.frame.DataFrame'>\n"
     ]
    },
    {
     "data": {
      "text/html": [
       "<div>\n",
       "<style scoped>\n",
       "    .dataframe tbody tr th:only-of-type {\n",
       "        vertical-align: middle;\n",
       "    }\n",
       "\n",
       "    .dataframe tbody tr th {\n",
       "        vertical-align: top;\n",
       "    }\n",
       "\n",
       "    .dataframe thead th {\n",
       "        text-align: right;\n",
       "    }\n",
       "</style>\n",
       "<table border=\"1\" class=\"dataframe\">\n",
       "  <thead>\n",
       "    <tr style=\"text-align: right;\">\n",
       "      <th></th>\n",
       "      <th>0</th>\n",
       "    </tr>\n",
       "  </thead>\n",
       "  <tbody>\n",
       "    <tr>\n",
       "      <th>0</th>\n",
       "      <td>4</td>\n",
       "    </tr>\n",
       "    <tr>\n",
       "      <th>1</th>\n",
       "      <td>2</td>\n",
       "    </tr>\n",
       "    <tr>\n",
       "      <th>2</th>\n",
       "      <td>5</td>\n",
       "    </tr>\n",
       "    <tr>\n",
       "      <th>3</th>\n",
       "      <td>0</td>\n",
       "    </tr>\n",
       "    <tr>\n",
       "      <th>4</th>\n",
       "      <td>2</td>\n",
       "    </tr>\n",
       "    <tr>\n",
       "      <th>...</th>\n",
       "      <td>...</td>\n",
       "    </tr>\n",
       "    <tr>\n",
       "      <th>625</th>\n",
       "      <td>4</td>\n",
       "    </tr>\n",
       "    <tr>\n",
       "      <th>626</th>\n",
       "      <td>2</td>\n",
       "    </tr>\n",
       "    <tr>\n",
       "      <th>627</th>\n",
       "      <td>5</td>\n",
       "    </tr>\n",
       "    <tr>\n",
       "      <th>628</th>\n",
       "      <td>5</td>\n",
       "    </tr>\n",
       "    <tr>\n",
       "      <th>629</th>\n",
       "      <td>1</td>\n",
       "    </tr>\n",
       "  </tbody>\n",
       "</table>\n",
       "<p>630 rows × 1 columns</p>\n",
       "</div>"
      ],
      "text/plain": [
       "     0\n",
       "0    4\n",
       "1    2\n",
       "2    5\n",
       "3    0\n",
       "4    2\n",
       "..  ..\n",
       "625  4\n",
       "626  2\n",
       "627  5\n",
       "628  5\n",
       "629  1\n",
       "\n",
       "[630 rows x 1 columns]"
      ]
     },
     "execution_count": 66,
     "metadata": {},
     "output_type": "execute_result"
    }
   ],
   "source": [
    "df_y = np.array(y_train)\n",
    "df_y = pd.DataFrame(df_y)\n",
    "print(type(df_y))\n",
    "df_y"
   ]
  },
  {
   "cell_type": "code",
   "execution_count": 71,
   "id": "cc71ee63",
   "metadata": {},
   "outputs": [],
   "source": [
    "tsne_df['target'] = pd.DataFrame(df_y)"
   ]
  },
  {
   "cell_type": "code",
   "execution_count": 72,
   "id": "3d0ee315",
   "metadata": {},
   "outputs": [],
   "source": [
    "# target 별 분리\n",
    "tsne_df_0 = tsne_df[tsne_df['target'] == 0]\n",
    "tsne_df_1 = tsne_df[tsne_df['target'] == 1]\n",
    "tsne_df_2 = tsne_df[tsne_df['target'] == 2]\n",
    "tsne_df_3 = tsne_df[tsne_df['target'] == 3]\n",
    "tsne_df_4 = tsne_df[tsne_df['target'] == 4]\n",
    "tsne_df_5 = tsne_df[tsne_df['target'] == 5]"
   ]
  },
  {
   "cell_type": "code",
   "execution_count": 76,
   "id": "eab72353",
   "metadata": {},
   "outputs": [
    {
     "data": {
      "image/png": "[encoded data removed]",
      "text/plain": [
       "<Figure size 432x288 with 1 Axes>"
      ]
     },
     "metadata": {
      "needs_background": "light"
     },
     "output_type": "display_data"
    },
    {
     "data": {
      "text/plain": [
       "<Figure size 432x288 with 0 Axes>"
      ]
     },
     "metadata": {},
     "output_type": "display_data"
    }
   ],
   "source": [
    "plt.scatter(tsne_df_0['component 0'], tsne_df_0['component 1'], color = 'pink', label = 'SDW')\n",
    "plt.scatter(tsne_df_1['component 0'], tsne_df_1['component 1'], color = 'purple', label = 'PSH')\n",
    "plt.scatter(tsne_df_2['component 0'], tsne_df_2['component 1'], color = 'yellow', label = 'LTS')\n",
    "plt.scatter(tsne_df_3['component 0'], tsne_df_3['component 1'], color = 'red', label = 'CJH')\n",
    "plt.scatter(tsne_df_4['component 0'], tsne_df_4['component 1'], color = 'blue', label = 'LCY')\n",
    "plt.scatter(tsne_df_5['component 0'], tsne_df_5['component 1'], color = 'green', label = 'HHY')\n",
    "\n",
    "plt.xlabel('component 0')\n",
    "plt.ylabel('component 1')\n",
    "plt.legend()\n",
    "plt.show()\n",
    "plt.savefig('tsne_sample.png')"
   ]
  },
  {
   "cell_type": "code",
   "execution_count": null,
   "id": "b48e7c40",
   "metadata": {},
   "outputs": [],
   "source": []
  },
  {
   "cell_type": "code",
   "execution_count": null,
   "id": "94e0e52f",
   "metadata": {},
   "outputs": [],
   "source": []
  },
  {
   "cell_type": "code",
   "execution_count": null,
   "id": "dd54c25d",
   "metadata": {},
   "outputs": [],
   "source": []
  },
  {
   "cell_type": "code",
   "execution_count": null,
   "id": "513f8943",
   "metadata": {},
   "outputs": [],
   "source": [
    "from sklearn.tree import export_graphviz\n",
    "\n",
    "# export_graphviz()의 호출 결과로 out_file로 지정된 tree.dot 파일을 생성\n",
    "export_graphviz(DT_classifier, out_file=\"tree.dot\", class_names=[4, 5, 6] , \\\n",
    "feature_names = feature.columns, impurity=True, filled=True)"
   ]
  },
  {
   "cell_type": "code",
   "execution_count": null,
   "id": "81288fa9",
   "metadata": {},
   "outputs": [],
   "source": [
    "X_combined_std = np.vstack((train_modified_VGG16_representations, test_modified_VGG16_representations))\n",
    "y_combined = np.hstack((y_train, y_test))\n",
    "plot_decision_region(X = X_combined_std, y = y_combined, classifier = KN_classifier,\n",
    "                    test_idx = range(5, 40), title = 'KN classifier')\n"
   ]
  },
  {
   "cell_type": "code",
   "execution_count": null,
   "id": "331f5179",
   "metadata": {},
   "outputs": [],
   "source": [
    "from sklearn.semi_supervised import LabelSpreading\n",
    "k3_fit_ls_labeled = (LabelSpreading(kernel='knn', n_neighbors=3).fit(train_simpler_VGG16_representations, y_train))\n"
   ]
  },
  {
   "cell_type": "code",
   "execution_count": null,
   "id": "88e9339b",
   "metadata": {},
   "outputs": [],
   "source": [
    "print(y_test.shape)\n",
    "print(k3_pred_ls_labeled.shape)"
   ]
  },
  {
   "cell_type": "code",
   "execution_count": null,
   "id": "f9976457",
   "metadata": {},
   "outputs": [],
   "source": [
    "from sklearn.metrics import f1_score\n",
    "k3_pred_ls_labeled = k3_fit_ls_labeled.predict(test_simpler_VGG16_representations)\n",
    "k3_f1_ls_labeled = f1_score(y_test, k3_pred_ls_labeled, average='micro')\n",
    "k3_f1_ls_labeled"
   ]
  },
  {
   "cell_type": "code",
   "execution_count": null,
   "id": "c2b5a333",
   "metadata": {},
   "outputs": [],
   "source": [
    "train_simpler_VGG16_representations.shape"
   ]
  },
  {
   "cell_type": "code",
   "execution_count": null,
   "id": "50b73f4d",
   "metadata": {},
   "outputs": [],
   "source": [
    "from sklearn.naive_bayes import MultinomialNB\n",
    "clf= MultinomialNB()\n",
    "clf.fit(train_simpler_VGG16_representations, y_train)\n",
    "score = clf.score(test_simpler_VGG16_representations, y_test)\n",
    "score"
   ]
  },
  {
   "cell_type": "code",
   "execution_count": null,
   "id": "56d51136",
   "metadata": {},
   "outputs": [],
   "source": []
  },
  {
   "cell_type": "code",
   "execution_count": null,
   "id": "dd56c0e2",
   "metadata": {},
   "outputs": [],
   "source": [
    "from sklearn.metrics import precision_score\n",
    "from sklearn.metrics import recall_score\n",
    "print(\"Precision Score : \",precision_score(y_test,y_pred, average='micro'))\n",
    "# print(\"Precision Score : \",precision_score(y_test,y_pred,pos_label='positive', average='micro'))\n",
    "print(\"Recall Score :\" , recall_score(y_test, y_pred, average='micro'))\n",
    "# print(\"Recall Score :\" , recall_score(y_test, y_pred, pos_label='positive', average='micro'))"
   ]
  },
  {
   "cell_type": "code",
   "execution_count": null,
   "id": "f9198cc0",
   "metadata": {},
   "outputs": [],
   "source": [
    "# 클러스터 레이블을 추출.\n",
    "target_cluster_num = 3\n",
    "kmeans = KMeans(n_clusters=target_cluster_num, random_state=10).fit(train_simpler_VGG16_representations)\n",
    "\n",
    "cluster_label = kmeans.predict(test_simpler_VGG16_representations)\n",
    "\n",
    "print('슝~')"
   ]
  },
  {
   "cell_type": "code",
   "execution_count": null,
   "id": "b6b6ae43",
   "metadata": {},
   "outputs": [],
   "source": []
  },
  {
   "cell_type": "code",
   "execution_count": null,
   "id": "9ee4e774",
   "metadata": {},
   "outputs": [],
   "source": []
  },
  {
   "cell_type": "code",
   "execution_count": null,
   "id": "7310fb5d",
   "metadata": {},
   "outputs": [],
   "source": []
  },
  {
   "cell_type": "code",
   "execution_count": null,
   "id": "13dec33c",
   "metadata": {},
   "outputs": [],
   "source": []
  },
  {
   "cell_type": "code",
   "execution_count": null,
   "id": "cd1d1c3a",
   "metadata": {},
   "outputs": [],
   "source": []
  },
  {
   "cell_type": "code",
   "execution_count": null,
   "id": "057a2198",
   "metadata": {},
   "outputs": [],
   "source": []
  },
  {
   "cell_type": "code",
   "execution_count": null,
   "id": "e71290ce",
   "metadata": {},
   "outputs": [],
   "source": [
    "print(X_train.shape)\n",
    "print()"
   ]
  },
  {
   "cell_type": "markdown",
   "id": "f42c8b4d",
   "metadata": {},
   "source": [
    "# 4. 예측 및 결과 비교"
   ]
  },
  {
   "cell_type": "code",
   "execution_count": null,
   "id": "6f3a0ed6",
   "metadata": {},
   "outputs": [],
   "source": []
  }
 ],
 "metadata": {
  "kernelspec": {
   "display_name": "Python 3 (ipykernel)",
   "language": "python",
   "name": "python3"
  },
  "language_info": {
   "codemirror_mode": {
    "name": "ipython",
    "version": 3
   },
   "file_extension": ".py",
   "mimetype": "text/x-python",
   "name": "python",
   "nbconvert_exporter": "python",
   "pygments_lexer": "ipython3",
   "version": "3.8.12"
  }
 },
 "nbformat": 4,
 "nbformat_minor": 5
}
