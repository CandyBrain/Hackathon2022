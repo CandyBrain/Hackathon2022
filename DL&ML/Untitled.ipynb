{
 "cells": [
  {
   "cell_type": "code",
   "execution_count": 2,
   "id": "8ae2bd1b",
   "metadata": {},
   "outputs": [],
   "source": [
    "import os\n",
    "import numpy as np\n",
    "import tensorflow as tf"
   ]
  },
  {
   "cell_type": "code",
   "execution_count": 2,
   "id": "3c10ad69",
   "metadata": {
    "scrolled": true
   },
   "outputs": [
    {
     "data": {
      "text/plain": [
       "array([[[[196],\n",
       "         [189],\n",
       "         [182],\n",
       "         [177]],\n",
       "\n",
       "        [[171],\n",
       "         [165],\n",
       "         [161],\n",
       "         [156]],\n",
       "\n",
       "        [[149],\n",
       "         [144],\n",
       "         [140],\n",
       "         [135]],\n",
       "\n",
       "        [[135],\n",
       "         [132],\n",
       "         [128],\n",
       "         [126]]],\n",
       "\n",
       "\n",
       "       [[[ 98],\n",
       "         [100],\n",
       "         [ 99],\n",
       "         [101]],\n",
       "\n",
       "        [[100],\n",
       "         [101],\n",
       "         [101],\n",
       "         [100]],\n",
       "\n",
       "        [[ 97],\n",
       "         [ 97],\n",
       "         [ 98],\n",
       "         [ 98]],\n",
       "\n",
       "        [[101],\n",
       "         [101],\n",
       "         [102],\n",
       "         [102]]],\n",
       "\n",
       "\n",
       "       [[[ 59],\n",
       "         [ 64],\n",
       "         [ 65],\n",
       "         [ 66]],\n",
       "\n",
       "        [[ 69],\n",
       "         [ 75],\n",
       "         [ 71],\n",
       "         [ 74]],\n",
       "\n",
       "        [[ 71],\n",
       "         [ 74],\n",
       "         [ 75],\n",
       "         [ 77]],\n",
       "\n",
       "        [[ 79],\n",
       "         [ 79],\n",
       "         [ 80],\n",
       "         [ 80]]],\n",
       "\n",
       "\n",
       "       ...,\n",
       "\n",
       "\n",
       "       [[[653],\n",
       "         [605],\n",
       "         [542],\n",
       "         [508]],\n",
       "\n",
       "        [[441],\n",
       "         [401],\n",
       "         [370],\n",
       "         [334]],\n",
       "\n",
       "        [[311],\n",
       "         [269],\n",
       "         [247],\n",
       "         [226]],\n",
       "\n",
       "        [[209],\n",
       "         [197],\n",
       "         [170],\n",
       "         [145]]],\n",
       "\n",
       "\n",
       "       [[[771],\n",
       "         [745],\n",
       "         [712],\n",
       "         [685]],\n",
       "\n",
       "        [[676],\n",
       "         [646],\n",
       "         [631],\n",
       "         [610]],\n",
       "\n",
       "        [[580],\n",
       "         [560],\n",
       "         [527],\n",
       "         [499]],\n",
       "\n",
       "        [[469],\n",
       "         [445],\n",
       "         [428],\n",
       "         [416]]],\n",
       "\n",
       "\n",
       "       [[[155],\n",
       "         [144],\n",
       "         [147],\n",
       "         [145]],\n",
       "\n",
       "        [[147],\n",
       "         [157],\n",
       "         [141],\n",
       "         [153]],\n",
       "\n",
       "        [[147],\n",
       "         [154],\n",
       "         [147],\n",
       "         [138]],\n",
       "\n",
       "        [[148],\n",
       "         [134],\n",
       "         [140],\n",
       "         [144]]]], dtype=int64)"
      ]
     },
     "execution_count": 2,
     "metadata": {},
     "output_type": "execute_result"
    }
   ],
   "source": [
    "home_path = 'C:/Users/user/Google 드라이브/AIFFEL/+Final project/'\n",
    "file_path = os.path.join(home_path, 'tdata1.npy')\n",
    "\n",
    "data = np.load(file_path)\n",
    "data"
   ]
  },
  {
   "cell_type": "code",
   "execution_count": 3,
   "id": "53988359",
   "metadata": {},
   "outputs": [
    {
     "data": {
      "text/plain": [
       "(1530, 4, 4, 1)"
      ]
     },
     "execution_count": 3,
     "metadata": {},
     "output_type": "execute_result"
    }
   ],
   "source": [
    "data.shape"
   ]
  },
  {
   "cell_type": "code",
   "execution_count": 4,
   "id": "28d3db62",
   "metadata": {},
   "outputs": [
    {
     "data": {
      "text/plain": [
       "(1530, 4, 4)"
      ]
     },
     "execution_count": 4,
     "metadata": {},
     "output_type": "execute_result"
    }
   ],
   "source": [
    "red_data = np.squeeze(data, axis = 3)\n",
    "red_data.shape"
   ]
  },
  {
   "cell_type": "code",
   "execution_count": 5,
   "id": "26354acf",
   "metadata": {},
   "outputs": [
    {
     "data": {
      "text/plain": [
       "array([[[196, 189, 182, 177],\n",
       "        [171, 165, 161, 156],\n",
       "        [149, 144, 140, 135],\n",
       "        [135, 132, 128, 126]],\n",
       "\n",
       "       [[ 98, 100,  99, 101],\n",
       "        [100, 101, 101, 100],\n",
       "        [ 97,  97,  98,  98],\n",
       "        [101, 101, 102, 102]],\n",
       "\n",
       "       [[ 59,  64,  65,  66],\n",
       "        [ 69,  75,  71,  74],\n",
       "        [ 71,  74,  75,  77],\n",
       "        [ 79,  79,  80,  80]],\n",
       "\n",
       "       ...,\n",
       "\n",
       "       [[653, 605, 542, 508],\n",
       "        [441, 401, 370, 334],\n",
       "        [311, 269, 247, 226],\n",
       "        [209, 197, 170, 145]],\n",
       "\n",
       "       [[771, 745, 712, 685],\n",
       "        [676, 646, 631, 610],\n",
       "        [580, 560, 527, 499],\n",
       "        [469, 445, 428, 416]],\n",
       "\n",
       "       [[155, 144, 147, 145],\n",
       "        [147, 157, 141, 153],\n",
       "        [147, 154, 147, 138],\n",
       "        [148, 134, 140, 144]]], dtype=int64)"
      ]
     },
     "execution_count": 5,
     "metadata": {},
     "output_type": "execute_result"
    }
   ],
   "source": [
    "red_data"
   ]
  },
  {
   "cell_type": "code",
   "execution_count": 6,
   "id": "34d1a038",
   "metadata": {},
   "outputs": [
    {
     "data": {
      "text/plain": [
       "array([[196, 189, 182, 177],\n",
       "       [171, 165, 161, 156],\n",
       "       [149, 144, 140, 135],\n",
       "       [135, 132, 128, 126]], dtype=int64)"
      ]
     },
     "execution_count": 6,
     "metadata": {},
     "output_type": "execute_result"
    }
   ],
   "source": [
    "red_data_00 = red_data[:][:][0]\n",
    "red_data_00"
   ]
  },
  {
   "cell_type": "code",
   "execution_count": 7,
   "id": "b24af9fc",
   "metadata": {},
   "outputs": [
    {
     "data": {
      "text/plain": [
       "array([[ 98, 100,  99, 101],\n",
       "       [100, 101, 101, 100],\n",
       "       [ 97,  97,  98,  98],\n",
       "       [101, 101, 102, 102]], dtype=int64)"
      ]
     },
     "execution_count": 7,
     "metadata": {},
     "output_type": "execute_result"
    }
   ],
   "source": [
    "red_data_01 = red_data[:][:][1]\n",
    "red_data_01"
   ]
  },
  {
   "cell_type": "code",
   "execution_count": 8,
   "id": "a1e85063",
   "metadata": {},
   "outputs": [
    {
     "data": {
      "text/plain": [
       "array([[155, 144, 147, 145],\n",
       "       [147, 157, 141, 153],\n",
       "       [147, 154, 147, 138],\n",
       "       [148, 134, 140, 144]], dtype=int64)"
      ]
     },
     "execution_count": 8,
     "metadata": {},
     "output_type": "execute_result"
    }
   ],
   "source": [
    "red_data_09 = red_data[1529][:][:]\n",
    "red_data_09"
   ]
  },
  {
   "cell_type": "code",
   "execution_count": 9,
   "id": "b25614d8",
   "metadata": {},
   "outputs": [
    {
     "data": {
      "text/plain": [
       "array([[155, 144, 147, 145],\n",
       "       [147, 157, 141, 153],\n",
       "       [147, 154, 147, 138],\n",
       "       [148, 134, 140, 144]], dtype=int64)"
      ]
     },
     "execution_count": 9,
     "metadata": {},
     "output_type": "execute_result"
    }
   ],
   "source": [
    "red_data[1529,:,:]\n"
   ]
  },
  {
   "cell_type": "code",
   "execution_count": 10,
   "id": "4891a444",
   "metadata": {},
   "outputs": [
    {
     "data": {
      "text/plain": [
       "array([196,  98,  59, ..., 145, 416, 144], dtype=int64)"
      ]
     },
     "execution_count": 10,
     "metadata": {},
     "output_type": "execute_result"
    }
   ],
   "source": [
    "rank2_red_data = np.ravel(red_data, order = 'F')\n",
    "rank2_red_data"
   ]
  },
  {
   "cell_type": "code",
   "execution_count": 11,
   "id": "db4b42ef",
   "metadata": {},
   "outputs": [
    {
     "data": {
      "text/plain": [
       "(24480,)"
      ]
     },
     "execution_count": 11,
     "metadata": {},
     "output_type": "execute_result"
    }
   ],
   "source": [
    "rank2_red_data.shape"
   ]
  },
  {
   "cell_type": "code",
   "execution_count": 12,
   "id": "98f31160",
   "metadata": {},
   "outputs": [
    {
     "data": {
      "text/plain": [
       "array([196, 189, 182, ..., 134, 140, 144], dtype=int64)"
      ]
     },
     "execution_count": 12,
     "metadata": {},
     "output_type": "execute_result"
    }
   ],
   "source": [
    "raveled_data = np.ravel(data, order = 'c')\n",
    "raveled_data"
   ]
  },
  {
   "cell_type": "code",
   "execution_count": 13,
   "id": "14b35fc1",
   "metadata": {},
   "outputs": [
    {
     "name": "stdout",
     "output_type": "stream",
     "text": [
      "(96, 255)\n"
     ]
    },
    {
     "data": {
      "text/plain": [
       "array([[196, 189, 182, ...,  92,  96,  95],\n",
       "       [ 98,  51,  56, ...,  61,  65,  67],\n",
       "       [ 68,  74, 102, ...,  78,  78,  85],\n",
       "       ...,\n",
       "       [  0,   0,   0, ...,   0, 734, 678],\n",
       "       [635, 598, 559, ..., 336, 324, 643],\n",
       "       [608, 588, 549, ..., 134, 140, 144]], dtype=int64)"
      ]
     },
     "execution_count": 13,
     "metadata": {},
     "output_type": "execute_result"
    }
   ],
   "source": [
    "reshaped_raveled_data = raveled_data.reshape(96, 255)\n",
    "print(reshaped_raveled_data.shape)\n",
    "reshaped_raveled_data"
   ]
  },
  {
   "cell_type": "code",
   "execution_count": 14,
   "id": "a31defb1",
   "metadata": {},
   "outputs": [
    {
     "name": "stdout",
     "output_type": "stream",
     "text": [
      "재조정된 데이터 쉐입:  (96, 255)\n"
     ]
    },
    {
     "data": {
      "text/plain": [
       "array([[196, 189, 182, ...,  92,  96,  95],\n",
       "       [ 98,  51,  56, ...,  61,  65,  67],\n",
       "       [ 68,  74, 102, ...,  78,  78,  85],\n",
       "       ...,\n",
       "       [  0,   0,   0, ...,   0, 222, 166],\n",
       "       [123,  86,  47, ...,  80,  68, 131],\n",
       "       [ 96,  76,  37, ..., 134, 140, 144]], dtype=uint8)"
      ]
     },
     "execution_count": 14,
     "metadata": {},
     "output_type": "execute_result"
    }
   ],
   "source": [
    "\n",
    "reshaped_raveled_data = reshaped_raveled_data.astype('uint8')  # uint8 이어야 filtering이 원활히 된다.\n",
    "print('재조정된 데이터 쉐입: ',reshaped_raveled_data.shape)\n",
    "reshaped_raveled_data "
   ]
  },
  {
   "cell_type": "code",
   "execution_count": 15,
   "id": "1eb90686",
   "metadata": {},
   "outputs": [
    {
     "name": "stdout",
     "output_type": "stream",
     "text": [
      "데이터 이미지화\n"
     ]
    },
    {
     "data": {
      "image/png": "[encoded data removed]",
      "text/plain": [
       "<Figure size 432x288 with 2 Axes>"
      ]
     },
     "metadata": {
      "needs_background": "light"
     },
     "output_type": "display_data"
    }
   ],
   "source": [
    "from matplotlib import pyplot as plt\n",
    "\n",
    "print('데이터 이미지화')\n",
    "plt.imshow(reshaped_raveled_data , cmap='gray')\n",
    "plt.colorbar();"
   ]
  },
  {
   "cell_type": "code",
   "execution_count": 16,
   "id": "fa5b5d31",
   "metadata": {},
   "outputs": [
    {
     "data": {
      "image/png": "[encoded data removed]",
      "text/plain": [
       "<PIL.Image.Image image mode=L size=255x96 at 0x24F96C36430>"
      ]
     },
     "execution_count": 16,
     "metadata": {},
     "output_type": "execute_result"
    }
   ],
   "source": [
    "from PIL import Image\n",
    "from PIL import ImageFilter\n",
    "\n",
    "\n",
    "# numpy array를 이미지로 읽어옴.\n",
    "image = Image.fromarray(reshaped_raveled_data)\n",
    "image"
   ]
  },
  {
   "cell_type": "code",
   "execution_count": 17,
   "id": "912f16ed",
   "metadata": {},
   "outputs": [
    {
     "data": {
      "image/png": "[encoded data removed]",
      "text/plain": [
       "<PIL.Image.Image image mode=L size=255x96 at 0x24F96C365B0>"
      ]
     },
     "execution_count": 17,
     "metadata": {},
     "output_type": "execute_result"
    }
   ],
   "source": [
    "image_BLUR = image.filter(ImageFilter.BLUR)\n",
    "image_BLUR"
   ]
  },
  {
   "cell_type": "code",
   "execution_count": 18,
   "id": "4ef27cde",
   "metadata": {},
   "outputs": [
    {
     "data": {
      "image/png": "[encoded data removed]",
      "text/plain": [
       "<PIL.Image.Image image mode=L size=255x96 at 0x24F96CCBE20>"
      ]
     },
     "execution_count": 18,
     "metadata": {},
     "output_type": "execute_result"
    }
   ],
   "source": [
    "image_CONTOUR = image.filter(ImageFilter.CONTOUR)\n",
    "image_CONTOUR"
   ]
  },
  {
   "cell_type": "code",
   "execution_count": 19,
   "id": "aecf0d43",
   "metadata": {},
   "outputs": [
    {
     "data": {
      "image/png": "[encoded data removed]",
      "text/plain": [
       "<PIL.Image.Image image mode=L size=255x96 at 0x24F96CDF1C0>"
      ]
     },
     "execution_count": 19,
     "metadata": {},
     "output_type": "execute_result"
    }
   ],
   "source": [
    "image_EDGE_ENHANCE = image.filter(ImageFilter.EDGE_ENHANCE)\n",
    "image_EDGE_ENHANCE"
   ]
  },
  {
   "cell_type": "code",
   "execution_count": 20,
   "id": "451b9a37",
   "metadata": {},
   "outputs": [
    {
     "name": "stdout",
     "output_type": "stream",
     "text": [
      "(96, 255)\n"
     ]
    }
   ],
   "source": [
    "blur_array_reshaped_raveled_data = np.array(image_BLUR)\n",
    "print(blur_array_reshaped_raveled_data.shape)\n",
    "\n",
    "blur_array_reshaped_raveled_data = np.array(image_BLUR)\n",
    "contour_array_reshaped_raveled_data = np.array(image_CONTOUR)\n",
    "edge_enhance_array_reshaped_raveled_data = np.array(image_EDGE_ENHANCE)"
   ]
  },
  {
   "cell_type": "code",
   "execution_count": 21,
   "id": "e7adabce",
   "metadata": {},
   "outputs": [
    {
     "data": {
      "text/plain": [
       "(96, 510)"
      ]
     },
     "execution_count": 21,
     "metadata": {},
     "output_type": "execute_result"
    }
   ],
   "source": [
    "stack_data = np.column_stack((reshaped_raveled_data, blur_array_reshaped_raveled_data))\n",
    "stack_data.shape"
   ]
  },
  {
   "cell_type": "code",
   "execution_count": 22,
   "id": "e65179e4",
   "metadata": {},
   "outputs": [
    {
     "data": {
      "text/plain": [
       "(96, 255, 1)"
      ]
     },
     "execution_count": 22,
     "metadata": {},
     "output_type": "execute_result"
    }
   ],
   "source": [
    "import copy\n",
    "\n",
    "# stack_data = copy.deepcopy(reshaped_raveled_data)\n",
    "stack_data = np.expand_dims(reshaped_raveled_data, axis = 2)\n",
    "stack_data.shape"
   ]
  },
  {
   "cell_type": "code",
   "execution_count": 23,
   "id": "4045d2a0",
   "metadata": {},
   "outputs": [
    {
     "data": {
      "text/plain": [
       "(96, 255, 1)"
      ]
     },
     "execution_count": 23,
     "metadata": {},
     "output_type": "execute_result"
    }
   ],
   "source": [
    "blur_stack_data = np.expand_dims(blur_array_reshaped_raveled_data, axis = 2)\n",
    "blur_stack_data.shape"
   ]
  },
  {
   "cell_type": "code",
   "execution_count": 24,
   "id": "c3869237",
   "metadata": {},
   "outputs": [
    {
     "data": {
      "text/plain": [
       "(96, 255, 1)"
      ]
     },
     "execution_count": 24,
     "metadata": {},
     "output_type": "execute_result"
    }
   ],
   "source": [
    "contour_stack_data = np.expand_dims(contour_array_reshaped_raveled_data, axis = 2)\n",
    "contour_stack_data.shape"
   ]
  },
  {
   "cell_type": "code",
   "execution_count": 25,
   "id": "826b6b29",
   "metadata": {},
   "outputs": [
    {
     "data": {
      "text/plain": [
       "(96, 255, 1)"
      ]
     },
     "execution_count": 25,
     "metadata": {},
     "output_type": "execute_result"
    }
   ],
   "source": [
    "edge_enhance_stack_data = np.expand_dims(edge_enhance_array_reshaped_raveled_data, axis = 2)\n",
    "edge_enhance_stack_data.shape"
   ]
  },
  {
   "cell_type": "code",
   "execution_count": 26,
   "id": "fd236cfa",
   "metadata": {},
   "outputs": [
    {
     "data": {
      "text/plain": [
       "(96, 255, 4)"
      ]
     },
     "execution_count": 26,
     "metadata": {},
     "output_type": "execute_result"
    }
   ],
   "source": [
    "stack_data = np.concatenate((stack_data, blur_stack_data), axis = 2)\n",
    "stack_data = np.concatenate((stack_data, contour_stack_data), axis = 2)\n",
    "stack_data = np.concatenate((stack_data, edge_enhance_stack_data), axis = 2)\n",
    "\n",
    "stack_data.shape"
   ]
  },
  {
   "cell_type": "code",
   "execution_count": 27,
   "id": "8274a893",
   "metadata": {},
   "outputs": [
    {
     "data": {
      "text/plain": [
       "array([[196, 189, 182, ...,  92,  96,  95],\n",
       "       [ 98,  51,  56, ...,  61,  65,  67],\n",
       "       [ 68,  74, 102, ...,  78,  78,  85],\n",
       "       ...,\n",
       "       [  0,   0,   0, ...,   0, 222, 166],\n",
       "       [123,  86,  47, ...,  80,  68, 131],\n",
       "       [ 96,  76,  37, ..., 134, 140, 144]], dtype=uint8)"
      ]
     },
     "execution_count": 27,
     "metadata": {},
     "output_type": "execute_result"
    }
   ],
   "source": [
    "stack_data[:,:,0]"
   ]
  },
  {
   "cell_type": "code",
   "execution_count": 28,
   "id": "d1190255",
   "metadata": {},
   "outputs": [
    {
     "name": "stdout",
     "output_type": "stream",
     "text": [
      "2.8284271247461903\n"
     ]
    }
   ],
   "source": [
    "import math\n",
    "\n",
    " \n",
    "\n",
    "# 점과 점 사이의 거리 구하는 함수\n",
    "def distance(x1, y1, x2, y2):\n",
    "    result = math.sqrt( math.pow(x1 - x2, 2) + math.pow(y1 - y2, 2))\n",
    "    return result\n",
    "\n",
    "\n",
    "# 두 점의 좌표를 정한다.\n",
    "P1 = (4, 1)\n",
    "P2 = (2, 3)\n",
    "\n",
    " \n",
    "\n",
    "#함수 호출\n",
    "d = distance(P1[0], P1[1], P2[0], P2[1])\n",
    "\n",
    "print(d)"
   ]
  },
  {
   "cell_type": "code",
   "execution_count": 29,
   "id": "c31e1d7e",
   "metadata": {},
   "outputs": [
    {
     "name": "stdout",
     "output_type": "stream",
     "text": [
      "<__main__.point2d object at 0x0000024F96CE3C40>\n"
     ]
    }
   ],
   "source": [
    "class point2d:\n",
    "    def __init__(self, x, y, current_pressure):\n",
    "        self.x = x\n",
    "        self.y = y\n",
    "        self.current_pressure = current_pressure\n",
    "#         self.x_prev_pressure = x_prev_pressure\n",
    "#         self.y_prev_pressure = y_prev_pressure\n",
    "#         self.x_next_pressure = x_next_pressure\n",
    "#         self.y_next_pressure = y_next_pressure\n",
    "        self.x_prev_pressure = 0 # 초기값 설정\n",
    "        self.y_prev_pressure = 0 # 초기값 설정\n",
    "        self.x_next_pressure = 0 # 초기값 설정\n",
    "        self.y_next_pressure = 0 # 초기값 설정\n",
    "        self.x_pressure_gradient = 0 #self.x_next_pressure - self.x_prev_pressure\n",
    "        self.y_pressure_gradient = 0 #self.y_next_pressure - self.y_prev_pressure\n",
    "        self.magnitude = 0 #distance(self.x_prev_pressure, self.y_prev_pressure, self.x_next_pressure, self.y_next_pressure)\n",
    "        self.angle = 0\n",
    "#         if self.x_pressure_gradient == 0: # 예외처리\n",
    "#             self.angle = 0 # 0으로 초기화\n",
    "#         else:\n",
    "#             self.angle = np.arctan(self.y_pressure_gradient/self.x_pressure_gradient)\n",
    "        \n",
    "p1 = point2d(30, 20, 40)\n",
    "print(p1)"
   ]
  },
  {
   "cell_type": "code",
   "execution_count": 30,
   "id": "03a588e8",
   "metadata": {},
   "outputs": [
    {
     "data": {
      "text/plain": [
       "30"
      ]
     },
     "execution_count": 30,
     "metadata": {},
     "output_type": "execute_result"
    }
   ],
   "source": [
    "p1.x"
   ]
  },
  {
   "cell_type": "code",
   "execution_count": 32,
   "id": "dd4ad68e",
   "metadata": {},
   "outputs": [
    {
     "data": {
      "text/plain": [
       "40"
      ]
     },
     "execution_count": 32,
     "metadata": {},
     "output_type": "execute_result"
    }
   ],
   "source": [
    "p1.current_pressure"
   ]
  },
  {
   "cell_type": "code",
   "execution_count": 33,
   "id": "a10eb4a2",
   "metadata": {},
   "outputs": [
    {
     "data": {
      "text/plain": [
       "24480"
      ]
     },
     "execution_count": 33,
     "metadata": {},
     "output_type": "execute_result"
    }
   ],
   "source": [
    "input_length = len(raveled_data)\n",
    "input_length"
   ]
  },
  {
   "cell_type": "code",
   "execution_count": 34,
   "id": "ad7fd77b",
   "metadata": {},
   "outputs": [
    {
     "data": {
      "text/plain": [
       "196"
      ]
     },
     "execution_count": 34,
     "metadata": {},
     "output_type": "execute_result"
    }
   ],
   "source": [
    "raveled_data[0]"
   ]
  },
  {
   "cell_type": "code",
   "execution_count": 36,
   "id": "51c45d3c",
   "metadata": {},
   "outputs": [
    {
     "data": {
      "text/plain": [
       "196"
      ]
     },
     "execution_count": 36,
     "metadata": {},
     "output_type": "execute_result"
    }
   ],
   "source": [
    "pixel_list = []\n",
    "column_num = 8 # 8x8 기준.\n",
    "for i in range(input_length):\n",
    "    pixel_info = point2d(i,i,None)\n",
    "    pixel_info.x = pixel_info.x%column_num+1    # 2차원 기준, x 좌표 부여. column_num으로 끊음.\n",
    "    pixel_info.y = pixel_info.y//column_num+1   # 2차원 기준, y 좌표 부여. column_num으로 끊음.\n",
    "    pixel_info.current_pressure = raveled_data[i]\n",
    "    \n",
    "    if pixel_info.x > 1: # x축 최소값 초과시 직전 픽셀 입력. 최소값이면 기본값 0 부여.\n",
    "        pixel_info.x_prev_pressure = raveled_data[i-1] \n",
    "    \n",
    "    if pixel_info.x < column_num: # y축 최소값 초과시 직전 픽셀 입력. 최소값이면 기본값 0 부여.\n",
    "        pixel_info.x_next_pressure = raveled_data[i+1]\n",
    "        \n",
    "    if pixel_info.y > 1: # x축 최대값 미달시 직후 픽셀 입력. 최대값이면 기본값 0 부여.\n",
    "        pixel_info.y_prev_pressure = raveled_data[i-column_num]\n",
    "        \n",
    "    if pixel_info.y < column_num: # y축 최대값 미달시 직후 픽셀 입력. 최대값이면 기본값 0 부여.\n",
    "        pixel_info.y_next_pressure = raveled_data[i+column_num]\n",
    "\n",
    "    pixel_info.x_pressure_gradient = pixel_info.x_next_pressure - pixel_info.x_prev_pressure\n",
    "    pixel_info.y_pressure_gradient = pixel_info.y_next_pressure - pixel_info.y_prev_pressure\n",
    "    pixel_info.magnitude = distance(pixel_info.x_prev_pressure, pixel_info.y_prev_pressure, \n",
    "                                  pixel_info.x_next_pressure, pixel_info.y_next_pressure)\n",
    "    if pixel_info.x_pressure_gradient == 0: # 예외처리\n",
    "        pass\n",
    "    else:\n",
    "        pixel_info.angle = np.arctan(pixel_info.y_pressure_gradient/pixel_info.x_pressure_gradient)\n",
    "        \n",
    "    pixel_list.append(pixel_info)\n",
    "    \n",
    "pixel_list[0].current_pressure\n"
   ]
  },
  {
   "cell_type": "code",
   "execution_count": 47,
   "id": "a538f9ca",
   "metadata": {},
   "outputs": [
    {
     "name": "stdout",
     "output_type": "stream",
     "text": [
      "현재 픽셀의 좌표: (1,1)\n",
      "현재 픽셀의 압력:  196\n",
      "x축 직전 픽셀의 압력:  0\n",
      "y축 직전 픽셀의 압력:  0\n",
      "x축 직후 픽셀의 압력:  189\n",
      "y축 직후 픽셀의 압력:  149\n",
      "x축 압력 기울기:  189\n",
      "y축 압력 기울기:  149\n",
      "압력 그래디언트의 크기:  240.66989840858787\n",
      "압력 그래디언트의 각도:  0.6676028415268624\n"
     ]
    }
   ],
   "source": [
    "pixel_pos = 0\n",
    "print(\"현재 픽셀의 좌표: ({},{})\".format(pixel_list[pixel_pos].x, pixel_list[pixel_pos].y))\n",
    "\n",
    "print(\"현재 픽셀의 압력: \", pixel_list[pixel_pos].current_pressure)\n",
    "print(\"x축 직전 픽셀의 압력: \", pixel_list[pixel_pos].x_prev_pressure)\n",
    "print(\"y축 직전 픽셀의 압력: \", pixel_list[pixel_pos].y_prev_pressure)\n",
    "print(\"x축 직후 픽셀의 압력: \", pixel_list[pixel_pos].x_next_pressure)\n",
    "print(\"y축 직후 픽셀의 압력: \", pixel_list[pixel_pos].y_next_pressure)\n",
    "print(\"x축 압력 기울기: \", pixel_list[pixel_pos].x_pressure_gradient)\n",
    "print(\"y축 압력 기울기: \", pixel_list[pixel_pos].y_pressure_gradient)\n",
    "print(\"압력 그래디언트의 크기: \", pixel_list[pixel_pos].magnitude)\n",
    "print(\"압력 그래디언트의 각도: \", pixel_list[pixel_pos].angle)"
   ]
  },
  {
   "cell_type": "code",
   "execution_count": 48,
   "id": "4c76cdc9",
   "metadata": {},
   "outputs": [
    {
     "name": "stdout",
     "output_type": "stream",
     "text": [
      "현재 픽셀의 좌표: (2,1)\n",
      "현재 픽셀의 압력:  189\n",
      "x축 직전 픽셀의 압력:  196\n",
      "y축 직전 픽셀의 압력:  0\n",
      "x축 직후 픽셀의 압력:  182\n",
      "y축 직후 픽셀의 압력:  144\n",
      "x축 압력 기울기:  -14\n",
      "y축 압력 기울기:  144\n",
      "압력 그래디언트의 크기:  144.6789549312546\n",
      "압력 그래디언트의 각도:  -1.4738786990005337\n"
     ]
    }
   ],
   "source": [
    "pixel_pos = 1\n",
    "print(\"현재 픽셀의 좌표: ({},{})\".format(pixel_list[pixel_pos].x, pixel_list[pixel_pos].y))\n",
    "\n",
    "print(\"현재 픽셀의 압력: \", pixel_list[pixel_pos].current_pressure)\n",
    "print(\"x축 직전 픽셀의 압력: \", pixel_list[pixel_pos].x_prev_pressure)\n",
    "print(\"y축 직전 픽셀의 압력: \", pixel_list[pixel_pos].y_prev_pressure)\n",
    "print(\"x축 직후 픽셀의 압력: \", pixel_list[pixel_pos].x_next_pressure)\n",
    "print(\"y축 직후 픽셀의 압력: \", pixel_list[pixel_pos].y_next_pressure)\n",
    "print(\"x축 압력 기울기: \", pixel_list[pixel_pos].x_pressure_gradient)\n",
    "print(\"y축 압력 기울기: \", pixel_list[pixel_pos].y_pressure_gradient)\n",
    "print(\"압력 그래디언트의 크기: \", pixel_list[pixel_pos].magnitude)\n",
    "print(\"압력 그래디언트의 각도: \", pixel_list[pixel_pos].angle)"
   ]
  },
  {
   "cell_type": "code",
   "execution_count": 49,
   "id": "1256aefe",
   "metadata": {},
   "outputs": [
    {
     "name": "stdout",
     "output_type": "stream",
     "text": [
      "현재 픽셀의 좌표: (1,2)\n",
      "현재 픽셀의 압력:  149\n",
      "x축 직전 픽셀의 압력:  0\n",
      "y축 직전 픽셀의 압력:  196\n",
      "x축 직후 픽셀의 압력:  144\n",
      "y축 직후 픽셀의 압력:  98\n",
      "x축 압력 기울기:  144\n",
      "y축 압력 기울기:  -98\n",
      "압력 그래디언트의 크기:  174.18381095842403\n",
      "압력 그래디언트의 각도:  -0.5975564529851647\n"
     ]
    }
   ],
   "source": [
    "pixel_pos = 8\n",
    "print(\"현재 픽셀의 좌표: ({},{})\".format(pixel_list[pixel_pos].x, pixel_list[pixel_pos].y))\n",
    "\n",
    "print(\"현재 픽셀의 압력: \", pixel_list[pixel_pos].current_pressure)\n",
    "print(\"x축 직전 픽셀의 압력: \", pixel_list[pixel_pos].x_prev_pressure)\n",
    "print(\"y축 직전 픽셀의 압력: \", pixel_list[pixel_pos].y_prev_pressure)\n",
    "print(\"x축 직후 픽셀의 압력: \", pixel_list[pixel_pos].x_next_pressure)\n",
    "print(\"y축 직후 픽셀의 압력: \", pixel_list[pixel_pos].y_next_pressure)\n",
    "print(\"x축 압력 기울기: \", pixel_list[pixel_pos].x_pressure_gradient)\n",
    "print(\"y축 압력 기울기: \", pixel_list[pixel_pos].y_pressure_gradient)\n",
    "print(\"압력 그래디언트의 크기: \", pixel_list[pixel_pos].magnitude)\n",
    "print(\"압력 그래디언트의 각도: \", pixel_list[pixel_pos].angle)\n"
   ]
  },
  {
   "cell_type": "code",
   "execution_count": 38,
   "id": "291afb0d",
   "metadata": {},
   "outputs": [
    {
     "data": {
      "text/plain": [
       "(8, 3060)"
      ]
     },
     "execution_count": 38,
     "metadata": {},
     "output_type": "execute_result"
    }
   ],
   "source": [
    "pixel_array = np.array(pixel_list).reshape(8, 3060)\n",
    "pixel_array.shape"
   ]
  },
  {
   "cell_type": "code",
   "execution_count": 39,
   "id": "b8ee093e",
   "metadata": {},
   "outputs": [
    {
     "ename": "NameError",
     "evalue": "name 'coordinate_array' is not defined",
     "output_type": "error",
     "traceback": [
      "\u001b[1;31m---------------------------------------------------------------------------\u001b[0m",
      "\u001b[1;31mNameError\u001b[0m                                 Traceback (most recent call last)",
      "\u001b[1;32m~\\AppData\\Local\\Temp/ipykernel_11344/2156000292.py\u001b[0m in \u001b[0;36m<module>\u001b[1;34m\u001b[0m\n\u001b[1;32m----> 1\u001b[1;33m \u001b[0mcoordinate_array\u001b[0m \u001b[1;33m=\u001b[0m \u001b[0mcoordinate_array\u001b[0m\u001b[1;33m.\u001b[0m\u001b[0mreshape\u001b[0m\u001b[1;33m(\u001b[0m\u001b[1;36m8\u001b[0m\u001b[1;33m,\u001b[0m \u001b[1;36m3060\u001b[0m\u001b[1;33m)\u001b[0m\u001b[1;33m\u001b[0m\u001b[1;33m\u001b[0m\u001b[0m\n\u001b[0m\u001b[0;32m      2\u001b[0m \u001b[0mcoordinate_array\u001b[0m\u001b[1;33m.\u001b[0m\u001b[0mshape\u001b[0m\u001b[1;33m\u001b[0m\u001b[1;33m\u001b[0m\u001b[0m\n",
      "\u001b[1;31mNameError\u001b[0m: name 'coordinate_array' is not defined"
     ]
    }
   ],
   "source": []
  },
  {
   "cell_type": "code",
   "execution_count": 3,
   "id": "da516ce8",
   "metadata": {},
   "outputs": [
    {
     "name": "stdout",
     "output_type": "stream",
     "text": [
      "Downloading data from https://storage.googleapis.com/tensorflow/tf-keras-datasets/mnist.npz\n",
      "11493376/11490434 [==============================] - 2s 0us/step\n",
      "11501568/11490434 [==============================] - 2s 0us/step\n"
     ]
    }
   ],
   "source": [
    "DATA_URL = 'https://storage.googleapis.com/tensorflow/tf-keras-datasets/mnist.npz'\n",
    "\n",
    "path = tf.keras.utils.get_file('mnist.npz', DATA_URL)\n",
    "with np.load(path) as data:\n",
    "  train_examples = data['x_train']\n",
    "  train_labels = data['y_train']\n",
    "  test_examples = data['x_test']\n",
    "  test_labels = data['y_test']"
   ]
  },
  {
   "cell_type": "code",
   "execution_count": 7,
   "id": "c0964b05",
   "metadata": {},
   "outputs": [
    {
     "data": {
      "text/plain": [
       "(60000, 28, 28)"
      ]
     },
     "execution_count": 7,
     "metadata": {},
     "output_type": "execute_result"
    }
   ],
   "source": [
    "train_examples.shape"
   ]
  },
  {
   "cell_type": "code",
   "execution_count": 14,
   "id": "82ff6b6a",
   "metadata": {},
   "outputs": [
    {
     "data": {
      "text/plain": [
       "(60000,)"
      ]
     },
     "execution_count": 14,
     "metadata": {},
     "output_type": "execute_result"
    }
   ],
   "source": [
    "train_labels.shape"
   ]
  },
  {
   "cell_type": "code",
   "execution_count": 15,
   "id": "9dbe8bf8",
   "metadata": {},
   "outputs": [],
   "source": [
    "train_dataset = tf.data.Dataset.from_tensor_slices((train_examples, train_labels))\n",
    "test_dataset = tf.data.Dataset.from_tensor_slices((test_examples, test_labels))"
   ]
  },
  {
   "cell_type": "code",
   "execution_count": 16,
   "id": "9d1cd008",
   "metadata": {},
   "outputs": [],
   "source": [
    "BATCH_SIZE = 64\n",
    "SHUFFLE_BUFFER_SIZE = 100\n",
    "\n",
    "train_dataset = train_dataset.shuffle(SHUFFLE_BUFFER_SIZE).batch(BATCH_SIZE)\n",
    "test_dataset = test_dataset.batch(BATCH_SIZE)"
   ]
  },
  {
   "cell_type": "code",
   "execution_count": 17,
   "id": "9fd8a02b",
   "metadata": {},
   "outputs": [],
   "source": [
    "model = tf.keras.Sequential([\n",
    "    tf.keras.layers.Flatten(input_shape=(28, 28)),\n",
    "    tf.keras.layers.Dense(128, activation='relu'),\n",
    "    tf.keras.layers.Dense(10)\n",
    "])\n",
    "\n",
    "model.compile(optimizer=tf.keras.optimizers.RMSprop(),\n",
    "              loss=tf.keras.losses.SparseCategoricalCrossentropy(from_logits=True),\n",
    "              metrics=['sparse_categorical_accuracy'])"
   ]
  },
  {
   "cell_type": "code",
   "execution_count": 19,
   "id": "efa7904d",
   "metadata": {},
   "outputs": [
    {
     "name": "stdout",
     "output_type": "stream",
     "text": [
      "Model: \"sequential\"\n",
      "_________________________________________________________________\n",
      " Layer (type)                Output Shape              Param #   \n",
      "=================================================================\n",
      " flatten (Flatten)           (None, 784)               0         \n",
      "                                                                 \n",
      " dense (Dense)               (None, 128)               100480    \n",
      "                                                                 \n",
      " dense_1 (Dense)             (None, 10)                1290      \n",
      "                                                                 \n",
      "=================================================================\n",
      "Total params: 101,770\n",
      "Trainable params: 101,770\n",
      "Non-trainable params: 0\n",
      "_________________________________________________________________\n"
     ]
    }
   ],
   "source": [
    "model.summary()"
   ]
  },
  {
   "cell_type": "code",
   "execution_count": 18,
   "id": "7152f0ee",
   "metadata": {},
   "outputs": [
    {
     "name": "stdout",
     "output_type": "stream",
     "text": [
      "Epoch 1/10\n",
      "938/938 [==============================] - 6s 5ms/step - loss: 3.5582 - sparse_categorical_accuracy: 0.8812\n",
      "Epoch 2/10\n",
      "938/938 [==============================] - 5s 5ms/step - loss: 0.5537 - sparse_categorical_accuracy: 0.9317\n",
      "Epoch 3/10\n",
      "938/938 [==============================] - 5s 5ms/step - loss: 0.3936 - sparse_categorical_accuracy: 0.9473\n",
      "Epoch 4/10\n",
      "938/938 [==============================] - 5s 5ms/step - loss: 0.3245 - sparse_categorical_accuracy: 0.9570\n",
      "Epoch 5/10\n",
      "938/938 [==============================] - 5s 5ms/step - loss: 0.3019 - sparse_categorical_accuracy: 0.9619\n",
      "Epoch 6/10\n",
      "938/938 [==============================] - 5s 5ms/step - loss: 0.2647 - sparse_categorical_accuracy: 0.9662\n",
      "Epoch 7/10\n",
      "938/938 [==============================] - 5s 5ms/step - loss: 0.2490 - sparse_categorical_accuracy: 0.9696\n",
      "Epoch 8/10\n",
      "938/938 [==============================] - 4s 5ms/step - loss: 0.2406 - sparse_categorical_accuracy: 0.9728\n",
      "Epoch 9/10\n",
      "938/938 [==============================] - 4s 4ms/step - loss: 0.2186 - sparse_categorical_accuracy: 0.9743\n",
      "Epoch 10/10\n",
      "938/938 [==============================] - 4s 5ms/step - loss: 0.1923 - sparse_categorical_accuracy: 0.9765\n"
     ]
    },
    {
     "data": {
      "text/plain": [
       "<keras.callbacks.History at 0x1f606198d30>"
      ]
     },
     "execution_count": 18,
     "metadata": {},
     "output_type": "execute_result"
    }
   ],
   "source": [
    "model.fit(train_dataset, epochs=10)"
   ]
  },
  {
   "cell_type": "code",
   "execution_count": null,
   "id": "0059de56",
   "metadata": {},
   "outputs": [],
   "source": []
  }
 ],
 "metadata": {
  "kernelspec": {
   "display_name": "Python 3 (ipykernel)",
   "language": "python",
   "name": "python3"
  },
  "language_info": {
   "codemirror_mode": {
    "name": "ipython",
    "version": 3
   },
   "file_extension": ".py",
   "mimetype": "text/x-python",
   "name": "python",
   "nbconvert_exporter": "python",
   "pygments_lexer": "ipython3",
   "version": "3.9.7"
  }
 },
 "nbformat": 4,
 "nbformat_minor": 5
}
