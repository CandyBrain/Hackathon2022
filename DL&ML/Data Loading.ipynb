{
 "cells": [
  {
   "cell_type": "code",
   "execution_count": 1,
   "id": "3287ca0f",
   "metadata": {},
   "outputs": [],
   "source": [
    "import pandas as pd"
   ]
  },
  {
   "cell_type": "code",
   "execution_count": 2,
   "id": "d3c14086",
   "metadata": {},
   "outputs": [
    {
     "data": {
      "text/html": [
       "<div>\n",
       "<style scoped>\n",
       "    .dataframe tbody tr th:only-of-type {\n",
       "        vertical-align: middle;\n",
       "    }\n",
       "\n",
       "    .dataframe tbody tr th {\n",
       "        vertical-align: top;\n",
       "    }\n",
       "\n",
       "    .dataframe thead th {\n",
       "        text-align: right;\n",
       "    }\n",
       "</style>\n",
       "<table border=\"1\" class=\"dataframe\">\n",
       "  <thead>\n",
       "    <tr style=\"text-align: right;\">\n",
       "      <th></th>\n",
       "      <th>Unnamed: 0</th>\n",
       "      <th>FSR1</th>\n",
       "      <th>FSR2</th>\n",
       "      <th>FSR3</th>\n",
       "      <th>FSR4</th>\n",
       "      <th>FSR5</th>\n",
       "      <th>FSR6</th>\n",
       "      <th>FSR7</th>\n",
       "      <th>FSR8</th>\n",
       "      <th>FSR9</th>\n",
       "      <th>...</th>\n",
       "      <th>FSR55</th>\n",
       "      <th>FSR56</th>\n",
       "      <th>FSR57</th>\n",
       "      <th>FSR58</th>\n",
       "      <th>FSR59</th>\n",
       "      <th>FSR60</th>\n",
       "      <th>FSR61</th>\n",
       "      <th>FSR62</th>\n",
       "      <th>FSR63</th>\n",
       "      <th>FSR64</th>\n",
       "    </tr>\n",
       "  </thead>\n",
       "  <tbody>\n",
       "    <tr>\n",
       "      <th>0</th>\n",
       "      <td>DATA</td>\n",
       "      <td>822000</td>\n",
       "      <td>0</td>\n",
       "      <td>0</td>\n",
       "      <td>257526</td>\n",
       "      <td>0</td>\n",
       "      <td>0</td>\n",
       "      <td>0</td>\n",
       "      <td>1647000</td>\n",
       "      <td>0</td>\n",
       "      <td>...</td>\n",
       "      <td>20076</td>\n",
       "      <td>15401</td>\n",
       "      <td>17328</td>\n",
       "      <td>13500</td>\n",
       "      <td>11494</td>\n",
       "      <td>10060</td>\n",
       "      <td>9132</td>\n",
       "      <td>8250</td>\n",
       "      <td>7702</td>\n",
       "      <td>7071</td>\n",
       "    </tr>\n",
       "    <tr>\n",
       "      <th>1</th>\n",
       "      <td>DATA</td>\n",
       "      <td>338379</td>\n",
       "      <td>1097000</td>\n",
       "      <td>0</td>\n",
       "      <td>1647000</td>\n",
       "      <td>0</td>\n",
       "      <td>0</td>\n",
       "      <td>518052</td>\n",
       "      <td>1647000</td>\n",
       "      <td>3297000</td>\n",
       "      <td>...</td>\n",
       "      <td>18615</td>\n",
       "      <td>15714</td>\n",
       "      <td>18615</td>\n",
       "      <td>16335</td>\n",
       "      <td>13500</td>\n",
       "      <td>12207</td>\n",
       "      <td>10963</td>\n",
       "      <td>9741</td>\n",
       "      <td>8538</td>\n",
       "      <td>7737</td>\n",
       "    </tr>\n",
       "    <tr>\n",
       "      <th>2</th>\n",
       "      <td>DATA</td>\n",
       "      <td>3297000</td>\n",
       "      <td>0</td>\n",
       "      <td>1647000</td>\n",
       "      <td>3297000</td>\n",
       "      <td>0</td>\n",
       "      <td>0</td>\n",
       "      <td>518052</td>\n",
       "      <td>1647000</td>\n",
       "      <td>0</td>\n",
       "      <td>...</td>\n",
       "      <td>15714</td>\n",
       "      <td>12277</td>\n",
       "      <td>14157</td>\n",
       "      <td>11688</td>\n",
       "      <td>10711</td>\n",
       "      <td>9375</td>\n",
       "      <td>9282</td>\n",
       "      <td>8899</td>\n",
       "      <td>8379</td>\n",
       "      <td>7737</td>\n",
       "    </tr>\n",
       "    <tr>\n",
       "      <th>3</th>\n",
       "      <td>DATA</td>\n",
       "      <td>615750</td>\n",
       "      <td>0</td>\n",
       "      <td>0</td>\n",
       "      <td>1647000</td>\n",
       "      <td>822000</td>\n",
       "      <td>822000</td>\n",
       "      <td>1647000</td>\n",
       "      <td>1647000</td>\n",
       "      <td>0</td>\n",
       "      <td>...</td>\n",
       "      <td>22190</td>\n",
       "      <td>19247</td>\n",
       "      <td>23756</td>\n",
       "      <td>18475</td>\n",
       "      <td>14460</td>\n",
       "      <td>11842</td>\n",
       "      <td>11776</td>\n",
       "      <td>9692</td>\n",
       "      <td>8899</td>\n",
       "      <td>8000</td>\n",
       "    </tr>\n",
       "    <tr>\n",
       "      <th>4</th>\n",
       "      <td>DATA</td>\n",
       "      <td>822000</td>\n",
       "      <td>822000</td>\n",
       "      <td>822000</td>\n",
       "      <td>0</td>\n",
       "      <td>615750</td>\n",
       "      <td>822000</td>\n",
       "      <td>0</td>\n",
       "      <td>3297000</td>\n",
       "      <td>1097000</td>\n",
       "      <td>...</td>\n",
       "      <td>15065</td>\n",
       "      <td>13071</td>\n",
       "      <td>14967</td>\n",
       "      <td>13071</td>\n",
       "      <td>12137</td>\n",
       "      <td>10580</td>\n",
       "      <td>10580</td>\n",
       "      <td>9741</td>\n",
       "      <td>8771</td>\n",
       "      <td>8123</td>\n",
       "    </tr>\n",
       "  </tbody>\n",
       "</table>\n",
       "<p>5 rows × 65 columns</p>\n",
       "</div>"
      ],
      "text/plain": [
       "  Unnamed: 0     FSR1     FSR2     FSR3     FSR4    FSR5    FSR6     FSR7  \\\n",
       "0       DATA   822000        0        0   257526       0       0        0   \n",
       "1       DATA   338379  1097000        0  1647000       0       0   518052   \n",
       "2       DATA  3297000        0  1647000  3297000       0       0   518052   \n",
       "3       DATA   615750        0        0  1647000  822000  822000  1647000   \n",
       "4       DATA   822000   822000   822000        0  615750  822000        0   \n",
       "\n",
       "      FSR8     FSR9  ...  FSR55  FSR56  FSR57  FSR58  FSR59  FSR60  FSR61  \\\n",
       "0  1647000        0  ...  20076  15401  17328  13500  11494  10060   9132   \n",
       "1  1647000  3297000  ...  18615  15714  18615  16335  13500  12207  10963   \n",
       "2  1647000        0  ...  15714  12277  14157  11688  10711   9375   9282   \n",
       "3  1647000        0  ...  22190  19247  23756  18475  14460  11842  11776   \n",
       "4  3297000  1097000  ...  15065  13071  14967  13071  12137  10580  10580   \n",
       "\n",
       "   FSR62  FSR63  FSR64  \n",
       "0   8250   7702   7071  \n",
       "1   9741   8538   7737  \n",
       "2   8899   8379   7737  \n",
       "3   9692   8899   8000  \n",
       "4   9741   8771   8123  \n",
       "\n",
       "[5 rows x 65 columns]"
      ]
     },
     "execution_count": 2,
     "metadata": {},
     "output_type": "execute_result"
    }
   ],
   "source": [
    "raw_data = pd.read_csv('C:/Users/user/Google 드라이브/AIFFEL/+Final project/testData_20220503_5by5.csv', sep=',')\n",
    "# raw_data = pd.read_csv('C:/Users/user/Google 드라이브/AIFFEL/+Final project/testData_20220502_2.csv', quotechar=',')\n",
    "raw_data.head()"
   ]
  },
  {
   "cell_type": "code",
   "execution_count": 3,
   "id": "efe3c13e",
   "metadata": {},
   "outputs": [
    {
     "data": {
      "text/html": [
       "<div>\n",
       "<style scoped>\n",
       "    .dataframe tbody tr th:only-of-type {\n",
       "        vertical-align: middle;\n",
       "    }\n",
       "\n",
       "    .dataframe tbody tr th {\n",
       "        vertical-align: top;\n",
       "    }\n",
       "\n",
       "    .dataframe thead th {\n",
       "        text-align: right;\n",
       "    }\n",
       "</style>\n",
       "<table border=\"1\" class=\"dataframe\">\n",
       "  <thead>\n",
       "    <tr style=\"text-align: right;\">\n",
       "      <th></th>\n",
       "      <th>FSR1</th>\n",
       "      <th>FSR2</th>\n",
       "      <th>FSR3</th>\n",
       "      <th>FSR4</th>\n",
       "      <th>FSR5</th>\n",
       "      <th>FSR6</th>\n",
       "      <th>FSR7</th>\n",
       "      <th>FSR8</th>\n",
       "      <th>FSR9</th>\n",
       "      <th>FSR10</th>\n",
       "      <th>...</th>\n",
       "      <th>FSR55</th>\n",
       "      <th>FSR56</th>\n",
       "      <th>FSR57</th>\n",
       "      <th>FSR58</th>\n",
       "      <th>FSR59</th>\n",
       "      <th>FSR60</th>\n",
       "      <th>FSR61</th>\n",
       "      <th>FSR62</th>\n",
       "      <th>FSR63</th>\n",
       "      <th>FSR64</th>\n",
       "    </tr>\n",
       "  </thead>\n",
       "  <tbody>\n",
       "    <tr>\n",
       "      <th>0</th>\n",
       "      <td>822000</td>\n",
       "      <td>0</td>\n",
       "      <td>0</td>\n",
       "      <td>257526</td>\n",
       "      <td>0</td>\n",
       "      <td>0</td>\n",
       "      <td>0</td>\n",
       "      <td>1647000</td>\n",
       "      <td>0</td>\n",
       "      <td>0</td>\n",
       "      <td>...</td>\n",
       "      <td>20076</td>\n",
       "      <td>15401</td>\n",
       "      <td>17328</td>\n",
       "      <td>13500</td>\n",
       "      <td>11494</td>\n",
       "      <td>10060</td>\n",
       "      <td>9132</td>\n",
       "      <td>8250</td>\n",
       "      <td>7702</td>\n",
       "      <td>7071</td>\n",
       "    </tr>\n",
       "    <tr>\n",
       "      <th>1</th>\n",
       "      <td>338379</td>\n",
       "      <td>1097000</td>\n",
       "      <td>0</td>\n",
       "      <td>1647000</td>\n",
       "      <td>0</td>\n",
       "      <td>0</td>\n",
       "      <td>518052</td>\n",
       "      <td>1647000</td>\n",
       "      <td>3297000</td>\n",
       "      <td>822000</td>\n",
       "      <td>...</td>\n",
       "      <td>18615</td>\n",
       "      <td>15714</td>\n",
       "      <td>18615</td>\n",
       "      <td>16335</td>\n",
       "      <td>13500</td>\n",
       "      <td>12207</td>\n",
       "      <td>10963</td>\n",
       "      <td>9741</td>\n",
       "      <td>8538</td>\n",
       "      <td>7737</td>\n",
       "    </tr>\n",
       "    <tr>\n",
       "      <th>2</th>\n",
       "      <td>3297000</td>\n",
       "      <td>0</td>\n",
       "      <td>1647000</td>\n",
       "      <td>3297000</td>\n",
       "      <td>0</td>\n",
       "      <td>0</td>\n",
       "      <td>518052</td>\n",
       "      <td>1647000</td>\n",
       "      <td>0</td>\n",
       "      <td>0</td>\n",
       "      <td>...</td>\n",
       "      <td>15714</td>\n",
       "      <td>12277</td>\n",
       "      <td>14157</td>\n",
       "      <td>11688</td>\n",
       "      <td>10711</td>\n",
       "      <td>9375</td>\n",
       "      <td>9282</td>\n",
       "      <td>8899</td>\n",
       "      <td>8379</td>\n",
       "      <td>7737</td>\n",
       "    </tr>\n",
       "    <tr>\n",
       "      <th>3</th>\n",
       "      <td>615750</td>\n",
       "      <td>0</td>\n",
       "      <td>0</td>\n",
       "      <td>1647000</td>\n",
       "      <td>822000</td>\n",
       "      <td>822000</td>\n",
       "      <td>1647000</td>\n",
       "      <td>1647000</td>\n",
       "      <td>0</td>\n",
       "      <td>1647000</td>\n",
       "      <td>...</td>\n",
       "      <td>22190</td>\n",
       "      <td>19247</td>\n",
       "      <td>23756</td>\n",
       "      <td>18475</td>\n",
       "      <td>14460</td>\n",
       "      <td>11842</td>\n",
       "      <td>11776</td>\n",
       "      <td>9692</td>\n",
       "      <td>8899</td>\n",
       "      <td>8000</td>\n",
       "    </tr>\n",
       "    <tr>\n",
       "      <th>4</th>\n",
       "      <td>822000</td>\n",
       "      <td>822000</td>\n",
       "      <td>822000</td>\n",
       "      <td>0</td>\n",
       "      <td>615750</td>\n",
       "      <td>822000</td>\n",
       "      <td>0</td>\n",
       "      <td>3297000</td>\n",
       "      <td>1097000</td>\n",
       "      <td>3297000</td>\n",
       "      <td>...</td>\n",
       "      <td>15065</td>\n",
       "      <td>13071</td>\n",
       "      <td>14967</td>\n",
       "      <td>13071</td>\n",
       "      <td>12137</td>\n",
       "      <td>10580</td>\n",
       "      <td>10580</td>\n",
       "      <td>9741</td>\n",
       "      <td>8771</td>\n",
       "      <td>8123</td>\n",
       "    </tr>\n",
       "  </tbody>\n",
       "</table>\n",
       "<p>5 rows × 64 columns</p>\n",
       "</div>"
      ],
      "text/plain": [
       "      FSR1     FSR2     FSR3     FSR4    FSR5    FSR6     FSR7     FSR8  \\\n",
       "0   822000        0        0   257526       0       0        0  1647000   \n",
       "1   338379  1097000        0  1647000       0       0   518052  1647000   \n",
       "2  3297000        0  1647000  3297000       0       0   518052  1647000   \n",
       "3   615750        0        0  1647000  822000  822000  1647000  1647000   \n",
       "4   822000   822000   822000        0  615750  822000        0  3297000   \n",
       "\n",
       "      FSR9    FSR10  ...  FSR55  FSR56  FSR57  FSR58  FSR59  FSR60  FSR61  \\\n",
       "0        0        0  ...  20076  15401  17328  13500  11494  10060   9132   \n",
       "1  3297000   822000  ...  18615  15714  18615  16335  13500  12207  10963   \n",
       "2        0        0  ...  15714  12277  14157  11688  10711   9375   9282   \n",
       "3        0  1647000  ...  22190  19247  23756  18475  14460  11842  11776   \n",
       "4  1097000  3297000  ...  15065  13071  14967  13071  12137  10580  10580   \n",
       "\n",
       "   FSR62  FSR63  FSR64  \n",
       "0   8250   7702   7071  \n",
       "1   9741   8538   7737  \n",
       "2   8899   8379   7737  \n",
       "3   9692   8899   8000  \n",
       "4   9741   8771   8123  \n",
       "\n",
       "[5 rows x 64 columns]"
      ]
     },
     "execution_count": 3,
     "metadata": {},
     "output_type": "execute_result"
    }
   ],
   "source": [
    "prep1_data = raw_data.drop(['Unnamed: 0'], axis = 1)\n",
    "prep1_data.head()"
   ]
  },
  {
   "cell_type": "code",
   "execution_count": 4,
   "id": "60f4b1da",
   "metadata": {},
   "outputs": [
    {
     "data": {
      "text/plain": [
       "array([[ 822000,       0,       0, ...,    8250,    7702,    7071],\n",
       "       [ 338379, 1097000,       0, ...,    9741,    8538,    7737],\n",
       "       [3297000,       0, 1647000, ...,    8899,    8379,    7737],\n",
       "       ...,\n",
       "       [1097000,       0, 1647000, ...,    9484,    9282,    8418],\n",
       "       [      0,       0,       0, ...,    8633,    7855,    7102],\n",
       "       [      0,       0,  518052, ...,   17625,   14967,   11977]],\n",
       "      dtype=int64)"
      ]
     },
     "execution_count": 4,
     "metadata": {},
     "output_type": "execute_result"
    }
   ],
   "source": [
    "import numpy as np\n",
    "\n",
    "np_data = prep1_data.to_numpy()\n",
    "np_data"
   ]
  },
  {
   "cell_type": "code",
   "execution_count": 5,
   "id": "4dd845e4",
   "metadata": {},
   "outputs": [
    {
     "data": {
      "text/plain": [
       "(193, 64)"
      ]
     },
     "execution_count": 5,
     "metadata": {},
     "output_type": "execute_result"
    }
   ],
   "source": [
    "np_data.shape"
   ]
  },
  {
   "cell_type": "code",
   "execution_count": 6,
   "id": "69ac63d3",
   "metadata": {},
   "outputs": [
    {
     "data": {
      "text/plain": [
       "FSR1      238463\n",
       "FSR2     1647000\n",
       "FSR3     1097000\n",
       "FSR4     1097000\n",
       "FSR5           0\n",
       "          ...   \n",
       "FSR60      11623\n",
       "FSR61      11688\n",
       "FSR62       9958\n",
       "FSR63       8813\n",
       "FSR64       7807\n",
       "Name: 49, Length: 64, dtype: int64"
      ]
     },
     "execution_count": 6,
     "metadata": {},
     "output_type": "execute_result"
    }
   ],
   "source": [
    "import copy\n",
    "\n",
    "stats_data = copy.deepcopy(prep1_data)\n",
    "stats_data.iloc[49]"
   ]
  },
  {
   "cell_type": "code",
   "execution_count": 7,
   "id": "121280f7",
   "metadata": {},
   "outputs": [
    {
     "data": {
      "text/plain": [
       "FSR1           0\n",
       "FSR2           0\n",
       "FSR3      518052\n",
       "FSR4     3297000\n",
       "FSR5     3297000\n",
       "          ...   \n",
       "FSR60      18951\n",
       "FSR61      21384\n",
       "FSR62      17625\n",
       "FSR63      14967\n",
       "FSR64      11977\n",
       "Name: 192, Length: 64, dtype: int64"
      ]
     },
     "execution_count": 7,
     "metadata": {},
     "output_type": "execute_result"
    }
   ],
   "source": [
    "stats_data.iloc[-1]"
   ]
  },
  {
   "cell_type": "code",
   "execution_count": 8,
   "id": "21e0e23b",
   "metadata": {},
   "outputs": [
    {
     "data": {
      "text/html": [
       "<div>\n",
       "<style scoped>\n",
       "    .dataframe tbody tr th:only-of-type {\n",
       "        vertical-align: middle;\n",
       "    }\n",
       "\n",
       "    .dataframe tbody tr th {\n",
       "        vertical-align: top;\n",
       "    }\n",
       "\n",
       "    .dataframe thead th {\n",
       "        text-align: right;\n",
       "    }\n",
       "</style>\n",
       "<table border=\"1\" class=\"dataframe\">\n",
       "  <thead>\n",
       "    <tr style=\"text-align: right;\">\n",
       "      <th></th>\n",
       "      <th>FSR1</th>\n",
       "      <th>FSR2</th>\n",
       "      <th>FSR3</th>\n",
       "      <th>FSR4</th>\n",
       "      <th>FSR5</th>\n",
       "      <th>FSR6</th>\n",
       "      <th>FSR7</th>\n",
       "      <th>FSR8</th>\n",
       "      <th>FSR9</th>\n",
       "      <th>FSR10</th>\n",
       "      <th>...</th>\n",
       "      <th>FSR55</th>\n",
       "      <th>FSR56</th>\n",
       "      <th>FSR57</th>\n",
       "      <th>FSR58</th>\n",
       "      <th>FSR59</th>\n",
       "      <th>FSR60</th>\n",
       "      <th>FSR61</th>\n",
       "      <th>FSR62</th>\n",
       "      <th>FSR63</th>\n",
       "      <th>FSR64</th>\n",
       "    </tr>\n",
       "  </thead>\n",
       "  <tbody>\n",
       "    <tr>\n",
       "      <th>0</th>\n",
       "      <td>204796.818653</td>\n",
       "      <td>726478.694301</td>\n",
       "      <td>395940.300518</td>\n",
       "      <td>732153.010363</td>\n",
       "      <td>864386.818653</td>\n",
       "      <td>303712.725389</td>\n",
       "      <td>787546.145078</td>\n",
       "      <td>892746.160622</td>\n",
       "      <td>217722.73057</td>\n",
       "      <td>229845.243523</td>\n",
       "      <td>...</td>\n",
       "      <td>18785.958549</td>\n",
       "      <td>15398.196891</td>\n",
       "      <td>17797.38342</td>\n",
       "      <td>14718.321244</td>\n",
       "      <td>12696.668394</td>\n",
       "      <td>11060.134715</td>\n",
       "      <td>10661.595855</td>\n",
       "      <td>9530.813472</td>\n",
       "      <td>8704.388601</td>\n",
       "      <td>7911.284974</td>\n",
       "    </tr>\n",
       "  </tbody>\n",
       "</table>\n",
       "<p>1 rows × 64 columns</p>\n",
       "</div>"
      ],
      "text/plain": [
       "            FSR1           FSR2           FSR3           FSR4           FSR5  \\\n",
       "0  204796.818653  726478.694301  395940.300518  732153.010363  864386.818653   \n",
       "\n",
       "            FSR6           FSR7           FSR8          FSR9          FSR10  \\\n",
       "0  303712.725389  787546.145078  892746.160622  217722.73057  229845.243523   \n",
       "\n",
       "   ...         FSR55         FSR56        FSR57         FSR58         FSR59  \\\n",
       "0  ...  18785.958549  15398.196891  17797.38342  14718.321244  12696.668394   \n",
       "\n",
       "          FSR60         FSR61        FSR62        FSR63        FSR64  \n",
       "0  11060.134715  10661.595855  9530.813472  8704.388601  7911.284974  \n",
       "\n",
       "[1 rows x 64 columns]"
      ]
     },
     "execution_count": 8,
     "metadata": {},
     "output_type": "execute_result"
    }
   ],
   "source": [
    "mean_stats_data = pd.DataFrame(stats_data.mean(axis = 0)).transpose()\n",
    "std_stats_data = pd.DataFrame(stats_data.std(axis = 0)).transpose()\n",
    "mean_stats_data.head()"
   ]
  },
  {
   "cell_type": "code",
   "execution_count": 9,
   "id": "46915bce",
   "metadata": {},
   "outputs": [
    {
     "data": {
      "text/plain": [
       "(1, 64)"
      ]
     },
     "execution_count": 9,
     "metadata": {},
     "output_type": "execute_result"
    }
   ],
   "source": [
    "mean_stats_data.shape"
   ]
  },
  {
   "cell_type": "code",
   "execution_count": 10,
   "id": "4494c717",
   "metadata": {},
   "outputs": [
    {
     "data": {
      "text/plain": [
       "(193, 64)"
      ]
     },
     "execution_count": 10,
     "metadata": {},
     "output_type": "execute_result"
    }
   ],
   "source": [
    "stats_data.shape"
   ]
  },
  {
   "cell_type": "code",
   "execution_count": 11,
   "id": "eb2c6395",
   "metadata": {},
   "outputs": [
    {
     "data": {
      "text/html": [
       "<div>\n",
       "<style scoped>\n",
       "    .dataframe tbody tr th:only-of-type {\n",
       "        vertical-align: middle;\n",
       "    }\n",
       "\n",
       "    .dataframe tbody tr th {\n",
       "        vertical-align: top;\n",
       "    }\n",
       "\n",
       "    .dataframe thead th {\n",
       "        text-align: right;\n",
       "    }\n",
       "</style>\n",
       "<table border=\"1\" class=\"dataframe\">\n",
       "  <thead>\n",
       "    <tr style=\"text-align: right;\">\n",
       "      <th></th>\n",
       "      <th>FSR1</th>\n",
       "      <th>FSR2</th>\n",
       "      <th>FSR3</th>\n",
       "      <th>FSR4</th>\n",
       "      <th>FSR5</th>\n",
       "      <th>FSR6</th>\n",
       "      <th>FSR7</th>\n",
       "      <th>FSR8</th>\n",
       "      <th>FSR9</th>\n",
       "      <th>FSR10</th>\n",
       "      <th>...</th>\n",
       "      <th>FSR55</th>\n",
       "      <th>FSR56</th>\n",
       "      <th>FSR57</th>\n",
       "      <th>FSR58</th>\n",
       "      <th>FSR59</th>\n",
       "      <th>FSR60</th>\n",
       "      <th>FSR61</th>\n",
       "      <th>FSR62</th>\n",
       "      <th>FSR63</th>\n",
       "      <th>FSR64</th>\n",
       "    </tr>\n",
       "  </thead>\n",
       "  <tbody>\n",
       "    <tr>\n",
       "      <th>190</th>\n",
       "      <td>1.097000e+06</td>\n",
       "      <td>0.000000</td>\n",
       "      <td>1.647000e+06</td>\n",
       "      <td>0.000000e+00</td>\n",
       "      <td>1.097000e+06</td>\n",
       "      <td>0.000000e+00</td>\n",
       "      <td>1.097000e+06</td>\n",
       "      <td>0.000000e+00</td>\n",
       "      <td>0.000000e+00</td>\n",
       "      <td>0.000000</td>\n",
       "      <td>...</td>\n",
       "      <td>15714.000000</td>\n",
       "      <td>12739.000000</td>\n",
       "      <td>14068.000000</td>\n",
       "      <td>13256.000000</td>\n",
       "      <td>11224.000000</td>\n",
       "      <td>10711.000000</td>\n",
       "      <td>10060.000000</td>\n",
       "      <td>9484.000000</td>\n",
       "      <td>9282.000000</td>\n",
       "      <td>8418.000000</td>\n",
       "    </tr>\n",
       "    <tr>\n",
       "      <th>191</th>\n",
       "      <td>0.000000e+00</td>\n",
       "      <td>0.000000</td>\n",
       "      <td>0.000000e+00</td>\n",
       "      <td>5.180520e+05</td>\n",
       "      <td>0.000000e+00</td>\n",
       "      <td>2.798570e+05</td>\n",
       "      <td>1.097000e+06</td>\n",
       "      <td>0.000000e+00</td>\n",
       "      <td>1.097000e+06</td>\n",
       "      <td>0.000000</td>\n",
       "      <td>...</td>\n",
       "      <td>23756.000000</td>\n",
       "      <td>18063.000000</td>\n",
       "      <td>21029.000000</td>\n",
       "      <td>16959.000000</td>\n",
       "      <td>12993.000000</td>\n",
       "      <td>10524.000000</td>\n",
       "      <td>10009.000000</td>\n",
       "      <td>8633.000000</td>\n",
       "      <td>7855.000000</td>\n",
       "      <td>7102.000000</td>\n",
       "    </tr>\n",
       "    <tr>\n",
       "      <th>192</th>\n",
       "      <td>0.000000e+00</td>\n",
       "      <td>0.000000</td>\n",
       "      <td>5.180520e+05</td>\n",
       "      <td>3.297000e+06</td>\n",
       "      <td>3.297000e+06</td>\n",
       "      <td>1.647000e+06</td>\n",
       "      <td>0.000000e+00</td>\n",
       "      <td>0.000000e+00</td>\n",
       "      <td>0.000000e+00</td>\n",
       "      <td>0.000000</td>\n",
       "      <td>...</td>\n",
       "      <td>14157.000000</td>\n",
       "      <td>13779.000000</td>\n",
       "      <td>19758.000000</td>\n",
       "      <td>20076.000000</td>\n",
       "      <td>20076.000000</td>\n",
       "      <td>18951.000000</td>\n",
       "      <td>21384.000000</td>\n",
       "      <td>17625.000000</td>\n",
       "      <td>14967.000000</td>\n",
       "      <td>11977.000000</td>\n",
       "    </tr>\n",
       "    <tr>\n",
       "      <th>0</th>\n",
       "      <td>2.047968e+05</td>\n",
       "      <td>726478.694301</td>\n",
       "      <td>3.959403e+05</td>\n",
       "      <td>7.321530e+05</td>\n",
       "      <td>8.643868e+05</td>\n",
       "      <td>3.037127e+05</td>\n",
       "      <td>7.875461e+05</td>\n",
       "      <td>8.927462e+05</td>\n",
       "      <td>2.177227e+05</td>\n",
       "      <td>229845.243523</td>\n",
       "      <td>...</td>\n",
       "      <td>18785.958549</td>\n",
       "      <td>15398.196891</td>\n",
       "      <td>17797.383420</td>\n",
       "      <td>14718.321244</td>\n",
       "      <td>12696.668394</td>\n",
       "      <td>11060.134715</td>\n",
       "      <td>10661.595855</td>\n",
       "      <td>9530.813472</td>\n",
       "      <td>8704.388601</td>\n",
       "      <td>7911.284974</td>\n",
       "    </tr>\n",
       "    <tr>\n",
       "      <th>0</th>\n",
       "      <td>3.169910e+05</td>\n",
       "      <td>964758.737256</td>\n",
       "      <td>4.886242e+05</td>\n",
       "      <td>9.611787e+05</td>\n",
       "      <td>1.032540e+06</td>\n",
       "      <td>4.959482e+05</td>\n",
       "      <td>1.076040e+06</td>\n",
       "      <td>1.173082e+06</td>\n",
       "      <td>5.358605e+05</td>\n",
       "      <td>408099.021470</td>\n",
       "      <td>...</td>\n",
       "      <td>2863.207774</td>\n",
       "      <td>2066.693377</td>\n",
       "      <td>2526.857763</td>\n",
       "      <td>1776.500390</td>\n",
       "      <td>1305.799282</td>\n",
       "      <td>1037.961279</td>\n",
       "      <td>1094.090919</td>\n",
       "      <td>799.844305</td>\n",
       "      <td>639.062562</td>\n",
       "      <td>475.256933</td>\n",
       "    </tr>\n",
       "  </tbody>\n",
       "</table>\n",
       "<p>5 rows × 64 columns</p>\n",
       "</div>"
      ],
      "text/plain": [
       "             FSR1           FSR2          FSR3          FSR4          FSR5  \\\n",
       "190  1.097000e+06       0.000000  1.647000e+06  0.000000e+00  1.097000e+06   \n",
       "191  0.000000e+00       0.000000  0.000000e+00  5.180520e+05  0.000000e+00   \n",
       "192  0.000000e+00       0.000000  5.180520e+05  3.297000e+06  3.297000e+06   \n",
       "0    2.047968e+05  726478.694301  3.959403e+05  7.321530e+05  8.643868e+05   \n",
       "0    3.169910e+05  964758.737256  4.886242e+05  9.611787e+05  1.032540e+06   \n",
       "\n",
       "             FSR6          FSR7          FSR8          FSR9          FSR10  \\\n",
       "190  0.000000e+00  1.097000e+06  0.000000e+00  0.000000e+00       0.000000   \n",
       "191  2.798570e+05  1.097000e+06  0.000000e+00  1.097000e+06       0.000000   \n",
       "192  1.647000e+06  0.000000e+00  0.000000e+00  0.000000e+00       0.000000   \n",
       "0    3.037127e+05  7.875461e+05  8.927462e+05  2.177227e+05  229845.243523   \n",
       "0    4.959482e+05  1.076040e+06  1.173082e+06  5.358605e+05  408099.021470   \n",
       "\n",
       "     ...         FSR55         FSR56         FSR57         FSR58  \\\n",
       "190  ...  15714.000000  12739.000000  14068.000000  13256.000000   \n",
       "191  ...  23756.000000  18063.000000  21029.000000  16959.000000   \n",
       "192  ...  14157.000000  13779.000000  19758.000000  20076.000000   \n",
       "0    ...  18785.958549  15398.196891  17797.383420  14718.321244   \n",
       "0    ...   2863.207774   2066.693377   2526.857763   1776.500390   \n",
       "\n",
       "            FSR59         FSR60         FSR61         FSR62         FSR63  \\\n",
       "190  11224.000000  10711.000000  10060.000000   9484.000000   9282.000000   \n",
       "191  12993.000000  10524.000000  10009.000000   8633.000000   7855.000000   \n",
       "192  20076.000000  18951.000000  21384.000000  17625.000000  14967.000000   \n",
       "0    12696.668394  11060.134715  10661.595855   9530.813472   8704.388601   \n",
       "0     1305.799282   1037.961279   1094.090919    799.844305    639.062562   \n",
       "\n",
       "            FSR64  \n",
       "190   8418.000000  \n",
       "191   7102.000000  \n",
       "192  11977.000000  \n",
       "0     7911.284974  \n",
       "0      475.256933  \n",
       "\n",
       "[5 rows x 64 columns]"
      ]
     },
     "execution_count": 11,
     "metadata": {},
     "output_type": "execute_result"
    }
   ],
   "source": [
    "total_data = pd.concat([stats_data, mean_stats_data, std_stats_data])\n",
    "total_data.tail()"
   ]
  },
  {
   "cell_type": "code",
   "execution_count": 18,
   "id": "5ce27378",
   "metadata": {},
   "outputs": [
    {
     "data": {
      "text/plain": [
       "<matplotlib.axes._subplots.AxesSubplot at 0x27b07b5d3a0>"
      ]
     },
     "execution_count": 18,
     "metadata": {},
     "output_type": "execute_result"
    },
    {
     "data": {
      "image/png": "[encoded data removed]",
      "text/plain": [
       "<Figure size 1728x864 with 1 Axes>"
      ]
     },
     "metadata": {
      "needs_background": "light"
     },
     "output_type": "display_data"
    }
   ],
   "source": [
    "import matplotlib.pyplot as plt\n",
    "\n",
    "# fig, ax = plt.subplots(2,1, figsize = (24,24))\n",
    "# ax[0].bar(total_data.iloc[50], title='Sample data', figsize=(12, 4), legend=True, fontsize=12)\n",
    "# ax[0].set_xlabel('Sensor No.', fontsize=12)   \n",
    "# ax[0].set_ylabel('Mean', fontsize=12)   \n",
    "\n",
    "# ax[1] = total_data.iloc[51].plot(kind='bar', title='Sample data', figsize=(12, 4), legend=True, fontsize=12)\n",
    "# ax[1].set_xlabel('Sensor No.', fontsize=12)   \n",
    "# ax[1].set_ylabel('STD', fontsize=12)   \n",
    "\n",
    "\n",
    "total_data.iloc[50].plot(kind='bar', figsize=(24, 12))\n",
    "\n",
    "\n",
    "\n"
   ]
  },
  {
   "cell_type": "code",
   "execution_count": 19,
   "id": "735065a8",
   "metadata": {},
   "outputs": [
    {
     "data": {
      "text/plain": [
       "<matplotlib.axes._subplots.AxesSubplot at 0x27b075fbb80>"
      ]
     },
     "execution_count": 19,
     "metadata": {},
     "output_type": "execute_result"
    },
    {
     "data": {
      "image/png": "[encoded data removed]",
      "text/plain": [
       "<Figure size 1728x864 with 1 Axes>"
      ]
     },
     "metadata": {
      "needs_background": "light"
     },
     "output_type": "display_data"
    }
   ],
   "source": [
    "total_data.iloc[51].plot(kind='bar', figsize = (24,12)) "
   ]
  },
  {
   "cell_type": "code",
   "execution_count": 14,
   "id": "f09a2d57",
   "metadata": {},
   "outputs": [
    {
     "data": {
      "text/plain": [
       "7737.0"
      ]
     },
     "execution_count": 14,
     "metadata": {},
     "output_type": "execute_result"
    }
   ],
   "source": [
    "total_data.iloc[51,63]"
   ]
  },
  {
   "cell_type": "code",
   "execution_count": 15,
   "id": "f50ac6f4",
   "metadata": {},
   "outputs": [
    {
     "data": {
      "text/plain": [
       "(193, 64)"
      ]
     },
     "execution_count": 15,
     "metadata": {},
     "output_type": "execute_result"
    }
   ],
   "source": [
    "prep1_data.shape"
   ]
  },
  {
   "cell_type": "code",
   "execution_count": 16,
   "id": "036b45fd",
   "metadata": {},
   "outputs": [
    {
     "ename": "KeyError",
     "evalue": "1",
     "output_type": "error",
     "traceback": [
      "\u001b[1;31m---------------------------------------------------------------------------\u001b[0m",
      "\u001b[1;31mKeyError\u001b[0m                                  Traceback (most recent call last)",
      "\u001b[1;32mC:\\Anaconda64\\lib\\site-packages\\pandas\\core\\indexes\\base.py\u001b[0m in \u001b[0;36mget_loc\u001b[1;34m(self, key, method, tolerance)\u001b[0m\n\u001b[0;32m   2645\u001b[0m             \u001b[1;32mtry\u001b[0m\u001b[1;33m:\u001b[0m\u001b[1;33m\u001b[0m\u001b[1;33m\u001b[0m\u001b[0m\n\u001b[1;32m-> 2646\u001b[1;33m                 \u001b[1;32mreturn\u001b[0m \u001b[0mself\u001b[0m\u001b[1;33m.\u001b[0m\u001b[0m_engine\u001b[0m\u001b[1;33m.\u001b[0m\u001b[0mget_loc\u001b[0m\u001b[1;33m(\u001b[0m\u001b[0mkey\u001b[0m\u001b[1;33m)\u001b[0m\u001b[1;33m\u001b[0m\u001b[1;33m\u001b[0m\u001b[0m\n\u001b[0m\u001b[0;32m   2647\u001b[0m             \u001b[1;32mexcept\u001b[0m \u001b[0mKeyError\u001b[0m\u001b[1;33m:\u001b[0m\u001b[1;33m\u001b[0m\u001b[1;33m\u001b[0m\u001b[0m\n",
      "\u001b[1;32mpandas\\_libs\\index.pyx\u001b[0m in \u001b[0;36mpandas._libs.index.IndexEngine.get_loc\u001b[1;34m()\u001b[0m\n",
      "\u001b[1;32mpandas\\_libs\\index.pyx\u001b[0m in \u001b[0;36mpandas._libs.index.IndexEngine.get_loc\u001b[1;34m()\u001b[0m\n",
      "\u001b[1;32mpandas\\_libs\\hashtable_class_helper.pxi\u001b[0m in \u001b[0;36mpandas._libs.hashtable.PyObjectHashTable.get_item\u001b[1;34m()\u001b[0m\n",
      "\u001b[1;32mpandas\\_libs\\hashtable_class_helper.pxi\u001b[0m in \u001b[0;36mpandas._libs.hashtable.PyObjectHashTable.get_item\u001b[1;34m()\u001b[0m\n",
      "\u001b[1;31mKeyError\u001b[0m: 1",
      "\nDuring handling of the above exception, another exception occurred:\n",
      "\u001b[1;31mKeyError\u001b[0m                                  Traceback (most recent call last)",
      "\u001b[1;32m<ipython-input-16-bfae9f6de024>\u001b[0m in \u001b[0;36m<module>\u001b[1;34m\u001b[0m\n\u001b[1;32m----> 1\u001b[1;33m \u001b[0mtotal_data\u001b[0m\u001b[1;33m[\u001b[0m\u001b[1;36m1\u001b[0m\u001b[1;33m]\u001b[0m\u001b[1;33m\u001b[0m\u001b[1;33m\u001b[0m\u001b[0m\n\u001b[0m",
      "\u001b[1;32mC:\\Anaconda64\\lib\\site-packages\\pandas\\core\\frame.py\u001b[0m in \u001b[0;36m__getitem__\u001b[1;34m(self, key)\u001b[0m\n\u001b[0;32m   2798\u001b[0m             \u001b[1;32mif\u001b[0m \u001b[0mself\u001b[0m\u001b[1;33m.\u001b[0m\u001b[0mcolumns\u001b[0m\u001b[1;33m.\u001b[0m\u001b[0mnlevels\u001b[0m \u001b[1;33m>\u001b[0m \u001b[1;36m1\u001b[0m\u001b[1;33m:\u001b[0m\u001b[1;33m\u001b[0m\u001b[1;33m\u001b[0m\u001b[0m\n\u001b[0;32m   2799\u001b[0m                 \u001b[1;32mreturn\u001b[0m \u001b[0mself\u001b[0m\u001b[1;33m.\u001b[0m\u001b[0m_getitem_multilevel\u001b[0m\u001b[1;33m(\u001b[0m\u001b[0mkey\u001b[0m\u001b[1;33m)\u001b[0m\u001b[1;33m\u001b[0m\u001b[1;33m\u001b[0m\u001b[0m\n\u001b[1;32m-> 2800\u001b[1;33m             \u001b[0mindexer\u001b[0m \u001b[1;33m=\u001b[0m \u001b[0mself\u001b[0m\u001b[1;33m.\u001b[0m\u001b[0mcolumns\u001b[0m\u001b[1;33m.\u001b[0m\u001b[0mget_loc\u001b[0m\u001b[1;33m(\u001b[0m\u001b[0mkey\u001b[0m\u001b[1;33m)\u001b[0m\u001b[1;33m\u001b[0m\u001b[1;33m\u001b[0m\u001b[0m\n\u001b[0m\u001b[0;32m   2801\u001b[0m             \u001b[1;32mif\u001b[0m \u001b[0mis_integer\u001b[0m\u001b[1;33m(\u001b[0m\u001b[0mindexer\u001b[0m\u001b[1;33m)\u001b[0m\u001b[1;33m:\u001b[0m\u001b[1;33m\u001b[0m\u001b[1;33m\u001b[0m\u001b[0m\n\u001b[0;32m   2802\u001b[0m                 \u001b[0mindexer\u001b[0m \u001b[1;33m=\u001b[0m \u001b[1;33m[\u001b[0m\u001b[0mindexer\u001b[0m\u001b[1;33m]\u001b[0m\u001b[1;33m\u001b[0m\u001b[1;33m\u001b[0m\u001b[0m\n",
      "\u001b[1;32mC:\\Anaconda64\\lib\\site-packages\\pandas\\core\\indexes\\base.py\u001b[0m in \u001b[0;36mget_loc\u001b[1;34m(self, key, method, tolerance)\u001b[0m\n\u001b[0;32m   2646\u001b[0m                 \u001b[1;32mreturn\u001b[0m \u001b[0mself\u001b[0m\u001b[1;33m.\u001b[0m\u001b[0m_engine\u001b[0m\u001b[1;33m.\u001b[0m\u001b[0mget_loc\u001b[0m\u001b[1;33m(\u001b[0m\u001b[0mkey\u001b[0m\u001b[1;33m)\u001b[0m\u001b[1;33m\u001b[0m\u001b[1;33m\u001b[0m\u001b[0m\n\u001b[0;32m   2647\u001b[0m             \u001b[1;32mexcept\u001b[0m \u001b[0mKeyError\u001b[0m\u001b[1;33m:\u001b[0m\u001b[1;33m\u001b[0m\u001b[1;33m\u001b[0m\u001b[0m\n\u001b[1;32m-> 2648\u001b[1;33m                 \u001b[1;32mreturn\u001b[0m \u001b[0mself\u001b[0m\u001b[1;33m.\u001b[0m\u001b[0m_engine\u001b[0m\u001b[1;33m.\u001b[0m\u001b[0mget_loc\u001b[0m\u001b[1;33m(\u001b[0m\u001b[0mself\u001b[0m\u001b[1;33m.\u001b[0m\u001b[0m_maybe_cast_indexer\u001b[0m\u001b[1;33m(\u001b[0m\u001b[0mkey\u001b[0m\u001b[1;33m)\u001b[0m\u001b[1;33m)\u001b[0m\u001b[1;33m\u001b[0m\u001b[1;33m\u001b[0m\u001b[0m\n\u001b[0m\u001b[0;32m   2649\u001b[0m         \u001b[0mindexer\u001b[0m \u001b[1;33m=\u001b[0m \u001b[0mself\u001b[0m\u001b[1;33m.\u001b[0m\u001b[0mget_indexer\u001b[0m\u001b[1;33m(\u001b[0m\u001b[1;33m[\u001b[0m\u001b[0mkey\u001b[0m\u001b[1;33m]\u001b[0m\u001b[1;33m,\u001b[0m \u001b[0mmethod\u001b[0m\u001b[1;33m=\u001b[0m\u001b[0mmethod\u001b[0m\u001b[1;33m,\u001b[0m \u001b[0mtolerance\u001b[0m\u001b[1;33m=\u001b[0m\u001b[0mtolerance\u001b[0m\u001b[1;33m)\u001b[0m\u001b[1;33m\u001b[0m\u001b[1;33m\u001b[0m\u001b[0m\n\u001b[0;32m   2650\u001b[0m         \u001b[1;32mif\u001b[0m \u001b[0mindexer\u001b[0m\u001b[1;33m.\u001b[0m\u001b[0mndim\u001b[0m \u001b[1;33m>\u001b[0m \u001b[1;36m1\u001b[0m \u001b[1;32mor\u001b[0m \u001b[0mindexer\u001b[0m\u001b[1;33m.\u001b[0m\u001b[0msize\u001b[0m \u001b[1;33m>\u001b[0m \u001b[1;36m1\u001b[0m\u001b[1;33m:\u001b[0m\u001b[1;33m\u001b[0m\u001b[1;33m\u001b[0m\u001b[0m\n",
      "\u001b[1;32mpandas\\_libs\\index.pyx\u001b[0m in \u001b[0;36mpandas._libs.index.IndexEngine.get_loc\u001b[1;34m()\u001b[0m\n",
      "\u001b[1;32mpandas\\_libs\\index.pyx\u001b[0m in \u001b[0;36mpandas._libs.index.IndexEngine.get_loc\u001b[1;34m()\u001b[0m\n",
      "\u001b[1;32mpandas\\_libs\\hashtable_class_helper.pxi\u001b[0m in \u001b[0;36mpandas._libs.hashtable.PyObjectHashTable.get_item\u001b[1;34m()\u001b[0m\n",
      "\u001b[1;32mpandas\\_libs\\hashtable_class_helper.pxi\u001b[0m in \u001b[0;36mpandas._libs.hashtable.PyObjectHashTable.get_item\u001b[1;34m()\u001b[0m\n",
      "\u001b[1;31mKeyError\u001b[0m: 1"
     ]
    }
   ],
   "source": [
    "total_data[1] "
   ]
  },
  {
   "cell_type": "code",
   "execution_count": null,
   "id": "75cebe50",
   "metadata": {},
   "outputs": [],
   "source": [
    "stats_data[51] "
   ]
  },
  {
   "cell_type": "code",
   "execution_count": null,
   "id": "bb91d265",
   "metadata": {},
   "outputs": [],
   "source": [
    "stats_data[49] "
   ]
  },
  {
   "cell_type": "code",
   "execution_count": null,
   "id": "314078bd",
   "metadata": {},
   "outputs": [],
   "source": [
    "stats_data[52] "
   ]
  },
  {
   "cell_type": "code",
   "execution_count": null,
   "id": "a9e90f4f",
   "metadata": {},
   "outputs": [],
   "source": [
    "# fig, ax = plt.subplots(2,1, figsize = (24,24))\n",
    "stats_data.plot.line(figsize = (50, 24))"
   ]
  },
  {
   "cell_type": "code",
   "execution_count": null,
   "id": "346eacab",
   "metadata": {},
   "outputs": [],
   "source": []
  }
 ],
 "metadata": {
  "kernelspec": {
   "display_name": "Python 3 (ipykernel)",
   "language": "python",
   "name": "python3"
  },
  "language_info": {
   "codemirror_mode": {
    "name": "ipython",
    "version": 3
   },
   "file_extension": ".py",
   "mimetype": "text/x-python",
   "name": "python",
   "nbconvert_exporter": "python",
   "pygments_lexer": "ipython3",
   "version": "3.9.7"
  }
 },
 "nbformat": 4,
 "nbformat_minor": 5
}
