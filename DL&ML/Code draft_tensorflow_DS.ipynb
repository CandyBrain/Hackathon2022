{
 "cells": [
  {
   "cell_type": "markdown",
   "metadata": {},
   "source": [
    "# 1. 기본설정\n",
    "## (1) 라이브러리"
   ]
  },
  {
   "cell_type": "code",
   "execution_count": 15,
   "metadata": {},
   "outputs": [],
   "source": [
    "from sklearn.datasets import load_breast_cancer\n",
    "from sklearn.model_selection import train_test_split\n",
    "from sklearn.metrics import classification_report\n",
    "import pandas as pd\n",
    "import numpy as np\n",
    "\n",
    "from sklearn.tree import DecisionTreeClassifier\n",
    "from sklearn.ensemble import RandomForestClassifier\n",
    "from sklearn import svm\n",
    "from sklearn.linear_model import SGDClassifier\n",
    "from sklearn.linear_model import LogisticRegression"
   ]
  },
  {
   "cell_type": "markdown",
   "metadata": {},
   "source": [
    "## (2) 파라미터 설정"
   ]
  },
  {
   "cell_type": "code",
   "execution_count": 2,
   "metadata": {},
   "outputs": [],
   "source": [
    "tts_test_size = 0.2\n",
    "train_test_split_randomstate = 5\n",
    "\n",
    "classifier_random_state = 32"
   ]
  },
  {
   "cell_type": "markdown",
   "metadata": {},
   "source": [
    "## (3) 데이터 로드"
   ]
  },
  {
   "cell_type": "code",
   "execution_count": 3,
   "metadata": {},
   "outputs": [
    {
     "data": {
      "text/html": [
       "<div>\n",
       "<style scoped>\n",
       "    .dataframe tbody tr th:only-of-type {\n",
       "        vertical-align: middle;\n",
       "    }\n",
       "\n",
       "    .dataframe tbody tr th {\n",
       "        vertical-align: top;\n",
       "    }\n",
       "\n",
       "    .dataframe thead th {\n",
       "        text-align: right;\n",
       "    }\n",
       "</style>\n",
       "<table border=\"1\" class=\"dataframe\">\n",
       "  <thead>\n",
       "    <tr style=\"text-align: right;\">\n",
       "      <th></th>\n",
       "      <th>FSR1</th>\n",
       "      <th>FSR2</th>\n",
       "      <th>FSR3</th>\n",
       "      <th>FSR4</th>\n",
       "      <th>FSR5</th>\n",
       "      <th>FSR9</th>\n",
       "      <th>FSR10</th>\n",
       "      <th>FSR11</th>\n",
       "      <th>FSR12</th>\n",
       "      <th>FSR13</th>\n",
       "      <th>...</th>\n",
       "      <th>FSR26</th>\n",
       "      <th>FSR27</th>\n",
       "      <th>FSR28</th>\n",
       "      <th>FSR29</th>\n",
       "      <th>FSR33</th>\n",
       "      <th>FSR34</th>\n",
       "      <th>FSR35</th>\n",
       "      <th>FSR36</th>\n",
       "      <th>FSR37</th>\n",
       "      <th>Label</th>\n",
       "    </tr>\n",
       "  </thead>\n",
       "  <tbody>\n",
       "    <tr>\n",
       "      <th>0</th>\n",
       "      <td>5</td>\n",
       "      <td>2</td>\n",
       "      <td>0</td>\n",
       "      <td>1</td>\n",
       "      <td>2</td>\n",
       "      <td>1</td>\n",
       "      <td>16</td>\n",
       "      <td>35</td>\n",
       "      <td>49</td>\n",
       "      <td>24</td>\n",
       "      <td>...</td>\n",
       "      <td>10</td>\n",
       "      <td>8</td>\n",
       "      <td>0</td>\n",
       "      <td>0</td>\n",
       "      <td>4</td>\n",
       "      <td>6</td>\n",
       "      <td>4</td>\n",
       "      <td>0</td>\n",
       "      <td>5</td>\n",
       "      <td>1</td>\n",
       "    </tr>\n",
       "    <tr>\n",
       "      <th>1</th>\n",
       "      <td>2</td>\n",
       "      <td>1</td>\n",
       "      <td>0</td>\n",
       "      <td>3</td>\n",
       "      <td>0</td>\n",
       "      <td>1</td>\n",
       "      <td>4</td>\n",
       "      <td>33</td>\n",
       "      <td>42</td>\n",
       "      <td>26</td>\n",
       "      <td>...</td>\n",
       "      <td>13</td>\n",
       "      <td>2</td>\n",
       "      <td>0</td>\n",
       "      <td>0</td>\n",
       "      <td>4</td>\n",
       "      <td>0</td>\n",
       "      <td>0</td>\n",
       "      <td>1</td>\n",
       "      <td>6</td>\n",
       "      <td>2</td>\n",
       "    </tr>\n",
       "    <tr>\n",
       "      <th>2</th>\n",
       "      <td>6</td>\n",
       "      <td>0</td>\n",
       "      <td>7</td>\n",
       "      <td>10</td>\n",
       "      <td>0</td>\n",
       "      <td>4</td>\n",
       "      <td>3</td>\n",
       "      <td>37</td>\n",
       "      <td>37</td>\n",
       "      <td>25</td>\n",
       "      <td>...</td>\n",
       "      <td>8</td>\n",
       "      <td>5</td>\n",
       "      <td>3</td>\n",
       "      <td>5</td>\n",
       "      <td>0</td>\n",
       "      <td>0</td>\n",
       "      <td>4</td>\n",
       "      <td>0</td>\n",
       "      <td>0</td>\n",
       "      <td>3</td>\n",
       "    </tr>\n",
       "    <tr>\n",
       "      <th>3</th>\n",
       "      <td>0</td>\n",
       "      <td>2</td>\n",
       "      <td>2</td>\n",
       "      <td>2</td>\n",
       "      <td>0</td>\n",
       "      <td>0</td>\n",
       "      <td>0</td>\n",
       "      <td>34</td>\n",
       "      <td>44</td>\n",
       "      <td>26</td>\n",
       "      <td>...</td>\n",
       "      <td>3</td>\n",
       "      <td>8</td>\n",
       "      <td>1</td>\n",
       "      <td>0</td>\n",
       "      <td>0</td>\n",
       "      <td>7</td>\n",
       "      <td>1</td>\n",
       "      <td>0</td>\n",
       "      <td>0</td>\n",
       "      <td>4</td>\n",
       "    </tr>\n",
       "    <tr>\n",
       "      <th>4</th>\n",
       "      <td>0</td>\n",
       "      <td>2</td>\n",
       "      <td>6</td>\n",
       "      <td>11</td>\n",
       "      <td>3</td>\n",
       "      <td>0</td>\n",
       "      <td>1</td>\n",
       "      <td>30</td>\n",
       "      <td>41</td>\n",
       "      <td>23</td>\n",
       "      <td>...</td>\n",
       "      <td>7</td>\n",
       "      <td>9</td>\n",
       "      <td>2</td>\n",
       "      <td>0</td>\n",
       "      <td>3</td>\n",
       "      <td>7</td>\n",
       "      <td>0</td>\n",
       "      <td>0</td>\n",
       "      <td>0</td>\n",
       "      <td>5</td>\n",
       "    </tr>\n",
       "    <tr>\n",
       "      <th>5</th>\n",
       "      <td>0</td>\n",
       "      <td>0</td>\n",
       "      <td>5</td>\n",
       "      <td>9</td>\n",
       "      <td>3</td>\n",
       "      <td>0</td>\n",
       "      <td>5</td>\n",
       "      <td>33</td>\n",
       "      <td>42</td>\n",
       "      <td>26</td>\n",
       "      <td>...</td>\n",
       "      <td>6</td>\n",
       "      <td>7</td>\n",
       "      <td>0</td>\n",
       "      <td>0</td>\n",
       "      <td>0</td>\n",
       "      <td>6</td>\n",
       "      <td>2</td>\n",
       "      <td>2</td>\n",
       "      <td>1</td>\n",
       "      <td>6</td>\n",
       "    </tr>\n",
       "    <tr>\n",
       "      <th>6</th>\n",
       "      <td>0</td>\n",
       "      <td>7</td>\n",
       "      <td>1</td>\n",
       "      <td>4</td>\n",
       "      <td>0</td>\n",
       "      <td>0</td>\n",
       "      <td>0</td>\n",
       "      <td>32</td>\n",
       "      <td>42</td>\n",
       "      <td>21</td>\n",
       "      <td>...</td>\n",
       "      <td>9</td>\n",
       "      <td>7</td>\n",
       "      <td>0</td>\n",
       "      <td>4</td>\n",
       "      <td>2</td>\n",
       "      <td>10</td>\n",
       "      <td>1</td>\n",
       "      <td>3</td>\n",
       "      <td>2</td>\n",
       "      <td>7</td>\n",
       "    </tr>\n",
       "    <tr>\n",
       "      <th>7</th>\n",
       "      <td>0</td>\n",
       "      <td>2</td>\n",
       "      <td>2</td>\n",
       "      <td>11</td>\n",
       "      <td>5</td>\n",
       "      <td>1</td>\n",
       "      <td>0</td>\n",
       "      <td>37</td>\n",
       "      <td>41</td>\n",
       "      <td>15</td>\n",
       "      <td>...</td>\n",
       "      <td>14</td>\n",
       "      <td>5</td>\n",
       "      <td>0</td>\n",
       "      <td>0</td>\n",
       "      <td>0</td>\n",
       "      <td>0</td>\n",
       "      <td>5</td>\n",
       "      <td>0</td>\n",
       "      <td>0</td>\n",
       "      <td>8</td>\n",
       "    </tr>\n",
       "    <tr>\n",
       "      <th>8</th>\n",
       "      <td>2</td>\n",
       "      <td>4</td>\n",
       "      <td>4</td>\n",
       "      <td>12</td>\n",
       "      <td>4</td>\n",
       "      <td>3</td>\n",
       "      <td>0</td>\n",
       "      <td>31</td>\n",
       "      <td>35</td>\n",
       "      <td>24</td>\n",
       "      <td>...</td>\n",
       "      <td>14</td>\n",
       "      <td>2</td>\n",
       "      <td>0</td>\n",
       "      <td>0</td>\n",
       "      <td>4</td>\n",
       "      <td>5</td>\n",
       "      <td>3</td>\n",
       "      <td>5</td>\n",
       "      <td>0</td>\n",
       "      <td>9</td>\n",
       "    </tr>\n",
       "    <tr>\n",
       "      <th>9</th>\n",
       "      <td>0</td>\n",
       "      <td>5</td>\n",
       "      <td>6</td>\n",
       "      <td>3</td>\n",
       "      <td>3</td>\n",
       "      <td>3</td>\n",
       "      <td>3</td>\n",
       "      <td>34</td>\n",
       "      <td>42</td>\n",
       "      <td>18</td>\n",
       "      <td>...</td>\n",
       "      <td>12</td>\n",
       "      <td>9</td>\n",
       "      <td>0</td>\n",
       "      <td>0</td>\n",
       "      <td>4</td>\n",
       "      <td>5</td>\n",
       "      <td>3</td>\n",
       "      <td>0</td>\n",
       "      <td>1</td>\n",
       "      <td>10</td>\n",
       "    </tr>\n",
       "  </tbody>\n",
       "</table>\n",
       "<p>10 rows × 26 columns</p>\n",
       "</div>"
      ],
      "text/plain": [
       "   FSR1  FSR2  FSR3  FSR4  FSR5  FSR9  FSR10  FSR11  FSR12  FSR13  ...  FSR26  \\\n",
       "0     5     2     0     1     2     1     16     35     49     24  ...     10   \n",
       "1     2     1     0     3     0     1      4     33     42     26  ...     13   \n",
       "2     6     0     7    10     0     4      3     37     37     25  ...      8   \n",
       "3     0     2     2     2     0     0      0     34     44     26  ...      3   \n",
       "4     0     2     6    11     3     0      1     30     41     23  ...      7   \n",
       "5     0     0     5     9     3     0      5     33     42     26  ...      6   \n",
       "6     0     7     1     4     0     0      0     32     42     21  ...      9   \n",
       "7     0     2     2    11     5     1      0     37     41     15  ...     14   \n",
       "8     2     4     4    12     4     3      0     31     35     24  ...     14   \n",
       "9     0     5     6     3     3     3      3     34     42     18  ...     12   \n",
       "\n",
       "   FSR27  FSR28  FSR29  FSR33  FSR34  FSR35  FSR36  FSR37  Label  \n",
       "0      8      0      0      4      6      4      0      5      1  \n",
       "1      2      0      0      4      0      0      1      6      2  \n",
       "2      5      3      5      0      0      4      0      0      3  \n",
       "3      8      1      0      0      7      1      0      0      4  \n",
       "4      9      2      0      3      7      0      0      0      5  \n",
       "5      7      0      0      0      6      2      2      1      6  \n",
       "6      7      0      4      2     10      1      3      2      7  \n",
       "7      5      0      0      0      0      5      0      0      8  \n",
       "8      2      0      0      4      5      3      5      0      9  \n",
       "9      9      0      0      4      5      3      0      1     10  \n",
       "\n",
       "[10 rows x 26 columns]"
      ]
     },
     "execution_count": 3,
     "metadata": {},
     "output_type": "execute_result"
    }
   ],
   "source": [
    "import os\n",
    "data_dir = 'C:/Users/User/Google 드라이브/AIFFEL/+Final project/data/'\n",
    "data_path = os.path.join(data_dir, 'prep_data_5x5.csv')\n",
    "data = pd.read_csv(data_path)\n",
    "data = data.drop(['Unnamed: 0'], axis = 1)\n",
    "data.head(10)"
   ]
  },
  {
   "cell_type": "code",
   "execution_count": 4,
   "metadata": {},
   "outputs": [
    {
     "name": "stdout",
     "output_type": "stream",
     "text": [
      "(300, 25)\n",
      "(300,)\n"
     ]
    }
   ],
   "source": [
    "feature = data.iloc[:,:-1]\n",
    "label = data.iloc[:, -1]\n",
    "print(feature.shape)\n",
    "print(label.shape)"
   ]
  },
  {
   "cell_type": "code",
   "execution_count": 16,
   "metadata": {},
   "outputs": [
    {
     "data": {
      "text/plain": [
       "(300, 5, 5)"
      ]
     },
     "execution_count": 16,
     "metadata": {},
     "output_type": "execute_result"
    }
   ],
   "source": []
  },
  {
   "cell_type": "code",
   "execution_count": 6,
   "metadata": {},
   "outputs": [],
   "source": [
    "# breast_cancer = load_breast_cancer()\n",
    "# breast_cancer_data = breast_cancer.data\n",
    "# breast_cancer_label = breast_cancer.target\n",
    "\n",
    "# print(\"< Feature names >\")\n",
    "# print(breast_cancer.feature_names)\n",
    "# print(\"\\n< Target names >\")\n",
    "# print(breast_cancer.target_names)\n",
    "# print(\"\\n< Data shape >\")\n",
    "# print(breast_cancer_data.shape)\n",
    "# print(\"\\n< Label shape >\")\n",
    "# print(breast_cancer_label.shape)\n",
    "\n",
    "# print(breast_cancer.DESCR)"
   ]
  },
  {
   "cell_type": "markdown",
   "metadata": {},
   "source": [
    "# 2. 데이터 전처리"
   ]
  },
  {
   "cell_type": "markdown",
   "metadata": {},
   "source": [
    "## (1) 데이터 분리"
   ]
  },
  {
   "cell_type": "code",
   "execution_count": 7,
   "metadata": {},
   "outputs": [],
   "source": [
    "X_train, X_test, y_train, y_test = train_test_split(array_feature, label, \n",
    "                                                    test_size = tts_test_size, random_state= train_test_split_randomstate)    ## test_size를 변경하며 시험.\n"
   ]
  },
  {
   "cell_type": "markdown",
   "metadata": {},
   "source": [
    "# 3. 모델 학습"
   ]
  },
  {
   "cell_type": "code",
   "execution_count": 8,
   "metadata": {},
   "outputs": [
    {
     "data": {
      "text/plain": [
       "LogisticRegression(max_iter=5000, random_state=32)"
      ]
     },
     "execution_count": 8,
     "metadata": {},
     "output_type": "execute_result"
    }
   ],
   "source": [
    "\n",
    "# Decision tree\n",
    "DT_classifier = DecisionTreeClassifier(random_state = classifier_random_state)   ## 모델 지정\n",
    "DT_classifier.fit(X_train, y_train)\n",
    "\n",
    "# Random forest\n",
    "RF_classifier = RandomForestClassifier(random_state = classifier_random_state)   ## 모델 지정\n",
    "RF_classifier.fit(X_train, y_train)\n",
    "\n",
    "# Support vector machine\n",
    "SVM_classifier = svm.SVC(random_state = classifier_random_state)   ## 모델 지정\n",
    "SVM_classifier.fit(X_train, y_train)\n",
    "\n",
    "# Stochastic gradient descent\n",
    "SGD_classifier = SGDClassifier(random_state = classifier_random_state)   ## 모델 지정\n",
    "SGD_classifier.fit(X_train, y_train)\n",
    "\n",
    "# Logistic regression\n",
    "LR_classifier = LogisticRegression(random_state = classifier_random_state, max_iter = 5000)   ## 모델 지정\n",
    "LR_classifier.fit(X_train, y_train)"
   ]
  },
  {
   "cell_type": "markdown",
   "metadata": {},
   "source": [
    "# 4. 예측 및 결과 비교"
   ]
  },
  {
   "cell_type": "code",
   "execution_count": 9,
   "metadata": {},
   "outputs": [
    {
     "name": "stdout",
     "output_type": "stream",
     "text": [
      "              precision    recall  f1-score   support\n",
      "\n",
      "           1       0.22      0.29      0.25         7\n",
      "           2       0.00      0.00      0.00         4\n",
      "           3       0.00      0.00      0.00         5\n",
      "           4       0.00      0.00      0.00         8\n",
      "           5       0.00      0.00      0.00         5\n",
      "           6       0.33      0.25      0.29         8\n",
      "           7       0.00      0.00      0.00         5\n",
      "           8       0.00      0.00      0.00         6\n",
      "           9       0.11      0.20      0.14         5\n",
      "          10       0.50      0.29      0.36         7\n",
      "\n",
      "    accuracy                           0.12        60\n",
      "   macro avg       0.12      0.10      0.10        60\n",
      "weighted avg       0.14      0.12      0.12        60\n",
      "\n"
     ]
    }
   ],
   "source": [
    "DT_y_pred = DT_classifier.predict(X_test)\n",
    "DT_report = classification_report(y_test, DT_y_pred)\n",
    "print(DT_report)"
   ]
  },
  {
   "cell_type": "code",
   "execution_count": 10,
   "metadata": {},
   "outputs": [
    {
     "name": "stdout",
     "output_type": "stream",
     "text": [
      "              precision    recall  f1-score   support\n",
      "\n",
      "           1       0.14      0.14      0.14         7\n",
      "           2       0.00      0.00      0.00         4\n",
      "           3       0.00      0.00      0.00         5\n",
      "           4       0.00      0.00      0.00         8\n",
      "           5       0.00      0.00      0.00         5\n",
      "           6       0.00      0.00      0.00         8\n",
      "           7       0.10      0.20      0.13         5\n",
      "           8       0.00      0.00      0.00         6\n",
      "           9       0.00      0.00      0.00         5\n",
      "          10       0.00      0.00      0.00         7\n",
      "\n",
      "    accuracy                           0.03        60\n",
      "   macro avg       0.02      0.03      0.03        60\n",
      "weighted avg       0.03      0.03      0.03        60\n",
      "\n"
     ]
    }
   ],
   "source": [
    "RF_y_pred = RF_classifier.predict(X_test)\n",
    "RF_report = classification_report(y_test, RF_y_pred)\n",
    "print(RF_report)"
   ]
  },
  {
   "cell_type": "code",
   "execution_count": 11,
   "metadata": {},
   "outputs": [
    {
     "name": "stdout",
     "output_type": "stream",
     "text": [
      "              precision    recall  f1-score   support\n",
      "\n",
      "           1       0.00      0.00      0.00         7\n",
      "           2       0.07      1.00      0.12         4\n",
      "           3       0.00      0.00      0.00         5\n",
      "           4       0.00      0.00      0.00         8\n",
      "           5       0.00      0.00      0.00         5\n",
      "           6       0.00      0.00      0.00         8\n",
      "           7       0.00      0.00      0.00         5\n",
      "           8       0.00      0.00      0.00         6\n",
      "           9       0.00      0.00      0.00         5\n",
      "          10       0.00      0.00      0.00         7\n",
      "\n",
      "    accuracy                           0.07        60\n",
      "   macro avg       0.01      0.10      0.01        60\n",
      "weighted avg       0.00      0.07      0.01        60\n",
      "\n"
     ]
    },
    {
     "name": "stderr",
     "output_type": "stream",
     "text": [
      "C:\\Anaconda64\\lib\\site-packages\\sklearn\\metrics\\_classification.py:1221: UndefinedMetricWarning: Precision and F-score are ill-defined and being set to 0.0 in labels with no predicted samples. Use `zero_division` parameter to control this behavior.\n",
      "  _warn_prf(average, modifier, msg_start, len(result))\n"
     ]
    }
   ],
   "source": [
    "SVM_y_pred = SVM_classifier.predict(X_test)\n",
    "SVM_report = classification_report(y_test, SVM_y_pred)\n",
    "print(SVM_report)"
   ]
  },
  {
   "cell_type": "code",
   "execution_count": 12,
   "metadata": {},
   "outputs": [
    {
     "name": "stdout",
     "output_type": "stream",
     "text": [
      "              precision    recall  f1-score   support\n",
      "\n",
      "           1       0.00      0.00      0.00         7\n",
      "           2       0.06      0.75      0.10         4\n",
      "           3       1.00      0.20      0.33         5\n",
      "           4       0.00      0.00      0.00         8\n",
      "           5       0.00      0.00      0.00         5\n",
      "           6       0.00      0.00      0.00         8\n",
      "           7       0.00      0.00      0.00         5\n",
      "           8       0.00      0.00      0.00         6\n",
      "           9       0.00      0.00      0.00         5\n",
      "          10       0.00      0.00      0.00         7\n",
      "\n",
      "    accuracy                           0.07        60\n",
      "   macro avg       0.11      0.10      0.04        60\n",
      "weighted avg       0.09      0.07      0.03        60\n",
      "\n"
     ]
    },
    {
     "name": "stderr",
     "output_type": "stream",
     "text": [
      "C:\\Anaconda64\\lib\\site-packages\\sklearn\\metrics\\_classification.py:1221: UndefinedMetricWarning: Precision and F-score are ill-defined and being set to 0.0 in labels with no predicted samples. Use `zero_division` parameter to control this behavior.\n",
      "  _warn_prf(average, modifier, msg_start, len(result))\n"
     ]
    }
   ],
   "source": [
    "SGD_y_pred = SGD_classifier.predict(X_test)\n",
    "SGD_report = classification_report(y_test, SGD_y_pred)\n",
    "print(SGD_report)"
   ]
  },
  {
   "cell_type": "code",
   "execution_count": 13,
   "metadata": {},
   "outputs": [
    {
     "name": "stdout",
     "output_type": "stream",
     "text": [
      "              precision    recall  f1-score   support\n",
      "\n",
      "           1       0.00      0.00      0.00         7\n",
      "           2       0.25      0.25      0.25         4\n",
      "           3       0.11      0.20      0.14         5\n",
      "           4       0.00      0.00      0.00         8\n",
      "           5       0.00      0.00      0.00         5\n",
      "           6       0.17      0.12      0.14         8\n",
      "           7       0.15      0.40      0.22         5\n",
      "           8       0.00      0.00      0.00         6\n",
      "           9       0.25      0.20      0.22         5\n",
      "          10       0.00      0.00      0.00         7\n",
      "\n",
      "    accuracy                           0.10        60\n",
      "   macro avg       0.09      0.12      0.10        60\n",
      "weighted avg       0.08      0.10      0.08        60\n",
      "\n"
     ]
    }
   ],
   "source": [
    "LR_y_pred = LR_classifier.predict(X_test)\n",
    "LR_report = classification_report(y_test, LR_y_pred)\n",
    "print(LR_report)"
   ]
  },
  {
   "cell_type": "code",
   "execution_count": null,
   "metadata": {},
   "outputs": [],
   "source": []
  }
 ],
 "metadata": {
  "kernelspec": {
   "display_name": "Python 3",
   "language": "python",
   "name": "python3"
  },
  "language_info": {
   "codemirror_mode": {
    "name": "ipython",
    "version": 3
   },
   "file_extension": ".py",
   "mimetype": "text/x-python",
   "name": "python",
   "nbconvert_exporter": "python",
   "pygments_lexer": "ipython3",
   "version": "3.8.3"
  }
 },
 "nbformat": 4,
 "nbformat_minor": 5
}
