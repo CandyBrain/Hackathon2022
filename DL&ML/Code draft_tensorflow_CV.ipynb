{
 "cells": [
  {
   "cell_type": "markdown",
   "id": "a286276b",
   "metadata": {},
   "source": [
    "# 1. 기본설정\n",
    "## (1) 라이브러리"
   ]
  },
  {
   "cell_type": "code",
   "execution_count": 29,
   "id": "372f0ff4",
   "metadata": {},
   "outputs": [],
   "source": [
    "import time\n",
    "start_time = time.time()\n",
    "\n",
    "import os\n",
    "import pandas as pd\n",
    "import numpy as np\n",
    "import tensorflow as tf\n",
    "\n",
    "from PIL import Image\n",
    "from PIL import ImageFilter\n",
    "from matplotlib import pyplot as plt\n",
    "\n",
    "from sklearn.datasets import load_breast_cancer\n",
    "from sklearn.model_selection import train_test_split\n",
    "from sklearn.metrics import classification_report\n",
    "from tensorflow import keras\n",
    "\n",
    "from sklearn.tree import DecisionTreeClassifier\n",
    "from sklearn.ensemble import RandomForestClassifier\n",
    "from sklearn import svm\n",
    "from sklearn.linear_model import SGDClassifier\n",
    "from sklearn.linear_model import LogisticRegression\n",
    "\n",
    "from tensorflow.keras.layers import Dense, Flatten, Conv2D\n",
    "from tensorflow.keras import Model\n"
   ]
  },
  {
   "cell_type": "markdown",
   "id": "1c6b64c1",
   "metadata": {},
   "source": [
    "## (2) 파라미터 설정"
   ]
  },
  {
   "cell_type": "code",
   "execution_count": 21,
   "id": "7539e677",
   "metadata": {},
   "outputs": [],
   "source": [
    "tts_test_size = 0.2\n",
    "train_test_split_randomstate = 5\n",
    "\n",
    "classifier_random_state = 32"
   ]
  },
  {
   "cell_type": "markdown",
   "id": "5b8573e9",
   "metadata": {},
   "source": [
    "## (3) 데이터 로드"
   ]
  },
  {
   "cell_type": "code",
   "execution_count": 17,
   "id": "e2c3987d",
   "metadata": {},
   "outputs": [
    {
     "data": {
      "text/plain": [
       "(150, 27)"
      ]
     },
     "execution_count": 17,
     "metadata": {},
     "output_type": "execute_result"
    }
   ],
   "source": [
    "data_dir = 'C:/Users/User/Google 드라이브/AIFFEL/+Final project/data/'\n",
    "data_path1 = os.path.join(data_dir, 'prep_data_5x5_4.csv')\n",
    "data1 = pd.read_csv(data_path1)\n",
    "data_path2 = os.path.join(data_dir, 'prep_data_5x5_5.csv')\n",
    "data2 = pd.read_csv(data_path2)\n",
    "data_path3 = os.path.join(data_dir, 'prep_data_5x5_6.csv')\n",
    "data3 = pd.read_csv(data_path3)\n",
    "data = pd.concat([data1, data2, data3])\n",
    "data.shape"
   ]
  },
  {
   "cell_type": "code",
   "execution_count": 15,
   "id": "be209db9",
   "metadata": {},
   "outputs": [
    {
     "data": {
      "text/html": [
       "<div>\n",
       "<style scoped>\n",
       "    .dataframe tbody tr th:only-of-type {\n",
       "        vertical-align: middle;\n",
       "    }\n",
       "\n",
       "    .dataframe tbody tr th {\n",
       "        vertical-align: top;\n",
       "    }\n",
       "\n",
       "    .dataframe thead th {\n",
       "        text-align: right;\n",
       "    }\n",
       "</style>\n",
       "<table border=\"1\" class=\"dataframe\">\n",
       "  <thead>\n",
       "    <tr style=\"text-align: right;\">\n",
       "      <th></th>\n",
       "      <th>FSR1</th>\n",
       "      <th>FSR2</th>\n",
       "      <th>FSR3</th>\n",
       "      <th>FSR4</th>\n",
       "      <th>FSR5</th>\n",
       "      <th>FSR9</th>\n",
       "      <th>FSR10</th>\n",
       "      <th>FSR11</th>\n",
       "      <th>FSR12</th>\n",
       "      <th>FSR13</th>\n",
       "      <th>...</th>\n",
       "      <th>FSR26</th>\n",
       "      <th>FSR27</th>\n",
       "      <th>FSR28</th>\n",
       "      <th>FSR29</th>\n",
       "      <th>FSR33</th>\n",
       "      <th>FSR34</th>\n",
       "      <th>FSR35</th>\n",
       "      <th>FSR36</th>\n",
       "      <th>FSR37</th>\n",
       "      <th>Label</th>\n",
       "    </tr>\n",
       "  </thead>\n",
       "  <tbody>\n",
       "    <tr>\n",
       "      <th>0</th>\n",
       "      <td>0</td>\n",
       "      <td>160</td>\n",
       "      <td>0</td>\n",
       "      <td>0</td>\n",
       "      <td>0</td>\n",
       "      <td>0</td>\n",
       "      <td>0</td>\n",
       "      <td>32</td>\n",
       "      <td>0</td>\n",
       "      <td>0</td>\n",
       "      <td>...</td>\n",
       "      <td>0</td>\n",
       "      <td>0</td>\n",
       "      <td>0</td>\n",
       "      <td>0</td>\n",
       "      <td>0</td>\n",
       "      <td>0</td>\n",
       "      <td>0</td>\n",
       "      <td>0</td>\n",
       "      <td>27</td>\n",
       "      <td>4</td>\n",
       "    </tr>\n",
       "    <tr>\n",
       "      <th>1</th>\n",
       "      <td>0</td>\n",
       "      <td>164</td>\n",
       "      <td>0</td>\n",
       "      <td>0</td>\n",
       "      <td>0</td>\n",
       "      <td>0</td>\n",
       "      <td>0</td>\n",
       "      <td>36</td>\n",
       "      <td>0</td>\n",
       "      <td>0</td>\n",
       "      <td>...</td>\n",
       "      <td>0</td>\n",
       "      <td>0</td>\n",
       "      <td>0</td>\n",
       "      <td>19</td>\n",
       "      <td>0</td>\n",
       "      <td>0</td>\n",
       "      <td>0</td>\n",
       "      <td>0</td>\n",
       "      <td>32</td>\n",
       "      <td>4</td>\n",
       "    </tr>\n",
       "    <tr>\n",
       "      <th>2</th>\n",
       "      <td>0</td>\n",
       "      <td>122</td>\n",
       "      <td>0</td>\n",
       "      <td>0</td>\n",
       "      <td>0</td>\n",
       "      <td>0</td>\n",
       "      <td>23</td>\n",
       "      <td>39</td>\n",
       "      <td>0</td>\n",
       "      <td>0</td>\n",
       "      <td>...</td>\n",
       "      <td>0</td>\n",
       "      <td>0</td>\n",
       "      <td>0</td>\n",
       "      <td>59</td>\n",
       "      <td>0</td>\n",
       "      <td>0</td>\n",
       "      <td>0</td>\n",
       "      <td>0</td>\n",
       "      <td>37</td>\n",
       "      <td>4</td>\n",
       "    </tr>\n",
       "    <tr>\n",
       "      <th>3</th>\n",
       "      <td>0</td>\n",
       "      <td>170</td>\n",
       "      <td>0</td>\n",
       "      <td>0</td>\n",
       "      <td>0</td>\n",
       "      <td>0</td>\n",
       "      <td>17</td>\n",
       "      <td>41</td>\n",
       "      <td>0</td>\n",
       "      <td>0</td>\n",
       "      <td>...</td>\n",
       "      <td>0</td>\n",
       "      <td>0</td>\n",
       "      <td>0</td>\n",
       "      <td>46</td>\n",
       "      <td>0</td>\n",
       "      <td>0</td>\n",
       "      <td>0</td>\n",
       "      <td>0</td>\n",
       "      <td>28</td>\n",
       "      <td>4</td>\n",
       "    </tr>\n",
       "    <tr>\n",
       "      <th>4</th>\n",
       "      <td>0</td>\n",
       "      <td>187</td>\n",
       "      <td>0</td>\n",
       "      <td>0</td>\n",
       "      <td>0</td>\n",
       "      <td>0</td>\n",
       "      <td>18</td>\n",
       "      <td>40</td>\n",
       "      <td>0</td>\n",
       "      <td>0</td>\n",
       "      <td>...</td>\n",
       "      <td>0</td>\n",
       "      <td>0</td>\n",
       "      <td>0</td>\n",
       "      <td>37</td>\n",
       "      <td>0</td>\n",
       "      <td>0</td>\n",
       "      <td>0</td>\n",
       "      <td>0</td>\n",
       "      <td>33</td>\n",
       "      <td>4</td>\n",
       "    </tr>\n",
       "    <tr>\n",
       "      <th>5</th>\n",
       "      <td>0</td>\n",
       "      <td>187</td>\n",
       "      <td>0</td>\n",
       "      <td>0</td>\n",
       "      <td>0</td>\n",
       "      <td>0</td>\n",
       "      <td>16</td>\n",
       "      <td>36</td>\n",
       "      <td>0</td>\n",
       "      <td>0</td>\n",
       "      <td>...</td>\n",
       "      <td>0</td>\n",
       "      <td>0</td>\n",
       "      <td>0</td>\n",
       "      <td>38</td>\n",
       "      <td>0</td>\n",
       "      <td>0</td>\n",
       "      <td>0</td>\n",
       "      <td>0</td>\n",
       "      <td>34</td>\n",
       "      <td>4</td>\n",
       "    </tr>\n",
       "    <tr>\n",
       "      <th>6</th>\n",
       "      <td>0</td>\n",
       "      <td>201</td>\n",
       "      <td>0</td>\n",
       "      <td>0</td>\n",
       "      <td>0</td>\n",
       "      <td>0</td>\n",
       "      <td>0</td>\n",
       "      <td>32</td>\n",
       "      <td>0</td>\n",
       "      <td>0</td>\n",
       "      <td>...</td>\n",
       "      <td>0</td>\n",
       "      <td>0</td>\n",
       "      <td>0</td>\n",
       "      <td>35</td>\n",
       "      <td>0</td>\n",
       "      <td>0</td>\n",
       "      <td>0</td>\n",
       "      <td>0</td>\n",
       "      <td>27</td>\n",
       "      <td>4</td>\n",
       "    </tr>\n",
       "    <tr>\n",
       "      <th>7</th>\n",
       "      <td>0</td>\n",
       "      <td>210</td>\n",
       "      <td>0</td>\n",
       "      <td>0</td>\n",
       "      <td>0</td>\n",
       "      <td>0</td>\n",
       "      <td>0</td>\n",
       "      <td>32</td>\n",
       "      <td>0</td>\n",
       "      <td>0</td>\n",
       "      <td>...</td>\n",
       "      <td>0</td>\n",
       "      <td>0</td>\n",
       "      <td>0</td>\n",
       "      <td>44</td>\n",
       "      <td>0</td>\n",
       "      <td>0</td>\n",
       "      <td>0</td>\n",
       "      <td>0</td>\n",
       "      <td>22</td>\n",
       "      <td>4</td>\n",
       "    </tr>\n",
       "    <tr>\n",
       "      <th>8</th>\n",
       "      <td>0</td>\n",
       "      <td>216</td>\n",
       "      <td>0</td>\n",
       "      <td>0</td>\n",
       "      <td>0</td>\n",
       "      <td>0</td>\n",
       "      <td>20</td>\n",
       "      <td>41</td>\n",
       "      <td>0</td>\n",
       "      <td>0</td>\n",
       "      <td>...</td>\n",
       "      <td>0</td>\n",
       "      <td>0</td>\n",
       "      <td>0</td>\n",
       "      <td>45</td>\n",
       "      <td>0</td>\n",
       "      <td>0</td>\n",
       "      <td>0</td>\n",
       "      <td>0</td>\n",
       "      <td>25</td>\n",
       "      <td>4</td>\n",
       "    </tr>\n",
       "    <tr>\n",
       "      <th>9</th>\n",
       "      <td>0</td>\n",
       "      <td>221</td>\n",
       "      <td>0</td>\n",
       "      <td>0</td>\n",
       "      <td>0</td>\n",
       "      <td>0</td>\n",
       "      <td>0</td>\n",
       "      <td>31</td>\n",
       "      <td>0</td>\n",
       "      <td>0</td>\n",
       "      <td>...</td>\n",
       "      <td>0</td>\n",
       "      <td>0</td>\n",
       "      <td>0</td>\n",
       "      <td>27</td>\n",
       "      <td>0</td>\n",
       "      <td>0</td>\n",
       "      <td>0</td>\n",
       "      <td>0</td>\n",
       "      <td>23</td>\n",
       "      <td>4</td>\n",
       "    </tr>\n",
       "  </tbody>\n",
       "</table>\n",
       "<p>10 rows × 26 columns</p>\n",
       "</div>"
      ],
      "text/plain": [
       "   FSR1  FSR2  FSR3  FSR4  FSR5  FSR9  FSR10  FSR11  FSR12  FSR13  ...  FSR26  \\\n",
       "0     0   160     0     0     0     0      0     32      0      0  ...      0   \n",
       "1     0   164     0     0     0     0      0     36      0      0  ...      0   \n",
       "2     0   122     0     0     0     0     23     39      0      0  ...      0   \n",
       "3     0   170     0     0     0     0     17     41      0      0  ...      0   \n",
       "4     0   187     0     0     0     0     18     40      0      0  ...      0   \n",
       "5     0   187     0     0     0     0     16     36      0      0  ...      0   \n",
       "6     0   201     0     0     0     0      0     32      0      0  ...      0   \n",
       "7     0   210     0     0     0     0      0     32      0      0  ...      0   \n",
       "8     0   216     0     0     0     0     20     41      0      0  ...      0   \n",
       "9     0   221     0     0     0     0      0     31      0      0  ...      0   \n",
       "\n",
       "   FSR27  FSR28  FSR29  FSR33  FSR34  FSR35  FSR36  FSR37  Label  \n",
       "0      0      0      0      0      0      0      0     27      4  \n",
       "1      0      0     19      0      0      0      0     32      4  \n",
       "2      0      0     59      0      0      0      0     37      4  \n",
       "3      0      0     46      0      0      0      0     28      4  \n",
       "4      0      0     37      0      0      0      0     33      4  \n",
       "5      0      0     38      0      0      0      0     34      4  \n",
       "6      0      0     35      0      0      0      0     27      4  \n",
       "7      0      0     44      0      0      0      0     22      4  \n",
       "8      0      0     45      0      0      0      0     25      4  \n",
       "9      0      0     27      0      0      0      0     23      4  \n",
       "\n",
       "[10 rows x 26 columns]"
      ]
     },
     "execution_count": 15,
     "metadata": {},
     "output_type": "execute_result"
    }
   ],
   "source": [
    "data = data.drop(['Unnamed: 0'], axis = 1)\n",
    "data.head(10)"
   ]
  },
  {
   "cell_type": "code",
   "execution_count": 16,
   "id": "d5da78cf",
   "metadata": {},
   "outputs": [
    {
     "name": "stdout",
     "output_type": "stream",
     "text": [
      "(150, 25)\n",
      "(150,)\n"
     ]
    }
   ],
   "source": [
    "feature = data.iloc[:,:-1]\n",
    "label = data.iloc[:, -1]\n",
    "print(feature.shape)\n",
    "print(label.shape)"
   ]
  },
  {
   "cell_type": "code",
   "execution_count": 19,
   "id": "61ae37c4",
   "metadata": {},
   "outputs": [
    {
     "data": {
      "text/plain": [
       "(150, 5, 5)"
      ]
     },
     "execution_count": 19,
     "metadata": {},
     "output_type": "execute_result"
    }
   ],
   "source": [
    "temp_array_feature = feature.to_numpy()\n",
    "\n",
    "list_feature = []\n",
    "for i in range(len(temp_array_feature)):\n",
    "    reshaped_array = temp_array_feature[i].reshape(5,5)\n",
    "    list_feature.append(reshaped_array)\n",
    "    \n",
    "array_feature = np.array(list_feature)\n",
    "array_feature = array_feature.astype('uint8')\n",
    "array_feature.shape"
   ]
  },
  {
   "cell_type": "code",
   "execution_count": 25,
   "id": "518118f5",
   "metadata": {},
   "outputs": [
    {
     "data": {
      "text/plain": [
       "array([[  0, 160,   0,   0,   0],\n",
       "       [  0,   0,  32,   0,   0],\n",
       "       [  0,  30,   0,   0,   0],\n",
       "       [  0,   0,   0,   0,   0],\n",
       "       [  0,   0,   0,   0,  27]], dtype=uint8)"
      ]
     },
     "execution_count": 25,
     "metadata": {},
     "output_type": "execute_result"
    }
   ],
   "source": [
    "array_feature[0]"
   ]
  },
  {
   "cell_type": "code",
   "execution_count": 30,
   "id": "e2431825",
   "metadata": {},
   "outputs": [
    {
     "name": "stdout",
     "output_type": "stream",
     "text": [
      "데이터 이미지화\n"
     ]
    },
    {
     "data": {
      "image/png": "[encoded data removed]",
      "text/plain": [
       "<Figure size 432x288 with 2 Axes>"
      ]
     },
     "metadata": {
      "needs_background": "light"
     },
     "output_type": "display_data"
    }
   ],
   "source": [
    "print('데이터 이미지화')\n",
    "plt.imshow(array_feature[0] , cmap='gray')\n",
    "plt.colorbar();"
   ]
  },
  {
   "cell_type": "code",
   "execution_count": 31,
   "id": "1fc6eed0",
   "metadata": {},
   "outputs": [
    {
     "data": {
      "text/plain": [
       "(5, 5, 4)"
      ]
     },
     "execution_count": 31,
     "metadata": {},
     "output_type": "execute_result"
    }
   ],
   "source": [
    "# for i, j in enumerate(array_feature):\n",
    "image = Image.fromarray(array_feature[0])\n",
    "image_BLUR = image.filter(ImageFilter.BLUR)\n",
    "image_CONTOUR = image.filter(ImageFilter.CONTOUR)\n",
    "image_EDGE_ENHANCE = image.filter(ImageFilter.EDGE_ENHANCE)\n",
    "\n",
    "blur_array_feature = np.array(image_BLUR)\n",
    "contour_array_feature = np.array(image_CONTOUR)\n",
    "edge_enhance_array_feature = np.array(image_EDGE_ENHANCE)\n",
    "\n",
    "stack_array = np.expand_dims(array_feature[0], axis = 2)\n",
    "blur_stack_array = np.expand_dims(blur_array_feature, axis = 2)\n",
    "contour_stack_array = np.expand_dims(contour_array_feature, axis = 2)\n",
    "edge_enhance_stack_array = np.expand_dims(edge_enhance_array_feature, axis = 2)\n",
    "\n",
    "stack_array = np.concatenate((stack_array, blur_stack_array), axis = 2)\n",
    "stack_array = np.concatenate((stack_array, contour_stack_array), axis = 2)\n",
    "stack_array = np.concatenate((stack_array, edge_enhance_stack_array), axis = 2)\n",
    "\n",
    "stack_array.shape"
   ]
  },
  {
   "cell_type": "code",
   "execution_count": null,
   "id": "86d4ec87",
   "metadata": {},
   "outputs": [],
   "source": []
  },
  {
   "cell_type": "code",
   "execution_count": null,
   "id": "a4984d3a",
   "metadata": {},
   "outputs": [],
   "source": []
  },
  {
   "cell_type": "markdown",
   "id": "e933b9f6",
   "metadata": {},
   "source": [
    "# 2. 데이터 전처리"
   ]
  },
  {
   "cell_type": "markdown",
   "id": "acc1a34e",
   "metadata": {},
   "source": [
    "## (1) 데이터 분리"
   ]
  },
  {
   "cell_type": "code",
   "execution_count": 22,
   "id": "4942ea7b",
   "metadata": {},
   "outputs": [],
   "source": [
    "X_train, X_test, y_train, y_test = train_test_split(array_feature, label, \n",
    "                                                    test_size = tts_test_size, random_state= train_test_split_randomstate)    ## test_size를 변경하며 시험.\n",
    "BATCH_SIZE = 64\n",
    "SHUFFLE_BUFFER_SIZE = 100\n",
    "\n",
    "train_dataset = tf.data.Dataset.from_tensor_slices((X_train, y_train))\n",
    "test_dataset = tf.data.Dataset.from_tensor_slices((X_test, y_test))"
   ]
  },
  {
   "cell_type": "code",
   "execution_count": 1,
   "id": "46afe471",
   "metadata": {},
   "outputs": [],
   "source": [
    "# noise = tf.random.normal([300])\n",
    "# noise"
   ]
  },
  {
   "cell_type": "code",
   "execution_count": 9,
   "id": "0adac357",
   "metadata": {},
   "outputs": [],
   "source": [
    "aux_train = noise"
   ]
  },
  {
   "cell_type": "markdown",
   "id": "aefeffcb",
   "metadata": {},
   "source": [
    "# 3. 모델 학습"
   ]
  },
  {
   "cell_type": "code",
   "execution_count": 23,
   "id": "2c8581bd",
   "metadata": {},
   "outputs": [],
   "source": [
    "inputs = keras.Input(shape = (5, 5, 1))\n",
    "x = keras.layers.Conv2D(32, 3, activation = 'relu')(inputs) # 입력을 받아 연산.\n",
    "x = keras.layers.Conv2D(64, 3, activation = 'relu')(x)    # 1차 중간 출력을 받아 연산.\n",
    "x = keras.layers.Flatten()(x)    # 2차 중간 출력을 받아 연산.\n",
    "x = keras.layers.Dense(128, activation = 'relu')(x)    # 3차 중간 출력을 받아 연산.\n",
    "predictions = keras.layers.Dense(10, activation = 'softmax')(x)\n",
    "model = keras.Model(inputs = inputs, outputs = predictions)"
   ]
  },
  {
   "cell_type": "code",
   "execution_count": 24,
   "id": "fa4a525d",
   "metadata": {},
   "outputs": [
    {
     "name": "stdout",
     "output_type": "stream",
     "text": [
      "Epoch 1/5\n",
      "4/4 [==============================] - 3s 18ms/step - loss: 3.2078 - accuracy: 0.3833\n",
      "Epoch 2/5\n",
      "4/4 [==============================] - 0s 4ms/step - loss: 0.0548 - accuracy: 1.0000\n",
      "Epoch 3/5\n",
      "4/4 [==============================] - 0s 4ms/step - loss: 0.0018 - accuracy: 1.0000\n",
      "Epoch 4/5\n",
      "4/4 [==============================] - 0s 4ms/step - loss: 3.2072e-04 - accuracy: 1.0000\n",
      "Epoch 5/5\n",
      "4/4 [==============================] - 0s 3ms/step - loss: 1.1677e-04 - accuracy: 1.0000\n",
      "1/1 - 0s - loss: 1.2275e-04 - accuracy: 1.0000 - 120ms/epoch - 120ms/step\n"
     ]
    },
    {
     "data": {
      "text/plain": [
       "[0.00012274886830709875, 1.0]"
      ]
     },
     "execution_count": 24,
     "metadata": {},
     "output_type": "execute_result"
    }
   ],
   "source": [
    "# 모델 학습\n",
    "model.compile(optimizer = 'adam',\n",
    "             loss = 'sparse_categorical_crossentropy',\n",
    "             metrics = ['accuracy'])\n",
    "\n",
    "# model.fit([X_train, aux_train], y_train, epochs = 5)\n",
    "model.fit(X_train, y_train, epochs = 5)\n",
    "\n",
    "model.evaluate(X_test, y_test, verbose = 2)"
   ]
  },
  {
   "cell_type": "code",
   "execution_count": 10,
   "id": "e5932d5b",
   "metadata": {},
   "outputs": [],
   "source": [
    "# class MyModel(Model):\n",
    "#   def __init__(self):\n",
    "#     super(MyModel, self).__init__()\n",
    "#     self.inputs = keras.Input(shape = (28, 28, 1))\n",
    "#     self.conv1 = Conv2D(32, 3, activation='relu')\n",
    "#     self.conv2 = Conv2D(64, 3, activation='relu')\n",
    "#     self.flatten = Flatten()\n",
    "#     self.d1 = Dense(128, activation='relu')\n",
    "#     self.d2 = Dense(10, activation = 'softmax')\n",
    "\n",
    "#   def call(self, x):\n",
    "#     x = self.inputs(x)\n",
    "#     x = self.conv1(x)\n",
    "#     x = self.conv2(x)\n",
    "#     x = self.flatten(x)\n",
    "#     x = self.d1(x)\n",
    "#     return self.d2(x)\n",
    "\n",
    "# model = MyModel()\n",
    "\n",
    "# model = tf.keras.Sequential([\n",
    "#     tf.keras.layers.Flatten(input_shape=(5, 5)),\n",
    "#     tf.keras.layers.Dense(128, activation='relu'),\n",
    "#     tf.keras.layers.Dense(10)\n",
    "# ])"
   ]
  },
  {
   "cell_type": "code",
   "execution_count": 12,
   "id": "40852821",
   "metadata": {},
   "outputs": [],
   "source": [
    "# inputs = keras.Input(shape = (5, 5, 1))\n",
    "# x = keras.layers.Conv2D(32, 3, activation = 'relu')(inputs) # 입력을 받아 연산.\n",
    "# x = keras.layers.Conv2D(64, 3, activation = 'relu')(x)    # 1차 중간 출력을 받아 연산.\n",
    "# x = keras.layers.Flatten()(x)    # 2차 중간 출력을 받아 연산.\n",
    "# x = keras.layers.Dense(128, activation = 'relu')(x)    # 3차 중간 출력을 받아 연산.\n",
    "\n",
    "# auxiliary_input = keras.Input(shape=(300,), name='aux_input')\n",
    "# auxiliary_output = Dense(1, activation='sigmoid', name='aux_output')(x)\n",
    "# x = keras.layers.Concatenate(axis=1)([x, auxiliary_input])\n",
    "# predictions = keras.layers.Dense(10, activation = 'softmax')(x)    # 4차 중간 출력을 받아 연산. 최종.\n",
    "\n",
    "# model = keras.Model(inputs = [inputs,auxiliary_input], outputs = predictions)"
   ]
  },
  {
   "cell_type": "code",
   "execution_count": null,
   "id": "5a1df502",
   "metadata": {},
   "outputs": [],
   "source": [
    "model.compile(optimizer=tf.keras.optimizers.RMSprop(),\n",
    "# model.compile(optimizer= 'adam',\n",
    "              loss=tf.keras.losses.SparseCategoricalCrossentropy(from_logits=True),\n",
    "              metrics=['sparse_categorical_accuracy'])\n",
    "#               metrics=['accuracy'])\n",
    "\n",
    "model.summary()"
   ]
  },
  {
   "cell_type": "code",
   "execution_count": null,
   "id": "1b9a2d96",
   "metadata": {},
   "outputs": [],
   "source": [
    "model.fit(train_dataset, epochs=10)"
   ]
  },
  {
   "cell_type": "code",
   "execution_count": null,
   "id": "1812d1c5",
   "metadata": {},
   "outputs": [],
   "source": [
    "\n",
    "# Decision tree\n",
    "DT_classifier = DecisionTreeClassifier(random_state = classifier_random_state)   ## 모델 지정\n",
    "DT_classifier.fit(X_train, y_train)\n",
    "\n",
    "# Random forest\n",
    "RF_classifier = RandomForestClassifier(random_state = classifier_random_state)   ## 모델 지정\n",
    "RF_classifier.fit(X_train, y_train)\n",
    "\n",
    "# Support vector machine\n",
    "SVM_classifier = svm.SVC(random_state = classifier_random_state)   ## 모델 지정\n",
    "SVM_classifier.fit(X_train, y_train)\n",
    "\n",
    "# Stochastic gradient descent\n",
    "SGD_classifier = SGDClassifier(random_state = classifier_random_state)   ## 모델 지정\n",
    "SGD_classifier.fit(X_train, y_train)\n",
    "\n",
    "# Logistic regression\n",
    "LR_classifier = LogisticRegression(random_state = classifier_random_state, max_iter = 5000)   ## 모델 지정\n",
    "LR_classifier.fit(X_train, y_train)"
   ]
  },
  {
   "cell_type": "markdown",
   "id": "c5f5681b",
   "metadata": {},
   "source": [
    "# 4. 예측 및 결과 비교"
   ]
  },
  {
   "cell_type": "code",
   "execution_count": null,
   "id": "a5071ee9",
   "metadata": {},
   "outputs": [],
   "source": [
    "DT_y_pred = DT_classifier.predict(X_test)\n",
    "DT_report = classification_report(y_test, DT_y_pred)\n",
    "print(DT_report)"
   ]
  },
  {
   "cell_type": "code",
   "execution_count": null,
   "id": "f3109a36",
   "metadata": {},
   "outputs": [],
   "source": [
    "RF_y_pred = RF_classifier.predict(X_test)\n",
    "RF_report = classification_report(y_test, RF_y_pred)\n",
    "print(RF_report)"
   ]
  },
  {
   "cell_type": "code",
   "execution_count": null,
   "id": "5b2af65a",
   "metadata": {},
   "outputs": [],
   "source": [
    "SVM_y_pred = SVM_classifier.predict(X_test)\n",
    "SVM_report = classification_report(y_test, SVM_y_pred)\n",
    "print(SVM_report)"
   ]
  },
  {
   "cell_type": "code",
   "execution_count": null,
   "id": "08364827",
   "metadata": {},
   "outputs": [],
   "source": [
    "SGD_y_pred = SGD_classifier.predict(X_test)\n",
    "SGD_report = classification_report(y_test, SGD_y_pred)\n",
    "print(SGD_report)"
   ]
  },
  {
   "cell_type": "code",
   "execution_count": null,
   "id": "1ff474bf",
   "metadata": {},
   "outputs": [],
   "source": [
    "LR_y_pred = LR_classifier.predict(X_test)\n",
    "LR_report = classification_report(y_test, LR_y_pred)\n",
    "print(LR_report)"
   ]
  },
  {
   "cell_type": "code",
   "execution_count": null,
   "id": "dbf1961b",
   "metadata": {},
   "outputs": [],
   "source": []
  }
 ],
 "metadata": {
  "kernelspec": {
   "display_name": "Python 3 (ipykernel)",
   "language": "python",
   "name": "python3"
  },
  "language_info": {
   "codemirror_mode": {
    "name": "ipython",
    "version": 3
   },
   "file_extension": ".py",
   "mimetype": "text/x-python",
   "name": "python",
   "nbconvert_exporter": "python",
   "pygments_lexer": "ipython3",
   "version": "3.9.7"
  }
 },
 "nbformat": 4,
 "nbformat_minor": 5
}
