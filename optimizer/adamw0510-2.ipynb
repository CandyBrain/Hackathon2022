{
 "cells": [
  {
   "cell_type": "markdown",
   "id": "36725824",
   "metadata": {},
   "source": [
    "# 1. 기본설정\n",
    "## (1) 라이브러리"
   ]
  },
  {
   "cell_type": "code",
   "execution_count": 2,
   "id": "ea555d37",
   "metadata": {},
   "outputs": [],
   "source": [
    "########################### 1. 기본 설정 ##########################\n",
    "import time\n",
    "start_time = time.time()\n",
    "\n",
    "import os\n",
    "import pandas as pd\n",
    "import numpy as np\n",
    "import copy\n",
    "\n",
    "######################### 2. 데이터 전처리 ########################\n",
    "### (1) 데이터 증강 \n",
    "from PIL import Image\n",
    "from PIL import ImageFilter\n",
    "from matplotlib import pyplot as plt\n",
    "\n",
    "### (3) 데이터 분리 \n",
    "\n",
    "\n",
    "#################### 3. 모델 학습 및 결과 검증 ####################\n",
    "### (1) 모델 설계 및 대표 벡터 추출 \n",
    "\n",
    "import tensorflow as tf\n",
    "from tensorflow.keras.layers import Input, Dense, Flatten, Conv2D, MaxPool2D, concatenate\n",
    "from tensorflow.keras import Model\n",
    "from tensorflow.keras.utils import plot_model\n",
    "\n",
    "### (2) 분류 예측 \n",
    "\n",
    "from sklearn.datasets import load_breast_cancer\n",
    "from sklearn.model_selection import train_test_split\n",
    "from sklearn.metrics import classification_report\n",
    "from tensorflow import keras\n",
    "\n",
    "from sklearn.neighbors import KNeighborsClassifier\n",
    "from sklearn.tree import DecisionTreeClassifier\n",
    "from sklearn.ensemble import RandomForestClassifier\n",
    "from sklearn import svm\n",
    "from sklearn.linear_model import SGDClassifier\n",
    "from sklearn.linear_model import LogisticRegression\n",
    "from sklearn.naive_bayes import MultinomialNB\n",
    "from sklearn.metrics import confusion_matrix\n",
    "from sklearn.metrics import ConfusionMatrixDisplay\n",
    "\n",
    "from sklearn.cluster import KMeans\n",
    "\n",
    "import seaborn as sns"
   ]
  },
  {
   "cell_type": "markdown",
   "id": "36a21124",
   "metadata": {},
   "source": [
    "## (2) 파라미터 설정"
   ]
  },
  {
   "cell_type": "code",
   "execution_count": 3,
   "id": "4ac1d36d",
   "metadata": {},
   "outputs": [],
   "source": [
    "########################### 1. 기본 설정 ##########################\n",
    "\n",
    "\n",
    "######################### 2. 데이터 전처리 ########################\n",
    "### (1) 데이터 증강 \n",
    "\n",
    "blur_filter = False\n",
    "contour_filter = False\n",
    "edge_enhance_filter = False\n",
    "\n",
    "filter_num = 0  # 위에서 설정한 필터의 사용 개수(True의 개수)에 따라 자동 변경. 건드리지 말 것.\n",
    "\n",
    "if blur_filter == True:\n",
    "    filter_num += 1\n",
    "if contour_filter == True:\n",
    "    filter_num += 1\n",
    "if edge_enhance_filter == True:\n",
    "    filter_num += 1\n",
    "    \n",
    "### (3) 데이터 분리 \n",
    "\n",
    "tts_test_size = 0.2\n",
    "test_size = 0.15   # 1미만. val_size와의 합이 0.5를 넘지 않게.\n",
    "val_size = 0.15   # 1미만. test_size와의 합이 0.5를 넘지 않게.\n",
    "\n",
    "train_test_split_randomstate = 5\n",
    "\n",
    "\n",
    "#################### 3. 모델 학습 및 결과 검증 ####################\n",
    "### (1) 모델 설계 및 대표 벡터 추출 \n",
    "image_size = 8\n",
    "class_num = 6    # 대상 개수\n",
    "\n",
    "is_global_feature = False  # Global feature 사용 여부 지정.\n",
    "classes_num = 6\n",
    "epoch_num = 20\n",
    "\n",
    "### (2) 분류 예측 \n",
    "classifier_random_state = 32\n",
    "\n"
   ]
  },
  {
   "cell_type": "markdown",
   "id": "b645c775",
   "metadata": {},
   "source": [
    "## (3) 데이터 로드"
   ]
  },
  {
   "cell_type": "code",
   "execution_count": 9,
   "id": "31659693",
   "metadata": {},
   "outputs": [],
   "source": [
    "data_dir = '/aiffel/aiffel/'  # Github 경로\n",
    "# data_dir = 'C:/Users/User/Google 드라이브/AIFFEL/+Final project/data/'  # Google drive 경로\n",
    "data_path0 = os.path.join(data_dir, 'subjectTest_0_20220507.csv')\n",
    "data0 = pd.read_csv(data_path0)\n",
    "data0['Label'] = 0 # Label 부여\n",
    "data_path1 = os.path.join(data_dir, 'subjectTest_1_20220507.csv')\n",
    "data1 = pd.read_csv(data_path1)\n",
    "data1['Label'] = 1 # Label 부여\n",
    "data_path2 = os.path.join(data_dir, 'subjectTest_2_20220507.csv')\n",
    "data2 = pd.read_csv(data_path2)\n",
    "data2['Label'] = 2 # Label 부여\n",
    "data_path3 = os.path.join(data_dir, 'subjectTest_3_20220507.csv')\n",
    "data3 = pd.read_csv(data_path3)\n",
    "data3['Label'] = 3 # Label 부여\n",
    "data_path4 = os.path.join(data_dir, 'subjectTest_4_20220507.csv')\n",
    "data4 = pd.read_csv(data_path4)\n",
    "data4['Label'] = 4 # Label 부여\n",
    "data_path5 = os.path.join(data_dir, 'subjectTest_5_20220507.csv')\n",
    "data5 = pd.read_csv(data_path5)\n",
    "data5['Label'] = 5 # Label 부여"
   ]
  },
  {
   "cell_type": "code",
   "execution_count": 10,
   "id": "cdefa030",
   "metadata": {},
   "outputs": [
    {
     "data": {
      "text/plain": [
       "(900, 65)"
      ]
     },
     "execution_count": 10,
     "metadata": {},
     "output_type": "execute_result"
    }
   ],
   "source": [
    "data = pd.concat([data0.iloc[5:155], data1.iloc[5:155], data2.iloc[5:155], data3.iloc[5:155], data4.iloc[5:155], data5.iloc[5:155]])  # 150개 행만 추려 합침.\n",
    "data.shape"
   ]
  },
  {
   "cell_type": "code",
   "execution_count": 11,
   "id": "973c75fb",
   "metadata": {},
   "outputs": [
    {
     "data": {
      "text/html": [
       "<div>\n",
       "<style scoped>\n",
       "    .dataframe tbody tr th:only-of-type {\n",
       "        vertical-align: middle;\n",
       "    }\n",
       "\n",
       "    .dataframe tbody tr th {\n",
       "        vertical-align: top;\n",
       "    }\n",
       "\n",
       "    .dataframe thead th {\n",
       "        text-align: right;\n",
       "    }\n",
       "</style>\n",
       "<table border=\"1\" class=\"dataframe\">\n",
       "  <thead>\n",
       "    <tr style=\"text-align: right;\">\n",
       "      <th></th>\n",
       "      <th>FSR1</th>\n",
       "      <th>FSR2</th>\n",
       "      <th>FSR3</th>\n",
       "      <th>FSR4</th>\n",
       "      <th>FSR5</th>\n",
       "      <th>FSR6</th>\n",
       "      <th>FSR7</th>\n",
       "      <th>FSR8</th>\n",
       "      <th>FSR9</th>\n",
       "      <th>FSR10</th>\n",
       "      <th>...</th>\n",
       "      <th>FSR56</th>\n",
       "      <th>FSR57</th>\n",
       "      <th>FSR58</th>\n",
       "      <th>FSR59</th>\n",
       "      <th>FSR60</th>\n",
       "      <th>FSR61</th>\n",
       "      <th>FSR62</th>\n",
       "      <th>FSR63</th>\n",
       "      <th>FSR64</th>\n",
       "      <th>Label</th>\n",
       "    </tr>\n",
       "  </thead>\n",
       "  <tbody>\n",
       "    <tr>\n",
       "      <th>5</th>\n",
       "      <td>0.0</td>\n",
       "      <td>31.0</td>\n",
       "      <td>0.0</td>\n",
       "      <td>0.0</td>\n",
       "      <td>0.0</td>\n",
       "      <td>0.0</td>\n",
       "      <td>0.0</td>\n",
       "      <td>0.0</td>\n",
       "      <td>0.0</td>\n",
       "      <td>0.0</td>\n",
       "      <td>...</td>\n",
       "      <td>0.0</td>\n",
       "      <td>0.0</td>\n",
       "      <td>0.0</td>\n",
       "      <td>0.0</td>\n",
       "      <td>0.0</td>\n",
       "      <td>0.0</td>\n",
       "      <td>0.0</td>\n",
       "      <td>0.0</td>\n",
       "      <td>0.0</td>\n",
       "      <td>0</td>\n",
       "    </tr>\n",
       "    <tr>\n",
       "      <th>6</th>\n",
       "      <td>0.0</td>\n",
       "      <td>28.0</td>\n",
       "      <td>0.0</td>\n",
       "      <td>0.0</td>\n",
       "      <td>0.0</td>\n",
       "      <td>0.0</td>\n",
       "      <td>0.0</td>\n",
       "      <td>0.0</td>\n",
       "      <td>0.0</td>\n",
       "      <td>0.0</td>\n",
       "      <td>...</td>\n",
       "      <td>0.0</td>\n",
       "      <td>0.0</td>\n",
       "      <td>0.0</td>\n",
       "      <td>0.0</td>\n",
       "      <td>0.0</td>\n",
       "      <td>0.0</td>\n",
       "      <td>0.0</td>\n",
       "      <td>0.0</td>\n",
       "      <td>0.0</td>\n",
       "      <td>0</td>\n",
       "    </tr>\n",
       "    <tr>\n",
       "      <th>7</th>\n",
       "      <td>0.0</td>\n",
       "      <td>21.0</td>\n",
       "      <td>0.0</td>\n",
       "      <td>0.0</td>\n",
       "      <td>0.0</td>\n",
       "      <td>0.0</td>\n",
       "      <td>0.0</td>\n",
       "      <td>0.0</td>\n",
       "      <td>0.0</td>\n",
       "      <td>0.0</td>\n",
       "      <td>...</td>\n",
       "      <td>0.0</td>\n",
       "      <td>0.0</td>\n",
       "      <td>0.0</td>\n",
       "      <td>0.0</td>\n",
       "      <td>0.0</td>\n",
       "      <td>0.0</td>\n",
       "      <td>0.0</td>\n",
       "      <td>0.0</td>\n",
       "      <td>0.0</td>\n",
       "      <td>0</td>\n",
       "    </tr>\n",
       "    <tr>\n",
       "      <th>8</th>\n",
       "      <td>0.0</td>\n",
       "      <td>28.0</td>\n",
       "      <td>0.0</td>\n",
       "      <td>0.0</td>\n",
       "      <td>0.0</td>\n",
       "      <td>0.0</td>\n",
       "      <td>0.0</td>\n",
       "      <td>0.0</td>\n",
       "      <td>0.0</td>\n",
       "      <td>0.0</td>\n",
       "      <td>...</td>\n",
       "      <td>0.0</td>\n",
       "      <td>0.0</td>\n",
       "      <td>0.0</td>\n",
       "      <td>0.0</td>\n",
       "      <td>0.0</td>\n",
       "      <td>0.0</td>\n",
       "      <td>0.0</td>\n",
       "      <td>0.0</td>\n",
       "      <td>0.0</td>\n",
       "      <td>0</td>\n",
       "    </tr>\n",
       "    <tr>\n",
       "      <th>9</th>\n",
       "      <td>0.0</td>\n",
       "      <td>24.0</td>\n",
       "      <td>0.0</td>\n",
       "      <td>0.0</td>\n",
       "      <td>0.0</td>\n",
       "      <td>0.0</td>\n",
       "      <td>0.0</td>\n",
       "      <td>0.0</td>\n",
       "      <td>0.0</td>\n",
       "      <td>0.0</td>\n",
       "      <td>...</td>\n",
       "      <td>0.0</td>\n",
       "      <td>0.0</td>\n",
       "      <td>0.0</td>\n",
       "      <td>0.0</td>\n",
       "      <td>0.0</td>\n",
       "      <td>0.0</td>\n",
       "      <td>0.0</td>\n",
       "      <td>0.0</td>\n",
       "      <td>0.0</td>\n",
       "      <td>0</td>\n",
       "    </tr>\n",
       "    <tr>\n",
       "      <th>10</th>\n",
       "      <td>0.0</td>\n",
       "      <td>19.0</td>\n",
       "      <td>0.0</td>\n",
       "      <td>0.0</td>\n",
       "      <td>0.0</td>\n",
       "      <td>0.0</td>\n",
       "      <td>0.0</td>\n",
       "      <td>0.0</td>\n",
       "      <td>0.0</td>\n",
       "      <td>0.0</td>\n",
       "      <td>...</td>\n",
       "      <td>0.0</td>\n",
       "      <td>0.0</td>\n",
       "      <td>0.0</td>\n",
       "      <td>0.0</td>\n",
       "      <td>0.0</td>\n",
       "      <td>0.0</td>\n",
       "      <td>0.0</td>\n",
       "      <td>0.0</td>\n",
       "      <td>0.0</td>\n",
       "      <td>0</td>\n",
       "    </tr>\n",
       "    <tr>\n",
       "      <th>11</th>\n",
       "      <td>0.0</td>\n",
       "      <td>28.0</td>\n",
       "      <td>0.0</td>\n",
       "      <td>0.0</td>\n",
       "      <td>0.0</td>\n",
       "      <td>0.0</td>\n",
       "      <td>0.0</td>\n",
       "      <td>0.0</td>\n",
       "      <td>0.0</td>\n",
       "      <td>0.0</td>\n",
       "      <td>...</td>\n",
       "      <td>0.0</td>\n",
       "      <td>0.0</td>\n",
       "      <td>0.0</td>\n",
       "      <td>0.0</td>\n",
       "      <td>0.0</td>\n",
       "      <td>0.0</td>\n",
       "      <td>0.0</td>\n",
       "      <td>0.0</td>\n",
       "      <td>0.0</td>\n",
       "      <td>0</td>\n",
       "    </tr>\n",
       "    <tr>\n",
       "      <th>12</th>\n",
       "      <td>0.0</td>\n",
       "      <td>28.0</td>\n",
       "      <td>0.0</td>\n",
       "      <td>0.0</td>\n",
       "      <td>0.0</td>\n",
       "      <td>0.0</td>\n",
       "      <td>0.0</td>\n",
       "      <td>0.0</td>\n",
       "      <td>0.0</td>\n",
       "      <td>0.0</td>\n",
       "      <td>...</td>\n",
       "      <td>0.0</td>\n",
       "      <td>0.0</td>\n",
       "      <td>0.0</td>\n",
       "      <td>0.0</td>\n",
       "      <td>0.0</td>\n",
       "      <td>0.0</td>\n",
       "      <td>0.0</td>\n",
       "      <td>0.0</td>\n",
       "      <td>0.0</td>\n",
       "      <td>0</td>\n",
       "    </tr>\n",
       "    <tr>\n",
       "      <th>13</th>\n",
       "      <td>0.0</td>\n",
       "      <td>27.0</td>\n",
       "      <td>0.0</td>\n",
       "      <td>0.0</td>\n",
       "      <td>0.0</td>\n",
       "      <td>0.0</td>\n",
       "      <td>0.0</td>\n",
       "      <td>0.0</td>\n",
       "      <td>0.0</td>\n",
       "      <td>0.0</td>\n",
       "      <td>...</td>\n",
       "      <td>0.0</td>\n",
       "      <td>0.0</td>\n",
       "      <td>0.0</td>\n",
       "      <td>0.0</td>\n",
       "      <td>0.0</td>\n",
       "      <td>0.0</td>\n",
       "      <td>0.0</td>\n",
       "      <td>0.0</td>\n",
       "      <td>0.0</td>\n",
       "      <td>0</td>\n",
       "    </tr>\n",
       "    <tr>\n",
       "      <th>14</th>\n",
       "      <td>0.0</td>\n",
       "      <td>20.0</td>\n",
       "      <td>0.0</td>\n",
       "      <td>0.0</td>\n",
       "      <td>0.0</td>\n",
       "      <td>0.0</td>\n",
       "      <td>0.0</td>\n",
       "      <td>0.0</td>\n",
       "      <td>0.0</td>\n",
       "      <td>0.0</td>\n",
       "      <td>...</td>\n",
       "      <td>0.0</td>\n",
       "      <td>0.0</td>\n",
       "      <td>0.0</td>\n",
       "      <td>0.0</td>\n",
       "      <td>0.0</td>\n",
       "      <td>0.0</td>\n",
       "      <td>0.0</td>\n",
       "      <td>0.0</td>\n",
       "      <td>0.0</td>\n",
       "      <td>0</td>\n",
       "    </tr>\n",
       "  </tbody>\n",
       "</table>\n",
       "<p>10 rows × 65 columns</p>\n",
       "</div>"
      ],
      "text/plain": [
       "    FSR1  FSR2  FSR3  FSR4  FSR5  FSR6  FSR7  FSR8  FSR9  FSR10  ...  FSR56  \\\n",
       "5    0.0  31.0   0.0   0.0   0.0   0.0   0.0   0.0   0.0    0.0  ...    0.0   \n",
       "6    0.0  28.0   0.0   0.0   0.0   0.0   0.0   0.0   0.0    0.0  ...    0.0   \n",
       "7    0.0  21.0   0.0   0.0   0.0   0.0   0.0   0.0   0.0    0.0  ...    0.0   \n",
       "8    0.0  28.0   0.0   0.0   0.0   0.0   0.0   0.0   0.0    0.0  ...    0.0   \n",
       "9    0.0  24.0   0.0   0.0   0.0   0.0   0.0   0.0   0.0    0.0  ...    0.0   \n",
       "10   0.0  19.0   0.0   0.0   0.0   0.0   0.0   0.0   0.0    0.0  ...    0.0   \n",
       "11   0.0  28.0   0.0   0.0   0.0   0.0   0.0   0.0   0.0    0.0  ...    0.0   \n",
       "12   0.0  28.0   0.0   0.0   0.0   0.0   0.0   0.0   0.0    0.0  ...    0.0   \n",
       "13   0.0  27.0   0.0   0.0   0.0   0.0   0.0   0.0   0.0    0.0  ...    0.0   \n",
       "14   0.0  20.0   0.0   0.0   0.0   0.0   0.0   0.0   0.0    0.0  ...    0.0   \n",
       "\n",
       "    FSR57  FSR58  FSR59  FSR60  FSR61  FSR62  FSR63  FSR64  Label  \n",
       "5     0.0    0.0    0.0    0.0    0.0    0.0    0.0    0.0      0  \n",
       "6     0.0    0.0    0.0    0.0    0.0    0.0    0.0    0.0      0  \n",
       "7     0.0    0.0    0.0    0.0    0.0    0.0    0.0    0.0      0  \n",
       "8     0.0    0.0    0.0    0.0    0.0    0.0    0.0    0.0      0  \n",
       "9     0.0    0.0    0.0    0.0    0.0    0.0    0.0    0.0      0  \n",
       "10    0.0    0.0    0.0    0.0    0.0    0.0    0.0    0.0      0  \n",
       "11    0.0    0.0    0.0    0.0    0.0    0.0    0.0    0.0      0  \n",
       "12    0.0    0.0    0.0    0.0    0.0    0.0    0.0    0.0      0  \n",
       "13    0.0    0.0    0.0    0.0    0.0    0.0    0.0    0.0      0  \n",
       "14    0.0    0.0    0.0    0.0    0.0    0.0    0.0    0.0      0  \n",
       "\n",
       "[10 rows x 65 columns]"
      ]
     },
     "execution_count": 11,
     "metadata": {},
     "output_type": "execute_result"
    }
   ],
   "source": [
    "# data = data.drop(['Unnamed: 0'], axis = 1)\n",
    "data.head(10)"
   ]
  },
  {
   "cell_type": "code",
   "execution_count": 12,
   "id": "8d052c99",
   "metadata": {},
   "outputs": [
    {
     "data": {
      "text/html": [
       "<div>\n",
       "<style scoped>\n",
       "    .dataframe tbody tr th:only-of-type {\n",
       "        vertical-align: middle;\n",
       "    }\n",
       "\n",
       "    .dataframe tbody tr th {\n",
       "        vertical-align: top;\n",
       "    }\n",
       "\n",
       "    .dataframe thead th {\n",
       "        text-align: right;\n",
       "    }\n",
       "</style>\n",
       "<table border=\"1\" class=\"dataframe\">\n",
       "  <thead>\n",
       "    <tr style=\"text-align: right;\">\n",
       "      <th></th>\n",
       "      <th>FSR1</th>\n",
       "      <th>FSR2</th>\n",
       "      <th>FSR3</th>\n",
       "      <th>FSR4</th>\n",
       "      <th>FSR5</th>\n",
       "      <th>FSR6</th>\n",
       "      <th>FSR7</th>\n",
       "      <th>FSR8</th>\n",
       "      <th>FSR9</th>\n",
       "      <th>FSR10</th>\n",
       "      <th>...</th>\n",
       "      <th>FSR56</th>\n",
       "      <th>FSR57</th>\n",
       "      <th>FSR58</th>\n",
       "      <th>FSR59</th>\n",
       "      <th>FSR60</th>\n",
       "      <th>FSR61</th>\n",
       "      <th>FSR62</th>\n",
       "      <th>FSR63</th>\n",
       "      <th>FSR64</th>\n",
       "      <th>Label</th>\n",
       "    </tr>\n",
       "  </thead>\n",
       "  <tbody>\n",
       "    <tr>\n",
       "      <th>134</th>\n",
       "      <td>0.0</td>\n",
       "      <td>25.0</td>\n",
       "      <td>0.0</td>\n",
       "      <td>0.0</td>\n",
       "      <td>16.0</td>\n",
       "      <td>0.0</td>\n",
       "      <td>0.0</td>\n",
       "      <td>0.0</td>\n",
       "      <td>0.0</td>\n",
       "      <td>0.0</td>\n",
       "      <td>...</td>\n",
       "      <td>0.0</td>\n",
       "      <td>0.0</td>\n",
       "      <td>0.0</td>\n",
       "      <td>0.0</td>\n",
       "      <td>0.0</td>\n",
       "      <td>0.0</td>\n",
       "      <td>0.0</td>\n",
       "      <td>0.0</td>\n",
       "      <td>0.0</td>\n",
       "      <td>5</td>\n",
       "    </tr>\n",
       "    <tr>\n",
       "      <th>117</th>\n",
       "      <td>0.0</td>\n",
       "      <td>31.0</td>\n",
       "      <td>0.0</td>\n",
       "      <td>0.0</td>\n",
       "      <td>0.0</td>\n",
       "      <td>0.0</td>\n",
       "      <td>0.0</td>\n",
       "      <td>0.0</td>\n",
       "      <td>0.0</td>\n",
       "      <td>0.0</td>\n",
       "      <td>...</td>\n",
       "      <td>0.0</td>\n",
       "      <td>0.0</td>\n",
       "      <td>0.0</td>\n",
       "      <td>0.0</td>\n",
       "      <td>0.0</td>\n",
       "      <td>0.0</td>\n",
       "      <td>0.0</td>\n",
       "      <td>0.0</td>\n",
       "      <td>0.0</td>\n",
       "      <td>3</td>\n",
       "    </tr>\n",
       "    <tr>\n",
       "      <th>153</th>\n",
       "      <td>0.0</td>\n",
       "      <td>30.0</td>\n",
       "      <td>0.0</td>\n",
       "      <td>0.0</td>\n",
       "      <td>0.0</td>\n",
       "      <td>0.0</td>\n",
       "      <td>0.0</td>\n",
       "      <td>0.0</td>\n",
       "      <td>0.0</td>\n",
       "      <td>0.0</td>\n",
       "      <td>...</td>\n",
       "      <td>0.0</td>\n",
       "      <td>0.0</td>\n",
       "      <td>0.0</td>\n",
       "      <td>0.0</td>\n",
       "      <td>0.0</td>\n",
       "      <td>0.0</td>\n",
       "      <td>0.0</td>\n",
       "      <td>0.0</td>\n",
       "      <td>0.0</td>\n",
       "      <td>5</td>\n",
       "    </tr>\n",
       "    <tr>\n",
       "      <th>44</th>\n",
       "      <td>0.0</td>\n",
       "      <td>25.0</td>\n",
       "      <td>0.0</td>\n",
       "      <td>0.0</td>\n",
       "      <td>0.0</td>\n",
       "      <td>0.0</td>\n",
       "      <td>0.0</td>\n",
       "      <td>0.0</td>\n",
       "      <td>0.0</td>\n",
       "      <td>0.0</td>\n",
       "      <td>...</td>\n",
       "      <td>0.0</td>\n",
       "      <td>0.0</td>\n",
       "      <td>0.0</td>\n",
       "      <td>0.0</td>\n",
       "      <td>0.0</td>\n",
       "      <td>0.0</td>\n",
       "      <td>0.0</td>\n",
       "      <td>0.0</td>\n",
       "      <td>0.0</td>\n",
       "      <td>3</td>\n",
       "    </tr>\n",
       "    <tr>\n",
       "      <th>102</th>\n",
       "      <td>0.0</td>\n",
       "      <td>27.0</td>\n",
       "      <td>0.0</td>\n",
       "      <td>0.0</td>\n",
       "      <td>0.0</td>\n",
       "      <td>0.0</td>\n",
       "      <td>0.0</td>\n",
       "      <td>0.0</td>\n",
       "      <td>0.0</td>\n",
       "      <td>0.0</td>\n",
       "      <td>...</td>\n",
       "      <td>0.0</td>\n",
       "      <td>0.0</td>\n",
       "      <td>0.0</td>\n",
       "      <td>0.0</td>\n",
       "      <td>0.0</td>\n",
       "      <td>0.0</td>\n",
       "      <td>0.0</td>\n",
       "      <td>0.0</td>\n",
       "      <td>0.0</td>\n",
       "      <td>5</td>\n",
       "    </tr>\n",
       "  </tbody>\n",
       "</table>\n",
       "<p>5 rows × 65 columns</p>\n",
       "</div>"
      ],
      "text/plain": [
       "     FSR1  FSR2  FSR3  FSR4  FSR5  FSR6  FSR7  FSR8  FSR9  FSR10  ...  FSR56  \\\n",
       "134   0.0  25.0   0.0   0.0  16.0   0.0   0.0   0.0   0.0    0.0  ...    0.0   \n",
       "117   0.0  31.0   0.0   0.0   0.0   0.0   0.0   0.0   0.0    0.0  ...    0.0   \n",
       "153   0.0  30.0   0.0   0.0   0.0   0.0   0.0   0.0   0.0    0.0  ...    0.0   \n",
       "44    0.0  25.0   0.0   0.0   0.0   0.0   0.0   0.0   0.0    0.0  ...    0.0   \n",
       "102   0.0  27.0   0.0   0.0   0.0   0.0   0.0   0.0   0.0    0.0  ...    0.0   \n",
       "\n",
       "     FSR57  FSR58  FSR59  FSR60  FSR61  FSR62  FSR63  FSR64  Label  \n",
       "134    0.0    0.0    0.0    0.0    0.0    0.0    0.0    0.0      5  \n",
       "117    0.0    0.0    0.0    0.0    0.0    0.0    0.0    0.0      3  \n",
       "153    0.0    0.0    0.0    0.0    0.0    0.0    0.0    0.0      5  \n",
       "44     0.0    0.0    0.0    0.0    0.0    0.0    0.0    0.0      3  \n",
       "102    0.0    0.0    0.0    0.0    0.0    0.0    0.0    0.0      5  \n",
       "\n",
       "[5 rows x 65 columns]"
      ]
     },
     "execution_count": 12,
     "metadata": {},
     "output_type": "execute_result"
    }
   ],
   "source": [
    "data = data.sample(frac = 1)\n",
    "# data = data.sample(frac = 1).reset_index(drop = True)\n",
    "data.head()"
   ]
  },
  {
   "cell_type": "code",
   "execution_count": 13,
   "id": "65412198",
   "metadata": {},
   "outputs": [
    {
     "name": "stdout",
     "output_type": "stream",
     "text": [
      "(900, 64)\n",
      "(900,)\n"
     ]
    }
   ],
   "source": [
    "feature = data.iloc[:,:-1]\n",
    "label = data.iloc[:, -1]\n",
    "print(feature.shape)\n",
    "print(label.shape)"
   ]
  },
  {
   "cell_type": "code",
   "execution_count": 14,
   "id": "3731a751",
   "metadata": {},
   "outputs": [
    {
     "data": {
      "text/plain": [
       "(900, 8, 8)"
      ]
     },
     "execution_count": 14,
     "metadata": {},
     "output_type": "execute_result"
    }
   ],
   "source": [
    "temp_array_feature = feature.to_numpy()\n",
    "\n",
    "list_feature = []\n",
    "for i in range(len(temp_array_feature)):\n",
    "    reshaped_array = temp_array_feature[i].reshape(image_size,image_size)\n",
    "    list_feature.append(reshaped_array)\n",
    "    \n",
    "array_feature = np.array(list_feature)\n",
    "array_feature = array_feature.astype('uint8')\n",
    "array_feature.shape"
   ]
  },
  {
   "cell_type": "code",
   "execution_count": 15,
   "id": "d6dc99b9",
   "metadata": {},
   "outputs": [
    {
     "data": {
      "text/plain": [
       "array([[ 0, 25,  0,  0, 16,  0,  0,  0],\n",
       "       [ 0,  0, 16,  0,  0,  0,  0,  0],\n",
       "       [ 0, 19,  0,  0,  0, 24,  0,  0],\n",
       "       [ 0, 23, 21,  0,  0,  0,  0,  0],\n",
       "       [ 0, 33, 23,  0, 56,  0,  0,  0],\n",
       "       [ 0,  0,  0,  0,  0,  0,  0,  0],\n",
       "       [ 0,  0,  0,  0,  0,  0,  0,  0],\n",
       "       [ 0,  0,  0,  0,  0,  0,  0,  0]], dtype=uint8)"
      ]
     },
     "execution_count": 15,
     "metadata": {},
     "output_type": "execute_result"
    }
   ],
   "source": [
    "array_feature[0]"
   ]
  },
  {
   "cell_type": "code",
   "execution_count": 16,
   "id": "6221d6b2",
   "metadata": {},
   "outputs": [
    {
     "name": "stdout",
     "output_type": "stream",
     "text": [
      "데이터 이미지화\n"
     ]
    },
    {
     "data": {
      "image/png": "[encoded data removed]",
      "text/plain": [
       "<Figure size 432x288 with 2 Axes>"
      ]
     },
     "metadata": {
      "needs_background": "light"
     },
     "output_type": "display_data"
    }
   ],
   "source": [
    "print('데이터 이미지화')\n",
    "plt.imshow(array_feature[0] , cmap='gray')\n",
    "plt.colorbar();"
   ]
  },
  {
   "cell_type": "markdown",
   "id": "083c2ccd",
   "metadata": {},
   "source": [
    "# 2. 데이터 전처리\n",
    "## (1) 데이터 증강"
   ]
  },
  {
   "cell_type": "code",
   "execution_count": 17,
   "id": "7b90e160",
   "metadata": {},
   "outputs": [],
   "source": [
    "# array_feature에 filter augmented data를 concatenate.\n",
    "def filter_concat(array_feature, blur_filter = False, contour_filter = False, \n",
    "                  edge_enhance_filter = False):\n",
    "    \n",
    "    filteradded_array_feature = []\n",
    "    \n",
    "    for i, j in enumerate(array_feature):\n",
    "        image = Image.fromarray(array_feature[i])\n",
    "        stack_array = np.expand_dims(array_feature[i], axis = 2)\n",
    "        \n",
    "        if blur_filter:\n",
    "            image_BLUR = image.filter(ImageFilter.BLUR)\n",
    "            blur_array_feature = np.array(image_BLUR)\n",
    "            blur_stack_array = np.expand_dims(blur_array_feature, axis = 2)\n",
    "            stack_array = np.concatenate((stack_array, blur_stack_array), axis = 2)\n",
    "            \n",
    "        if contour_filter:\n",
    "            image_CONTOUR = image.filter(ImageFilter.CONTOUR)\n",
    "            contour_array_feature = np.array(image_CONTOUR)\n",
    "            contour_stack_array = np.expand_dims(contour_array_feature, axis = 2)\n",
    "            stack_array = np.concatenate((stack_array, contour_stack_array), axis = 2)\n",
    "            \n",
    "        if edge_enhance_filter:\n",
    "            image_EDGE_ENHANCE = image.filter(ImageFilter.EDGE_ENHANCE)\n",
    "            edge_enhance_array_feature = np.array(image_EDGE_ENHANCE)\n",
    "            edge_enhance_stack_array = np.expand_dims(edge_enhance_array_feature, axis = 2)\n",
    "            stack_array = np.concatenate((stack_array, edge_enhance_stack_array), axis = 2)\n",
    "    \n",
    "        filteradded_array_feature.append(stack_array)\n",
    "    \n",
    "    filteradded_array_feature = np.array(filteradded_array_feature)\n",
    "    return filteradded_array_feature\n",
    "    \n"
   ]
  },
  {
   "cell_type": "code",
   "execution_count": 18,
   "id": "bfb2038b",
   "metadata": {},
   "outputs": [
    {
     "data": {
      "text/plain": [
       "(900, 8, 8, 1)"
      ]
     },
     "execution_count": 18,
     "metadata": {},
     "output_type": "execute_result"
    }
   ],
   "source": [
    "final_feature = filter_concat(array_feature, blur_filter = blur_filter, contour_filter = contour_filter, \n",
    "                  edge_enhance_filter = edge_enhance_filter)\n",
    "\n",
    "final_feature.shape"
   ]
  },
  {
   "cell_type": "markdown",
   "id": "43b3e979",
   "metadata": {},
   "source": [
    "## (3) 데이터 분리"
   ]
  },
  {
   "cell_type": "code",
   "execution_count": 19,
   "id": "c44c7a05",
   "metadata": {},
   "outputs": [
    {
     "data": {
      "text/plain": [
       "(630, 8, 8, 1)"
      ]
     },
     "execution_count": 19,
     "metadata": {},
     "output_type": "execute_result"
    }
   ],
   "source": [
    "\n",
    "# Train data 초반 70%, Test data 다음 15%, Validation data 마지막 15%\n",
    "local_X_train = final_feature[:int(len(feature)*(1-test_size-val_size))]\n",
    "local_X_test = final_feature[int(len(feature)*(1-test_size-val_size)):int(len(feature)*(1-val_size))]\n",
    "local_X_val = final_feature[int(len(feature)*(1-val_size)):]\n",
    "\n",
    "y_train = label[:int(len(feature)*(1-test_size-val_size))]\n",
    "y_test =  label[int(len(feature)*(1-test_size-val_size)):int(len(feature)*(1-val_size))]\n",
    "y_val = label[int(len(feature)*(1-val_size)):]\n",
    "\n",
    "# local_X_train, local_X_test, y_train, y_test = train_test_split(final_feature, label, \n",
    "#                                                     test_size = tts_test_size, random_state= train_test_split_randomstate)    ## test_size를 변경하며 시험.\n",
    "# Normalization\n",
    "local_X_train = local_X_train / 255.0\n",
    "local_X_test = local_X_test / 255.0\n",
    "local_X_val = local_X_val / 255.0\n",
    "\n",
    "# BATCH_SIZE = 64\n",
    "# SHUFFLE_BUFFER_SIZE = 100\n",
    "\n",
    "# train_dataset = tf.data.Dataset.from_tensor_slices((local_X_train, y_train))\n",
    "# test_dataset = tf.data.Dataset.from_tensor_slices((local_X_test, y_test))\n",
    "local_X_train.shape"
   ]
  },
  {
   "cell_type": "code",
   "execution_count": 20,
   "id": "7c61b80c",
   "metadata": {},
   "outputs": [
    {
     "data": {
      "text/plain": [
       "(630, 64)"
      ]
     },
     "execution_count": 20,
     "metadata": {},
     "output_type": "execute_result"
    }
   ],
   "source": [
    "global_X_train = feature[:int(len(feature)*(1-test_size-val_size))]\n",
    "global_X_test = feature[int(len(feature)*(1-test_size-val_size)):int(len(feature)*(1-val_size))]\n",
    "global_X_val = feature[int(len(feature)*(1-val_size)):]\n",
    "global_X_train.shape"
   ]
  },
  {
   "cell_type": "markdown",
   "id": "811f3f9c",
   "metadata": {},
   "source": [
    "# 3. 모델 학습"
   ]
  },
  {
   "cell_type": "markdown",
   "id": "6e1d3198",
   "metadata": {},
   "source": [
    "## (1) 모델 설계 및 대표 벡터 추출"
   ]
  },
  {
   "cell_type": "code",
   "execution_count": 21,
   "id": "4f779c50",
   "metadata": {},
   "outputs": [
    {
     "name": "stdout",
     "output_type": "stream",
     "text": [
      "Model: \"Simpler_VGG16_model\"\n",
      "_________________________________________________________________\n",
      "Layer (type)                 Output Shape              Param #   \n",
      "=================================================================\n",
      "Local_feature_Input (InputLa [(None, 8, 8, 1)]         0         \n",
      "_________________________________________________________________\n",
      "block1_conv1 (Conv2D)        (None, 8, 8, 64)          640       \n",
      "_________________________________________________________________\n",
      "block1_conv2 (Conv2D)        (None, 8, 8, 64)          36928     \n",
      "_________________________________________________________________\n",
      "block1_pool (MaxPooling2D)   (None, 4, 4, 64)          0         \n",
      "_________________________________________________________________\n",
      "block2_conv1 (Conv2D)        (None, 4, 4, 128)         73856     \n",
      "_________________________________________________________________\n",
      "block2_conv2 (Conv2D)        (None, 4, 4, 128)         147584    \n",
      "_________________________________________________________________\n",
      "block2_pool (MaxPooling2D)   (None, 2, 2, 128)         0         \n",
      "_________________________________________________________________\n",
      "block3_conv1 (Conv2D)        (None, 2, 2, 256)         295168    \n",
      "_________________________________________________________________\n",
      "block3_conv2 (Conv2D)        (None, 2, 2, 256)         590080    \n",
      "_________________________________________________________________\n",
      "block3_conv3 (Conv2D)        (None, 2, 2, 256)         590080    \n",
      "_________________________________________________________________\n",
      "block3_pool (MaxPooling2D)   (None, 1, 1, 256)         0         \n",
      "_________________________________________________________________\n",
      "flatten (Flatten)            (None, 256)               0         \n",
      "_________________________________________________________________\n",
      "fc1 (Dense)                  (None, 1024)              263168    \n",
      "_________________________________________________________________\n",
      "fc2 (Dense)                  (None, 1024)              1049600   \n",
      "_________________________________________________________________\n",
      "prediction (Dense)           (None, 6)                 6150      \n",
      "=================================================================\n",
      "Total params: 3,053,254\n",
      "Trainable params: 3,053,254\n",
      "Non-trainable params: 0\n",
      "_________________________________________________________________\n"
     ]
    }
   ],
   "source": [
    "# concat_VGG16\n",
    "\n",
    "# 1st block\n",
    "local_input = Input(shape = (image_size, image_size, filter_num+1), name = 'Local_feature_Input')\n",
    "x = Conv2D(64, (3,3), activation = 'relu', padding = 'same', name = 'block1_conv1')(local_input)\n",
    "x = Conv2D(64, (3,3), activation = 'relu', padding = 'same', name = 'block1_conv2')(x)\n",
    "x = MaxPool2D((2,2), strides = (2,2), name = 'block1_pool')(x)\n",
    "\n",
    "# 2nd block\n",
    "x = Conv2D(128, (3,3), activation = 'relu', padding = 'same', name = 'block2_conv1')(x)\n",
    "x = Conv2D(128, (3,3), activation = 'relu', padding = 'same', name = 'block2_conv2')(x)\n",
    "x = MaxPool2D((2,2), strides = (2,2), name = 'block2_pool')(x)\n",
    "\n",
    "# 3rd block\n",
    "x = Conv2D(256, (3,3), activation = 'relu', padding = 'same', name = 'block3_conv1')(x)\n",
    "x = Conv2D(256, (3,3), activation = 'relu', padding = 'same', name = 'block3_conv2')(x)\n",
    "x = Conv2D(256, (3,3), activation = 'relu', padding = 'same', name = 'block3_conv3')(x)\n",
    "x = MaxPool2D((2,2), strides = (2,2), name = 'block3_pool')(x)\n",
    "\n",
    "# 4th block\n",
    "# x = Conv2D(512, (3,3), activation = 'relu', padding = 'same', name = 'block4_conv1')(x)\n",
    "# x = Conv2D(512, (3,3), activation = 'relu', padding = 'same', name = 'block4_conv2')(x)\n",
    "# x = Conv2D(512, (3,3), activation = 'relu', padding = 'same', name = 'block4_conv3')(x)\n",
    "# x = MaxPool2D((2,2), strides = (2,2), name = 'block4_pool')(x)\n",
    "\n",
    "# 5th block\n",
    "# x = Conv2D(512, (3,3), activation = 'relu', padding = 'same', name = 'block5_conv1')(x)\n",
    "# x = Conv2D(512, (3,3), activation = 'relu', padding = 'same', name = 'block5_conv2')(x)\n",
    "# x = Conv2D(512, (3,3), activation = 'relu', padding = 'same', name = 'block5_conv3')(x)\n",
    "# x = MaxPool2D((2,2), strides = (2,2), name = 'block5_pool')(x)\n",
    "\n",
    "# Local feature + Global feature 사용\n",
    "if is_global_feature: \n",
    "    # Concatenation block\n",
    "    x = Flatten(name = 'flatten')(x)\n",
    "    global_input = Input(shape = (len(global_X_train.columns)), name = 'Global feature Input')\n",
    "    concat = concatenate([x, global_input], name = 'Feature_concatenation')\n",
    "    \n",
    "    # Final block\n",
    "    x = Dense(1024, activation = 'relu', name = 'fc1')(concat)  # 초기값 4096\n",
    "    output = Dense(1024, activation = 'relu', name = 'fc2')(x)  # 초기값 4096\n",
    "    \n",
    "    prediction = Dense(classes_num, activation = 'softmax', name = 'prediction')(output)\n",
    "    modified_VGG16_model = Model(inputs = [local_input, global_input], outputs = prediction, name = 'Concat_VGG16_model')\n",
    "\n",
    "\n",
    "# Local feature만 사용.\n",
    "else:\n",
    "    # Simpple flatten block\n",
    "    x = Flatten(name = 'flatten')(x)\n",
    "    \n",
    "    # Final block\n",
    "    x = Dense(1024, activation = 'relu', name = 'fc1')(x)       # 초기값 4096\n",
    "    output = Dense(1024, activation = 'relu', name = 'fc2')(x)  # 초기값 4096\n",
    "    \n",
    "    prediction = Dense(classes_num, activation = 'softmax', name = 'prediction')(output)    \n",
    "    modified_VGG16_model = Model(inputs = local_input, outputs = prediction, name = 'Simpler_VGG16_model')\n",
    "\n",
    "\n",
    "modified_VGG16_model.summary()"
   ]
  },
  {
   "cell_type": "code",
   "execution_count": 22,
   "id": "8666d072",
   "metadata": {},
   "outputs": [
    {
     "data": {
      "image/png": "[encoded data removed]",
      "text/plain": [
       "<IPython.core.display.Image object>"
      ]
     },
     "execution_count": 22,
     "metadata": {},
     "output_type": "execute_result"
    }
   ],
   "source": [
    "plot_model(modified_VGG16_model, 'modified_VGG16_model.png', show_shapes = True)"
   ]
  },
  {
   "cell_type": "code",
   "execution_count": 23,
   "id": "ef886599",
   "metadata": {},
   "outputs": [
    {
     "ename": "ModuleNotFoundError",
     "evalue": "No module named 'keras_optimizers'",
     "output_type": "error",
     "traceback": [
      "\u001b[0;31m---------------------------------------------------------------------------\u001b[0m",
      "\u001b[0;31mModuleNotFoundError\u001b[0m                       Traceback (most recent call last)",
      "\u001b[0;32m/tmp/ipykernel_31/341569887.py\u001b[0m in \u001b[0;36m<module>\u001b[0;34m\u001b[0m\n\u001b[1;32m      2\u001b[0m \u001b[0;32mimport\u001b[0m \u001b[0mos\u001b[0m\u001b[0;34m\u001b[0m\u001b[0;34m\u001b[0m\u001b[0m\n\u001b[1;32m      3\u001b[0m \u001b[0;31m# sys.path.append(os.pardir)\u001b[0m\u001b[0;34m\u001b[0m\u001b[0;34m\u001b[0m\u001b[0m\n\u001b[0;32m----> 4\u001b[0;31m \u001b[0;32mfrom\u001b[0m \u001b[0mkeras_optimizers\u001b[0m \u001b[0;32mimport\u001b[0m \u001b[0mAdamW\u001b[0m\u001b[0;34m\u001b[0m\u001b[0;34m\u001b[0m\u001b[0m\n\u001b[0m\u001b[1;32m      5\u001b[0m \u001b[0;32mfrom\u001b[0m \u001b[0mkeras\u001b[0m\u001b[0;34m.\u001b[0m\u001b[0mmodels\u001b[0m \u001b[0;32mimport\u001b[0m \u001b[0mSequential\u001b[0m\u001b[0;34m\u001b[0m\u001b[0;34m\u001b[0m\u001b[0m\n\u001b[1;32m      6\u001b[0m \u001b[0;32mfrom\u001b[0m \u001b[0mkeras\u001b[0m\u001b[0;34m.\u001b[0m\u001b[0mlayers\u001b[0m \u001b[0;32mimport\u001b[0m \u001b[0mDense\u001b[0m\u001b[0;34m,\u001b[0m \u001b[0mDropout\u001b[0m\u001b[0;34m,\u001b[0m \u001b[0mLSTM\u001b[0m\u001b[0;34m,\u001b[0m \u001b[0mBatchNormalization\u001b[0m\u001b[0;34m\u001b[0m\u001b[0;34m\u001b[0m\u001b[0m\n",
      "\u001b[0;31mModuleNotFoundError\u001b[0m: No module named 'keras_optimizers'"
     ]
    }
   ],
   "source": [
    "import sys\n",
    "import os \n",
    "# sys.path.append(os.pardir)\n",
    "from keras_optimizers import AdamW\n",
    "from keras.models import Sequential\n",
    "from keras.layers import Dense, Dropout, LSTM, BatchNormalization\n",
    "from keras.callbacks import TensorBoard\n",
    "from keras.callbacks import ModelCheckpoint\n",
    "from keras.optimizers import adam\n",
    "from tensorflow.keras.optimizers import Adam\n",
    "#from tensorflow.keras.optimizers import adamw"
   ]
  },
  {
   "cell_type": "code",
   "execution_count": 24,
   "id": "b023888f",
   "metadata": {},
   "outputs": [
    {
     "name": "stdout",
     "output_type": "stream",
     "text": [
      "Collecting keras-adamw\n",
      "  Downloading keras_adamw-1.38-py3-none-any.whl (29 kB)\n",
      "Requirement already satisfied: numpy in /opt/conda/lib/python3.9/site-packages (from keras-adamw) (1.22.2)\n",
      "Requirement already satisfied: tensorflow in /opt/conda/lib/python3.9/site-packages (from keras-adamw) (2.6.0)\n",
      "Requirement already satisfied: gast==0.4.0 in /opt/conda/lib/python3.9/site-packages (from tensorflow->keras-adamw) (0.4.0)\n",
      "Requirement already satisfied: tensorboard~=2.6 in /opt/conda/lib/python3.9/site-packages (from tensorflow->keras-adamw) (2.8.0)\n",
      "Requirement already satisfied: clang~=5.0 in /opt/conda/lib/python3.9/site-packages (from tensorflow->keras-adamw) (5.0)\n",
      "Collecting numpy\n",
      "  Downloading numpy-1.19.5-cp39-cp39-manylinux2010_x86_64.whl (14.9 MB)\n",
      "\u001b[2K     \u001b[90m━━━━━━━━━━━━━━━━━━━━━━━━━━━━━━━━━━━━━━━━\u001b[0m \u001b[32m14.9/14.9 MB\u001b[0m \u001b[31m47.3 MB/s\u001b[0m eta \u001b[36m0:00:00\u001b[0m00:01\u001b[0m00:01\u001b[0m\n",
      "\u001b[?25hRequirement already satisfied: protobuf>=3.9.2 in /opt/conda/lib/python3.9/site-packages (from tensorflow->keras-adamw) (3.19.4)\n",
      "Requirement already satisfied: astunparse~=1.6.3 in /opt/conda/lib/python3.9/site-packages (from tensorflow->keras-adamw) (1.6.3)\n",
      "Requirement already satisfied: keras~=2.6 in /opt/conda/lib/python3.9/site-packages (from tensorflow->keras-adamw) (2.6.0)\n",
      "Requirement already satisfied: grpcio<2.0,>=1.37.0 in /opt/conda/lib/python3.9/site-packages (from tensorflow->keras-adamw) (1.44.0)\n",
      "Requirement already satisfied: flatbuffers~=1.12.0 in /opt/conda/lib/python3.9/site-packages (from tensorflow->keras-adamw) (1.12)\n",
      "Requirement already satisfied: google-pasta~=0.2 in /opt/conda/lib/python3.9/site-packages (from tensorflow->keras-adamw) (0.2.0)\n",
      "Requirement already satisfied: termcolor~=1.1.0 in /opt/conda/lib/python3.9/site-packages (from tensorflow->keras-adamw) (1.1.0)\n",
      "Requirement already satisfied: tensorflow-estimator~=2.6 in /opt/conda/lib/python3.9/site-packages (from tensorflow->keras-adamw) (2.8.0)\n",
      "Requirement already satisfied: keras-preprocessing~=1.1.2 in /opt/conda/lib/python3.9/site-packages (from tensorflow->keras-adamw) (1.1.2)\n",
      "Collecting typing-extensions~=3.7.4\n",
      "  Downloading typing_extensions-3.7.4.3-py3-none-any.whl (22 kB)\n",
      "Requirement already satisfied: opt-einsum~=3.3.0 in /opt/conda/lib/python3.9/site-packages (from tensorflow->keras-adamw) (3.3.0)\n",
      "Collecting six~=1.15.0\n",
      "  Downloading six-1.15.0-py2.py3-none-any.whl (10 kB)\n",
      "Requirement already satisfied: h5py~=3.1.0 in /opt/conda/lib/python3.9/site-packages (from tensorflow->keras-adamw) (3.1.0)\n",
      "Requirement already satisfied: absl-py~=0.10 in /opt/conda/lib/python3.9/site-packages (from tensorflow->keras-adamw) (0.15.0)\n",
      "Requirement already satisfied: wrapt~=1.12.1 in /opt/conda/lib/python3.9/site-packages (from tensorflow->keras-adamw) (1.12.1)\n",
      "Requirement already satisfied: wheel~=0.35 in /opt/conda/lib/python3.9/site-packages (from tensorflow->keras-adamw) (0.37.1)\n",
      "Requirement already satisfied: setuptools>=41.0.0 in /opt/conda/lib/python3.9/site-packages (from tensorboard~=2.6->tensorflow->keras-adamw) (60.9.3)\n",
      "Requirement already satisfied: werkzeug>=0.11.15 in /opt/conda/lib/python3.9/site-packages (from tensorboard~=2.6->tensorflow->keras-adamw) (2.0.3)\n",
      "Requirement already satisfied: google-auth<3,>=1.6.3 in /opt/conda/lib/python3.9/site-packages (from tensorboard~=2.6->tensorflow->keras-adamw) (2.6.0)\n",
      "Requirement already satisfied: markdown>=2.6.8 in /opt/conda/lib/python3.9/site-packages (from tensorboard~=2.6->tensorflow->keras-adamw) (3.3.6)\n",
      "Requirement already satisfied: tensorboard-data-server<0.7.0,>=0.6.0 in /opt/conda/lib/python3.9/site-packages (from tensorboard~=2.6->tensorflow->keras-adamw) (0.6.1)\n",
      "Requirement already satisfied: requests<3,>=2.21.0 in /opt/conda/lib/python3.9/site-packages (from tensorboard~=2.6->tensorflow->keras-adamw) (2.26.0)\n",
      "Requirement already satisfied: google-auth-oauthlib<0.5,>=0.4.1 in /opt/conda/lib/python3.9/site-packages (from tensorboard~=2.6->tensorflow->keras-adamw) (0.4.6)\n",
      "Requirement already satisfied: tensorboard-plugin-wit>=1.6.0 in /opt/conda/lib/python3.9/site-packages (from tensorboard~=2.6->tensorflow->keras-adamw) (1.8.1)\n",
      "Requirement already satisfied: rsa<5,>=3.1.4 in /opt/conda/lib/python3.9/site-packages (from google-auth<3,>=1.6.3->tensorboard~=2.6->tensorflow->keras-adamw) (4.8)\n",
      "Requirement already satisfied: cachetools<6.0,>=2.0.0 in /opt/conda/lib/python3.9/site-packages (from google-auth<3,>=1.6.3->tensorboard~=2.6->tensorflow->keras-adamw) (5.0.0)\n",
      "Requirement already satisfied: pyasn1-modules>=0.2.1 in /opt/conda/lib/python3.9/site-packages (from google-auth<3,>=1.6.3->tensorboard~=2.6->tensorflow->keras-adamw) (0.2.8)\n",
      "Requirement already satisfied: requests-oauthlib>=0.7.0 in /opt/conda/lib/python3.9/site-packages (from google-auth-oauthlib<0.5,>=0.4.1->tensorboard~=2.6->tensorflow->keras-adamw) (1.3.1)\n",
      "Requirement already satisfied: importlib-metadata>=4.4 in /opt/conda/lib/python3.9/site-packages (from markdown>=2.6.8->tensorboard~=2.6->tensorflow->keras-adamw) (4.11.2)\n",
      "Requirement already satisfied: certifi>=2017.4.17 in /opt/conda/lib/python3.9/site-packages (from requests<3,>=2.21.0->tensorboard~=2.6->tensorflow->keras-adamw) (2021.10.8)\n",
      "Requirement already satisfied: charset-normalizer~=2.0.0 in /opt/conda/lib/python3.9/site-packages (from requests<3,>=2.21.0->tensorboard~=2.6->tensorflow->keras-adamw) (2.0.12)\n",
      "Requirement already satisfied: idna<4,>=2.5 in /opt/conda/lib/python3.9/site-packages (from requests<3,>=2.21.0->tensorboard~=2.6->tensorflow->keras-adamw) (2.10)\n",
      "Requirement already satisfied: urllib3<1.27,>=1.21.1 in /opt/conda/lib/python3.9/site-packages (from requests<3,>=2.21.0->tensorboard~=2.6->tensorflow->keras-adamw) (1.26.7)\n",
      "Requirement already satisfied: zipp>=0.5 in /opt/conda/lib/python3.9/site-packages (from importlib-metadata>=4.4->markdown>=2.6.8->tensorboard~=2.6->tensorflow->keras-adamw) (3.7.0)\n",
      "Requirement already satisfied: pyasn1<0.5.0,>=0.4.6 in /opt/conda/lib/python3.9/site-packages (from pyasn1-modules>=0.2.1->google-auth<3,>=1.6.3->tensorboard~=2.6->tensorflow->keras-adamw) (0.4.8)\n",
      "Requirement already satisfied: oauthlib>=3.0.0 in /opt/conda/lib/python3.9/site-packages (from requests-oauthlib>=0.7.0->google-auth-oauthlib<0.5,>=0.4.1->tensorboard~=2.6->tensorflow->keras-adamw) (3.2.0)\n",
      "Installing collected packages: typing-extensions, six, numpy, keras-adamw\n",
      "  Attempting uninstall: typing-extensions\n",
      "    Found existing installation: typing_extensions 4.1.1\n",
      "    Uninstalling typing_extensions-4.1.1:\n",
      "      Successfully uninstalled typing_extensions-4.1.1\n",
      "  Attempting uninstall: six\n",
      "    Found existing installation: six 1.16.0\n",
      "    Uninstalling six-1.16.0:\n",
      "      Successfully uninstalled six-1.16.0\n",
      "  Attempting uninstall: numpy\n",
      "    Found existing installation: numpy 1.22.2\n",
      "    Uninstalling numpy-1.22.2:\n",
      "      Successfully uninstalled numpy-1.22.2\n",
      "\u001b[31mERROR: pip's dependency resolver does not currently take into account all the packages that are installed. This behaviour is the source of the following dependency conflicts.\n",
      "black 22.1.0 requires typing-extensions>=3.10.0.0; python_version < \"3.10\", but you have typing-extensions 3.7.4.3 which is incompatible.\u001b[0m\u001b[31m\n",
      "\u001b[0mSuccessfully installed keras-adamw-1.38 numpy-1.21.2 six-1.15.0 typing-extensions-3.7.4.3\n",
      "\u001b[33mWARNING: Running pip as the 'root' user can result in broken permissions and conflicting behaviour with the system package manager. It is recommended to use a virtual environment instead: https://pip.pypa.io/warnings/venv\u001b[0m\u001b[33m\n",
      "\u001b[0mNote: you may need to restart the kernel to use updated packages.\n"
     ]
    }
   ],
   "source": [
    "pip install keras-adamw"
   ]
  },
  {
   "cell_type": "code",
   "execution_count": 25,
   "id": "e7470492",
   "metadata": {},
   "outputs": [],
   "source": [
    "import os; os.environ[\"TF_KERAS\"]='1'"
   ]
  },
  {
   "cell_type": "code",
   "execution_count": 26,
   "id": "22962cf2",
   "metadata": {},
   "outputs": [
    {
     "name": "stdout",
     "output_type": "stream",
     "text": [
      "\u001b[31mERROR: Could not find a version that satisfies the requirement tensorflow-addons==0.8.3 (from versions: 0.13.0, 0.14.0, 0.15.0, 0.16.1)\u001b[0m\u001b[31m\r\n",
      "\u001b[0m\u001b[31mERROR: No matching distribution found for tensorflow-addons==0.8.3\u001b[0m\u001b[31m\r\n",
      "\u001b[0m"
     ]
    }
   ],
   "source": [
    "!pip install --user tensorflow-addons==0.8.3"
   ]
  },
  {
   "cell_type": "code",
   "execution_count": 27,
   "id": "70b3b587",
   "metadata": {},
   "outputs": [
    {
     "name": "stdout",
     "output_type": "stream",
     "text": [
      "Collecting git+https://github.com/OverLordGoldDragon/keras-adamw\n",
      "  Cloning https://github.com/OverLordGoldDragon/keras-adamw to /tmp/pip-req-build-33yvtkmz\n",
      "  Running command git clone --filter=blob:none --quiet https://github.com/OverLordGoldDragon/keras-adamw /tmp/pip-req-build-33yvtkmz\n",
      "  Resolved https://github.com/OverLordGoldDragon/keras-adamw to commit 017d3e8ac6eadd40306710bd42aad7328af5083f\n",
      "  Preparing metadata (setup.py) ... \u001b[?25ldone\n",
      "\u001b[?25hRequirement already satisfied: numpy in /opt/conda/lib/python3.9/site-packages (from keras-adamw==1.38) (1.21.2)\n",
      "Requirement already satisfied: tensorflow in /opt/conda/lib/python3.9/site-packages (from keras-adamw==1.38) (2.6.0)\n",
      "Requirement already satisfied: six~=1.15.0 in /opt/conda/lib/python3.9/site-packages (from tensorflow->keras-adamw==1.38) (1.15.0)\n",
      "Requirement already satisfied: keras~=2.6 in /opt/conda/lib/python3.9/site-packages (from tensorflow->keras-adamw==1.38) (2.6.0)\n",
      "Requirement already satisfied: tensorboard~=2.6 in /opt/conda/lib/python3.9/site-packages (from tensorflow->keras-adamw==1.38) (2.8.0)\n",
      "Requirement already satisfied: astunparse~=1.6.3 in /opt/conda/lib/python3.9/site-packages (from tensorflow->keras-adamw==1.38) (1.6.3)\n",
      "Requirement already satisfied: clang~=5.0 in /opt/conda/lib/python3.9/site-packages (from tensorflow->keras-adamw==1.38) (5.0)\n",
      "Requirement already satisfied: flatbuffers~=1.12.0 in /opt/conda/lib/python3.9/site-packages (from tensorflow->keras-adamw==1.38) (1.12)\n",
      "Requirement already satisfied: grpcio<2.0,>=1.37.0 in /opt/conda/lib/python3.9/site-packages (from tensorflow->keras-adamw==1.38) (1.44.0)\n",
      "Requirement already satisfied: google-pasta~=0.2 in /opt/conda/lib/python3.9/site-packages (from tensorflow->keras-adamw==1.38) (0.2.0)\n",
      "Requirement already satisfied: wrapt~=1.12.1 in /opt/conda/lib/python3.9/site-packages (from tensorflow->keras-adamw==1.38) (1.12.1)\n",
      "Requirement already satisfied: absl-py~=0.10 in /opt/conda/lib/python3.9/site-packages (from tensorflow->keras-adamw==1.38) (0.15.0)\n",
      "Requirement already satisfied: opt-einsum~=3.3.0 in /opt/conda/lib/python3.9/site-packages (from tensorflow->keras-adamw==1.38) (3.3.0)\n",
      "Requirement already satisfied: h5py~=3.1.0 in /opt/conda/lib/python3.9/site-packages (from tensorflow->keras-adamw==1.38) (3.1.0)\n",
      "Requirement already satisfied: keras-preprocessing~=1.1.2 in /opt/conda/lib/python3.9/site-packages (from tensorflow->keras-adamw==1.38) (1.1.2)\n",
      "Requirement already satisfied: gast==0.4.0 in /opt/conda/lib/python3.9/site-packages (from tensorflow->keras-adamw==1.38) (0.4.0)\n",
      "Requirement already satisfied: typing-extensions~=3.7.4 in /opt/conda/lib/python3.9/site-packages (from tensorflow->keras-adamw==1.38) (3.7.4.3)\n",
      "Collecting numpy\n",
      "  Using cached numpy-1.19.5-cp39-cp39-manylinux2010_x86_64.whl (14.9 MB)\n",
      "Requirement already satisfied: termcolor~=1.1.0 in /opt/conda/lib/python3.9/site-packages (from tensorflow->keras-adamw==1.38) (1.1.0)\n",
      "Requirement already satisfied: tensorflow-estimator~=2.6 in /opt/conda/lib/python3.9/site-packages (from tensorflow->keras-adamw==1.38) (2.8.0)\n",
      "Requirement already satisfied: protobuf>=3.9.2 in /opt/conda/lib/python3.9/site-packages (from tensorflow->keras-adamw==1.38) (3.19.4)\n",
      "Requirement already satisfied: wheel~=0.35 in /opt/conda/lib/python3.9/site-packages (from tensorflow->keras-adamw==1.38) (0.37.1)\n",
      "Requirement already satisfied: google-auth-oauthlib<0.5,>=0.4.1 in /opt/conda/lib/python3.9/site-packages (from tensorboard~=2.6->tensorflow->keras-adamw==1.38) (0.4.6)\n",
      "Requirement already satisfied: setuptools>=41.0.0 in /opt/conda/lib/python3.9/site-packages (from tensorboard~=2.6->tensorflow->keras-adamw==1.38) (60.9.3)\n",
      "Requirement already satisfied: google-auth<3,>=1.6.3 in /opt/conda/lib/python3.9/site-packages (from tensorboard~=2.6->tensorflow->keras-adamw==1.38) (2.6.0)\n",
      "Requirement already satisfied: tensorboard-data-server<0.7.0,>=0.6.0 in /opt/conda/lib/python3.9/site-packages (from tensorboard~=2.6->tensorflow->keras-adamw==1.38) (0.6.1)\n",
      "Requirement already satisfied: tensorboard-plugin-wit>=1.6.0 in /opt/conda/lib/python3.9/site-packages (from tensorboard~=2.6->tensorflow->keras-adamw==1.38) (1.8.1)\n",
      "Requirement already satisfied: werkzeug>=0.11.15 in /opt/conda/lib/python3.9/site-packages (from tensorboard~=2.6->tensorflow->keras-adamw==1.38) (2.0.3)\n",
      "Requirement already satisfied: requests<3,>=2.21.0 in /opt/conda/lib/python3.9/site-packages (from tensorboard~=2.6->tensorflow->keras-adamw==1.38) (2.26.0)\n",
      "Requirement already satisfied: markdown>=2.6.8 in /opt/conda/lib/python3.9/site-packages (from tensorboard~=2.6->tensorflow->keras-adamw==1.38) (3.3.6)\n",
      "Requirement already satisfied: rsa<5,>=3.1.4 in /opt/conda/lib/python3.9/site-packages (from google-auth<3,>=1.6.3->tensorboard~=2.6->tensorflow->keras-adamw==1.38) (4.8)\n",
      "Requirement already satisfied: cachetools<6.0,>=2.0.0 in /opt/conda/lib/python3.9/site-packages (from google-auth<3,>=1.6.3->tensorboard~=2.6->tensorflow->keras-adamw==1.38) (5.0.0)\n",
      "Requirement already satisfied: pyasn1-modules>=0.2.1 in /opt/conda/lib/python3.9/site-packages (from google-auth<3,>=1.6.3->tensorboard~=2.6->tensorflow->keras-adamw==1.38) (0.2.8)\n",
      "Requirement already satisfied: requests-oauthlib>=0.7.0 in /opt/conda/lib/python3.9/site-packages (from google-auth-oauthlib<0.5,>=0.4.1->tensorboard~=2.6->tensorflow->keras-adamw==1.38) (1.3.1)\n",
      "Requirement already satisfied: importlib-metadata>=4.4 in /opt/conda/lib/python3.9/site-packages (from markdown>=2.6.8->tensorboard~=2.6->tensorflow->keras-adamw==1.38) (4.11.2)\n",
      "Requirement already satisfied: urllib3<1.27,>=1.21.1 in /opt/conda/lib/python3.9/site-packages (from requests<3,>=2.21.0->tensorboard~=2.6->tensorflow->keras-adamw==1.38) (1.26.7)\n",
      "Requirement already satisfied: idna<4,>=2.5 in /opt/conda/lib/python3.9/site-packages (from requests<3,>=2.21.0->tensorboard~=2.6->tensorflow->keras-adamw==1.38) (2.10)\n",
      "Requirement already satisfied: charset-normalizer~=2.0.0 in /opt/conda/lib/python3.9/site-packages (from requests<3,>=2.21.0->tensorboard~=2.6->tensorflow->keras-adamw==1.38) (2.0.12)\n",
      "Requirement already satisfied: certifi>=2017.4.17 in /opt/conda/lib/python3.9/site-packages (from requests<3,>=2.21.0->tensorboard~=2.6->tensorflow->keras-adamw==1.38) (2021.10.8)\n",
      "Requirement already satisfied: zipp>=0.5 in /opt/conda/lib/python3.9/site-packages (from importlib-metadata>=4.4->markdown>=2.6.8->tensorboard~=2.6->tensorflow->keras-adamw==1.38) (3.7.0)\n",
      "Requirement already satisfied: pyasn1<0.5.0,>=0.4.6 in /opt/conda/lib/python3.9/site-packages (from pyasn1-modules>=0.2.1->google-auth<3,>=1.6.3->tensorboard~=2.6->tensorflow->keras-adamw==1.38) (0.4.8)\n",
      "Requirement already satisfied: oauthlib>=3.0.0 in /opt/conda/lib/python3.9/site-packages (from requests-oauthlib>=0.7.0->google-auth-oauthlib<0.5,>=0.4.1->tensorboard~=2.6->tensorflow->keras-adamw==1.38) (3.2.0)\n",
      "Installing collected packages: numpy\n",
      "  Attempting uninstall: numpy\n",
      "    Found existing installation: numpy 1.21.2\n",
      "    Uninstalling numpy-1.21.2:\n",
      "      Successfully uninstalled numpy-1.21.2\n",
      "Successfully installed numpy-1.19.5\n",
      "\u001b[33mWARNING: Running pip as the 'root' user can result in broken permissions and conflicting behaviour with the system package manager. It is recommended to use a virtual environment instead: https://pip.pypa.io/warnings/venv\u001b[0m\u001b[33m\n",
      "\u001b[0mNote: you may need to restart the kernel to use updated packages.\n"
     ]
    }
   ],
   "source": [
    "pip install git+https://github.com/OverLordGoldDragon/keras-adamw"
   ]
  },
  {
   "cell_type": "code",
   "execution_count": 28,
   "id": "27b30986",
   "metadata": {},
   "outputs": [],
   "source": [
    "import os; os.environ[\"TF_KERAS\"]='1'"
   ]
  },
  {
   "cell_type": "code",
   "execution_count": 29,
   "id": "a4adaf9c",
   "metadata": {},
   "outputs": [],
   "source": [
    "import numpy as np\n",
    "from keras.layers import Input, Dense, LSTM\n",
    "from keras.models import Model\n",
    "from keras.regularizers import l1, l2, l1_l2\n",
    "from keras_adamw import AdamW"
   ]
  },
  {
   "cell_type": "code",
   "execution_count": 30,
   "id": "6177b34f",
   "metadata": {},
   "outputs": [],
   "source": [
    "a1 = modified_VGG16_model"
   ]
  },
  {
   "cell_type": "code",
   "execution_count": 31,
   "id": "5cdc5dd8",
   "metadata": {},
   "outputs": [],
   "source": [
    "# tf.keras.optimizers.experimental.AdamW(\n",
    "#     learning_rate=0.001,\n",
    "#     weight_decay=0.004,\n",
    "#     beta_1=0.9,\n",
    "#     beta_2=0.999,\n",
    "#     epsilon=1e-07,\n",
    "#     amsgrad=False,\n",
    "#     clipnorm=None,\n",
    "#     clipvalue=None,\n",
    "#     global_clipnorm=None,\n",
    "#     use_ema=False,\n",
    "#     ema_momentum=0.99,\n",
    "#     ema_overwrite_frequency=None,\n",
    "#     jit_compile=True,\n",
    "#     name='AdamW',\n",
    "#     **kwargs\n",
    "# )"
   ]
  },
  {
   "cell_type": "code",
   "execution_count": 32,
   "id": "30c4a1fd",
   "metadata": {},
   "outputs": [],
   "source": [
    "\n",
    "os.environ['TF_KERAS'] = '1'\n"
   ]
  },
  {
   "cell_type": "code",
   "execution_count": 33,
   "id": "9a4a905b",
   "metadata": {},
   "outputs": [
    {
     "name": "stdout",
     "output_type": "stream",
     "text": [
      "--sys.version--\n",
      "3.9.7 | packaged by conda-forge | (default, Sep 29 2021, 19:20:46) \n",
      "[GCC 9.4.0]\n"
     ]
    }
   ],
   "source": [
    "import sys\n",
    "\n",
    "print(\"--sys.version--\")\n",
    "print(sys.version)"
   ]
  },
  {
   "cell_type": "code",
   "execution_count": 34,
   "id": "b257742f",
   "metadata": {},
   "outputs": [
    {
     "name": "stdout",
     "output_type": "stream",
     "text": [
      "2.6.0\n"
     ]
    }
   ],
   "source": [
    "import tensorflow as tf\n",
    "\n",
    "print(tf.__version__)\n",
    "# 2.5.0"
   ]
  },
  {
   "cell_type": "code",
   "execution_count": 122,
   "id": "fba1e244",
   "metadata": {},
   "outputs": [
    {
     "name": "stdout",
     "output_type": "stream",
     "text": [
      "Collecting tensorflow==2.7.0\n",
      "  Using cached tensorflow-2.7.0-cp38-cp38-macosx_10_11_x86_64.whl (207.1 MB)\n",
      "Collecting tensorboard~=2.6\n",
      "  Downloading tensorboard-2.9.0-py3-none-any.whl (5.8 MB)\n",
      "\u001b[2K     \u001b[90m━━━━━━━━━━━━━━━━━━━━━━━━━━━━━━━━━━━━━━━━\u001b[0m \u001b[32m5.8/5.8 MB\u001b[0m \u001b[31m4.4 MB/s\u001b[0m eta \u001b[36m0:00:00\u001b[0m00:01\u001b[0m00:01\u001b[0m\n",
      "\u001b[?25hRequirement already satisfied: gast<0.5.0,>=0.2.1 in /Users/parksunghun/opt/anaconda3/lib/python3.8/site-packages (from tensorflow==2.7.0) (0.3.3)\n",
      "Requirement already satisfied: numpy>=1.14.5 in /Users/parksunghun/opt/anaconda3/lib/python3.8/site-packages (from tensorflow==2.7.0) (1.22.1)\n",
      "Requirement already satisfied: astunparse>=1.6.0 in /Users/parksunghun/opt/anaconda3/lib/python3.8/site-packages (from tensorflow==2.7.0) (1.6.3)\n",
      "Requirement already satisfied: typing-extensions>=3.6.6 in /Users/parksunghun/opt/anaconda3/lib/python3.8/site-packages (from tensorflow==2.7.0) (3.10.0.2)\n",
      "Requirement already satisfied: wrapt>=1.11.0 in /Users/parksunghun/opt/anaconda3/lib/python3.8/site-packages (from tensorflow==2.7.0) (1.12.1)\n",
      "Requirement already satisfied: absl-py>=0.4.0 in /Users/parksunghun/opt/anaconda3/lib/python3.8/site-packages (from tensorflow==2.7.0) (1.0.0)\n",
      "Requirement already satisfied: libclang>=9.0.1 in /Users/parksunghun/opt/anaconda3/lib/python3.8/site-packages (from tensorflow==2.7.0) (12.0.0)\n",
      "Requirement already satisfied: flatbuffers<3.0,>=1.12 in /Users/parksunghun/opt/anaconda3/lib/python3.8/site-packages (from tensorflow==2.7.0) (2.0)\n",
      "Requirement already satisfied: keras-preprocessing>=1.1.1 in /Users/parksunghun/opt/anaconda3/lib/python3.8/site-packages (from tensorflow==2.7.0) (1.1.2)\n",
      "Requirement already satisfied: google-pasta>=0.1.1 in /Users/parksunghun/opt/anaconda3/lib/python3.8/site-packages (from tensorflow==2.7.0) (0.2.0)\n",
      "Requirement already satisfied: six>=1.12.0 in /Users/parksunghun/opt/anaconda3/lib/python3.8/site-packages (from tensorflow==2.7.0) (1.16.0)\n",
      "Requirement already satisfied: h5py>=2.9.0 in /Users/parksunghun/opt/anaconda3/lib/python3.8/site-packages (from tensorflow==2.7.0) (2.10.0)\n",
      "Collecting tensorflow-estimator<2.8,~=2.7.0rc0\n",
      "  Using cached tensorflow_estimator-2.7.0-py2.py3-none-any.whl (463 kB)\n",
      "Requirement already satisfied: grpcio<2.0,>=1.24.3 in /Users/parksunghun/opt/anaconda3/lib/python3.8/site-packages (from tensorflow==2.7.0) (1.43.0)\n",
      "Requirement already satisfied: protobuf>=3.9.2 in /Users/parksunghun/opt/anaconda3/lib/python3.8/site-packages (from tensorflow==2.7.0) (3.19.1)\n",
      "Collecting keras<2.8,>=2.7.0rc0\n",
      "  Using cached keras-2.7.0-py2.py3-none-any.whl (1.3 MB)\n",
      "Requirement already satisfied: tensorflow-io-gcs-filesystem>=0.21.0 in /Users/parksunghun/opt/anaconda3/lib/python3.8/site-packages (from tensorflow==2.7.0) (0.23.1)\n",
      "Requirement already satisfied: termcolor>=1.1.0 in /Users/parksunghun/opt/anaconda3/lib/python3.8/site-packages (from tensorflow==2.7.0) (1.1.0)\n",
      "Requirement already satisfied: wheel<1.0,>=0.32.0 in /Users/parksunghun/opt/anaconda3/lib/python3.8/site-packages (from tensorflow==2.7.0) (0.37.1)\n",
      "Requirement already satisfied: opt-einsum>=2.3.2 in /Users/parksunghun/opt/anaconda3/lib/python3.8/site-packages (from tensorflow==2.7.0) (3.3.0)\n",
      "Requirement already satisfied: setuptools>=41.0.0 in /Users/parksunghun/opt/anaconda3/lib/python3.8/site-packages (from tensorboard~=2.6->tensorflow==2.7.0) (60.5.0)\n",
      "Requirement already satisfied: google-auth-oauthlib<0.5,>=0.4.1 in /Users/parksunghun/opt/anaconda3/lib/python3.8/site-packages (from tensorboard~=2.6->tensorflow==2.7.0) (0.4.6)\n",
      "Requirement already satisfied: requests<3,>=2.21.0 in /Users/parksunghun/opt/anaconda3/lib/python3.8/site-packages (from tensorboard~=2.6->tensorflow==2.7.0) (2.27.1)\n",
      "Requirement already satisfied: tensorboard-plugin-wit>=1.6.0 in /Users/parksunghun/opt/anaconda3/lib/python3.8/site-packages (from tensorboard~=2.6->tensorflow==2.7.0) (1.8.0)\n",
      "Requirement already satisfied: google-auth<3,>=1.6.3 in /Users/parksunghun/opt/anaconda3/lib/python3.8/site-packages (from tensorboard~=2.6->tensorflow==2.7.0) (1.35.0)\n",
      "Requirement already satisfied: markdown>=2.6.8 in /Users/parksunghun/opt/anaconda3/lib/python3.8/site-packages (from tensorboard~=2.6->tensorflow==2.7.0) (3.3.6)\n",
      "Requirement already satisfied: werkzeug>=1.0.1 in /Users/parksunghun/opt/anaconda3/lib/python3.8/site-packages (from tensorboard~=2.6->tensorflow==2.7.0) (2.0.2)\n",
      "Requirement already satisfied: tensorboard-data-server<0.7.0,>=0.6.0 in /Users/parksunghun/opt/anaconda3/lib/python3.8/site-packages (from tensorboard~=2.6->tensorflow==2.7.0) (0.6.1)\n",
      "Requirement already satisfied: cachetools<5.0,>=2.0.0 in /Users/parksunghun/opt/anaconda3/lib/python3.8/site-packages (from google-auth<3,>=1.6.3->tensorboard~=2.6->tensorflow==2.7.0) (4.2.4)\n",
      "Requirement already satisfied: pyasn1-modules>=0.2.1 in /Users/parksunghun/opt/anaconda3/lib/python3.8/site-packages (from google-auth<3,>=1.6.3->tensorboard~=2.6->tensorflow==2.7.0) (0.2.8)\n",
      "Requirement already satisfied: rsa<5,>=3.1.4 in /Users/parksunghun/opt/anaconda3/lib/python3.8/site-packages (from google-auth<3,>=1.6.3->tensorboard~=2.6->tensorflow==2.7.0) (4.8)\n",
      "Requirement already satisfied: requests-oauthlib>=0.7.0 in /Users/parksunghun/opt/anaconda3/lib/python3.8/site-packages (from google-auth-oauthlib<0.5,>=0.4.1->tensorboard~=2.6->tensorflow==2.7.0) (1.3.0)\n",
      "Requirement already satisfied: importlib-metadata>=4.4 in /Users/parksunghun/opt/anaconda3/lib/python3.8/site-packages (from markdown>=2.6.8->tensorboard~=2.6->tensorflow==2.7.0) (4.10.0)\n",
      "Requirement already satisfied: idna<4,>=2.5 in /Users/parksunghun/opt/anaconda3/lib/python3.8/site-packages (from requests<3,>=2.21.0->tensorboard~=2.6->tensorflow==2.7.0) (3.3)\n",
      "Requirement already satisfied: urllib3<1.27,>=1.21.1 in /Users/parksunghun/opt/anaconda3/lib/python3.8/site-packages (from requests<3,>=2.21.0->tensorboard~=2.6->tensorflow==2.7.0) (1.26.8)\n",
      "Requirement already satisfied: certifi>=2017.4.17 in /Users/parksunghun/opt/anaconda3/lib/python3.8/site-packages (from requests<3,>=2.21.0->tensorboard~=2.6->tensorflow==2.7.0) (2021.10.8)\n",
      "Requirement already satisfied: charset-normalizer~=2.0.0 in /Users/parksunghun/opt/anaconda3/lib/python3.8/site-packages (from requests<3,>=2.21.0->tensorboard~=2.6->tensorflow==2.7.0) (2.0.10)\n",
      "Requirement already satisfied: zipp>=0.5 in /Users/parksunghun/opt/anaconda3/lib/python3.8/site-packages (from importlib-metadata>=4.4->markdown>=2.6.8->tensorboard~=2.6->tensorflow==2.7.0) (3.7.0)\n",
      "Requirement already satisfied: pyasn1<0.5.0,>=0.4.6 in /Users/parksunghun/opt/anaconda3/lib/python3.8/site-packages (from pyasn1-modules>=0.2.1->google-auth<3,>=1.6.3->tensorboard~=2.6->tensorflow==2.7.0) (0.4.8)\n",
      "Requirement already satisfied: oauthlib>=3.0.0 in /Users/parksunghun/opt/anaconda3/lib/python3.8/site-packages (from requests-oauthlib>=0.7.0->google-auth-oauthlib<0.5,>=0.4.1->tensorboard~=2.6->tensorflow==2.7.0) (3.1.1)\n",
      "Installing collected packages: tensorflow-estimator, keras, tensorboard, tensorflow\n",
      "  Attempting uninstall: tensorflow-estimator\n",
      "    Found existing installation: tensorflow-estimator 2.2.0\n",
      "    Uninstalling tensorflow-estimator-2.2.0:\n",
      "      Successfully uninstalled tensorflow-estimator-2.2.0\n",
      "  Attempting uninstall: keras\n",
      "    Found existing installation: Keras 2.3.1\n",
      "    Uninstalling Keras-2.3.1:\n",
      "      Successfully uninstalled Keras-2.3.1\n",
      "  Attempting uninstall: tensorboard\n",
      "    Found existing installation: tensorboard 2.2.2\n",
      "    Uninstalling tensorboard-2.2.2:\n",
      "      Successfully uninstalled tensorboard-2.2.2\n",
      "  Attempting uninstall: tensorflow\n",
      "    Found existing installation: tensorflow 2.2.0\n",
      "    Uninstalling tensorflow-2.2.0:\n",
      "      Successfully uninstalled tensorflow-2.2.0\n",
      "Successfully installed keras-2.7.0 tensorboard-2.9.0 tensorflow-2.7.0 tensorflow-estimator-2.7.0\n",
      "\u001b[33mWARNING: You are using pip version 22.0.3; however, version 22.0.4 is available.\n",
      "You should consider upgrading via the '/Users/parksunghun/opt/anaconda3/bin/python -m pip install --upgrade pip' command.\u001b[0m\u001b[33m\n",
      "\u001b[0mNote: you may need to restart the kernel to use updated packages.\n"
     ]
    }
   ],
   "source": [
    "pip install --upgrade tensorflow==2.7.0"
   ]
  },
  {
   "cell_type": "code",
   "execution_count": 170,
   "id": "ca048499",
   "metadata": {},
   "outputs": [
    {
     "name": "stdout",
     "output_type": "stream",
     "text": [
      "\u001b[31mERROR: Could not find a version that satisfies the requirement tensorflow-gpu== (from versions: none)\u001b[0m\u001b[31m\r\n",
      "\u001b[0m\u001b[31mERROR: No matching distribution found for tensorflow-gpu==\u001b[0m\u001b[31m\r\n",
      "\u001b[0m\u001b[33mWARNING: You are using pip version 22.0.3; however, version 22.0.4 is available.\r\n",
      "You should consider upgrading via the '/Users/parksunghun/opt/anaconda3/bin/python -m pip install --upgrade pip' command.\u001b[0m\u001b[33m\r\n",
      "\u001b[0m"
     ]
    }
   ],
   "source": [
    "!pip install tensorflow-gpu== 2.7.0"
   ]
  },
  {
   "cell_type": "code",
   "execution_count": 118,
   "id": "3de1b45f",
   "metadata": {},
   "outputs": [
    {
     "name": "stdout",
     "output_type": "stream",
     "text": [
      "zsh:1: no matches found: tensorflow-addons[tensorflow]\r\n"
     ]
    }
   ],
   "source": [
    "!pip install tensorflow-addons[tensorflow]\n"
   ]
  },
  {
   "cell_type": "code",
   "execution_count": 47,
   "id": "2741ff75",
   "metadata": {},
   "outputs": [
    {
     "name": "stdout",
     "output_type": "stream",
     "text": [
      "Epoch 1/30\n",
      "20/20 [==============================] - 7s 295ms/step - loss: 1.7916 - accuracy: 0.1730\n",
      "Epoch 2/30\n",
      "20/20 [==============================] - 6s 295ms/step - loss: 1.7915 - accuracy: 0.1730\n",
      "Epoch 3/30\n",
      "20/20 [==============================] - 6s 295ms/step - loss: 1.7916 - accuracy: 0.1730\n",
      "Epoch 4/30\n",
      "20/20 [==============================] - 6s 295ms/step - loss: 1.7916 - accuracy: 0.1730\n",
      "Epoch 5/30\n",
      "20/20 [==============================] - 6s 294ms/step - loss: 1.7916 - accuracy: 0.1730\n",
      "Epoch 6/30\n",
      "20/20 [==============================] - 6s 293ms/step - loss: 1.7916 - accuracy: 0.1730\n",
      "Epoch 7/30\n",
      "20/20 [==============================] - 6s 288ms/step - loss: 1.7916 - accuracy: 0.1730\n",
      "Epoch 8/30\n",
      "20/20 [==============================] - 6s 293ms/step - loss: 1.7916 - accuracy: 0.1730\n",
      "Epoch 9/30\n",
      "20/20 [==============================] - 6s 295ms/step - loss: 1.7917 - accuracy: 0.1730\n",
      "Epoch 10/30\n",
      "20/20 [==============================] - 6s 296ms/step - loss: 1.7917 - accuracy: 0.1730\n",
      "Epoch 11/30\n",
      "20/20 [==============================] - 6s 295ms/step - loss: 1.7917 - accuracy: 0.1651\n",
      "Epoch 12/30\n",
      "20/20 [==============================] - 6s 305ms/step - loss: 1.7917 - accuracy: 0.1730\n",
      "Epoch 13/30\n",
      "20/20 [==============================] - 6s 294ms/step - loss: 1.7917 - accuracy: 0.1730\n",
      "Epoch 14/30\n",
      "20/20 [==============================] - 6s 296ms/step - loss: 1.7917 - accuracy: 0.1730\n",
      "Epoch 15/30\n",
      "20/20 [==============================] - 6s 286ms/step - loss: 1.7917 - accuracy: 0.1730\n",
      "Epoch 16/30\n",
      "20/20 [==============================] - 6s 290ms/step - loss: 1.7917 - accuracy: 0.1730\n",
      "Epoch 17/30\n",
      "20/20 [==============================] - 6s 288ms/step - loss: 1.7917 - accuracy: 0.1730\n",
      "Epoch 18/30\n",
      "20/20 [==============================] - 6s 290ms/step - loss: 1.7917 - accuracy: 0.1730\n",
      "Epoch 19/30\n",
      "20/20 [==============================] - 6s 292ms/step - loss: 1.7917 - accuracy: 0.1556\n",
      "Epoch 20/30\n",
      "20/20 [==============================] - 6s 288ms/step - loss: 1.7917 - accuracy: 0.1730\n",
      "Epoch 21/30\n",
      "20/20 [==============================] - 6s 289ms/step - loss: 1.7918 - accuracy: 0.1730\n",
      "Epoch 22/30\n",
      "20/20 [==============================] - 6s 289ms/step - loss: 1.7918 - accuracy: 0.1571\n",
      "Epoch 23/30\n",
      "20/20 [==============================] - 6s 285ms/step - loss: 1.7917 - accuracy: 0.1714\n",
      "Epoch 24/30\n",
      "20/20 [==============================] - 6s 285ms/step - loss: 1.7917 - accuracy: 0.1746\n",
      "Epoch 25/30\n",
      "20/20 [==============================] - 6s 285ms/step - loss: 1.7917 - accuracy: 0.1730\n",
      "Epoch 26/30\n",
      "20/20 [==============================] - 6s 286ms/step - loss: 1.7917 - accuracy: 0.1730\n",
      "Epoch 27/30\n",
      "20/20 [==============================] - 6s 287ms/step - loss: 1.7917 - accuracy: 0.1730\n",
      "Epoch 28/30\n",
      "20/20 [==============================] - 6s 287ms/step - loss: 1.7917 - accuracy: 0.1730\n",
      "Epoch 29/30\n",
      "20/20 [==============================] - 6s 286ms/step - loss: 1.7917 - accuracy: 0.1730\n",
      "Epoch 30/30\n",
      "20/20 [==============================] - 6s 289ms/step - loss: 1.7917 - accuracy: 0.1730\n",
      "5/5 - 0s - loss: 1.7919 - accuracy: 0.1556\n"
     ]
    }
   ],
   "source": [
    "#https://stackoverflow.com/questions/50056356/could-not-interpret-optimizer-identifier-error-in-kerasimport tensorflow as tf\n",
    "from keras.models import Sequential\n",
    "from keras.layers import Dense, Dropout, LSTM, BatchNormalization\n",
    "from keras.callbacks import TensorBoard\n",
    "from keras.callbacks import ModelCheckpoint\n",
    "#from keras.optimizers import adam\n",
    "import sys\n",
    "import os \n",
    "# from keras_adamw import AdamW\n",
    "from keras import backend as K\n",
    "# sys.path.append(os.pardir)\n",
    "# from keras_optimizers import AdamW\n",
    "#from keras_adamw import AdamW\n",
    "#from keras_adamw.optimizers import AdamW\n",
    "#from tensorflow.python.keras.optimizers import Adam\n",
    "#from keras_radam import RAdam\n",
    "#from keras.optimizers import adam\n",
    "from tensorflow_addons.optimizers import AdamW#weight_decay 씀\n",
    "from tensorflow.python.keras.metrics import Metric\n",
    "from tensorflow.python.ops import math_ops\n",
    "\n",
    "# optimizer = AdamW(lr=1e-4,\n",
    "#                   model=model,\n",
    "#                   lr_multipliers=lr_multipliers,\n",
    "#                   use_cosine_annealing=True,\n",
    "#                   total_iterations=24)\n",
    "\n",
    "\n",
    "a01 = AdamW(learning_rate =0.001, beta_1=0.9, beta_2 = 0.999,amsgrad = True,\\\n",
    "                   #model = None,\n",
    "                   #use_cosine_annealing = True,\n",
    "                   #zero_penalties = 1,\n",
    "                   #lr_multipliers = None,\n",
    "                   #autorestart = 1,\n",
    "                   #eta_min = 0.2,\n",
    "                   #eta_max = 0.9,\n",
    "                   #t_cur = 2,\n",
    "                   weight_decay = 1e-2,\n",
    "                   #weight_decays=0.1,\n",
    "                   #total_iterations = 3,\n",
    "                   #init_verbose = 1,\n",
    "                   epsilon = 1e-07,\n",
    "                   \n",
    "                 )\n",
    "\n",
    "\n",
    "\n",
    "a1.compile(optimizer = a01,\n",
    "             #loss = tf.keras.losses.SparseCategoricalCrossentropy(),\n",
    "             loss = 'sparse_categorical_crossentropy',\n",
    "             metrics = ['accuracy'])\n",
    "\n",
    "epoch_num= 30\n",
    "\n",
    "if is_global_feature:\n",
    "    a1.fit([local_X_train, global_X_train], y_train, epochs = epoch_num)\n",
    "    a1.evaluate([local_X_train, global_X_train], y_test, verbose = 2)\n",
    "else:\n",
    "    a1.fit(local_X_train, y_train, epochs = epoch_num)\n",
    "    a1.evaluate(local_X_test, y_test, verbose = 2)\n"
   ]
  },
  {
   "cell_type": "code",
   "execution_count": 45,
   "id": "4356dcc1",
   "metadata": {},
   "outputs": [
    {
     "name": "stdout",
     "output_type": "stream",
     "text": [
      "20/20 [==============================] - 6s 285ms/step - loss: 1.7916 - accuracy: 0.1730\n",
      "Epoch 18/30\n",
      "20/20 [==============================] - 6s 288ms/step - loss: 1.7916 - accuracy: 0.1730\n",
      "Epoch 19/30\n",
      "20/20 [==============================] - 6s 283ms/step - loss: 1.7916 - accuracy: 0.1730\n",
      "Epoch 20/30\n",
      "20/20 [==============================] - 6s 284ms/step - loss: 1.7915 - accuracy: 0.1730\n",
      "Epoch 21/30\n",
      "20/20 [==============================] - 6s 288ms/step - loss: 1.7915 - accuracy: 0.1730\n",
      "Epoch 22/30\n",
      "20/20 [==============================] - 6s 285ms/step - loss: 1.7915 - accuracy: 0.1730\n",
      "Epoch 23/30\n",
      "20/20 [==============================] - 6s 283ms/step - loss: 1.7916 - accuracy: 0.1730\n",
      "Epoch 24/30\n",
      "20/20 [==============================] - 6s 281ms/step - loss: 1.7916 - accuracy: 0.1730\n",
      "Epoch 25/30\n",
      "20/20 [==============================] - 6s 283ms/step - loss: 1.7915 - accuracy: 0.1730\n",
      "Epoch 26/30\n",
      "20/20 [==============================] - 6s 279ms/step - loss: 1.7915 - accuracy: 0.1730\n",
      "Epoch 27/30\n",
      "20/20 [==============================] - 6s 275ms/step - loss: 1.7915 - accuracy: 0.1730\n",
      "Epoch 28/30\n",
      "20/20 [==============================] - 5s 274ms/step - loss: 1.7916 - accuracy: 0.1730\n",
      "Epoch 29/30\n",
      "20/20 [==============================] - 6s 278ms/step - loss: 1.7915 - accuracy: 0.1730\n",
      "Epoch 30/30\n",
      "20/20 [==============================] - 6s 276ms/step - loss: 1.7915 - accuracy: 0.1730\n",
      "5/5 - 0s - loss: 1.7923 - accuracy: 0.1556\n"
     ]
    }
   ],
   "source": [
    "# 모델 학습\n",
    "modified_VGG16_model.compile(optimizer = 'adam',\n",
    "             loss = 'sparse_categorical_crossentropy',\n",
    "             metrics = ['accuracy'])\n",
    "\n",
    "if is_global_feature:\n",
    "    modified_VGG16_model.fit([local_X_train, global_X_train], y_train, epochs = epoch_num)\n",
    "    modified_VGG16_model.evaluate([local_X_test, global_X_test], y_test, verbose = 2)\n",
    "else:\n",
    "    modified_VGG16_model.fit(local_X_train, y_train, epochs = epoch_num)\n",
    "    modified_VGG16_model.evaluate(local_X_test, y_test, verbose = 2)"
   ]
  },
  {
   "cell_type": "code",
   "execution_count": 42,
   "id": "4a50f665",
   "metadata": {},
   "outputs": [
    {
     "name": "stdout",
     "output_type": "stream",
     "text": [
      "2.6.0\n"
     ]
    }
   ],
   "source": [
    "\n",
    "print(tf.__version__)"
   ]
  },
  {
   "cell_type": "code",
   "execution_count": 48,
   "id": "8c7fa99b",
   "metadata": {},
   "outputs": [
    {
     "data": {
      "text/plain": [
       "[<KerasTensor: shape=(None, 8, 8, 1) dtype=float32 (created by layer 'Local_feature_Input')>,\n",
       " <KerasTensor: shape=(None, 8, 8, 64) dtype=float32 (created by layer 'block1_conv1')>,\n",
       " <KerasTensor: shape=(None, 8, 8, 64) dtype=float32 (created by layer 'block1_conv2')>,\n",
       " <KerasTensor: shape=(None, 4, 4, 64) dtype=float32 (created by layer 'block1_pool')>,\n",
       " <KerasTensor: shape=(None, 4, 4, 128) dtype=float32 (created by layer 'block2_conv1')>,\n",
       " <KerasTensor: shape=(None, 4, 4, 128) dtype=float32 (created by layer 'block2_conv2')>,\n",
       " <KerasTensor: shape=(None, 2, 2, 128) dtype=float32 (created by layer 'block2_pool')>,\n",
       " <KerasTensor: shape=(None, 2, 2, 256) dtype=float32 (created by layer 'block3_conv1')>,\n",
       " <KerasTensor: shape=(None, 2, 2, 256) dtype=float32 (created by layer 'block3_conv2')>,\n",
       " <KerasTensor: shape=(None, 2, 2, 256) dtype=float32 (created by layer 'block3_conv3')>,\n",
       " <KerasTensor: shape=(None, 1, 1, 256) dtype=float32 (created by layer 'block3_pool')>,\n",
       " <KerasTensor: shape=(None, 256) dtype=float32 (created by layer 'flatten')>,\n",
       " <KerasTensor: shape=(None, 1024) dtype=float32 (created by layer 'fc1')>,\n",
       " <KerasTensor: shape=(None, 1024) dtype=float32 (created by layer 'fc2')>,\n",
       " <KerasTensor: shape=(None, 6) dtype=float32 (created by layer 'prediction')>]"
      ]
     },
     "execution_count": 48,
     "metadata": {},
     "output_type": "execute_result"
    }
   ],
   "source": [
    "modified_VGG16_features_list = [layer.output for layer in modified_VGG16_model.layers]\n",
    "modified_VGG16_features_list"
   ]
  },
  {
   "cell_type": "code",
   "execution_count": 49,
   "id": "ad994e73",
   "metadata": {},
   "outputs": [],
   "source": [
    "modified_VGG16_feat_extraction_model = Model(inputs = modified_VGG16_model.input, outputs = modified_VGG16_features_list)\n",
    "\n",
    "if is_global_feature == True:\n",
    "    train_modified_VGG16_extracted_features = modified_VGG16_feat_extraction_model([local_X_train, global_X_train])\n",
    "    test_modified_VGG16_extracted_features = modified_VGG16_feat_extraction_model([local_X_test, global_X_test])\n",
    "    val_modified_VGG16_extracted_features = modified_VGG16_feat_extraction_model([local_X_val, global_X_val])\n",
    "else: \n",
    "    train_modified_VGG16_extracted_features = modified_VGG16_feat_extraction_model(local_X_train)\n",
    "    test_modified_VGG16_extracted_features = modified_VGG16_feat_extraction_model(local_X_test)\n",
    "    val_modified_VGG16_extracted_features = modified_VGG16_feat_extraction_model(local_X_val)"
   ]
  },
  {
   "cell_type": "code",
   "execution_count": 151,
   "id": "32221994",
   "metadata": {},
   "outputs": [],
   "source": [
    "train_modified_VGG16_representations = np.array(train_modified_VGG16_extracted_features[-2], dtype = object)\n",
    "test_modified_VGG16_representations = np.array(test_modified_VGG16_extracted_features[-2], dtype = object)\n",
    "val_modified_VGG16_representations = np.array(val_modified_VGG16_extracted_features[-2], dtype = object)"
   ]
  },
  {
   "cell_type": "code",
   "execution_count": 152,
   "id": "fc1b90d7",
   "metadata": {},
   "outputs": [
    {
     "data": {
      "text/plain": [
       "array([[2.41457782976795e-05, 0.00045649195089936256,\n",
       "        0.00027869714540429413, ..., 0.0001536560885142535, 0.0,\n",
       "        8.517243259120733e-05],\n",
       "       [1.476004945288878e-05, 0.00012257357593625784,\n",
       "        0.0002441876276861876, ..., 0.0002070153714157641, 0.0, 0.0],\n",
       "       [9.000585123430938e-05, 0.00043012952664867043,\n",
       "        0.0003349730104673654, ..., 0.000505629985127598, 0.0,\n",
       "        8.534773951396346e-05],\n",
       "       ...,\n",
       "       [8.194085967261344e-05, 0.00047488781274296343,\n",
       "        0.00023995131778065115, ..., 0.00017330046102870256, 0.0,\n",
       "        5.047666491009295e-05],\n",
       "       [1.7018639482557774e-05, 0.00017699597810860723,\n",
       "        0.00010268157348036766, ..., 0.00012907844211440533, 0.0,\n",
       "        1.9220096874050796e-06],\n",
       "       [0.0, 0.0005963422008790076, 0.0002481825649738312, ...,\n",
       "        0.0004135660419706255, 0.0, 6.064353510737419e-05]], dtype=object)"
      ]
     },
     "execution_count": 152,
     "metadata": {},
     "output_type": "execute_result"
    }
   ],
   "source": [
    "train_modified_VGG16_representations"
   ]
  },
  {
   "cell_type": "markdown",
   "id": "9bd09ad4",
   "metadata": {},
   "source": [
    "## (2) 분류 예측"
   ]
  },
  {
   "cell_type": "code",
   "execution_count": 22,
   "id": "b068c6fa",
   "metadata": {},
   "outputs": [
    {
     "data": {
      "text/plain": [
       "MultinomialNB()"
      ]
     },
     "execution_count": 22,
     "metadata": {},
     "output_type": "execute_result"
    }
   ],
   "source": [
    "# K-Neighbors \n",
    "KN_classifier = KNeighborsClassifier(n_neighbors = 3, p=2, metric = 'minkowski')\n",
    "KN_classifier.fit(train_modified_VGG16_representations, y_train)\n",
    "\n",
    "# Decision tree\n",
    "DT_classifier = DecisionTreeClassifier(random_state = classifier_random_state)   ## 모델 지정\n",
    "DT_classifier.fit(train_modified_VGG16_representations, y_train)\n",
    "\n",
    "\n",
    "# Random forest\n",
    "RF_classifier = RandomForestClassifier(random_state = classifier_random_state)   ## 모델 지정\n",
    "RF_classifier.fit(train_modified_VGG16_representations, y_train)\n",
    "\n",
    "\n",
    "# Support vector machine\n",
    "SVM_classifier = svm.SVC(random_state = classifier_random_state, kernel = 'linear', C = 10)   ## C가 클수록 정확해짐\n",
    "SVM_classifier.fit(train_modified_VGG16_representations, y_train)\n",
    "\n",
    "\n",
    "# Stochastic gradient descent\n",
    "SGD_classifier = SGDClassifier(random_state = classifier_random_state)   ## 모델 지정\n",
    "SGD_classifier.fit(train_modified_VGG16_representations, y_train)\n",
    "\n",
    "\n",
    "# Logistic regression\n",
    "LR_classifier = LogisticRegression(random_state = classifier_random_state, max_iter = 5000)   ## 모델 지정\n",
    "LR_classifier.fit(train_modified_VGG16_representations, y_train)\n",
    "\n",
    "# Multinomial Naive Bayes\n",
    "MNB_classifier = MultinomialNB()   ## 모델 지정\n",
    "MNB_classifier.fit(train_modified_VGG16_representations, y_train)\n",
    "\n",
    "# clf= MultinomialNB()\n",
    "# clf.fit(train_simpler_VGG16_representations, y_train)\n",
    "# score = clf.score(test_simpler_VGG16_representations, y_test)\n",
    "# score"
   ]
  },
  {
   "cell_type": "code",
   "execution_count": 23,
   "id": "b61a6cc7",
   "metadata": {},
   "outputs": [
    {
     "name": "stdout",
     "output_type": "stream",
     "text": [
      "*** K-Neighbors classifier result ***\n",
      "              precision    recall  f1-score   support\n",
      "\n",
      "           0       0.96      1.00      0.98        25\n",
      "           1       1.00      1.00      1.00        24\n",
      "           2       1.00      1.00      1.00        21\n",
      "           3       1.00      1.00      1.00        24\n",
      "           4       1.00      1.00      1.00        23\n",
      "           5       1.00      0.94      0.97        18\n",
      "\n",
      "    accuracy                           0.99       135\n",
      "   macro avg       0.99      0.99      0.99       135\n",
      "weighted avg       0.99      0.99      0.99       135\n",
      "\n",
      "*** Decision tree classifier result ***\n",
      "              precision    recall  f1-score   support\n",
      "\n",
      "           0       0.96      1.00      0.98        25\n",
      "           1       1.00      1.00      1.00        24\n",
      "           2       1.00      1.00      1.00        21\n",
      "           3       1.00      1.00      1.00        24\n",
      "           4       1.00      1.00      1.00        23\n",
      "           5       1.00      0.94      0.97        18\n",
      "\n",
      "    accuracy                           0.99       135\n",
      "   macro avg       0.99      0.99      0.99       135\n",
      "weighted avg       0.99      0.99      0.99       135\n",
      "\n",
      "*** Random forest classifier result ***\n",
      "              precision    recall  f1-score   support\n",
      "\n",
      "           0       0.96      1.00      0.98        25\n",
      "           1       1.00      1.00      1.00        24\n",
      "           2       1.00      1.00      1.00        21\n",
      "           3       1.00      1.00      1.00        24\n",
      "           4       1.00      1.00      1.00        23\n",
      "           5       1.00      0.94      0.97        18\n",
      "\n",
      "    accuracy                           0.99       135\n",
      "   macro avg       0.99      0.99      0.99       135\n",
      "weighted avg       0.99      0.99      0.99       135\n",
      "\n",
      "*** Support vector machine classifier result ***\n",
      "              precision    recall  f1-score   support\n",
      "\n",
      "           0       0.96      1.00      0.98        25\n",
      "           1       1.00      1.00      1.00        24\n",
      "           2       1.00      1.00      1.00        21\n",
      "           3       1.00      1.00      1.00        24\n",
      "           4       1.00      1.00      1.00        23\n",
      "           5       1.00      0.94      0.97        18\n",
      "\n",
      "    accuracy                           0.99       135\n",
      "   macro avg       0.99      0.99      0.99       135\n",
      "weighted avg       0.99      0.99      0.99       135\n",
      "\n",
      "*** Stochastic gradient descent classifier result ***\n",
      "              precision    recall  f1-score   support\n",
      "\n",
      "           0       0.96      1.00      0.98        25\n",
      "           1       1.00      1.00      1.00        24\n",
      "           2       1.00      1.00      1.00        21\n",
      "           3       1.00      1.00      1.00        24\n",
      "           4       1.00      1.00      1.00        23\n",
      "           5       1.00      0.94      0.97        18\n",
      "\n",
      "    accuracy                           0.99       135\n",
      "   macro avg       0.99      0.99      0.99       135\n",
      "weighted avg       0.99      0.99      0.99       135\n",
      "\n",
      "*** Logistic regression classifier result ***\n",
      "              precision    recall  f1-score   support\n",
      "\n",
      "           0       0.96      1.00      0.98        25\n",
      "           1       1.00      1.00      1.00        24\n",
      "           2       1.00      1.00      1.00        21\n",
      "           3       1.00      1.00      1.00        24\n",
      "           4       1.00      1.00      1.00        23\n",
      "           5       1.00      0.94      0.97        18\n",
      "\n",
      "    accuracy                           0.99       135\n",
      "   macro avg       0.99      0.99      0.99       135\n",
      "weighted avg       0.99      0.99      0.99       135\n",
      "\n",
      "*** Multinomial Naive Bayes classifier result ***\n",
      "              precision    recall  f1-score   support\n",
      "\n",
      "           0       0.96      1.00      0.98        25\n",
      "           1       1.00      1.00      1.00        24\n",
      "           2       1.00      1.00      1.00        21\n",
      "           3       1.00      1.00      1.00        24\n",
      "           4       1.00      1.00      1.00        23\n",
      "           5       1.00      0.94      0.97        18\n",
      "\n",
      "    accuracy                           0.99       135\n",
      "   macro avg       0.99      0.99      0.99       135\n",
      "weighted avg       0.99      0.99      0.99       135\n",
      "\n"
     ]
    }
   ],
   "source": [
    "print('*** K-Neighbors classifier result ***')\n",
    "KN_y_pred = KN_classifier.predict(val_modified_VGG16_representations)\n",
    "KN_report = classification_report(y_val, KN_y_pred)\n",
    "print(KN_report)\n",
    "\n",
    "print('*** Decision tree classifier result ***')\n",
    "DT_y_pred = DT_classifier.predict(val_modified_VGG16_representations)\n",
    "DT_report = classification_report(y_val, DT_y_pred)\n",
    "print(DT_report)\n",
    "\n",
    "print('*** Random forest classifier result ***')\n",
    "RF_y_pred = RF_classifier.predict(val_modified_VGG16_representations)\n",
    "RF_report = classification_report(y_val, RF_y_pred)\n",
    "print(RF_report)\n",
    "\n",
    "print('*** Support vector machine classifier result ***')\n",
    "SVM_y_pred = SVM_classifier.predict(val_modified_VGG16_representations)\n",
    "SVM_report = classification_report(y_val, SVM_y_pred)\n",
    "print(SVM_report)\n",
    "\n",
    "print('*** Stochastic gradient descent classifier result ***')\n",
    "SGD_y_pred = SGD_classifier.predict(val_modified_VGG16_representations)\n",
    "SGD_report = classification_report(y_val, SGD_y_pred)\n",
    "print(SGD_report)\n",
    "\n",
    "print('*** Logistic regression classifier result ***')\n",
    "LR_y_pred = LR_classifier.predict(val_modified_VGG16_representations)\n",
    "LR_report = classification_report(y_val, LR_y_pred)\n",
    "print(LR_report)\n",
    "\n",
    "print('*** Multinomial Naive Bayes classifier result ***')\n",
    "MNB_y_pred = MNB_classifier.predict(val_modified_VGG16_representations)\n",
    "MNB_report = classification_report(y_val, LR_y_pred)\n",
    "print(MNB_report)\n"
   ]
  },
  {
   "cell_type": "code",
   "execution_count": 24,
   "id": "1fb97df6",
   "metadata": {},
   "outputs": [
    {
     "name": "stdout",
     "output_type": "stream",
     "text": [
      "*** K-Neighbors classifier confusion matrix ***\n",
      "*** Decision tree classifier confusion matrix ***\n"
     ]
    }
   ],
   "source": [
    "print('*** K-Neighbors classifier confusion matrix ***')\n",
    "KN_cm = confusion_matrix(y_val, KN_y_pred)\n",
    "# KN_disp = ConfusionMatrixDisplay(confusion_matrix=KN_cm, display_labels=KN_classifier.classes_)\n",
    "# KN_disp.plot()\n",
    "# plt.show()\n",
    "\n",
    "print('*** Decision tree classifier confusion matrix ***')\n",
    "DT_cm = confusion_matrix(y_val, DT_y_pred)\n",
    "# DT_disp = ConfusionMatrixDisplay(confusion_matrix=DT_cm, display_labels=DT_classifier.classes_)\n",
    "# DT_disp.plot()\n",
    "# plt.show()\n",
    "\n",
    "RF_cm = confusion_matrix(y_val, RF_y_pred)\n",
    "SVM_cm = confusion_matrix(y_val, SVM_y_pred)\n",
    "SGD_cm = confusion_matrix(y_val, SGD_y_pred)\n",
    "LR_cm = confusion_matrix(y_val, LR_y_pred)\n",
    "MNB_cm = confusion_matrix(y_val, MNB_y_pred)\n"
   ]
  },
  {
   "cell_type": "code",
   "execution_count": 25,
   "id": "5165840f",
   "metadata": {},
   "outputs": [
    {
     "data": {
      "text/plain": [
       "<AxesSubplot:>"
      ]
     },
     "execution_count": 25,
     "metadata": {},
     "output_type": "execute_result"
    },
    {
     "data": {
      "image/png": "[encoded data removed]",
      "text/plain": [
       "<Figure size 432x288 with 15 Axes>"
      ]
     },
     "metadata": {
      "needs_background": "light"
     },
     "output_type": "display_data"
    }
   ],
   "source": [
    "\n",
    "\n",
    "\n",
    "\n",
    "# sns.set(rc = {'figure.figsize':(15,15)})\n",
    "fig, axes = plt.subplots(nrows = 4, ncols = 2)\n",
    "# axes.set(xlabel='x-axis label', ylabel='y-axis label')\n",
    "# plt.figure(figsize=(10,10))\n",
    "sns.heatmap(KN_cm/np.sum(KN_cm), annot=True, fmt='.2%', cmap='Blues', ax = axes[0,0])\n",
    "sns.heatmap(DT_cm/np.sum(DT_cm), annot=True, fmt='.2%', cmap='Blues', ax = axes[0,1])\n",
    "sns.heatmap(RF_cm/np.sum(RF_cm), annot=True, fmt='.2%', cmap='Blues', ax = axes[1,0])\n",
    "sns.heatmap(SVM_cm/np.sum(SVM_cm), annot=True, fmt='.2%', cmap='Blues', ax = axes[1,1])\n",
    "sns.heatmap(SGD_cm/np.sum(SGD_cm), annot=True, fmt='.2%', cmap='Blues', ax = axes[2,0])\n",
    "sns.heatmap(LR_cm/np.sum(LR_cm), annot=True, fmt='.2%', cmap='Blues', ax = axes[2,1])\n",
    "sns.heatmap(MNB_cm/np.sum(MNB_cm), annot=True, fmt='.2%', cmap='Blues', ax = axes[3,0])\n",
    "    \n",
    "# plt.subplot(2,2,1)\n",
    "# plt.figure(figsize = (5, 5))\n",
    "# plt.title('*** K-Neighbors classifier confusion matrix ***')\n",
    "# sns.heatmap(KN_cm/np.sum(KN_cm), annot=True, \n",
    "#             fmt='.2%', cmap='Blues')\n",
    "# plt.xlabel('Predicted label')\n",
    "# plt.ylabel('True label')\n",
    "# plt.show()\n"
   ]
  },
  {
   "cell_type": "code",
   "execution_count": 26,
   "id": "c9b45f84",
   "metadata": {},
   "outputs": [
    {
     "name": "stdout",
     "output_type": "stream",
     "text": [
      "*** K-Neighbors classifier confusion matrix ***\n",
      "[[4 5 3 6 6 2]\n",
      " [4 6 2 3 5 3]\n",
      " [4 3 5 2 3 2]\n",
      " [3 4 4 3 6 3]\n",
      " [5 3 4 4 2 3]\n",
      " [6 3 3 6 1 4]]\n",
      "\n",
      "\n",
      "*** Decision tree classifier confusion matrix ***\n",
      "[[4 5 3 6 6 2]\n",
      " [4 6 2 3 5 3]\n",
      " [4 3 5 2 3 2]\n",
      " [3 4 4 3 6 3]\n",
      " [5 3 4 4 2 3]\n",
      " [6 3 3 6 1 4]]\n",
      "\n",
      "\n",
      "*** Random forest classifier confusion matrix ***\n",
      "[[4 5 3 6 6 2]\n",
      " [4 6 2 3 5 3]\n",
      " [4 3 5 2 3 2]\n",
      " [3 4 4 3 6 3]\n",
      " [5 3 4 4 2 3]\n",
      " [6 3 3 6 1 4]]\n",
      "\n",
      "\n",
      "*** Support vector machine classifier confusion matrix ***\n",
      "[[4 5 3 6 6 2]\n",
      " [4 6 2 3 5 3]\n",
      " [4 3 5 2 3 2]\n",
      " [3 4 4 3 6 3]\n",
      " [5 3 4 4 2 3]\n",
      " [6 3 3 6 1 4]]\n",
      "\n",
      "\n",
      "*** Stochastic gradient descent classifier confusion matrix ***\n",
      "[[4 5 3 6 6 2]\n",
      " [4 6 2 3 5 3]\n",
      " [4 3 5 2 3 2]\n",
      " [3 4 4 3 6 3]\n",
      " [5 3 4 4 2 3]\n",
      " [6 3 3 6 1 4]]\n",
      "\n",
      "\n",
      "*** Logistic regression classifier confusion matrix ***\n",
      "[[4 5 3 6 6 2]\n",
      " [4 6 2 3 5 3]\n",
      " [4 3 5 2 3 2]\n",
      " [3 4 4 3 6 3]\n",
      " [5 3 4 4 2 3]\n",
      " [6 3 3 6 1 4]]\n",
      "\n",
      "\n",
      "*** Multinomial Naive Bayes classifier confusion matrix ***\n",
      "[[4 5 3 6 6 2]\n",
      " [4 6 2 3 5 3]\n",
      " [4 3 5 2 3 2]\n",
      " [3 4 4 3 6 3]\n",
      " [5 3 4 4 2 3]\n",
      " [6 3 3 6 1 4]]\n"
     ]
    }
   ],
   "source": [
    "print('*** K-Neighbors classifier confusion matrix ***')\n",
    "print(confusion_matrix(y_test, KN_y_pred))\n",
    "print('\\n')\n",
    "\n",
    "print('*** Decision tree classifier confusion matrix ***')\n",
    "print(confusion_matrix(y_test, DT_y_pred))\n",
    "print('\\n')\n",
    "\n",
    "print('*** Random forest classifier confusion matrix ***')\n",
    "print(confusion_matrix(y_test, RF_y_pred))\n",
    "print('\\n')\n",
    "\n",
    "print('*** Support vector machine classifier confusion matrix ***')\n",
    "print(confusion_matrix(y_test, SVM_y_pred))\n",
    "print('\\n')\n",
    "\n",
    "print('*** Stochastic gradient descent classifier confusion matrix ***')\n",
    "print(confusion_matrix(y_test, SGD_y_pred))\n",
    "print('\\n')\n",
    "\n",
    "print('*** Logistic regression classifier confusion matrix ***')\n",
    "print(confusion_matrix(y_test, LR_y_pred))\n",
    "print('\\n')\n",
    "\n",
    "print('*** Multinomial Naive Bayes classifier confusion matrix ***')\n",
    "print(confusion_matrix(y_test, MNB_y_pred))"
   ]
  },
  {
   "cell_type": "code",
   "execution_count": 27,
   "id": "e7c2614d",
   "metadata": {},
   "outputs": [
    {
     "data": {
      "text/plain": [
       "30.86760902404785"
      ]
     },
     "execution_count": 27,
     "metadata": {},
     "output_type": "execute_result"
    }
   ],
   "source": [
    "max_train_modified_VGG16_representations = np.max(train_modified_VGG16_representations)\n",
    "max_train_modified_VGG16_representations"
   ]
  },
  {
   "cell_type": "code",
   "execution_count": 28,
   "id": "63694d40",
   "metadata": {},
   "outputs": [
    {
     "data": {
      "text/plain": [
       "0.0"
      ]
     },
     "execution_count": 28,
     "metadata": {},
     "output_type": "execute_result"
    }
   ],
   "source": [
    "min_train_modified_VGG16_representations = np.min(train_modified_VGG16_representations)\n",
    "min_train_modified_VGG16_representations"
   ]
  },
  {
   "cell_type": "code",
   "execution_count": 29,
   "id": "a23da953",
   "metadata": {},
   "outputs": [
    {
     "data": {
      "text/plain": [
       "(630, 1024)"
      ]
     },
     "execution_count": 29,
     "metadata": {},
     "output_type": "execute_result"
    }
   ],
   "source": [
    "train_modified_VGG16_representations.shape"
   ]
  },
  {
   "cell_type": "code",
   "execution_count": 30,
   "id": "4cc9cde5",
   "metadata": {},
   "outputs": [
    {
     "name": "stdout",
     "output_type": "stream",
     "text": [
      "<class 'numpy.ndarray'>\n",
      "(630,)\n",
      "[0 1 2 3 4]\n"
     ]
    }
   ],
   "source": [
    "kmeans_cluster = KMeans(n_clusters = 5)\n",
    "kmeans_cluster.fit(train_modified_VGG16_representations)\n",
    "print(type(kmeans_cluster.labels_))\n",
    "print(np.shape(kmeans_cluster.labels_))\n",
    "print(np.unique(kmeans_cluster.labels_))"
   ]
  },
  {
   "cell_type": "code",
   "execution_count": 31,
   "id": "f41ee3fe",
   "metadata": {},
   "outputs": [
    {
     "data": {
      "image/png": "[encoded data removed]",
      "text/plain": [
       "<Figure size 432x288 with 1 Axes>"
      ]
     },
     "metadata": {
      "needs_background": "light"
     },
     "output_type": "display_data"
    }
   ],
   "source": [
    "# 결과 시각화\n",
    "# n 번째 클러스터 데이터를 어떤 색으로 도식할 지 결정하는 color dictionary\n",
    "color_dict = {0: 'red', 1: 'blue', 2:'green', 3:'brown', 4:'indigo', 5: 'k'}\n",
    "\n",
    "# 점 데이터를 X-Y grid에 시각화합니다.\n",
    "fig = plt.figure()\n",
    "ax = fig.add_subplot(1,1,1)\n",
    "\n",
    "# K-means clustering의 결과대로 색깔별로 구분하여 점에 색칠한 후 도식\n",
    "for cluster in range(5):\n",
    "    # 전체 무작위 점 데이터에서 K-means 알고리즘에 의해 군집화된 sub data를 분리합니다. \n",
    "    cluster_sub_points = train_modified_VGG16_representations[kmeans_cluster.labels_ == cluster]\n",
    "    \n",
    "    # 해당 sub data를 plot합니다.\n",
    "    ax.scatter(cluster_sub_points[:,0], cluster_sub_points[:,1],    # X축 좌표, Y축 좌표\n",
    "              c=color_dict[cluster], label = 'cluster_{}'.format(cluster))\n",
    "    \n",
    "    # 축 이름을 라벨에 달고, 점 데이터 그리기\n",
    "    ax.set_xlabel('X')\n",
    "    ax.set_ylabel('Y')\n",
    "    ax.legend()\n",
    "    ax.grid()"
   ]
  },
  {
   "cell_type": "code",
   "execution_count": 32,
   "id": "96224a5b",
   "metadata": {},
   "outputs": [
    {
     "data": {
      "text/plain": [
       "array([3, 1, 1, 1, 1, 3, 1, 1, 2, 3, 1, 1, 1, 1, 4, 3, 1, 2, 1, 3, 1, 0,\n",
       "       3, 1, 0, 2, 3, 1, 1, 0, 1, 3, 1, 1, 0, 1, 0, 0, 3, 3, 1, 1, 3, 3,\n",
       "       3, 1, 2, 1, 2, 1, 1, 1, 3, 2, 0, 1, 1, 3, 0, 1, 3, 1, 0, 4, 3, 1,\n",
       "       0, 1, 3, 4, 1, 3, 0, 0, 1, 1, 4, 0, 1, 2, 1, 1, 3, 1, 2, 3, 1, 3,\n",
       "       1, 3, 0, 0, 2, 1, 1, 0, 3, 1, 1, 0, 3, 1, 1, 2, 1, 1, 3, 0, 1, 2,\n",
       "       1, 2, 3, 0, 1, 4, 0, 0, 1, 1, 1, 0, 0, 1, 0, 3, 1, 3, 1, 0, 1, 1,\n",
       "       2, 0, 1, 4, 0, 0, 1, 1, 3, 2, 1, 1, 0, 4, 1, 1, 1, 1, 1, 0, 3, 1,\n",
       "       1, 3, 1, 1, 0, 1, 1, 1, 3, 1, 0, 1, 1, 0, 1, 1, 3, 1, 1, 1, 1, 0,\n",
       "       3, 1, 3, 3, 2, 1, 2, 3, 1, 1, 0, 4, 2, 4, 1, 1, 1, 2, 1, 1, 1, 3,\n",
       "       1, 0, 0, 3, 1, 2, 4, 0, 1, 1, 0, 3, 1, 3, 0, 1, 4, 3, 2, 1, 1, 1,\n",
       "       1, 2, 0, 1, 1, 1, 1, 0, 3, 1, 1, 3, 3, 1, 1, 0, 1, 0, 1, 1, 0, 2,\n",
       "       2, 1, 1, 1, 4, 0, 1, 3, 1, 2, 3, 1, 3, 1, 2, 2, 2, 0, 1, 0, 3, 2,\n",
       "       1, 1, 1, 2, 3, 1, 1, 3, 0, 3, 1, 1, 3, 2, 4, 2, 1, 1, 2, 1, 2, 1,\n",
       "       1, 0, 1, 3, 3, 1, 1, 1, 1, 3, 1, 1, 2, 1, 2, 3, 1, 0, 3, 1, 1, 1,\n",
       "       1, 1, 1, 1, 2, 0, 3, 0, 4, 1, 1, 1, 0, 1, 3, 1, 1, 1, 3, 2, 0, 1,\n",
       "       1, 0, 4, 1, 3, 1, 1, 1, 1, 0, 1, 1, 0, 3, 1, 1, 3, 1, 2, 1, 0, 0,\n",
       "       1, 3, 1, 2, 3, 1, 1, 1, 1, 1, 3, 2, 1, 2, 1, 1, 1, 1, 2, 0, 1, 0,\n",
       "       2, 2, 1, 3, 1, 4, 3, 1, 1, 1, 2, 1, 3, 0, 0, 1, 1, 0, 1, 0, 1, 1,\n",
       "       0, 3, 1, 1, 1, 0, 1, 2, 4, 0, 2, 1, 1, 2, 0, 1, 0, 1, 1, 1, 1, 0,\n",
       "       1, 1, 1, 1, 1, 3, 0, 0, 1, 1, 4, 0, 2, 1, 3, 2, 3, 1, 1, 1, 1, 2,\n",
       "       2, 1, 3, 1, 1, 3, 1, 0, 1, 4, 1, 2, 1, 2, 3, 2, 3, 3, 0, 2, 3, 1,\n",
       "       1, 1, 2, 2, 0, 1, 2, 1, 4, 2, 2, 0, 1, 1, 1, 1, 0, 2, 1, 1, 3, 1,\n",
       "       0, 0, 1, 0, 1, 1, 1, 3, 3, 3, 3, 1, 2, 1, 1, 1, 1, 1, 3, 2, 3, 1,\n",
       "       1, 1, 1, 1, 0, 1, 3, 3, 1, 0, 1, 1, 3, 0, 1, 3, 1, 3, 1, 1, 1, 3,\n",
       "       1, 1, 1, 1, 1, 4, 3, 1, 4, 0, 3, 0, 0, 0, 1, 1, 0, 1, 0, 3, 1, 1,\n",
       "       0, 2, 1, 1, 4, 1, 1, 3, 2, 1, 1, 0, 2, 0, 0, 1, 1, 1, 1, 1, 1, 1,\n",
       "       0, 3, 2, 0, 1, 3, 3, 1, 0, 1, 4, 3, 3, 1, 1, 2, 1, 1, 0, 1, 1, 3,\n",
       "       1, 1, 2, 1, 0, 1, 4, 2, 1, 1, 3, 2, 1, 2, 1, 1, 0, 1, 3, 1, 1, 1,\n",
       "       1, 1, 1, 1, 3, 4, 0, 1, 1, 3, 1, 1, 1, 2])"
      ]
     },
     "execution_count": 32,
     "metadata": {},
     "output_type": "execute_result"
    }
   ],
   "source": [
    "kmeans_cluster.labels_"
   ]
  },
  {
   "cell_type": "code",
   "execution_count": 33,
   "id": "38179922",
   "metadata": {},
   "outputs": [
    {
     "data": {
      "text/plain": [
       "array([0.0, 0.0, 0.0, 0.0, 0.0, 0.0, 0.0, 0.0, 0.0, 0.0, 0.0, 0.0, 0.0,\n",
       "       0.0, 0.0, 0.0, 0.0, 0.0, 0.0, 0.0, 0.0, 0.0, 0.0, 0.0, 0.0, 0.0],\n",
       "      dtype=object)"
      ]
     },
     "execution_count": 33,
     "metadata": {},
     "output_type": "execute_result"
    }
   ],
   "source": [
    "cluster_sub_points[:,1]"
   ]
  },
  {
   "cell_type": "code",
   "execution_count": 34,
   "id": "c4f9726d",
   "metadata": {},
   "outputs": [
    {
     "data": {
      "image/png": "[encoded data removed]",
      "text/plain": [
       "<Figure size 432x288 with 1 Axes>"
      ]
     },
     "metadata": {
      "needs_background": "light"
     },
     "output_type": "display_data"
    }
   ],
   "source": [
    "from sklearn.datasets import make_circles\n",
    "\n",
    "# 원형 분포데이터\n",
    "# 원형 분포를 가지는 점 데이터 100개를 생성합니다.\n",
    "circle_points, circle_labels = make_circles(n_samples = 100,\n",
    "                                           factor = 0.5, noise = 0.01)\n",
    "\n",
    "# 캔버스 생성\n",
    "fig = plt.figure()\n",
    "ax = fig.add_subplot(1,1,1)\n",
    "\n",
    "# 원형 분포에 대해 K-menas 수행\n",
    "circle_kmeans = KMeans(n_clusters = 2)\n",
    "circle_kmeans.fit(circle_points)\n",
    "color_dict = {0:'red', 1:'blue'}\n",
    "for cluster in range(2):\n",
    "    cluster_sub_points = circle_points[circle_kmeans.labels_ == cluster]\n",
    "    ax.scatter(cluster_sub_points[:, 0], cluster_sub_points[:, 1],\n",
    "              c = color_dict[cluster], label = 'cluster_{}'.format(cluster))\n",
    "ax.set_title('K-means on circle data, K=2')\n",
    "ax.set_xlabel('X')\n",
    "ax.set_ylabel('Y')\n",
    "ax.legend()\n",
    "ax.grid()"
   ]
  },
  {
   "cell_type": "code",
   "execution_count": 35,
   "id": "5b873003",
   "metadata": {},
   "outputs": [
    {
     "name": "stderr",
     "output_type": "stream",
     "text": [
      "No handles with labels found to put in legend.\n"
     ]
    },
    {
     "name": "stdout",
     "output_type": "stream",
     "text": [
      "# of cluster: 30\n",
      "DBSCAN Y-hat: [22  0  1  2  0 -1 20 -1 -1 -1 -1  2 18 -1 -1 -1  2 -1 -1 -1 -1 -1 -1  2\n",
      " -1 -1 -1  3  2 -1 -1 -1  4  5 -1  6 -1 -1 -1 -1 19  2 -1 -1 -1  7 -1  8\n",
      " -1  2  2  9 -1 -1 -1  2  2 -1 10 -1 -1  2 24 -1 -1 -1 -1 11 -1 -1 -1 -1\n",
      " -1 -1 -1  2 -1 -1 20 -1  9  9 -1  5 -1 -1 12 -1  2 -1 -1 -1 -1 -1 -1 29\n",
      " -1 -1 11 -1 -1 12 -1 -1  2 -1 -1 -1 -1 -1  0 -1 -1 -1  9 -1 -1 -1  7  2\n",
      "  2 10 -1  2 10 -1  2 -1 -1 -1  2 13 -1 -1  2 -1 -1 -1  5 14 -1 -1 15 -1\n",
      " -1 -1  5  2 13  5 13 -1 -1  3 16 -1  6 14 -1  2  2  6 -1  5 -1  8 -1 -1\n",
      "  1  5 -1  8  5  2 -1 -1 -1  2 -1 -1 -1 17 -1 -1  2  7 -1 -1 -1 -1 28 13\n",
      " -1 -1 -1  5 -1 -1 -1 -1 27 -1 -1 -1 -1 -1 25  2 -1 -1 -1 -1 -1  2 -1 -1\n",
      " -1 18  2 -1 19 -1 -1 -1  3 -1 -1 -1 -1 13  2 -1 -1  0  0 -1  5 -1  0 -1\n",
      " -1 -1 -1 20  2 13 -1 -1 -1 -1 19 -1 -1 -1 -1  9 -1 -1 -1 -1 11 -1 -1 -1\n",
      " 13  2 20 -1 -1  5 -1 -1 -1 -1 13  2 -1 -1 -1 -1  4 18 -1  2 -1  5 21 29\n",
      " 18 -1 22  2  5 17  5 -1 23 21 -1 -1 -1 -1  0 -1 -1  9  2 21  2 -1  2  3\n",
      " -1 -1 -1 -1 -1 -1  9 20 -1 -1 -1  8  1 12 -1 -1 -1 28 26 -1 -1 19 -1  2\n",
      "  2 -1 13 -1  0  5 -1 -1 14 -1 -1  5 -1 -1 -1 -1  9 -1 -1 -1 -1  2  2  4\n",
      " 14 -1 -1 -1  2 -1 16  2 -1  2 -1 24 20 -1 -1 -1  0 -1  5 -1 -1 25 25  2\n",
      " -1  2 -1 -1 -1 -1  2 -1  6 -1 -1 15 -1 -1 25 -1  0 -1 -1 -1 -1 -1 -1 -1\n",
      "  2 -1 -1  5 -1  2 20 -1 26 -1 18  5  7 -1  9 -1 -1 -1  6 13 -1 -1 -1  2\n",
      " -1 -1 -1  2  5 -1 -1 -1 -1 -1 -1  2 -1 -1 15 -1 13 -1 -1 -1 -1 -1 -1 -1\n",
      " -1 -1 24 -1 -1 -1 -1 -1 -1 -1 27 15 -1 -1 -1 -1 -1 -1 -1 -1 17 -1 -1 -1\n",
      "  7  2 -1  5 -1 -1 -1 -1 -1 26  4 -1 -1 -1 -1 13 -1 23  5 16 -1  3 -1 -1\n",
      " -1  2  2 -1  2  2 -1  5 -1 -1 19 -1  5  4 -1 -1 -1 -1 -1 -1 20 -1 -1 -1\n",
      "  5 23  2  5 -1 -1 -1  9 -1 27 -1 -1 -1 -1  2 28 -1 -1 -1 -1 -1 15 -1 -1\n",
      " -1  2 -1  2 26 -1 -1  2  5 -1 -1 -1 -1 -1 -1 12 18 -1 15 -1 -1 -1 -1 -1\n",
      " 18 -1 -1 -1 -1 -1 -1 -1 22 -1  5 -1 -1 19 -1 18 -1 -1  2  2 -1 -1 -1 13\n",
      " -1 -1  7 -1 -1 -1  5 -1 13  5 29 -1 -1 -1  2 -1  2 -1  2 18 -1 -1 27  0\n",
      "  7 -1  5 -1 -1 -1]\n"
     ]
    },
    {
     "data": {
      "image/png": "[encoded data removed]",
      "text/plain": [
       "<Figure size 432x288 with 1 Axes>"
      ]
     },
     "metadata": {
      "needs_background": "light"
     },
     "output_type": "display_data"
    }
   ],
   "source": [
    "# DBSCAN으로 circle, moon, diagonal shaped data를 군집화한 결과\n",
    "from sklearn.cluster import DBSCAN\n",
    "\n",
    "fig = plt.figure()\n",
    "ax = fig.add_subplot(1,1,1)\n",
    "# n 번째 클러스터 데이터를 어떤 색으로 도식할 지 결정하는 color dictionary\n",
    "color_dict = {0: 'red', 1: 'blue', 2: 'green', 3:'brown',4:'purple', 5:'k'} \n",
    "\n",
    "# 원형 분포 데이터 plot\n",
    "epsilon, minPts = 0.2, 3   # 2)와 3) 과정에서 사용할 epsilon, minPts 값을 설정\n",
    "circle_dbscan = DBSCAN(eps = epsilon, min_samples = minPts)   # 위에서 생성한 원형 분포 데이터에 DBSCAN setting\n",
    "# circle_dbscan.fit(circle_points)    # 3) ~ 5) 과정을 반복\n",
    "circle_dbscan.fit(train_modified_VGG16_representations) \n",
    "n_cluster = max(circle_dbscan.labels_)+1       # 3) ~5) 과정의 반복으로 클러스터의 수 도출\n",
    "# n_cluster = max(circle_dbscan.labels_)+1       # 3) ~5) 과정의 반복으로 클러스터의 수 도출\n",
    "\n",
    "print(f'# of cluster: {n_cluster}')\n",
    "print(f'DBSCAN Y-hat: {circle_dbscan.labels_}')\n",
    "\n",
    "# DBSCAN 알고리즘의 수행결과로 도출된 클러스터의 수를 기반으로 색깔별로 구분하여 점에 색칠한 후 도식\n",
    "for cluster in range(6):\n",
    "# for cluster in range(n_cluster):\n",
    "    cluster_sub_points = train_modified_VGG16_representations[circle_dbscan.labels_ == cluster]\n",
    "    ax.scatter(cluster_sub_points[:, 0], cluster_sub_points[:, 1], \n",
    "               c= color_dict[cluster], \n",
    "#                label = 'cluster_{}'.format(cluster)\n",
    "              )\n",
    "\n",
    "ax.set_title('DBSCAN on circle data')\n",
    "ax.set_xlabel('X')\n",
    "ax.set_ylabel('Y')\n",
    "ax.legend()\n",
    "ax.grid()"
   ]
  },
  {
   "cell_type": "code",
   "execution_count": 36,
   "id": "b7e4a620",
   "metadata": {},
   "outputs": [
    {
     "data": {
      "text/plain": [
       "array([22,  0,  1,  2,  0, -1, 20, -1, -1, -1, -1,  2, 18, -1, -1, -1,  2,\n",
       "       -1, -1, -1, -1, -1, -1,  2, -1, -1, -1,  3,  2, -1, -1, -1,  4,  5,\n",
       "       -1,  6, -1, -1, -1, -1, 19,  2, -1, -1, -1,  7, -1,  8, -1,  2,  2,\n",
       "        9, -1, -1, -1,  2,  2, -1, 10, -1, -1,  2, 24, -1, -1, -1, -1, 11,\n",
       "       -1, -1, -1, -1, -1, -1, -1,  2, -1, -1, 20, -1,  9,  9, -1,  5, -1,\n",
       "       -1, 12, -1,  2, -1, -1, -1, -1, -1, -1, 29, -1, -1, 11, -1, -1, 12,\n",
       "       -1, -1,  2, -1, -1, -1, -1, -1,  0, -1, -1, -1,  9, -1, -1, -1,  7,\n",
       "        2,  2, 10, -1,  2, 10, -1,  2, -1, -1, -1,  2, 13, -1, -1,  2, -1,\n",
       "       -1, -1,  5, 14, -1, -1, 15, -1, -1, -1,  5,  2, 13,  5, 13, -1, -1,\n",
       "        3, 16, -1,  6, 14, -1,  2,  2,  6, -1,  5, -1,  8, -1, -1,  1,  5,\n",
       "       -1,  8,  5,  2, -1, -1, -1,  2, -1, -1, -1, 17, -1, -1,  2,  7, -1,\n",
       "       -1, -1, -1, 28, 13, -1, -1, -1,  5, -1, -1, -1, -1, 27, -1, -1, -1,\n",
       "       -1, -1, 25,  2, -1, -1, -1, -1, -1,  2, -1, -1, -1, 18,  2, -1, 19,\n",
       "       -1, -1, -1,  3, -1, -1, -1, -1, 13,  2, -1, -1,  0,  0, -1,  5, -1,\n",
       "        0, -1, -1, -1, -1, 20,  2, 13, -1, -1, -1, -1, 19, -1, -1, -1, -1,\n",
       "        9, -1, -1, -1, -1, 11, -1, -1, -1, 13,  2, 20, -1, -1,  5, -1, -1,\n",
       "       -1, -1, 13,  2, -1, -1, -1, -1,  4, 18, -1,  2, -1,  5, 21, 29, 18,\n",
       "       -1, 22,  2,  5, 17,  5, -1, 23, 21, -1, -1, -1, -1,  0, -1, -1,  9,\n",
       "        2, 21,  2, -1,  2,  3, -1, -1, -1, -1, -1, -1,  9, 20, -1, -1, -1,\n",
       "        8,  1, 12, -1, -1, -1, 28, 26, -1, -1, 19, -1,  2,  2, -1, 13, -1,\n",
       "        0,  5, -1, -1, 14, -1, -1,  5, -1, -1, -1, -1,  9, -1, -1, -1, -1,\n",
       "        2,  2,  4, 14, -1, -1, -1,  2, -1, 16,  2, -1,  2, -1, 24, 20, -1,\n",
       "       -1, -1,  0, -1,  5, -1, -1, 25, 25,  2, -1,  2, -1, -1, -1, -1,  2,\n",
       "       -1,  6, -1, -1, 15, -1, -1, 25, -1,  0, -1, -1, -1, -1, -1, -1, -1,\n",
       "        2, -1, -1,  5, -1,  2, 20, -1, 26, -1, 18,  5,  7, -1,  9, -1, -1,\n",
       "       -1,  6, 13, -1, -1, -1,  2, -1, -1, -1,  2,  5, -1, -1, -1, -1, -1,\n",
       "       -1,  2, -1, -1, 15, -1, 13, -1, -1, -1, -1, -1, -1, -1, -1, -1, 24,\n",
       "       -1, -1, -1, -1, -1, -1, -1, 27, 15, -1, -1, -1, -1, -1, -1, -1, -1,\n",
       "       17, -1, -1, -1,  7,  2, -1,  5, -1, -1, -1, -1, -1, 26,  4, -1, -1,\n",
       "       -1, -1, 13, -1, 23,  5, 16, -1,  3, -1, -1, -1,  2,  2, -1,  2,  2,\n",
       "       -1,  5, -1, -1, 19, -1,  5,  4, -1, -1, -1, -1, -1, -1, 20, -1, -1,\n",
       "       -1,  5, 23,  2,  5, -1, -1, -1,  9, -1, 27, -1, -1, -1, -1,  2, 28,\n",
       "       -1, -1, -1, -1, -1, 15, -1, -1, -1,  2, -1,  2, 26, -1, -1,  2,  5,\n",
       "       -1, -1, -1, -1, -1, -1, 12, 18, -1, 15, -1, -1, -1, -1, -1, 18, -1,\n",
       "       -1, -1, -1, -1, -1, -1, 22, -1,  5, -1, -1, 19, -1, 18, -1, -1,  2,\n",
       "        2, -1, -1, -1, 13, -1, -1,  7, -1, -1, -1,  5, -1, 13,  5, 29, -1,\n",
       "       -1, -1,  2, -1,  2, -1,  2, 18, -1, -1, 27,  0,  7, -1,  5, -1, -1,\n",
       "       -1], dtype=int64)"
      ]
     },
     "execution_count": 36,
     "metadata": {},
     "output_type": "execute_result"
    }
   ],
   "source": [
    "circle_dbscan.labels_"
   ]
  },
  {
   "cell_type": "code",
   "execution_count": 37,
   "id": "f01d9c9e",
   "metadata": {},
   "outputs": [
    {
     "data": {
      "text/plain": [
       "DBSCAN(eps=0.2, min_samples=3)"
      ]
     },
     "execution_count": 37,
     "metadata": {},
     "output_type": "execute_result"
    }
   ],
   "source": [
    "circle_dbscan"
   ]
  },
  {
   "cell_type": "code",
   "execution_count": 38,
   "id": "5dfe6d8f",
   "metadata": {},
   "outputs": [
    {
     "data": {
      "image/png": "[encoded data removed]",
      "text/plain": [
       "<Figure size 432x288 with 1 Axes>"
      ]
     },
     "metadata": {
      "needs_background": "light"
     },
     "output_type": "display_data"
    }
   ],
   "source": [
    "# K-means algorithm이 잘 동작하지 않는 예시 (2) 달 모양 분포\n",
    "from sklearn.datasets import make_moons\n",
    "\n",
    "# 달 모양 분포의 데이터 생성\n",
    "# 달 모양 분포를 가지는 점 데이터 100개를 생성합니다.\n",
    "moon_points, moon_labels = make_moons(n_samples = 100, noise = 0.01)\n",
    "\n",
    "# 캔버스 생성\n",
    "fig = plt.figure()\n",
    "ax = fig.add_subplot(1,1,1)\n",
    "\n",
    "# 달 모양 데이터 plot\n",
    "moon_kmeans = KMeans(n_clusters = 2)\n",
    "moon_kmeans.fit(moon_points)\n",
    "color_dict = {0:'red', 1:'blue'}\n",
    "for cluster in range(2):\n",
    "    cluster_sub_points = moon_points[moon_kmeans.labels_ == cluster]\n",
    "    ax.scatter(cluster_sub_points[:,0], cluster_sub_points[:,1],\n",
    "              c = color_dict[cluster], label = 'cluster_{}'.format(cluster))\n",
    "ax.set_title('K-means on moon-shaped data, K=2')\n",
    "ax.set_xlabel('X')\n",
    "ax.set_ylabel('Y')\n",
    "ax.legend()\n",
    "ax.grid()"
   ]
  },
  {
   "cell_type": "code",
   "execution_count": 39,
   "id": "52450c4d",
   "metadata": {},
   "outputs": [
    {
     "data": {
      "image/png": "[encoded data removed]",
      "text/plain": [
       "<Figure size 432x288 with 1 Axes>"
      ]
     },
     "metadata": {
      "needs_background": "light"
     },
     "output_type": "display_data"
    }
   ],
   "source": [
    "# K-means algorithm이 잘 동작하지 않는 예시 (3) 대각선 모양 분포\n",
    "from sklearn.datasets import make_circles, make_moons, make_blobs\n",
    "\n",
    "# 대각선 모양 분포의 데이터 생성\n",
    "#대각선 분포를 가지는 점 데이터 100개를 생성합니다.(현재는 무작위 분포)\n",
    "diag_points, _ = make_blobs(n_samples = 100, random_state = 170)\n",
    "transformation = [[0.6, -0.6], [-0.4, 0.8]] # 대각선 변환을 위한 대각행렬\n",
    "\n",
    "#본 과정을 통해 무작위 분포의 점 데이터를 대각선 분포로 변환합니다.\n",
    "diag_points = np.dot(diag_points, transformation) \n",
    "\n",
    "# 캔버스 생성\n",
    "fig = plt.figure()\n",
    "ax = fig.add_subplot(1,1,1)\n",
    "\n",
    "# 대각선 모양 분포 데이터 plot\n",
    "diag_kmeans = KMeans(n_clusters = 3)\n",
    "diag_kmeans.fit(diag_points)\n",
    "color_dict = {0: 'red', 1: 'blue', 2: 'green'}\n",
    "for cluster in range(3):\n",
    "    cluster_sub_points = diag_points[diag_kmeans.labels_ == cluster]\n",
    "    ax.scatter(cluster_sub_points[:, 0], cluster_sub_points[:, 1],\n",
    "              c = color_dict[cluster], label = 'cluster_{}'.format(cluster))\n",
    "ax.set_title('K-means on diagonal-shaped data, K=2')\n",
    "ax.set_xlabel('X')\n",
    "ax.set_ylabel('Y')\n",
    "ax.legend()\n",
    "ax.grid()"
   ]
  },
  {
   "cell_type": "code",
   "execution_count": 40,
   "id": "e21e71f4",
   "metadata": {},
   "outputs": [
    {
     "name": "stdout",
     "output_type": "stream",
     "text": [
      "# of cluster: 4\n",
      "DBSCAN Y-hat: [-1  0  0  0 -1  1  1  1  3  0  1  2 -1  2  2  1  1  2  0 -1  0  2  2  2\n",
      "  2  0  3  2  1  0  3  1  2 -1 -1  0  1  1  0  1  0  2  0  1 -1  2  2  1\n",
      "  0  2 -1  0  2  0 -1 -1 -1  0 -1 -1 -1  2  0  1  0  2  0 -1  0  2  1  1\n",
      "  1 -1  1  2  0  1  2  2  1  1  1  2  0  1  2  2 -1  2  0  2  2  1  0  2\n",
      "  1  0  0  1]\n"
     ]
    },
    {
     "data": {
      "image/png": "[encoded data removed]",
      "text/plain": [
       "<Figure size 432x288 with 1 Axes>"
      ]
     },
     "metadata": {
      "needs_background": "light"
     },
     "output_type": "display_data"
    }
   ],
   "source": [
    "# 대각선 모양 분포 데이터 plot - 위와 같은 과정 반복\n",
    "from sklearn.datasets import make_circles, make_moons, make_blobs\n",
    "diag_points, _ = make_blobs(n_samples = 100, random_state = 200)\n",
    "fig = plt.figure()\n",
    "ax = fig.add_subplot(1,1,1)\n",
    "color_dict = {0: 'red', 1: 'blue', 2: 'green', 3:'brown',4:'purple'} # n 번째 클러스터 데이터를 어떤 색으로 도식할 지 결정하는 color dictionary\n",
    "\n",
    "epsilon, minPts = 0.7, 3\n",
    "diag_dbscan = DBSCAN(eps = epsilon, min_samples = minPts)\n",
    "diag_dbscan.fit(diag_points)\n",
    "n_cluster = max(diag_dbscan.labels_)+1\n",
    "\n",
    "print(f'# of cluster: {n_cluster}')\n",
    "print(f'DBSCAN Y-hat: {diag_dbscan.labels_}')\n",
    "\n",
    "for cluster in range(n_cluster):\n",
    "    cluster_sub_points = diag_points[diag_dbscan.labels_ == cluster]\n",
    "    ax.scatter(cluster_sub_points[:, 0], cluster_sub_points[:, 1],\n",
    "               c= color_dict[cluster], label = 'cluster_{}'.format(cluster))\n",
    "ax.set_title('DBSCAN on diagonal shaped data')\n",
    "ax.set_xlabel('X')\n",
    "ax.set_ylabel('Y')\n",
    "ax.legend()\n",
    "ax.grid()\n"
   ]
  },
  {
   "cell_type": "code",
   "execution_count": 41,
   "id": "f46b194d",
   "metadata": {},
   "outputs": [
    {
     "data": {
      "text/plain": [
       "(100, 2)"
      ]
     },
     "execution_count": 41,
     "metadata": {},
     "output_type": "execute_result"
    }
   ],
   "source": [
    "diag_points.shape"
   ]
  },
  {
   "cell_type": "code",
   "execution_count": 42,
   "id": "6831739c",
   "metadata": {},
   "outputs": [],
   "source": [
    "from sklearn.decomposition import PCA\n",
    "color_dict = {0: 'red', 1: 'blue', 2: 'green', 3:'brown',4:'purple', 5:'k'} \n",
    "target_dict = {0: 'malignat_train', 1: 'benign_train', 2: 'malignant_test', 3: 'benign_test',  4: '2ndmalignant_test', 5: '2ndbenign_test'}\n",
    "\n",
    "pca = PCA(n_components =2)\n",
    "pc = pca.fit_transform(train_modified_VGG16_representations)"
   ]
  },
  {
   "cell_type": "code",
   "execution_count": 43,
   "id": "3ac15afb",
   "metadata": {},
   "outputs": [],
   "source": [
    "# pc_test = pca_test.fit_transform(val_modified_VGG16_representations)"
   ]
  },
  {
   "cell_type": "code",
   "execution_count": 44,
   "id": "cc13e742",
   "metadata": {},
   "outputs": [
    {
     "data": {
      "text/plain": [
       "SVC(C=0.8, gamma=0.5)"
      ]
     },
     "execution_count": 44,
     "metadata": {},
     "output_type": "execute_result"
    }
   ],
   "source": [
    "# PCA를 적용한 train data의 classifier 훈련: classfier로 SVM\n",
    "# 여기서는 classifier로 SVM을 사용한다는 정도만 알아둡시다!\n",
    "clf = svm.SVC(kernel = 'rbf', gamma = 0.5, C = 0.8)\n",
    "clf.fit(pc, y_train) # train data로 classifier 훈련\n",
    "\n",
    "# PCA를 적용하지 않은 original data의 SVM 훈련\n",
    "clf_orig = svm.SVC(kernel='rbf', gamma = 0.5, C = 0.8)  # 여기서는 classifier로 SVM을 사용한다는 정도만 알아둡시다!\n",
    "clf_orig.fit(train_modified_VGG16_representations, y_train)"
   ]
  },
  {
   "cell_type": "code",
   "execution_count": 45,
   "id": "d2e718f4",
   "metadata": {},
   "outputs": [],
   "source": [
    "# # 훈련한 classifier의 decision boundary를 그리는 함수\n",
    "# def plot_decision_boundary(X, clf, ax):\n",
    "#     h = .02 # step size in the mesh\n",
    "    \n",
    "#     #create a mesh to plot in\n",
    "#     x_min, x_max = X[:, 0].min() - 1, X[:, 0].max() + 1\n",
    "#     y_min, y_max = X[:, 1].min() - 1, X[:, 1].max() + 1\n",
    "#     xx, yy = np.meshgrid(np.arange(x_min, x_max, h), np.arange(y_min, y_max, h))\n",
    "#     Z = clf.predict(np.c_[xx.ravel(), yy.ravel()])\n",
    "#     Z = Z.reshape(xx.shape)\n",
    "#     ax.contour(xx, yy, Z, cmap = 'Blues')\n",
    "# # 캔버스 도식\n",
    "# fig = plt.figure()\n",
    "# ax = fig.add_subplot(1,1,1)\n",
    "\n",
    "# # malignant와 benign의 SVM decision boundary 그리기\n",
    "# plot_decision_boundary(pc, clf, ax)"
   ]
  },
  {
   "cell_type": "code",
   "execution_count": 46,
   "id": "70405ed8",
   "metadata": {},
   "outputs": [],
   "source": [
    "# # Train data 도식\n",
    "# for cluster in range(2):\n",
    "#     sub_cancer_points = pc[y_train ==cluster]\n",
    "#     ax.scatter(sub_cancer_points[:,0], sub_cancer_points[:,1],\n",
    "#               edgecolor = color_dict[cluster], c = 'none',\n",
    "#               label = target_dict[cluster])\n",
    "# # Test data 도식\n",
    "# for cluster in range(2):\n",
    "#     sub_cancer_points = pc_test[y_test ==cluster]\n",
    "#     ax.scatter(sub_cancer_points[:,0], sub_cancer_points[:,1],\n",
    "#               marker = 'x', c = color_dict[cluster+2],\n",
    "#               label = target_dict[cluster+2])\n",
    "\n",
    "# ax.set_xlabel('PC1')\n",
    "# ax.set_ylabel('PC2')\n",
    "# ax.set_title('PCA-Breast cancer dataset')\n",
    "# ax.legend()\n",
    "# ax.grid()"
   ]
  },
  {
   "cell_type": "markdown",
   "id": "1e2624ad",
   "metadata": {},
   "source": [
    "### PCA"
   ]
  },
  {
   "cell_type": "code",
   "execution_count": 48,
   "id": "d5fe1ea7",
   "metadata": {},
   "outputs": [
    {
     "data": {
      "text/plain": [
       "1024"
      ]
     },
     "execution_count": 48,
     "metadata": {},
     "output_type": "execute_result"
    }
   ],
   "source": [
    "n_image = train_modified_VGG16_representations.shape[0]\n",
    "n_image_pixel = train_modified_VGG16_representations.shape[1]\n",
    "\n",
    "#  픽셀정보가 있는 칼럼의 이름을 담은 목록\n",
    "pixel_columns = [ f\"pixel{i}\" for i in range(1, n_image_pixel +1)]\n",
    "len(pixel_columns)"
   ]
  },
  {
   "cell_type": "code",
   "execution_count": 49,
   "id": "183d1962",
   "metadata": {},
   "outputs": [
    {
     "name": "stdout",
     "output_type": "stream",
     "text": [
      "df_subset의 shape: (630, 1024)\n"
     ]
    },
    {
     "ename": "IndexError",
     "evalue": "only integers, slices (`:`), ellipsis (`...`), numpy.newaxis (`None`) and integer or boolean arrays are valid indices",
     "output_type": "error",
     "traceback": [
      "\u001b[1;31m---------------------------------------------------------------------------\u001b[0m",
      "\u001b[1;31mIndexError\u001b[0m                                Traceback (most recent call last)",
      "\u001b[1;32m~\\AppData\\Local\\Temp/ipykernel_9780/1906309617.py\u001b[0m in \u001b[0;36m<module>\u001b[1;34m\u001b[0m\n\u001b[0;32m      6\u001b[0m \u001b[0mpca\u001b[0m \u001b[1;33m=\u001b[0m \u001b[0mPCA\u001b[0m\u001b[1;33m(\u001b[0m\u001b[0mn_components\u001b[0m \u001b[1;33m=\u001b[0m \u001b[0mn_dimension\u001b[0m\u001b[1;33m)\u001b[0m\u001b[1;33m\u001b[0m\u001b[1;33m\u001b[0m\u001b[0m\n\u001b[0;32m      7\u001b[0m \u001b[1;33m\u001b[0m\u001b[0m\n\u001b[1;32m----> 8\u001b[1;33m \u001b[0mpca_result\u001b[0m \u001b[1;33m=\u001b[0m \u001b[0mpca\u001b[0m\u001b[1;33m.\u001b[0m\u001b[0mfit_transform\u001b[0m\u001b[1;33m(\u001b[0m\u001b[0mtrain_modified_VGG16_representations\u001b[0m\u001b[1;33m[\u001b[0m\u001b[0mpixel_columns\u001b[0m\u001b[1;33m]\u001b[0m\u001b[1;33m.\u001b[0m\u001b[0mvalues\u001b[0m\u001b[1;33m)\u001b[0m\u001b[1;31m# 차원을 축소한 결과\u001b[0m\u001b[1;33m\u001b[0m\u001b[1;33m\u001b[0m\u001b[0m\n\u001b[0m\u001b[0;32m      9\u001b[0m \u001b[0mtrain_modified_VGG16_representations\u001b[0m\u001b[1;33m[\u001b[0m\u001b[1;34m'pca-one'\u001b[0m\u001b[1;33m]\u001b[0m \u001b[1;33m=\u001b[0m \u001b[0mpca_result\u001b[0m\u001b[1;33m[\u001b[0m\u001b[1;33m:\u001b[0m\u001b[1;33m,\u001b[0m\u001b[1;36m0\u001b[0m\u001b[1;33m]\u001b[0m   \u001b[1;31m# 축소한 결과의 첫 번째 차원 값\u001b[0m\u001b[1;33m\u001b[0m\u001b[1;33m\u001b[0m\u001b[0m\n\u001b[0;32m     10\u001b[0m \u001b[0mtrain_modified_VGG16_representations\u001b[0m\u001b[1;33m[\u001b[0m\u001b[1;34m'pca-two'\u001b[0m\u001b[1;33m]\u001b[0m \u001b[1;33m=\u001b[0m \u001b[0mpca_result\u001b[0m\u001b[1;33m[\u001b[0m\u001b[1;33m:\u001b[0m\u001b[1;33m,\u001b[0m\u001b[1;36m1\u001b[0m\u001b[1;33m]\u001b[0m   \u001b[1;31m# 축소한 결과의 두 번째 차원 값\u001b[0m\u001b[1;33m\u001b[0m\u001b[1;33m\u001b[0m\u001b[0m\n",
      "\u001b[1;31mIndexError\u001b[0m: only integers, slices (`:`), ellipsis (`...`), numpy.newaxis (`None`) and integer or boolean arrays are valid indices"
     ]
    }
   ],
   "source": [
    "from sklearn.decomposition import PCA\n",
    "\n",
    "print('df_subset의 shape: {}'.format(train_modified_VGG16_representations.shape))\n",
    "\n",
    "n_dimension = 2 # 축소시킬 목표 차원의 수\n",
    "pca = PCA(n_components = n_dimension)\n",
    "\n",
    "pca_result = pca.fit_transform(train_modified_VGG16_representations[pixel_columns].values)# 차원을 축소한 결과\n",
    "train_modified_VGG16_representations['pca-one'] = pca_result[:,0]   # 축소한 결과의 첫 번째 차원 값\n",
    "train_modified_VGG16_representations['pca-two'] = pca_result[:,1]   # 축소한 결과의 두 번째 차원 값\n",
    "\n",
    "print('pca_result의 shape: {}'.format(pca_result.shape))"
   ]
  },
  {
   "cell_type": "code",
   "execution_count": null,
   "id": "cfd75b60",
   "metadata": {},
   "outputs": [],
   "source": [
    "# 784차원을 2차원으로 차원축소 하였을 때, 정보량이 전체의 16.9%가 남게 됩니다.\n",
    "print(f\"pca-1: {round(pca.explained_variance_ratio_[0], 3)* 100}%\")\n",
    "print(f\"pca-2: {round(pca.explained_variance_ratio_[1], 3)* 100}%\")"
   ]
  },
  {
   "cell_type": "code",
   "execution_count": null,
   "id": "a4604beb",
   "metadata": {},
   "outputs": [],
   "source": [
    "plt.figure(figsize=(10,6))\n",
    "# 2개의 PC축만 남은 데이터프레임 df_subset 을 시각화해 보자.\n",
    "sns.scatterplot(x=\"pca-one\", y = \"pca-two\", hue = \"y\",\n",
    "               palette = sns.color_palette(\"hls\", 10), data=train_modified_VGG16_representations,\n",
    "                legend = \"full\", alpha = 0.4)"
   ]
  },
  {
   "cell_type": "markdown",
   "id": "1c568c93",
   "metadata": {},
   "source": [
    "### TSNE"
   ]
  },
  {
   "cell_type": "code",
   "execution_count": 50,
   "id": "7d01520f",
   "metadata": {},
   "outputs": [
    {
     "data": {
      "text/plain": [
       "1024"
      ]
     },
     "execution_count": 50,
     "metadata": {},
     "output_type": "execute_result"
    }
   ],
   "source": [
    "n_image = train_modified_VGG16_representations.shape[0]\n",
    "n_image_pixel = train_modified_VGG16_representations.shape[1]\n",
    "\n",
    "#  픽셀정보가 있는 칼럼의 이름을 담은 목록\n",
    "pixel_columns = [ f\"pixel{i}\" for i in range(1, n_image_pixel +1)]\n",
    "len(pixel_columns)"
   ]
  },
  {
   "cell_type": "code",
   "execution_count": 53,
   "id": "35cd37c1",
   "metadata": {},
   "outputs": [
    {
     "ename": "ValueError",
     "evalue": "cannot reindex from a duplicate axis",
     "output_type": "error",
     "traceback": [
      "\u001b[1;31m---------------------------------------------------------------------------\u001b[0m",
      "\u001b[1;31mValueError\u001b[0m                                Traceback (most recent call last)",
      "\u001b[1;32m~\\AppData\\Local\\Temp/ipykernel_9780/2982821784.py\u001b[0m in \u001b[0;36m<module>\u001b[1;34m\u001b[0m\n\u001b[0;32m      1\u001b[0m \u001b[0mdf\u001b[0m \u001b[1;33m=\u001b[0m \u001b[0mpd\u001b[0m\u001b[1;33m.\u001b[0m\u001b[0mDataFrame\u001b[0m\u001b[1;33m(\u001b[0m\u001b[0mtrain_modified_VGG16_representations\u001b[0m\u001b[1;33m,\u001b[0m \u001b[0mcolumns\u001b[0m \u001b[1;33m=\u001b[0m \u001b[0mpixel_columns\u001b[0m\u001b[1;33m)\u001b[0m\u001b[1;33m\u001b[0m\u001b[1;33m\u001b[0m\u001b[0m\n\u001b[1;32m----> 2\u001b[1;33m \u001b[0mdf\u001b[0m\u001b[1;33m[\u001b[0m\u001b[1;34m'y'\u001b[0m\u001b[1;33m]\u001b[0m \u001b[1;33m=\u001b[0m \u001b[0my_train\u001b[0m\u001b[1;33m\u001b[0m\u001b[1;33m\u001b[0m\u001b[0m\n\u001b[0m\u001b[0;32m      3\u001b[0m \u001b[1;31m# 숫자 라벨을 스트링으로 만드는 함수를 파이썬 람다 문법으로 전체 데이터에 적용합니다.\u001b[0m\u001b[1;33m\u001b[0m\u001b[1;33m\u001b[0m\u001b[0m\n\u001b[0;32m      4\u001b[0m \u001b[0mdf\u001b[0m\u001b[1;33m[\u001b[0m\u001b[1;34m'y'\u001b[0m\u001b[1;33m]\u001b[0m \u001b[1;33m=\u001b[0m \u001b[0mdf\u001b[0m\u001b[1;33m[\u001b[0m\u001b[1;34m'y'\u001b[0m\u001b[1;33m]\u001b[0m\u001b[1;33m.\u001b[0m\u001b[0mapply\u001b[0m\u001b[1;33m(\u001b[0m\u001b[1;32mlambda\u001b[0m \u001b[0mi\u001b[0m\u001b[1;33m:\u001b[0m \u001b[0mstr\u001b[0m\u001b[1;33m(\u001b[0m\u001b[0mi\u001b[0m\u001b[1;33m)\u001b[0m\u001b[1;33m)\u001b[0m\u001b[1;33m\u001b[0m\u001b[1;33m\u001b[0m\u001b[0m\n",
      "\u001b[1;32mC:\\ProgramData\\Anaconda3\\lib\\site-packages\\pandas\\core\\frame.py\u001b[0m in \u001b[0;36m__setitem__\u001b[1;34m(self, key, value)\u001b[0m\n\u001b[0;32m   3610\u001b[0m         \u001b[1;32melse\u001b[0m\u001b[1;33m:\u001b[0m\u001b[1;33m\u001b[0m\u001b[1;33m\u001b[0m\u001b[0m\n\u001b[0;32m   3611\u001b[0m             \u001b[1;31m# set column\u001b[0m\u001b[1;33m\u001b[0m\u001b[1;33m\u001b[0m\u001b[0m\n\u001b[1;32m-> 3612\u001b[1;33m             \u001b[0mself\u001b[0m\u001b[1;33m.\u001b[0m\u001b[0m_set_item\u001b[0m\u001b[1;33m(\u001b[0m\u001b[0mkey\u001b[0m\u001b[1;33m,\u001b[0m \u001b[0mvalue\u001b[0m\u001b[1;33m)\u001b[0m\u001b[1;33m\u001b[0m\u001b[1;33m\u001b[0m\u001b[0m\n\u001b[0m\u001b[0;32m   3613\u001b[0m \u001b[1;33m\u001b[0m\u001b[0m\n\u001b[0;32m   3614\u001b[0m     \u001b[1;32mdef\u001b[0m \u001b[0m_setitem_slice\u001b[0m\u001b[1;33m(\u001b[0m\u001b[0mself\u001b[0m\u001b[1;33m,\u001b[0m \u001b[0mkey\u001b[0m\u001b[1;33m:\u001b[0m \u001b[0mslice\u001b[0m\u001b[1;33m,\u001b[0m \u001b[0mvalue\u001b[0m\u001b[1;33m)\u001b[0m\u001b[1;33m:\u001b[0m\u001b[1;33m\u001b[0m\u001b[1;33m\u001b[0m\u001b[0m\n",
      "\u001b[1;32mC:\\ProgramData\\Anaconda3\\lib\\site-packages\\pandas\\core\\frame.py\u001b[0m in \u001b[0;36m_set_item\u001b[1;34m(self, key, value)\u001b[0m\n\u001b[0;32m   3782\u001b[0m         \u001b[0mensure\u001b[0m \u001b[0mhomogeneity\u001b[0m\u001b[1;33m.\u001b[0m\u001b[1;33m\u001b[0m\u001b[1;33m\u001b[0m\u001b[0m\n\u001b[0;32m   3783\u001b[0m         \"\"\"\n\u001b[1;32m-> 3784\u001b[1;33m         \u001b[0mvalue\u001b[0m \u001b[1;33m=\u001b[0m \u001b[0mself\u001b[0m\u001b[1;33m.\u001b[0m\u001b[0m_sanitize_column\u001b[0m\u001b[1;33m(\u001b[0m\u001b[0mvalue\u001b[0m\u001b[1;33m)\u001b[0m\u001b[1;33m\u001b[0m\u001b[1;33m\u001b[0m\u001b[0m\n\u001b[0m\u001b[0;32m   3785\u001b[0m \u001b[1;33m\u001b[0m\u001b[0m\n\u001b[0;32m   3786\u001b[0m         if (\n",
      "\u001b[1;32mC:\\ProgramData\\Anaconda3\\lib\\site-packages\\pandas\\core\\frame.py\u001b[0m in \u001b[0;36m_sanitize_column\u001b[1;34m(self, value)\u001b[0m\n\u001b[0;32m   4504\u001b[0m         \u001b[1;31m# We should never get here with DataFrame value\u001b[0m\u001b[1;33m\u001b[0m\u001b[1;33m\u001b[0m\u001b[0m\n\u001b[0;32m   4505\u001b[0m         \u001b[1;32mif\u001b[0m \u001b[0misinstance\u001b[0m\u001b[1;33m(\u001b[0m\u001b[0mvalue\u001b[0m\u001b[1;33m,\u001b[0m \u001b[0mSeries\u001b[0m\u001b[1;33m)\u001b[0m\u001b[1;33m:\u001b[0m\u001b[1;33m\u001b[0m\u001b[1;33m\u001b[0m\u001b[0m\n\u001b[1;32m-> 4506\u001b[1;33m             \u001b[1;32mreturn\u001b[0m \u001b[0m_reindex_for_setitem\u001b[0m\u001b[1;33m(\u001b[0m\u001b[0mvalue\u001b[0m\u001b[1;33m,\u001b[0m \u001b[0mself\u001b[0m\u001b[1;33m.\u001b[0m\u001b[0mindex\u001b[0m\u001b[1;33m)\u001b[0m\u001b[1;33m\u001b[0m\u001b[1;33m\u001b[0m\u001b[0m\n\u001b[0m\u001b[0;32m   4507\u001b[0m \u001b[1;33m\u001b[0m\u001b[0m\n\u001b[0;32m   4508\u001b[0m         \u001b[1;32mif\u001b[0m \u001b[0mis_list_like\u001b[0m\u001b[1;33m(\u001b[0m\u001b[0mvalue\u001b[0m\u001b[1;33m)\u001b[0m\u001b[1;33m:\u001b[0m\u001b[1;33m\u001b[0m\u001b[1;33m\u001b[0m\u001b[0m\n",
      "\u001b[1;32mC:\\ProgramData\\Anaconda3\\lib\\site-packages\\pandas\\core\\frame.py\u001b[0m in \u001b[0;36m_reindex_for_setitem\u001b[1;34m(value, index)\u001b[0m\n\u001b[0;32m  10779\u001b[0m         \u001b[1;32mif\u001b[0m \u001b[1;32mnot\u001b[0m \u001b[0mvalue\u001b[0m\u001b[1;33m.\u001b[0m\u001b[0mindex\u001b[0m\u001b[1;33m.\u001b[0m\u001b[0mis_unique\u001b[0m\u001b[1;33m:\u001b[0m\u001b[1;33m\u001b[0m\u001b[1;33m\u001b[0m\u001b[0m\n\u001b[0;32m  10780\u001b[0m             \u001b[1;31m# duplicate axis\u001b[0m\u001b[1;33m\u001b[0m\u001b[1;33m\u001b[0m\u001b[0m\n\u001b[1;32m> 10781\u001b[1;33m             \u001b[1;32mraise\u001b[0m \u001b[0merr\u001b[0m\u001b[1;33m\u001b[0m\u001b[1;33m\u001b[0m\u001b[0m\n\u001b[0m\u001b[0;32m  10782\u001b[0m \u001b[1;33m\u001b[0m\u001b[0m\n\u001b[0;32m  10783\u001b[0m         raise TypeError(\n",
      "\u001b[1;32mC:\\ProgramData\\Anaconda3\\lib\\site-packages\\pandas\\core\\frame.py\u001b[0m in \u001b[0;36m_reindex_for_setitem\u001b[1;34m(value, index)\u001b[0m\n\u001b[0;32m  10774\u001b[0m     \u001b[1;31m# GH#4107\u001b[0m\u001b[1;33m\u001b[0m\u001b[1;33m\u001b[0m\u001b[0m\n\u001b[0;32m  10775\u001b[0m     \u001b[1;32mtry\u001b[0m\u001b[1;33m:\u001b[0m\u001b[1;33m\u001b[0m\u001b[1;33m\u001b[0m\u001b[0m\n\u001b[1;32m> 10776\u001b[1;33m         \u001b[0mreindexed_value\u001b[0m \u001b[1;33m=\u001b[0m \u001b[0mvalue\u001b[0m\u001b[1;33m.\u001b[0m\u001b[0mreindex\u001b[0m\u001b[1;33m(\u001b[0m\u001b[0mindex\u001b[0m\u001b[1;33m)\u001b[0m\u001b[1;33m.\u001b[0m\u001b[0m_values\u001b[0m\u001b[1;33m\u001b[0m\u001b[1;33m\u001b[0m\u001b[0m\n\u001b[0m\u001b[0;32m  10777\u001b[0m     \u001b[1;32mexcept\u001b[0m \u001b[0mValueError\u001b[0m \u001b[1;32mas\u001b[0m \u001b[0merr\u001b[0m\u001b[1;33m:\u001b[0m\u001b[1;33m\u001b[0m\u001b[1;33m\u001b[0m\u001b[0m\n\u001b[0;32m  10778\u001b[0m         \u001b[1;31m# raised in MultiIndex.from_tuples, see test_insert_error_msmgs\u001b[0m\u001b[1;33m\u001b[0m\u001b[1;33m\u001b[0m\u001b[0m\n",
      "\u001b[1;32mC:\\ProgramData\\Anaconda3\\lib\\site-packages\\pandas\\core\\series.py\u001b[0m in \u001b[0;36mreindex\u001b[1;34m(self, index, **kwargs)\u001b[0m\n\u001b[0;32m   4578\u001b[0m     )\n\u001b[0;32m   4579\u001b[0m     \u001b[1;32mdef\u001b[0m \u001b[0mreindex\u001b[0m\u001b[1;33m(\u001b[0m\u001b[0mself\u001b[0m\u001b[1;33m,\u001b[0m \u001b[0mindex\u001b[0m\u001b[1;33m=\u001b[0m\u001b[1;32mNone\u001b[0m\u001b[1;33m,\u001b[0m \u001b[1;33m**\u001b[0m\u001b[0mkwargs\u001b[0m\u001b[1;33m)\u001b[0m\u001b[1;33m:\u001b[0m\u001b[1;33m\u001b[0m\u001b[1;33m\u001b[0m\u001b[0m\n\u001b[1;32m-> 4580\u001b[1;33m         \u001b[1;32mreturn\u001b[0m \u001b[0msuper\u001b[0m\u001b[1;33m(\u001b[0m\u001b[1;33m)\u001b[0m\u001b[1;33m.\u001b[0m\u001b[0mreindex\u001b[0m\u001b[1;33m(\u001b[0m\u001b[0mindex\u001b[0m\u001b[1;33m=\u001b[0m\u001b[0mindex\u001b[0m\u001b[1;33m,\u001b[0m \u001b[1;33m**\u001b[0m\u001b[0mkwargs\u001b[0m\u001b[1;33m)\u001b[0m\u001b[1;33m\u001b[0m\u001b[1;33m\u001b[0m\u001b[0m\n\u001b[0m\u001b[0;32m   4581\u001b[0m \u001b[1;33m\u001b[0m\u001b[0m\n\u001b[0;32m   4582\u001b[0m     \u001b[1;33m@\u001b[0m\u001b[0mdeprecate_nonkeyword_arguments\u001b[0m\u001b[1;33m(\u001b[0m\u001b[0mversion\u001b[0m\u001b[1;33m=\u001b[0m\u001b[1;32mNone\u001b[0m\u001b[1;33m,\u001b[0m \u001b[0mallowed_args\u001b[0m\u001b[1;33m=\u001b[0m\u001b[1;33m[\u001b[0m\u001b[1;34m\"self\"\u001b[0m\u001b[1;33m,\u001b[0m \u001b[1;34m\"labels\"\u001b[0m\u001b[1;33m]\u001b[0m\u001b[1;33m)\u001b[0m\u001b[1;33m\u001b[0m\u001b[1;33m\u001b[0m\u001b[0m\n",
      "\u001b[1;32mC:\\ProgramData\\Anaconda3\\lib\\site-packages\\pandas\\core\\generic.py\u001b[0m in \u001b[0;36mreindex\u001b[1;34m(self, *args, **kwargs)\u001b[0m\n\u001b[0;32m   4816\u001b[0m \u001b[1;33m\u001b[0m\u001b[0m\n\u001b[0;32m   4817\u001b[0m         \u001b[1;31m# perform the reindex on the axes\u001b[0m\u001b[1;33m\u001b[0m\u001b[1;33m\u001b[0m\u001b[0m\n\u001b[1;32m-> 4818\u001b[1;33m         return self._reindex_axes(\n\u001b[0m\u001b[0;32m   4819\u001b[0m             \u001b[0maxes\u001b[0m\u001b[1;33m,\u001b[0m \u001b[0mlevel\u001b[0m\u001b[1;33m,\u001b[0m \u001b[0mlimit\u001b[0m\u001b[1;33m,\u001b[0m \u001b[0mtolerance\u001b[0m\u001b[1;33m,\u001b[0m \u001b[0mmethod\u001b[0m\u001b[1;33m,\u001b[0m \u001b[0mfill_value\u001b[0m\u001b[1;33m,\u001b[0m \u001b[0mcopy\u001b[0m\u001b[1;33m\u001b[0m\u001b[1;33m\u001b[0m\u001b[0m\n\u001b[0;32m   4820\u001b[0m         ).__finalize__(self, method=\"reindex\")\n",
      "\u001b[1;32mC:\\ProgramData\\Anaconda3\\lib\\site-packages\\pandas\\core\\generic.py\u001b[0m in \u001b[0;36m_reindex_axes\u001b[1;34m(self, axes, level, limit, tolerance, method, fill_value, copy)\u001b[0m\n\u001b[0;32m   4837\u001b[0m \u001b[1;33m\u001b[0m\u001b[0m\n\u001b[0;32m   4838\u001b[0m             \u001b[0maxis\u001b[0m \u001b[1;33m=\u001b[0m \u001b[0mself\u001b[0m\u001b[1;33m.\u001b[0m\u001b[0m_get_axis_number\u001b[0m\u001b[1;33m(\u001b[0m\u001b[0ma\u001b[0m\u001b[1;33m)\u001b[0m\u001b[1;33m\u001b[0m\u001b[1;33m\u001b[0m\u001b[0m\n\u001b[1;32m-> 4839\u001b[1;33m             obj = obj._reindex_with_indexers(\n\u001b[0m\u001b[0;32m   4840\u001b[0m                 \u001b[1;33m{\u001b[0m\u001b[0maxis\u001b[0m\u001b[1;33m:\u001b[0m \u001b[1;33m[\u001b[0m\u001b[0mnew_index\u001b[0m\u001b[1;33m,\u001b[0m \u001b[0mindexer\u001b[0m\u001b[1;33m]\u001b[0m\u001b[1;33m}\u001b[0m\u001b[1;33m,\u001b[0m\u001b[1;33m\u001b[0m\u001b[1;33m\u001b[0m\u001b[0m\n\u001b[0;32m   4841\u001b[0m                 \u001b[0mfill_value\u001b[0m\u001b[1;33m=\u001b[0m\u001b[0mfill_value\u001b[0m\u001b[1;33m,\u001b[0m\u001b[1;33m\u001b[0m\u001b[1;33m\u001b[0m\u001b[0m\n",
      "\u001b[1;32mC:\\ProgramData\\Anaconda3\\lib\\site-packages\\pandas\\core\\generic.py\u001b[0m in \u001b[0;36m_reindex_with_indexers\u001b[1;34m(self, reindexers, fill_value, copy, allow_dups)\u001b[0m\n\u001b[0;32m   4881\u001b[0m \u001b[1;33m\u001b[0m\u001b[0m\n\u001b[0;32m   4882\u001b[0m             \u001b[1;31m# TODO: speed up on homogeneous DataFrame objects\u001b[0m\u001b[1;33m\u001b[0m\u001b[1;33m\u001b[0m\u001b[0m\n\u001b[1;32m-> 4883\u001b[1;33m             new_data = new_data.reindex_indexer(\n\u001b[0m\u001b[0;32m   4884\u001b[0m                 \u001b[0mindex\u001b[0m\u001b[1;33m,\u001b[0m\u001b[1;33m\u001b[0m\u001b[1;33m\u001b[0m\u001b[0m\n\u001b[0;32m   4885\u001b[0m                 \u001b[0mindexer\u001b[0m\u001b[1;33m,\u001b[0m\u001b[1;33m\u001b[0m\u001b[1;33m\u001b[0m\u001b[0m\n",
      "\u001b[1;32mC:\\ProgramData\\Anaconda3\\lib\\site-packages\\pandas\\core\\internals\\managers.py\u001b[0m in \u001b[0;36mreindex_indexer\u001b[1;34m(self, new_axis, indexer, axis, fill_value, allow_dups, copy, consolidate, only_slice)\u001b[0m\n\u001b[0;32m    668\u001b[0m         \u001b[1;31m# some axes don't allow reindexing with dups\u001b[0m\u001b[1;33m\u001b[0m\u001b[1;33m\u001b[0m\u001b[0m\n\u001b[0;32m    669\u001b[0m         \u001b[1;32mif\u001b[0m \u001b[1;32mnot\u001b[0m \u001b[0mallow_dups\u001b[0m\u001b[1;33m:\u001b[0m\u001b[1;33m\u001b[0m\u001b[1;33m\u001b[0m\u001b[0m\n\u001b[1;32m--> 670\u001b[1;33m             \u001b[0mself\u001b[0m\u001b[1;33m.\u001b[0m\u001b[0maxes\u001b[0m\u001b[1;33m[\u001b[0m\u001b[0maxis\u001b[0m\u001b[1;33m]\u001b[0m\u001b[1;33m.\u001b[0m\u001b[0m_validate_can_reindex\u001b[0m\u001b[1;33m(\u001b[0m\u001b[0mindexer\u001b[0m\u001b[1;33m)\u001b[0m\u001b[1;33m\u001b[0m\u001b[1;33m\u001b[0m\u001b[0m\n\u001b[0m\u001b[0;32m    671\u001b[0m \u001b[1;33m\u001b[0m\u001b[0m\n\u001b[0;32m    672\u001b[0m         \u001b[1;32mif\u001b[0m \u001b[0maxis\u001b[0m \u001b[1;33m>=\u001b[0m \u001b[0mself\u001b[0m\u001b[1;33m.\u001b[0m\u001b[0mndim\u001b[0m\u001b[1;33m:\u001b[0m\u001b[1;33m\u001b[0m\u001b[1;33m\u001b[0m\u001b[0m\n",
      "\u001b[1;32mC:\\ProgramData\\Anaconda3\\lib\\site-packages\\pandas\\core\\indexes\\base.py\u001b[0m in \u001b[0;36m_validate_can_reindex\u001b[1;34m(self, indexer)\u001b[0m\n\u001b[0;32m   3783\u001b[0m         \u001b[1;31m# trying to reindex on an axis with duplicates\u001b[0m\u001b[1;33m\u001b[0m\u001b[1;33m\u001b[0m\u001b[0m\n\u001b[0;32m   3784\u001b[0m         \u001b[1;32mif\u001b[0m \u001b[1;32mnot\u001b[0m \u001b[0mself\u001b[0m\u001b[1;33m.\u001b[0m\u001b[0m_index_as_unique\u001b[0m \u001b[1;32mand\u001b[0m \u001b[0mlen\u001b[0m\u001b[1;33m(\u001b[0m\u001b[0mindexer\u001b[0m\u001b[1;33m)\u001b[0m\u001b[1;33m:\u001b[0m\u001b[1;33m\u001b[0m\u001b[1;33m\u001b[0m\u001b[0m\n\u001b[1;32m-> 3785\u001b[1;33m             \u001b[1;32mraise\u001b[0m \u001b[0mValueError\u001b[0m\u001b[1;33m(\u001b[0m\u001b[1;34m\"cannot reindex from a duplicate axis\"\u001b[0m\u001b[1;33m)\u001b[0m\u001b[1;33m\u001b[0m\u001b[1;33m\u001b[0m\u001b[0m\n\u001b[0m\u001b[0;32m   3786\u001b[0m \u001b[1;33m\u001b[0m\u001b[0m\n\u001b[0;32m   3787\u001b[0m     def reindex(\n",
      "\u001b[1;31mValueError\u001b[0m: cannot reindex from a duplicate axis"
     ]
    }
   ],
   "source": [
    "df = pd.DataFrame(train_modified_VGG16_representations, columns = pixel_columns)\n",
    "df['y'] = y_train\n",
    "# 숫자 라벨을 스트링으로 만드는 함수를 파이썬 람다 문법으로 전체 데이터에 적용합니다.\n",
    "df['y'] = df['y'].apply(lambda i: str(i))"
   ]
  },
  {
   "cell_type": "code",
   "execution_count": null,
   "id": "3980e578",
   "metadata": {},
   "outputs": [],
   "source": [
    "pixel_columns"
   ]
  },
  {
   "cell_type": "code",
   "execution_count": null,
   "id": "7f079908",
   "metadata": {},
   "outputs": [],
   "source": [
    "\n",
    "print(df.shape)\n",
    "df.head()"
   ]
  },
  {
   "cell_type": "code",
   "execution_count": null,
   "id": "bb294b55",
   "metadata": {},
   "outputs": [],
   "source": [
    "df_y = pd.DataFrame(y_train)\n",
    "df_y.head()"
   ]
  },
  {
   "cell_type": "code",
   "execution_count": null,
   "id": "5ed5a7d8",
   "metadata": {},
   "outputs": [],
   "source": [
    "df.head()"
   ]
  },
  {
   "cell_type": "code",
   "execution_count": null,
   "id": "b5512711",
   "metadata": {},
   "outputs": [],
   "source": [
    "# df_y.reset_index()\n",
    "# index_\n",
    "# for i in range(len(df_y)):\n",
    "# #     df_y.iloc[i].set_index(i)\n",
    "# df_y.iloc[0].reset_index().set_index(0)\n",
    "# df_y.head()"
   ]
  },
  {
   "cell_type": "code",
   "execution_count": null,
   "id": "ff7dbc08",
   "metadata": {},
   "outputs": [],
   "source": [
    "import copy\n",
    "df['y'] = df_y"
   ]
  },
  {
   "cell_type": "code",
   "execution_count": null,
   "id": "c070f8a5",
   "metadata": {},
   "outputs": [],
   "source": [
    "# 숫자 라벨을 스트링으로 만드는 함수를 파이썬 람다 문법으로 전체 데이터에 적용합니다.\n",
    "df['y'] = df['y'].apply(lambda i: str(i))\n",
    "# X, y = None, None"
   ]
  },
  {
   "cell_type": "code",
   "execution_count": 54,
   "id": "7217055f",
   "metadata": {},
   "outputs": [
    {
     "name": "stdout",
     "output_type": "stream",
     "text": [
      "df_subset의 shape: (630, 1024)\n"
     ]
    },
    {
     "ename": "IndexError",
     "evalue": "only integers, slices (`:`), ellipsis (`...`), numpy.newaxis (`None`) and integer or boolean arrays are valid indices",
     "output_type": "error",
     "traceback": [
      "\u001b[1;31m---------------------------------------------------------------------------\u001b[0m",
      "\u001b[1;31mIndexError\u001b[0m                                Traceback (most recent call last)",
      "\u001b[1;32m~\\AppData\\Local\\Temp/ipykernel_9780/3901698264.py\u001b[0m in \u001b[0;36m<module>\u001b[1;34m\u001b[0m\n\u001b[0;32m      3\u001b[0m \u001b[0mprint\u001b[0m\u001b[1;33m(\u001b[0m\u001b[1;34m'df_subset의 shape: {}'\u001b[0m\u001b[1;33m.\u001b[0m\u001b[0mformat\u001b[0m\u001b[1;33m(\u001b[0m\u001b[0mtrain_modified_VGG16_representations\u001b[0m\u001b[1;33m.\u001b[0m\u001b[0mshape\u001b[0m\u001b[1;33m)\u001b[0m\u001b[1;33m)\u001b[0m\u001b[1;33m\u001b[0m\u001b[1;33m\u001b[0m\u001b[0m\n\u001b[0;32m      4\u001b[0m \u001b[1;33m\u001b[0m\u001b[0m\n\u001b[1;32m----> 5\u001b[1;33m \u001b[0mdata_subset\u001b[0m \u001b[1;33m=\u001b[0m \u001b[0mtrain_modified_VGG16_representations\u001b[0m\u001b[1;33m[\u001b[0m\u001b[0mpixel_columns\u001b[0m\u001b[1;33m]\u001b[0m\u001b[1;33m.\u001b[0m\u001b[0mvalues\u001b[0m\u001b[1;33m\u001b[0m\u001b[1;33m\u001b[0m\u001b[0m\n\u001b[0m\u001b[0;32m      6\u001b[0m \u001b[0mn_dimension\u001b[0m \u001b[1;33m=\u001b[0m\u001b[1;36m2\u001b[0m\u001b[1;33m\u001b[0m\u001b[1;33m\u001b[0m\u001b[0m\n\u001b[0;32m      7\u001b[0m \u001b[0mtsne\u001b[0m \u001b[1;33m=\u001b[0m \u001b[0mTSNE\u001b[0m\u001b[1;33m(\u001b[0m\u001b[0mn_components\u001b[0m \u001b[1;33m=\u001b[0m \u001b[0mn_dimension\u001b[0m\u001b[1;33m)\u001b[0m\u001b[1;33m\u001b[0m\u001b[1;33m\u001b[0m\u001b[0m\n",
      "\u001b[1;31mIndexError\u001b[0m: only integers, slices (`:`), ellipsis (`...`), numpy.newaxis (`None`) and integer or boolean arrays are valid indices"
     ]
    }
   ],
   "source": [
    "from sklearn.manifold import TSNE\n",
    "\n",
    "print('df_subset의 shape: {}'.format(train_modified_VGG16_representations.shape))\n",
    "\n",
    "data_subset = train_modified_VGG16_representations[pixel_columns].values\n",
    "n_dimension =2\n",
    "tsne = TSNE(n_components = n_dimension)\n",
    "tsne_results = tsne.fit_transform(data_subset)\n",
    "\n",
    "print('tsne_results의 shape: {}'.format(tsne_results.shape))"
   ]
  },
  {
   "cell_type": "code",
   "execution_count": null,
   "id": "d4281ef2",
   "metadata": {},
   "outputs": [],
   "source": [
    "# tsne 결과를 차원별로 추가합니다.\n",
    "train_modified_VGG16_representations['tsne-2d-one'] = tsne_results[:,0]\n",
    "train_modified_VGG16_representations['tsne-2d-two'] = tsne_results[:,1]\n",
    "\n",
    "# 시각화\n",
    "plt.figure(figsize =(10,6))\n",
    "sns.scatterplot(x = 'tsne-2d-one', y = 'tsne-2d-two', hue = 'y',\n",
    "               palette = sns.color_palette('hls', 10), data = train_modified_VGG16_representations,\n",
    "               legend = 'full', alpha = 0.3)"
   ]
  },
  {
   "cell_type": "code",
   "execution_count": 67,
   "id": "2ec5db9f",
   "metadata": {},
   "outputs": [
    {
     "name": "stderr",
     "output_type": "stream",
     "text": [
      "C:\\ProgramData\\Anaconda3\\lib\\site-packages\\sklearn\\manifold\\_t_sne.py:780: FutureWarning: The default initialization in TSNE will change from 'random' to 'pca' in 1.2.\n",
      "  warnings.warn(\n",
      "C:\\ProgramData\\Anaconda3\\lib\\site-packages\\sklearn\\manifold\\_t_sne.py:790: FutureWarning: The default learning rate in TSNE will change from 200.0 to 'auto' in 1.2.\n",
      "  warnings.warn(\n"
     ]
    }
   ],
   "source": [
    "# class target 정보 제외\n",
    "train_df = pd.DataFrame(train_modified_VGG16_representations)\n",
    "\n",
    "# 2차원 t-SNE 임베딩\n",
    "tsne_np = TSNE(n_components = 2).fit_transform(train_df)\n",
    "\n",
    "# numpy array -> DataFrame 변환\n",
    "tsne_df = pd.DataFrame(tsne_np, columns = ['component 0', 'component 1'])"
   ]
  },
  {
   "cell_type": "code",
   "execution_count": 69,
   "id": "fbc0df7f",
   "metadata": {},
   "outputs": [
    {
     "data": {
      "text/plain": [
       "pandas.core.frame.DataFrame"
      ]
     },
     "execution_count": 69,
     "metadata": {},
     "output_type": "execute_result"
    }
   ],
   "source": [
    "type(train_df)"
   ]
  },
  {
   "cell_type": "code",
   "execution_count": 66,
   "id": "56103d2b",
   "metadata": {},
   "outputs": [
    {
     "name": "stdout",
     "output_type": "stream",
     "text": [
      "<class 'pandas.core.frame.DataFrame'>\n"
     ]
    },
    {
     "data": {
      "text/html": [
       "<div>\n",
       "<style scoped>\n",
       "    .dataframe tbody tr th:only-of-type {\n",
       "        vertical-align: middle;\n",
       "    }\n",
       "\n",
       "    .dataframe tbody tr th {\n",
       "        vertical-align: top;\n",
       "    }\n",
       "\n",
       "    .dataframe thead th {\n",
       "        text-align: right;\n",
       "    }\n",
       "</style>\n",
       "<table border=\"1\" class=\"dataframe\">\n",
       "  <thead>\n",
       "    <tr style=\"text-align: right;\">\n",
       "      <th></th>\n",
       "      <th>0</th>\n",
       "    </tr>\n",
       "  </thead>\n",
       "  <tbody>\n",
       "    <tr>\n",
       "      <th>0</th>\n",
       "      <td>4</td>\n",
       "    </tr>\n",
       "    <tr>\n",
       "      <th>1</th>\n",
       "      <td>2</td>\n",
       "    </tr>\n",
       "    <tr>\n",
       "      <th>2</th>\n",
       "      <td>5</td>\n",
       "    </tr>\n",
       "    <tr>\n",
       "      <th>3</th>\n",
       "      <td>0</td>\n",
       "    </tr>\n",
       "    <tr>\n",
       "      <th>4</th>\n",
       "      <td>2</td>\n",
       "    </tr>\n",
       "    <tr>\n",
       "      <th>...</th>\n",
       "      <td>...</td>\n",
       "    </tr>\n",
       "    <tr>\n",
       "      <th>625</th>\n",
       "      <td>4</td>\n",
       "    </tr>\n",
       "    <tr>\n",
       "      <th>626</th>\n",
       "      <td>2</td>\n",
       "    </tr>\n",
       "    <tr>\n",
       "      <th>627</th>\n",
       "      <td>5</td>\n",
       "    </tr>\n",
       "    <tr>\n",
       "      <th>628</th>\n",
       "      <td>5</td>\n",
       "    </tr>\n",
       "    <tr>\n",
       "      <th>629</th>\n",
       "      <td>1</td>\n",
       "    </tr>\n",
       "  </tbody>\n",
       "</table>\n",
       "<p>630 rows × 1 columns</p>\n",
       "</div>"
      ],
      "text/plain": [
       "     0\n",
       "0    4\n",
       "1    2\n",
       "2    5\n",
       "3    0\n",
       "4    2\n",
       "..  ..\n",
       "625  4\n",
       "626  2\n",
       "627  5\n",
       "628  5\n",
       "629  1\n",
       "\n",
       "[630 rows x 1 columns]"
      ]
     },
     "execution_count": 66,
     "metadata": {},
     "output_type": "execute_result"
    }
   ],
   "source": [
    "df_y = np.array(y_train)\n",
    "df_y = pd.DataFrame(df_y)\n",
    "print(type(df_y))\n",
    "df_y"
   ]
  },
  {
   "cell_type": "code",
   "execution_count": 71,
   "id": "ad872fcd",
   "metadata": {},
   "outputs": [],
   "source": [
    "tsne_df['target'] = pd.DataFrame(df_y)"
   ]
  },
  {
   "cell_type": "code",
   "execution_count": 72,
   "id": "6a20a4e8",
   "metadata": {},
   "outputs": [],
   "source": [
    "# target 별 분리\n",
    "tsne_df_0 = tsne_df[tsne_df['target'] == 0]\n",
    "tsne_df_1 = tsne_df[tsne_df['target'] == 1]\n",
    "tsne_df_2 = tsne_df[tsne_df['target'] == 2]\n",
    "tsne_df_3 = tsne_df[tsne_df['target'] == 3]\n",
    "tsne_df_4 = tsne_df[tsne_df['target'] == 4]\n",
    "tsne_df_5 = tsne_df[tsne_df['target'] == 5]"
   ]
  },
  {
   "cell_type": "code",
   "execution_count": 76,
   "id": "1af9c387",
   "metadata": {},
   "outputs": [
    {
     "data": {
      "image/png": "[encoded data removed]",
      "text/plain": [
       "<Figure size 432x288 with 1 Axes>"
      ]
     },
     "metadata": {
      "needs_background": "light"
     },
     "output_type": "display_data"
    },
    {
     "data": {
      "text/plain": [
       "<Figure size 432x288 with 0 Axes>"
      ]
     },
     "metadata": {},
     "output_type": "display_data"
    }
   ],
   "source": [
    "plt.scatter(tsne_df_0['component 0'], tsne_df_0['component 1'], color = 'pink', label = 'SDW')\n",
    "plt.scatter(tsne_df_1['component 0'], tsne_df_1['component 1'], color = 'purple', label = 'PSH')\n",
    "plt.scatter(tsne_df_2['component 0'], tsne_df_2['component 1'], color = 'yellow', label = 'LTS')\n",
    "plt.scatter(tsne_df_3['component 0'], tsne_df_3['component 1'], color = 'red', label = 'CJH')\n",
    "plt.scatter(tsne_df_4['component 0'], tsne_df_4['component 1'], color = 'blue', label = 'LCY')\n",
    "plt.scatter(tsne_df_5['component 0'], tsne_df_5['component 1'], color = 'green', label = 'HHY')\n",
    "\n",
    "plt.xlabel('component 0')\n",
    "plt.ylabel('component 1')\n",
    "plt.legend()\n",
    "plt.show()\n",
    "plt.savefig('tsne_sample.png')"
   ]
  },
  {
   "cell_type": "code",
   "execution_count": null,
   "id": "1d9eb980",
   "metadata": {},
   "outputs": [],
   "source": []
  },
  {
   "cell_type": "code",
   "execution_count": null,
   "id": "0ce1cf17",
   "metadata": {},
   "outputs": [],
   "source": []
  },
  {
   "cell_type": "code",
   "execution_count": null,
   "id": "cc386798",
   "metadata": {},
   "outputs": [],
   "source": []
  },
  {
   "cell_type": "code",
   "execution_count": null,
   "id": "fd3a541f",
   "metadata": {},
   "outputs": [],
   "source": [
    "from sklearn.tree import export_graphviz\n",
    "\n",
    "# export_graphviz()의 호출 결과로 out_file로 지정된 tree.dot 파일을 생성\n",
    "export_graphviz(DT_classifier, out_file=\"tree.dot\", class_names=[4, 5, 6] , \\\n",
    "feature_names = feature.columns, impurity=True, filled=True)"
   ]
  },
  {
   "cell_type": "code",
   "execution_count": null,
   "id": "2a3ef58b",
   "metadata": {},
   "outputs": [],
   "source": [
    "X_combined_std = np.vstack((train_modified_VGG16_representations, test_modified_VGG16_representations))\n",
    "y_combined = np.hstack((y_train, y_test))\n",
    "plot_decision_region(X = X_combined_std, y = y_combined, classifier = KN_classifier,\n",
    "                    test_idx = range(5, 40), title = 'KN classifier')\n"
   ]
  },
  {
   "cell_type": "code",
   "execution_count": null,
   "id": "d5b6e105",
   "metadata": {},
   "outputs": [],
   "source": [
    "from sklearn.semi_supervised import LabelSpreading\n",
    "k3_fit_ls_labeled = (LabelSpreading(kernel='knn', n_neighbors=3).fit(train_simpler_VGG16_representations, y_train))\n"
   ]
  },
  {
   "cell_type": "code",
   "execution_count": null,
   "id": "69f5e282",
   "metadata": {},
   "outputs": [],
   "source": [
    "print(y_test.shape)\n",
    "print(k3_pred_ls_labeled.shape)"
   ]
  },
  {
   "cell_type": "code",
   "execution_count": null,
   "id": "4cc7969f",
   "metadata": {},
   "outputs": [],
   "source": [
    "from sklearn.metrics import f1_score\n",
    "k3_pred_ls_labeled = k3_fit_ls_labeled.predict(test_simpler_VGG16_representations)\n",
    "k3_f1_ls_labeled = f1_score(y_test, k3_pred_ls_labeled, average='micro')\n",
    "k3_f1_ls_labeled"
   ]
  },
  {
   "cell_type": "code",
   "execution_count": null,
   "id": "ecc3d4eb",
   "metadata": {},
   "outputs": [],
   "source": [
    "train_simpler_VGG16_representations.shape"
   ]
  },
  {
   "cell_type": "code",
   "execution_count": null,
   "id": "a4006043",
   "metadata": {},
   "outputs": [],
   "source": [
    "from sklearn.naive_bayes import MultinomialNB\n",
    "clf= MultinomialNB()\n",
    "clf.fit(train_simpler_VGG16_representations, y_train)\n",
    "score = clf.score(test_simpler_VGG16_representations, y_test)\n",
    "score"
   ]
  },
  {
   "cell_type": "code",
   "execution_count": null,
   "id": "75ca5ad8",
   "metadata": {},
   "outputs": [],
   "source": []
  },
  {
   "cell_type": "code",
   "execution_count": null,
   "id": "754573df",
   "metadata": {},
   "outputs": [],
   "source": [
    "from sklearn.metrics import precision_score\n",
    "from sklearn.metrics import recall_score\n",
    "print(\"Precision Score : \",precision_score(y_test,y_pred, average='micro'))\n",
    "# print(\"Precision Score : \",precision_score(y_test,y_pred,pos_label='positive', average='micro'))\n",
    "print(\"Recall Score :\" , recall_score(y_test, y_pred, average='micro'))\n",
    "# print(\"Recall Score :\" , recall_score(y_test, y_pred, pos_label='positive', average='micro'))"
   ]
  },
  {
   "cell_type": "code",
   "execution_count": null,
   "id": "a060e9f2",
   "metadata": {},
   "outputs": [],
   "source": [
    "# 클러스터 레이블을 추출.\n",
    "target_cluster_num = 3\n",
    "kmeans = KMeans(n_clusters=target_cluster_num, random_state=10).fit(train_simpler_VGG16_representations)\n",
    "\n",
    "cluster_label = kmeans.predict(test_simpler_VGG16_representations)\n",
    "\n",
    "print('슝~')"
   ]
  },
  {
   "cell_type": "code",
   "execution_count": null,
   "id": "acb1c2ef",
   "metadata": {},
   "outputs": [],
   "source": []
  },
  {
   "cell_type": "code",
   "execution_count": null,
   "id": "bbe46280",
   "metadata": {},
   "outputs": [],
   "source": []
  },
  {
   "cell_type": "code",
   "execution_count": null,
   "id": "45107af4",
   "metadata": {},
   "outputs": [],
   "source": []
  },
  {
   "cell_type": "code",
   "execution_count": null,
   "id": "a27266f6",
   "metadata": {},
   "outputs": [],
   "source": []
  },
  {
   "cell_type": "code",
   "execution_count": null,
   "id": "4c03c2d1",
   "metadata": {},
   "outputs": [],
   "source": []
  },
  {
   "cell_type": "code",
   "execution_count": null,
   "id": "7a8eed9f",
   "metadata": {},
   "outputs": [],
   "source": []
  },
  {
   "cell_type": "code",
   "execution_count": null,
   "id": "32748a0d",
   "metadata": {},
   "outputs": [],
   "source": [
    "print(X_train.shape)\n",
    "print()"
   ]
  },
  {
   "cell_type": "markdown",
   "id": "33b97556",
   "metadata": {},
   "source": [
    "# 4. 예측 및 결과 비교"
   ]
  },
  {
   "cell_type": "code",
   "execution_count": null,
   "id": "751b4e63",
   "metadata": {},
   "outputs": [],
   "source": []
  }
 ],
 "metadata": {
  "kernelspec": {
   "display_name": "Python 3 (ipykernel)",
   "language": "python",
   "name": "python3"
  },
  "language_info": {
   "codemirror_mode": {
    "name": "ipython",
    "version": 3
   },
   "file_extension": ".py",
   "mimetype": "text/x-python",
   "name": "python",
   "nbconvert_exporter": "python",
   "pygments_lexer": "ipython3",
   "version": "3.9.7"
  }
 },
 "nbformat": 4,
 "nbformat_minor": 5
}
